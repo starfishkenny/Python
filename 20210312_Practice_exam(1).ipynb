{
 "cells": [
  {
   "cell_type": "markdown",
   "id": "developing-armenia",
   "metadata": {},
   "source": [
    "### 모의고사 1회"
   ]
  },
  {
   "cell_type": "markdown",
   "id": "rubber-count",
   "metadata": {},
   "source": [
    "#### 거스름돈을 계산하는 함수 작성하기"
   ]
  },
  {
   "cell_type": "code",
   "execution_count": 2,
   "id": "unlike-coordination",
   "metadata": {},
   "outputs": [],
   "source": [
    "# solution(1)\n",
    "\n",
    "def solution(price,money):\n",
    "    answer = 0\n",
    "    for i in price:\n",
    "        money -= i\n",
    "    answer = money\n",
    "    if answer < 0:\n",
    "        answer = -1\n",
    "    return answer"
   ]
  },
  {
   "cell_type": "code",
   "execution_count": 3,
   "id": "acknowledged-panel",
   "metadata": {},
   "outputs": [],
   "source": [
    "# solution(2)\n",
    "\n",
    "def solution(price,money):\n",
    "    total = 0\n",
    "    for i in price:\n",
    "        total += i\n",
    "    answer = money - total\n",
    "    if answer < 0:\n",
    "        answer = -1\n",
    "    return answer"
   ]
  },
  {
   "cell_type": "markdown",
   "id": "dangerous-presence",
   "metadata": {},
   "source": [
    "#### 점수의 총합에서 최고 점수와 최저 점수를 뺼셈하는 함수의 빈칸 채우기"
   ]
  },
  {
   "cell_type": "code",
   "execution_count": 4,
   "id": "nominated-sunday",
   "metadata": {},
   "outputs": [],
   "source": [
    "# solution\n",
    "\n",
    "def func_a(s):\n",
    "    s.sort()\n",
    "    return s[len(s)-1],s[0]\n",
    "\n",
    "def func_b(s):\n",
    "    ret = 0\n",
    "    for i in s:\n",
    "        ret += i\n",
    "    return ret\n",
    "\n",
    "def solution(scores):\n",
    "    sum_ = func_b(scores)\n",
    "    max_,min_ = func_a(scores)\n",
    "    return sum_ - max_ -min_"
   ]
  },
  {
   "cell_type": "markdown",
   "id": "trying-football",
   "metadata": {},
   "source": [
    "#### 학습 대상자 수를 구하는 함수 수정하기"
   ]
  },
  {
   "cell_type": "code",
   "execution_count": 5,
   "id": "cardiac-subcommittee",
   "metadata": {},
   "outputs": [],
   "source": [
    "# solution\n",
    "\n",
    "def solution(scores):\n",
    "    count = 0\n",
    "    for s in range(len(scores)):\n",
    "        if scores[s] <= 200:\n",
    "            count += 1\n",
    "    return count"
   ]
  },
  {
   "cell_type": "markdown",
   "id": "unexpected-brook",
   "metadata": {},
   "source": [
    "#### 관세를 매긴 금액을 구하는 함수 작성하기"
   ]
  },
  {
   "cell_type": "code",
   "execution_count": 7,
   "id": "departmental-ultimate",
   "metadata": {},
   "outputs": [],
   "source": [
    "# solution\n",
    "\n",
    "def solution(price,grade):\n",
    "    answer = 0\n",
    "    if grade == 'S':\n",
    "        answer = price * 1.05\n",
    "    elif grade == 'G':\n",
    "        answer = price * 1.10\n",
    "    elif grade == 'v':\n",
    "        answer = price * 1.15\n",
    "    return int(answer)"
   ]
  },
  {
   "cell_type": "markdown",
   "id": "steady-density",
   "metadata": {},
   "source": [
    "#### 정수에 3,6,9가 포함되어 있는지 확인하는 함수의 빈칸 채우기"
   ]
  },
  {
   "cell_type": "code",
   "execution_count": 8,
   "id": "scientific-error",
   "metadata": {},
   "outputs": [],
   "source": [
    "# solution\n",
    "\n",
    "def solution(number):\n",
    "    count = 0\n",
    "    for i in range(1,number+1): # 1부터 number 까지의 범위\n",
    "        current = i\n",
    "        while current != 0:\n",
    "            unit = current % 10 # 일의 자리만 저장\n",
    "            if unit == 3 or unit == 6 or unit == 9:\n",
    "                count += 1\n",
    "            current //= 10 # 현재값의 일의 자리를 버림\n",
    "    return count"
   ]
  },
  {
   "cell_type": "markdown",
   "id": "fluid-perception",
   "metadata": {},
   "source": [
    "#### 교차점의 개수를 구하는 함수 빈칸 채우기 (중요)"
   ]
  },
  {
   "cell_type": "code",
   "execution_count": 9,
   "id": "early-spirituality",
   "metadata": {},
   "outputs": [],
   "source": [
    "# solution\n",
    "\n",
    "def solution(left_rings):\n",
    "    answer = 0\n",
    "    for i in range(len(left_rings)):\n",
    "        if left_rings[i] <= i:\n",
    "            for k in range(i):\n",
    "                if left_rings[k] > left_rings[i]:\n",
    "                    answer += 1\n",
    "    return answer"
   ]
  },
  {
   "cell_type": "code",
   "execution_count": null,
   "id": "eight-receiver",
   "metadata": {},
   "outputs": [],
   "source": []
  }
 ],
 "metadata": {
  "kernelspec": {
   "display_name": "Python 3",
   "language": "python",
   "name": "python3"
  },
  "language_info": {
   "codemirror_mode": {
    "name": "ipython",
    "version": 3
   },
   "file_extension": ".py",
   "mimetype": "text/x-python",
   "name": "python",
   "nbconvert_exporter": "python",
   "pygments_lexer": "ipython3",
   "version": "3.8.8"
  }
 },
 "nbformat": 4,
 "nbformat_minor": 5
}
