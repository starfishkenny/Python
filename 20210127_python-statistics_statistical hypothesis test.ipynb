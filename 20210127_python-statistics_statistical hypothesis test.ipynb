{
 "cells": [
  {
   "cell_type": "markdown",
   "metadata": {},
   "source": [
    "## 11. 통계적 가설검정\n",
    "### - 통계적 가설검정\n",
    "### - 기본적인 가설검정\n",
    "### - 2표본 문제에 관한 가설검정"
   ]
  },
  {
   "cell_type": "markdown",
   "metadata": {},
   "source": [
    "* 통계적 가설검정 -> 모집단의 모수에 관한 가설을 세우고 표본의 정보를 이용해 그 가설을 검증하는 기법"
   ]
  },
  {
   "cell_type": "code",
   "execution_count": 1,
   "metadata": {},
   "outputs": [],
   "source": [
    "import numpy as np\n",
    "import pandas as pd\n",
    "import matplotlib.pyplot as plt\n",
    "from scipy import stats\n",
    "\n",
    "%precision 3\n",
    "%matplotlib inline\n",
    "np.random.seed(1111)"
   ]
  },
  {
   "cell_type": "code",
   "execution_count": 2,
   "metadata": {},
   "outputs": [
    {
     "data": {
      "text/plain": [
       "array([122.02, 131.73, 130.6 , 131.82, 132.05, 126.12, 124.43, 132.89,\n",
       "       122.79, 129.95, 126.14, 134.45, 127.64, 125.68])"
      ]
     },
     "execution_count": 2,
     "metadata": {},
     "output_type": "execute_result"
    }
   ],
   "source": [
    "# 테스트 데이터 준비\n",
    "df = pd.read_csv(\"ch11_potato.csv\")\n",
    "sample = np.array(df['무게'])\n",
    "sample"
   ]
  },
  {
   "cell_type": "code",
   "execution_count": 3,
   "metadata": {},
   "outputs": [
    {
     "data": {
      "text/plain": [
       "128.4507142857143"
      ]
     },
     "execution_count": 3,
     "metadata": {},
     "output_type": "execute_result"
    }
   ],
   "source": [
    "# 표본평균 구하기\n",
    "s_mean = np.mean(sample)\n",
    "s_mean"
   ]
  },
  {
   "cell_type": "markdown",
   "metadata": {},
   "source": [
    "#### 1. 통계적 가설검정\n",
    "* 모집단의 모수에 관하여 두 가지 가설을 세우고, 표본으로부터 계산되는 통계량을 이용하여 어느 가설이 옳은지 판단하는 통계적인 방법\n",
    "* 간단하게 가설검정 or 검정이라고도 부름\n",
    "* 통계적 가설검정의 기본\n",
    "  - 감자튀김 예시를 통해 확인\n",
    "    + 확인하고 싶은 것은 모평균이 130g보다 작은지 여부, 감자튀김의 모집단이 정규분포를 따르고 모분산=9임을 알고 있다고 전제\n",
    "    + 표본평균이 128.451g인 경우 5% 확률로 일어나는 운나쁜 케이스라고 생각할 수도\n",
    "    + 하지만 가설검정을 통해 가정이 이상하다고 판단하여 '원래 모평균이 130g보다 작은 게 아닐까?'라는 의문이 발생하고, 이 의문에서 '모평균이 130g보다 작다'라는 결론을 내리는 것이 가설검정의 큰 흐름\n",
    "    + 가설검정에서는 모수에 관한 두 가설, 귀무가설(null hypothesis)과 대립가설(alternative hypothesis)를 사용\n",
    "    + 대립가설 -> 주장하고 싶은 가설 ('차이가 있다','효과가 있다' 등의 내용) ($H_1$)\n",
    "    + 귀무가설 -> '차이가 없다', '효과가 없다'는 내용 ($H_0$)\n",
    "    + 이 두 가설을 검정하기 위해 표본으로부터 통계량을 계산하여 가설검정을 수행\n",
    "    + 결론 -> '귀무가설을 기각한다(reject the null hypothesis)' or '귀무가설을 채택한다(accept the null hypothesis)' 중 하나\n",
    "    + 귀무가설을 기각 -> 귀무가설은 옳지 않다\n",
    "    + 귀무가설을 채택 -> 귀무가설이 옳지 않다고 말할 수 없다 (귀무가설이 옳은지 여부를 알 수 없다고 보류하는 결론)\n",
    "    + 귀무가설의 기각과 채택은 귀무가설의 가정을 바탕으로 했을 때 표본으로부터 계산되는 통계량이 드문 값인지 여부로 결정\n",
    "    + 드문 값을 얻으면 그것은 우연이 아니라 어떤 의미 있는 값이라고 생각하여 귀무가설 기각\n",
    "    + 그렇지 않다면 귀무가설 채택\n",
    "    + 여기서 우연이 아니라 어떤 의미가 있는 것을 '유의하다(significant)'라고 함\n",
    "    + 감자 예시로 돌아와서...\n",
    "      * 여기서 대립가설은 '모평균은 130g보다 작다'가 됨\n",
    "      * 귀무가설은 '모평균은 130g이다'가 됨\n",
    "      * 얻을 수 있는 결론 -> '모평균은 130g보다 작다'(귀무가설 기각) or '모평균은 130g보다 작다고 말할 수 없다'(귀무가설 채택)\n",
    "      * 귀무가설 '모평균은 130g이다'라는 가정을 바탕으로 했을 때 표본평균이 128.451g이 되는 것은 유의하므로 귀무가설은 기각됨\n",
    "      * 정리하자면... 표본평균 128.681g보다 작다면 귀무가설 기각, 크다면 귀무가설 채택\n",
    "      * 귀무가설이 기각되는 구간 = 기각역(rejection region), 귀무가설이 채택되는 구간 = 채택역(acceptance region)\n",
    "      * 기각역에 들어갈 확률 = 유의수준(level of significance), 경게선상의 값 = 임곗값(criticial value)\n",
    "      * 유의수준은 어느 정도의 확률로 발생하는 사건을 드물다고 인식할 것인지를 설정 (관습적으로 1% or 5% 설정)\n",
    "      * 검정에 사용되는 통계량 = 검정통계량(test statistic)\n",
    "      * 감자튀김 예시에선 유의수준 5% 설정, 검정통계량으로 표본평균 사용, 임곗값은 128.681이 됨\n",
    "      * 검정통계량이 임곗값보다 작을 때, 임곗값보다 왼쪽에 있는 영역의 면적은 유의수준, 검정통계량보다 왼쪽에 있는 영역의 면적은 p값(p-value)가 됨\n",
    "      * 가설검정은 검정통계량과 임곗값의 비교가 아니라 p값과 유의수준의 비교로 수행할 수도 있음\n",
    "      * 이 경우 p값이 유의수준보다 작을 때 -> 귀무가설 기각, 그렇지 않을 때 -> 귀무가설 채택\n",
    "      * p값을 기준으로 수행하는 가설검정 흐름 정리: 가설을 세운다 --> 유의수준을 결정한다 --> 검정통계량을 계산한다 --> p값을 계산한다 --> p값이 유의수준보다 큰가? --> (yes) 귀무가설을 채택, (no) 귀무가설을 기각\n",
    "* 단측검정과 양측검정\n",
    "  - '모평균은 130g이 아니다.'라는 대립가설로 가설검정을 수행할 수도 있음 --> 모평균이 130g보다 작은 경우 + 130g보다 큰 경우 => 양측검정\n",
    "  - '모평균은 130g보다 작다.'라는 대립가설로 가설검정 진행 => 단측검정\n",
    "  - 단측검정과 양측검정의 기각역이 다름 --> 동일한 유의수준 $\\alpha$의 검정이라도 단측검정 쪽이 더 넓음 => 단측검정이 양측검정보다 귀무가설을 기각하기 쉬움\n",
    "* 가설검정의 두 가지 오류\n",
    "  - 표본을 이용하여 확률적으로 결론을 유도하기 때문에 발생\n",
    "  - 제1종 오류: 귀무가설이 옳을 때, 귀무가설을 기각하는 오류\n",
    "    + 실제로 '평균이 130g'인데도 '평균은 130g보다 작다'라는 결론을 내리는 상황\n",
    "    + 본래 검출하지 말아야 할 것을 검출한 것 => 오탐(false positive)\n",
    "  - 제2종 오류: 대립가설이 옳을 때, 귀무가설을 채택하는 오류\n",
    "    + 실제로 '모평균이 130g보다 작다'인데도 '모평균은 130g보다 작다'라는 결론을 얻을 수 없는 상황\n",
    "    + 검출해야 하는 것을 검출하지 못한 것 => 미탐(false negative)"
   ]
  },
  {
   "cell_type": "code",
   "execution_count": 4,
   "metadata": {},
   "outputs": [
    {
     "data": {
      "text/plain": [
       "128.68118313069039"
      ]
     },
     "execution_count": 4,
     "metadata": {},
     "output_type": "execute_result"
    }
   ],
   "source": [
    "# P(표본평균 <= x) = 0.05를 만족하는 x를 구하기\n",
    "rv = stats.norm(130, np.sqrt(9/14))\n",
    "rv.isf(0.95) # 표본평균이 128.681g 이하의 무게가 되는 것은 5% 확률로 발생한다는 것"
   ]
  },
  {
   "cell_type": "markdown",
   "metadata": {},
   "source": [
    "* 감자튀김 예시로 가설검정 흐름 확인\n",
    "  - 귀무가설 '모평균은 130g'이라고 가정한 것을 바탕으로 14개의 감자튀김은 서로 독립이고 $N(130,9)$를 따르며 표본평균은 $N(130,{9 \\over 14})$를 따른다.\n",
    "  - 검정통계량은 (일반화하여 설명할 수 있도록) 표본평균 $\\bar{X}$를 표준화한 $Z = (\\bar{X} -130)/\\sqrt{{9 \\over 14}}$을 활용\n",
    "  - 표준화를 통해 상위 $100\\alpha$%점을 $z_{\\alpha}$로 나타낼 수 있고 임곗값은 $P((\\bar{X} -130)/\\sqrt{{9 \\over 14}} \\leq x) = 0.05$를\\\n",
    "  만족하는 $x$를 구할 수 있음 (즉 $x=z_{0.95}$)\n",
    "  - 그러므로\\\n",
    "  $(\\bar{X} -130)/\\sqrt{{9 \\over 14}} < z_{0.95}$이면 귀무가설 기각\\\n",
    "  $(\\bar{X} -130)/\\sqrt{{9 \\over 14}} \\geq z_{0.95}$이면 귀무가설 채택"
   ]
  },
  {
   "cell_type": "code",
   "execution_count": 5,
   "metadata": {},
   "outputs": [
    {
     "data": {
      "text/plain": [
       "-1.932298779026813"
      ]
     },
     "execution_count": 5,
     "metadata": {},
     "output_type": "execute_result"
    }
   ],
   "source": [
    "# 검정통계량 구하기\n",
    "z = (s_mean -130) / np.sqrt(9/14)\n",
    "z"
   ]
  },
  {
   "cell_type": "code",
   "execution_count": 6,
   "metadata": {},
   "outputs": [
    {
     "data": {
      "text/plain": [
       "-1.6448536269514722"
      ]
     },
     "execution_count": 6,
     "metadata": {},
     "output_type": "execute_result"
    }
   ],
   "source": [
    "# 임곗값 구하기\n",
    "rv = stats.norm()\n",
    "rv.isf(0.95)"
   ]
  },
  {
   "cell_type": "markdown",
   "metadata": {},
   "source": [
    "* 검정통계량 < 임곗값 ==> 귀무가설은 기각되고 평균은 130g보다 작다는 결론 (검정통계량으로 표본평균을 사용해도 동일한 결론)"
   ]
  },
  {
   "cell_type": "code",
   "execution_count": 7,
   "metadata": {},
   "outputs": [
    {
     "data": {
      "text/plain": [
       "0.026661319523126635"
      ]
     },
     "execution_count": 7,
     "metadata": {},
     "output_type": "execute_result"
    }
   ],
   "source": [
    "# p값을 활용한 가설검정\n",
    "rv.cdf(z)"
   ]
  },
  {
   "cell_type": "markdown",
   "metadata": {},
   "source": [
    "* p값이 0.027로 유의수준 0.05보다 작은 값 ==> 귀무가설 기각"
   ]
  },
  {
   "cell_type": "code",
   "execution_count": 8,
   "metadata": {},
   "outputs": [
    {
     "data": {
      "text/plain": [
       "-1.932298779026813"
      ]
     },
     "execution_count": 8,
     "metadata": {},
     "output_type": "execute_result"
    }
   ],
   "source": [
    "# 양측검정 수행\n",
    "z = (s_mean - 130) / np.sqrt(9/14)\n",
    "z"
   ]
  },
  {
   "cell_type": "code",
   "execution_count": 9,
   "metadata": {},
   "outputs": [
    {
     "data": {
      "text/plain": [
       "(-1.959963984540054, 1.959963984540054)"
      ]
     },
     "execution_count": 9,
     "metadata": {},
     "output_type": "execute_result"
    }
   ],
   "source": [
    "# 양측검정이므로 임곗값은 표준정규분포의 95% 구간에 따라 구할 수 있음\n",
    "rv = stats.norm()\n",
    "rv.interval(0.95)"
   ]
  },
  {
   "cell_type": "markdown",
   "metadata": {},
   "source": [
    "* 검정통계량이 채택역에 들어 있음 => 양측검정에서는 귀무가설이 기각되지 않음"
   ]
  },
  {
   "cell_type": "code",
   "execution_count": 10,
   "metadata": {},
   "outputs": [
    {
     "data": {
      "text/plain": [
       "0.05332263904625327"
      ]
     },
     "execution_count": 10,
     "metadata": {},
     "output_type": "execute_result"
    }
   ],
   "source": [
    "# 양측검정의 p값 구하기\n",
    "# 상단,하단 양쪽 면적을 고려할 필요가 있으므로 누적밀도함수의 값을 2배로 함\n",
    "rv.cdf(z)*2"
   ]
  },
  {
   "cell_type": "markdown",
   "metadata": {},
   "source": [
    "* p값 > 0.05(유의수준) => 귀무가설은 기각되지 않음"
   ]
  },
  {
   "cell_type": "code",
   "execution_count": 11,
   "metadata": {},
   "outputs": [],
   "source": [
    "# 제1종 오류가 어느 정도의 비율로 발생하는지 시뮬\n",
    "# 실제로 '평균은 130g'인 상황을 고려하고 있으므로 모집단의 확률분포는 N(130,3^2)\n",
    "rv = stats.norm(130,3)"
   ]
  },
  {
   "cell_type": "code",
   "execution_count": 13,
   "metadata": {},
   "outputs": [
    {
     "data": {
      "text/plain": [
       "0.053"
      ]
     },
     "execution_count": 13,
     "metadata": {},
     "output_type": "execute_result"
    }
   ],
   "source": [
    "# 이 모집단에서 14개의 표본을 추출하여 가설검정을 수행하는 작업을 1만번 시행\n",
    "# 그리고 제1종 오류를 범하는 비율 계산\n",
    "c = stats.norm().isf(0.95)\n",
    "n_samples = 10000\n",
    "cnt = 0\n",
    "for _ in range(n_samples):\n",
    "    sample_ = np.round(rv.rvs(14),2)\n",
    "    s_mean_ = np.mean(sample_)\n",
    "    z = (s_mean_ - 130) / np.sqrt(9/14)\n",
    "    if z < c:\n",
    "        cnt += 1\n",
    "cnt / n_samples"
   ]
  },
  {
   "cell_type": "markdown",
   "metadata": {},
   "source": [
    "* 약 5%의 비율로 '130g보다 작다'라고 잘못 탐지하는 것을 알 수 있음\n",
    "* 제1종 오류를 범하는 확률 => 위험률($\\alpha$)\n",
    "* 위험률은 유의수준과 일치하므로 분석가가 제어할 수 있는 확률\n",
    "* 제1종 오류가 발생하는 확률을 1%로 하고 싶다면 분석가는 유의수준 1%에서 가설검정 수행하면 됨"
   ]
  },
  {
   "cell_type": "code",
   "execution_count": 14,
   "metadata": {},
   "outputs": [],
   "source": [
    "# 제2종 오류가 어느 정도의 비율로 발생하는지 시뮬\n",
    "# 평균이 128g으로 설정되어 있다고 가정 -> 모집단의 확률분포는 N(128,3^2)\n",
    "rv = stats.norm(128,3)"
   ]
  },
  {
   "cell_type": "code",
   "execution_count": 15,
   "metadata": {},
   "outputs": [
    {
     "data": {
      "text/plain": [
       "0.197"
      ]
     },
     "execution_count": 15,
     "metadata": {},
     "output_type": "execute_result"
    }
   ],
   "source": [
    "# 제2종 오류를 범하는 비율 계산\n",
    "c = stats.norm().isf(0.95)\n",
    "n_samples = 10000\n",
    "cnt = 0\n",
    "for _ in range(n_samples):\n",
    "    sample_ = np.round(rv.rvs(14),2)\n",
    "    s_mean_ = np.mean(sample_)\n",
    "    z = (s_mean_ - 130) / np.sqrt(9/14)\n",
    "    if z >= c:\n",
    "        cnt += 1\n",
    "cnt / n_samples"
   ]
  },
  {
   "cell_type": "markdown",
   "metadata": {},
   "source": [
    "* 약 20%의 비율로 미탐 발생\n",
    "* 제2종 오류를 범하는 확률 => $\\beta$, 1-$\\beta$ => 검정력(power)\n",
    "* 동일하게 '모평균이 130g보다 작다'라는 상황이라도 평균이 120g으로 설정되면 미탐이 발생할 확률은 낮아짐 -> $\\beta$는 모집단의 정보에 의존\n",
    "* 본래 모집단의 정보는 알 수 없으므로 $\\beta$는 분석가가 제어할 수 없는 확률임"
   ]
  },
  {
   "cell_type": "markdown",
   "metadata": {},
   "source": [
    "#### 2. 기본적인 가설검정 (양측검정으로 진행)\n",
    "* 정규분포의 모평균에 대한 검정: 모분산을 알고 있는 경우\n",
    "  - $X_1,X_2,\\dots,X_n {\\sim^{iid}} N(\\mu,\\sigma^2)$일 떄, 모평균 $\\mu$에 관한 유의수준 $\\alpha$의 양측검정\n",
    "    + 귀무가설: $\\mu$ = $\\mu_0$\n",
    "    + 대립가설: $\\mu$ $\\neq$ $\\mu_0$\n",
    "  \n",
    "  은 검정통계량으로 $Z = ({\\bar{X}} - {\\mu_0})/{\\sqrt{\\sigma^2} \\over {n}}$을 사용하여\n",
    "    + $Z < z_{1-{\\alpha}/2}$ 또는 $z_{\\alpha/2} < Z$라면, 귀무가설을 기각\n",
    "    + $z_{1-{\\alpha}/2} \\leq {Z} \\leq z_{\\alpha/2}$라면, 귀무가설을 채택\n",
    "   \n",
    "  으로 수행\n",
    "  \n",
    "* 정규분포의 모분산에 대한 검정 (모분산이 어떤 값이 아닌 것을 주장하기 위한 검정)\n",
    "  - $X_1,X_2,\\dots,X_n {\\sim^{iid}} N(\\mu,\\sigma^2)$일 떄, 모분산 $\\sigma^2$에 관한 유의수준 $\\alpha$의 양측검정\\\n",
    "    + 귀무가설: $\\sigma^2$ = ${\\sigma_0}^2$\n",
    "    + 대립가설: $\\sigma^2$ $\\neq$ ${\\sigma_0}^2$\n",
    "  \n",
    "  은 검정통계량으로 ${Y} = {{(n-1){s^2}} \\over {\\sigma^2}} $을 사용하여\n",
    "    + $Y < \\chi_{{1-\\alpha}/2}^2(n-1)$ 또는 $\\chi_{{\\alpha}/2}^2(n-1) < Y$라면, 귀무가설을 기각\n",
    "    + $\\chi_{{1-\\alpha}/2}^2(n-1) \\leq {Y} \\leq \\chi_{{\\alpha}/2}^2(n-1)$라면, 귀무가설을 채택\n",
    "   \n",
    "  으로 수행\n",
    "  \n",
    "* 정규분포의 모평균에 대한 검정: 모분산을 모르는 경우\n",
    "  - 모분산을 알지 못하는 상황에서 정규분포의 모평균에 대한 검정 => 1표본 t검정(1-sample t-test)\n",
    "  - t검정통계량($t = (\\bar{X}-{\\mu_0})/{\\sqrt{s^2} \\over {n}}$)을 검정통계량으로 사용\n",
    "  \n",
    "  - $X_1,X_2,\\dots,X_n {\\sim^{iid}} N(\\mu,\\sigma^2)$일 떄, 모평균 $\\mu$에 관한 유의수준 $\\alpha$의 양측검정\\\n",
    "    + 귀무가설: $\\mu$ = $\\mu_0$\n",
    "    + 대립가설: $\\mu$ $\\neq$ $\\mu_0$\n",
    "    \n",
    "  은 검정통계량으로 $t = (\\bar{X}-{\\mu_0})/{\\sqrt{s^2} \\over {n}}$을 사용하여\n",
    "    + $t<t_{1-{\\alpha/2}}(n-1)$ 또는 $t_{\\alpha/2}<t$라면, 귀무가설을 기각\n",
    "    + $t_{1-{\\alpha/2}}(n-1) \\leq {t} \\leq t_{\\alpha/2}$라면, 귀무가설을 채택\n",
    "    \n",
    "  으로 수행"
   ]
  },
  {
   "cell_type": "code",
   "execution_count": 16,
   "metadata": {},
   "outputs": [],
   "source": [
    "# 정규분포의 모평균에 대한 검정: 모분산을 알고 있는 경우\n",
    "def pmean_test(sample, mean0, p_var, alpha=0.05):\n",
    "    s_mean = np.mean(sample)\n",
    "    n = len(sample)\n",
    "    rv = stats.norm()\n",
    "    interval = rv.interval(1-alpha)\n",
    "    \n",
    "    z = (s_mean - mean0) / np.sqrt(p_var/n)\n",
    "    if interval[0] <= z <= interval[1]:\n",
    "        print('귀무가설을 채택')\n",
    "    else:\n",
    "        print('귀무가설을 기각')\n",
    "        \n",
    "    if z<0:\n",
    "        p = rv.cdf(z)*2\n",
    "    else:\n",
    "        p = (1-rv.cdf(z))*2\n",
    "    print(f'p값은 {p:.3f}')"
   ]
  },
  {
   "cell_type": "code",
   "execution_count": 17,
   "metadata": {},
   "outputs": [
    {
     "name": "stdout",
     "output_type": "stream",
     "text": [
      "귀무가설을 채택\n",
      "p값은 0.053\n"
     ]
    }
   ],
   "source": [
    "pmean_test(sample, 130, 9)"
   ]
  },
  {
   "cell_type": "code",
   "execution_count": 18,
   "metadata": {},
   "outputs": [],
   "source": [
    "# 정규분포의 모분산에 대한 검정\n",
    "def pvar_test(sample, var0, alpha=0.05):\n",
    "    u_var = np.var(sample,ddof=1)\n",
    "    n = len(sample)\n",
    "    rv = stats.chi2(df=n-1)\n",
    "    interval = rv.interval(1-alpha)\n",
    "    \n",
    "    y = (n-1) * u_var / var0\n",
    "    if interval[0] <= y <= interval[1]:\n",
    "        print('귀무가설을 채택')\n",
    "    else:\n",
    "        print('귀무가설을 기각')\n",
    "        \n",
    "    if y < rv.isf(0.5):\n",
    "        p = rv.cdf(y)*2\n",
    "    else:\n",
    "        p = (1 - rv.cdf(y))*2\n",
    "    print(f'p값은 {p:.3f}')"
   ]
  },
  {
   "cell_type": "code",
   "execution_count": 19,
   "metadata": {},
   "outputs": [
    {
     "name": "stdout",
     "output_type": "stream",
     "text": [
      "귀무가설을 채택\n",
      "p값은 0.085\n"
     ]
    }
   ],
   "source": [
    "pvar_test(sample,9)"
   ]
  },
  {
   "cell_type": "code",
   "execution_count": 21,
   "metadata": {},
   "outputs": [],
   "source": [
    "# 정규분포의 모평균에 대한 검정: 모분산을 모르는 경우\n",
    "def pmean_test(sample, mean0, alpha=0.05):\n",
    "    s_mean = np.mean(sample)\n",
    "    u_var = np.var(sample, ddof=1)\n",
    "    n = len(sample)\n",
    "    rv = stats.t(df=n-1)\n",
    "    interval = rv.interval(1-alpha)\n",
    "    \n",
    "    t = (s_mean - mean0) / np.sqrt(u_var/n)\n",
    "    if interval[0] <= t <= interval[1]:\n",
    "        print('귀무가설을 채택')\n",
    "    else:\n",
    "        print('귀무가설을 기각')\n",
    "        \n",
    "    if t<0:\n",
    "        p = rv.cdf(t)*2\n",
    "    else:\n",
    "        p = (1-rv.cdf(t))*2\n",
    "    print(f'p값은 {p:.3f}')"
   ]
  },
  {
   "cell_type": "code",
   "execution_count": 22,
   "metadata": {},
   "outputs": [
    {
     "name": "stdout",
     "output_type": "stream",
     "text": [
      "귀무가설을 채택\n",
      "p값은 0.169\n"
     ]
    }
   ],
   "source": [
    "pmean_test(sample,130)"
   ]
  },
  {
   "cell_type": "code",
   "execution_count": 23,
   "metadata": {},
   "outputs": [
    {
     "data": {
      "text/plain": [
       "(-1.4551960206404198, 0.16933464230414275)"
      ]
     },
     "execution_count": 23,
     "metadata": {},
     "output_type": "execute_result"
    }
   ],
   "source": [
    "# 1표본 t검정 -> scipy.stats의 ttest_1samp 함수로 구현할 수 있음\n",
    "t,p = stats.ttest_1samp(sample,130)\n",
    "t,p"
   ]
  },
  {
   "cell_type": "markdown",
   "metadata": {},
   "source": [
    "#### 3. 2표본 문제에 관한 가설검정\n",
    "* 두 모집단에 대한 검정 => 2표본 문제(two-sample problem)\n",
    "* 대응표본: 두 데이터에서 서로 대응하는 동일한 개체에 대해 각각 다른 조건으로 측정한 것 (ex. 피검자에게 약을 투여하기 전후에 측정한 혈압)\n",
    "* 독립표본: 데이터에 대응이 없다는 것 (ex. A조 학생의 시험점수 & B조 학생의 시험점수)\n",
    "* (정규분포 가정 가능, 대응표본) = 대응비교 t검정(paired t-test)\n",
    "  - 대응하는 데이터가 있고, 데이터 차이에 정규분포를 가정할 수 있는 경우 평균값 차이에 대한 검정\n",
    "* (정규분포 가정 가능, 독립표본) = 독립비교 t검정(independent t-test)\n",
    "  - 대응하는 데이터가 없고 독립된 2표본 모집단에 정규분포를 가정할 수 있는 경우 평균값 차이에 대한 검정\n",
    "* (정규분포 가정 불가능, 대응표본) = 윌콕슨의 부호순위검정\n",
    "* (정규분포 가정 불가능, 독립표본) = 만$\\cdot$위트니의 U검정"
   ]
  },
  {
   "cell_type": "code",
   "execution_count": 24,
   "metadata": {},
   "outputs": [
    {
     "name": "stdout",
     "output_type": "stream",
     "text": [
      "(20, 2)\n"
     ]
    },
    {
     "data": {
      "text/html": [
       "<div>\n",
       "<style scoped>\n",
       "    .dataframe tbody tr th:only-of-type {\n",
       "        vertical-align: middle;\n",
       "    }\n",
       "\n",
       "    .dataframe tbody tr th {\n",
       "        vertical-align: top;\n",
       "    }\n",
       "\n",
       "    .dataframe thead th {\n",
       "        text-align: right;\n",
       "    }\n",
       "</style>\n",
       "<table border=\"1\" class=\"dataframe\">\n",
       "  <thead>\n",
       "    <tr style=\"text-align: right;\">\n",
       "      <th></th>\n",
       "      <th>전</th>\n",
       "      <th>후</th>\n",
       "    </tr>\n",
       "  </thead>\n",
       "  <tbody>\n",
       "    <tr>\n",
       "      <th>0</th>\n",
       "      <td>59</td>\n",
       "      <td>41</td>\n",
       "    </tr>\n",
       "    <tr>\n",
       "      <th>1</th>\n",
       "      <td>52</td>\n",
       "      <td>63</td>\n",
       "    </tr>\n",
       "    <tr>\n",
       "      <th>2</th>\n",
       "      <td>55</td>\n",
       "      <td>68</td>\n",
       "    </tr>\n",
       "    <tr>\n",
       "      <th>3</th>\n",
       "      <td>61</td>\n",
       "      <td>59</td>\n",
       "    </tr>\n",
       "    <tr>\n",
       "      <th>4</th>\n",
       "      <td>59</td>\n",
       "      <td>84</td>\n",
       "    </tr>\n",
       "  </tbody>\n",
       "</table>\n",
       "</div>"
      ],
      "text/plain": [
       "    전   후\n",
       "0  59  41\n",
       "1  52  63\n",
       "2  55  68\n",
       "3  61  59\n",
       "4  59  84"
      ]
     },
     "execution_count": 24,
     "metadata": {},
     "output_type": "execute_result"
    }
   ],
   "source": [
    "# 대응비교 t검정\n",
    "# 근력운동과 집중력\n",
    "training_rel = pd.read_csv('E:/jupyter/누구나 파이썬 통계분석/ch11_training_rel.csv')\n",
    "print(training_rel.shape)\n",
    "training_rel.head()"
   ]
  },
  {
   "cell_type": "markdown",
   "metadata": {},
   "source": [
    "* 근력운동이 집중력을 향상시키는 효과가 있는지 여부 -> 근력운동 전과 근력운동 후의 집중력 테스트의 평균 점수를 비교\n",
    "* $\\mu_before$ = 근력운동 전의 집중력 테스트 평균 점수, $\\mu_after$ = 근력운동 후의 집중력 테스트 평균 점수\n",
    "  - 귀무가설: $\\mu_{after}$ - $\\mu_{before}$ = 0\n",
    "  - 대립가설: $\\mu_{after}$ - $\\mu_{before}$ $\\neq$ 0"
   ]
  },
  {
   "cell_type": "code",
   "execution_count": 25,
   "metadata": {},
   "outputs": [
    {
     "data": {
      "text/html": [
       "<div>\n",
       "<style scoped>\n",
       "    .dataframe tbody tr th:only-of-type {\n",
       "        vertical-align: middle;\n",
       "    }\n",
       "\n",
       "    .dataframe tbody tr th {\n",
       "        vertical-align: top;\n",
       "    }\n",
       "\n",
       "    .dataframe thead th {\n",
       "        text-align: right;\n",
       "    }\n",
       "</style>\n",
       "<table border=\"1\" class=\"dataframe\">\n",
       "  <thead>\n",
       "    <tr style=\"text-align: right;\">\n",
       "      <th></th>\n",
       "      <th>전</th>\n",
       "      <th>후</th>\n",
       "      <th>차</th>\n",
       "    </tr>\n",
       "  </thead>\n",
       "  <tbody>\n",
       "    <tr>\n",
       "      <th>0</th>\n",
       "      <td>59</td>\n",
       "      <td>41</td>\n",
       "      <td>-18</td>\n",
       "    </tr>\n",
       "    <tr>\n",
       "      <th>1</th>\n",
       "      <td>52</td>\n",
       "      <td>63</td>\n",
       "      <td>11</td>\n",
       "    </tr>\n",
       "    <tr>\n",
       "      <th>2</th>\n",
       "      <td>55</td>\n",
       "      <td>68</td>\n",
       "      <td>13</td>\n",
       "    </tr>\n",
       "    <tr>\n",
       "      <th>3</th>\n",
       "      <td>61</td>\n",
       "      <td>59</td>\n",
       "      <td>-2</td>\n",
       "    </tr>\n",
       "    <tr>\n",
       "      <th>4</th>\n",
       "      <td>59</td>\n",
       "      <td>84</td>\n",
       "      <td>25</td>\n",
       "    </tr>\n",
       "  </tbody>\n",
       "</table>\n",
       "</div>"
      ],
      "text/plain": [
       "    전   후   차\n",
       "0  59  41 -18\n",
       "1  52  63  11\n",
       "2  55  68  13\n",
       "3  61  59  -2\n",
       "4  59  84  25"
      ]
     },
     "execution_count": 25,
     "metadata": {},
     "output_type": "execute_result"
    }
   ],
   "source": [
    "training_rel['차'] = training_rel['후'] - training_rel['전']\n",
    "training_rel.head()"
   ]
  },
  {
   "cell_type": "markdown",
   "metadata": {},
   "source": [
    "* 근력운동이 집중력 테스트에 끼치는 영향이 없다면, 그 차이는 임의로 분산되어 평균이 0인 분포가 될 것\n",
    "* 차이의 평균 = $\\mu_{diff}$\n",
    "  - 귀무가설: $\\mu_{diff}$ = 0\n",
    "  - 대립가설: $\\mu_{diff}$ $\\neq$ 0\n",
    "* 더 나아가 그 차이가 각각 독립이고 동일한 정규분포를 따르고 있다고 가정할 수 있으면,\n",
    "* 이 검정은 모분산을 모르는 경우의 정규분포의 모분산에 대한 검정(1표본 t검정)으로 귀착될 수 있음"
   ]
  },
  {
   "cell_type": "code",
   "execution_count": 26,
   "metadata": {},
   "outputs": [
    {
     "data": {
      "text/plain": [
       "0.04004419061842953"
      ]
     },
     "execution_count": 26,
     "metadata": {},
     "output_type": "execute_result"
    }
   ],
   "source": [
    "t,p = stats.ttest_1samp(training_rel['차'],0)\n",
    "p"
   ]
  },
  {
   "cell_type": "markdown",
   "metadata": {},
   "source": [
    "* p값이 유의수준보다 작음 => 귀무가설 기각"
   ]
  },
  {
   "cell_type": "code",
   "execution_count": 27,
   "metadata": {},
   "outputs": [
    {
     "data": {
      "text/plain": [
       "0.04004419061842953"
      ]
     },
     "execution_count": 27,
     "metadata": {},
     "output_type": "execute_result"
    }
   ],
   "source": [
    "# before, after의 데이터로 동일한 검정 수행 가능\n",
    "t,p = stats.ttest_rel(training_rel['후'],training_rel['전'])\n",
    "p"
   ]
  },
  {
   "cell_type": "code",
   "execution_count": 28,
   "metadata": {},
   "outputs": [
    {
     "name": "stdout",
     "output_type": "stream",
     "text": [
      "(20, 2)\n"
     ]
    },
    {
     "data": {
      "text/html": [
       "<div>\n",
       "<style scoped>\n",
       "    .dataframe tbody tr th:only-of-type {\n",
       "        vertical-align: middle;\n",
       "    }\n",
       "\n",
       "    .dataframe tbody tr th {\n",
       "        vertical-align: top;\n",
       "    }\n",
       "\n",
       "    .dataframe thead th {\n",
       "        text-align: right;\n",
       "    }\n",
       "</style>\n",
       "<table border=\"1\" class=\"dataframe\">\n",
       "  <thead>\n",
       "    <tr style=\"text-align: right;\">\n",
       "      <th></th>\n",
       "      <th>A</th>\n",
       "      <th>B</th>\n",
       "    </tr>\n",
       "  </thead>\n",
       "  <tbody>\n",
       "    <tr>\n",
       "      <th>0</th>\n",
       "      <td>47</td>\n",
       "      <td>49</td>\n",
       "    </tr>\n",
       "    <tr>\n",
       "      <th>1</th>\n",
       "      <td>50</td>\n",
       "      <td>52</td>\n",
       "    </tr>\n",
       "    <tr>\n",
       "      <th>2</th>\n",
       "      <td>37</td>\n",
       "      <td>54</td>\n",
       "    </tr>\n",
       "    <tr>\n",
       "      <th>3</th>\n",
       "      <td>60</td>\n",
       "      <td>48</td>\n",
       "    </tr>\n",
       "    <tr>\n",
       "      <th>4</th>\n",
       "      <td>39</td>\n",
       "      <td>51</td>\n",
       "    </tr>\n",
       "  </tbody>\n",
       "</table>\n",
       "</div>"
      ],
      "text/plain": [
       "    A   B\n",
       "0  47  49\n",
       "1  50  52\n",
       "2  37  54\n",
       "3  60  48\n",
       "4  39  51"
      ]
     },
     "execution_count": 28,
     "metadata": {},
     "output_type": "execute_result"
    }
   ],
   "source": [
    "# 독립비교 t검정\n",
    "training_ind = pd.read_csv('E:/jupyter/누구나 파이썬 통계분석/ch11_training_ind.csv')\n",
    "print(training_ind.shape)\n",
    "training_ind.head()"
   ]
  },
  {
   "cell_type": "markdown",
   "metadata": {},
   "source": [
    "* 근력운동이 집중력을 향상하는 효과가 있는지 -> A 학생의 학급과 B 학생의 학급에서 진행한 집중력 테스트에서 평균 점수를 비교\n",
    "* $\\mu_1$ = A 학생의 학급 평균점수, $\\mu_2$ = B 학생의 학급 평균점수일 때\n",
    "  - 귀무가설: $\\mu_1 - \\mu_2$ = 0\n",
    "  - 대립가설: $\\mu_1 - \\mu_2$ $\\neq$ 0\n",
    "* 독립표본이므로 이번에는 차이를 구해도 아무 의미가 없음\n",
    "* A 학생의 학급 표본과 B 학생의 학급 표본은 별개의 모집단에서 추출된 것이고 이러한 모집단에 정규분포를 가정하면\n",
    "  - A 학생의 학급 점수 $X_1,X_2,\\dots,X_{n_1} \\sim N(\\mu_1,{\\sigma_1}^2)$\n",
    "  - B 학생의 학급 점수 $Y_1,Y_2,\\dots,Y_{n_1} \\sim N(\\mu_2,{\\sigma_2}^2)$ 이라 할 수 있음\n",
    "* 이러한 가정을 바탕으로 검정통계량은\n",
    "  - t = ${(\\bar{X} - \\bar{Y}) - (\\mu_1 - \\mu_2)} \\over \\sqrt{{{s_1}^2 \\over {n_1}} + {{s_2}^2 \\over {n_2}}}$를 사용\n",
    "*"
   ]
  },
  {
   "cell_type": "code",
   "execution_count": null,
   "metadata": {},
   "outputs": [],
   "source": []
  }
 ],
 "metadata": {
  "kernelspec": {
   "display_name": "Python 3",
   "language": "python",
   "name": "python3"
  },
  "language_info": {
   "codemirror_mode": {
    "name": "ipython",
    "version": 3
   },
   "file_extension": ".py",
   "mimetype": "text/x-python",
   "name": "python",
   "nbconvert_exporter": "python",
   "pygments_lexer": "ipython3",
   "version": "3.8.5"
  }
 },
 "nbformat": 4,
 "nbformat_minor": 4
}
