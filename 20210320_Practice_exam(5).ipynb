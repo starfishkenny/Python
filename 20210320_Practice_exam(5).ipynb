{
 "cells": [
  {
   "cell_type": "markdown",
   "id": "expired-wesley",
   "metadata": {},
   "source": [
    "### 모의고사 5회"
   ]
  },
  {
   "cell_type": "markdown",
   "id": "headed-campbell",
   "metadata": {},
   "source": [
    "#### 도착지까지 충전 횟수를 구하는 함수 작성하기"
   ]
  },
  {
   "cell_type": "code",
   "execution_count": 1,
   "id": "extensive-shannon",
   "metadata": {},
   "outputs": [],
   "source": [
    "def solution(arr):\n",
    "    answer = 0\n",
    "    energy = 40\n",
    "    for i in arr:\n",
    "        if energy < i: # 남은 에너지로 i만큼 갈 수 있나?\n",
    "            energy = 40 # 충전\n",
    "            answer += 1 # 충전 횟수\n",
    "        energy -= i # 다음 도시로 이동\n",
    "    return answer"
   ]
  },
  {
   "cell_type": "markdown",
   "id": "metric-reach",
   "metadata": {},
   "source": [
    "#### 3개 사면 추가 하나는 50% 할인 행사의 금액을 계산하는 함수 빈칸 채우기"
   ]
  },
  {
   "cell_type": "code",
   "execution_count": 4,
   "id": "funny-morgan",
   "metadata": {},
   "outputs": [],
   "source": [
    "def solution(arr):\n",
    "    answer = 0\n",
    "    for i in range(len(arr)):\n",
    "        price = arr[i] # i번 물건의 가격\n",
    "        if (i+1) % 4 == 0: # 물건의 개수는 i+1\n",
    "            price //= 2\n",
    "        answer += price\n",
    "    return answer"
   ]
  },
  {
   "cell_type": "markdown",
   "id": "attended-milton",
   "metadata": {},
   "source": [
    "#### 목재소의 매출액 구하는 함수 수정하기"
   ]
  },
  {
   "cell_type": "code",
   "execution_count": 5,
   "id": "bronze-china",
   "metadata": {},
   "outputs": [],
   "source": [
    "def func_a(a, length):\n",
    "    for i in range(len(a)):\n",
    "        if a[i] >= length:\n",
    "            return i\n",
    "    return -1\n",
    "\n",
    "def solution(N, orders):\n",
    "    material = [8 for _ in range(N)] # 최초 목재 길이는 8\n",
    "    k = 0\n",
    "    price = 0\n",
    "    for o in orders:\n",
    "        k = func_a(material, o)\n",
    "        if k >= 0:\n",
    "            material[k] -= o\n",
    "            price += 3000 * o\n",
    "    return price       "
   ]
  },
  {
   "cell_type": "markdown",
   "id": "interesting-technology",
   "metadata": {},
   "source": [
    "#### 영문 단어를 전화번호로 변환하는 함수 수정하기"
   ]
  },
  {
   "cell_type": "code",
   "execution_count": 6,
   "id": "parliamentary-component",
   "metadata": {},
   "outputs": [],
   "source": [
    "def solution(word):\n",
    "    num2alpha = [\"oqz\", \"ij\", \"abc\", \"def\", \"gh\", \"ki\", \"mn\", \"prs\", \"tuv\", \"wxy\"]\n",
    "    answer = ''\n",
    "    for c in word:\n",
    "        for i in range(len(num2alpha)):\n",
    "            for a in num2alpha[i]:\n",
    "                if a == c:\n",
    "                    answer += str(i) # += 연산으로 합치기 위해 str()로 바꾸어야 함\n",
    "                    break\n",
    "    return answer"
   ]
  },
  {
   "cell_type": "markdown",
   "id": "smoking-conservative",
   "metadata": {},
   "source": [
    "#### 주차장 요금 정산하는 함수 빈칸 채우기"
   ]
  },
  {
   "cell_type": "code",
   "execution_count": 7,
   "id": "blind-interstate",
   "metadata": {},
   "outputs": [],
   "source": [
    "def func_a(a):\n",
    "    return ((a // 100) * 60) + (a % 100)\n",
    "\n",
    "def solution(arr):\n",
    "    answer = 0\n",
    "    min_a = func_a(2200) # 마감시간\n",
    "    for i in arr:\n",
    "        min_b = func_a(i) # 각 차가 들어온 시간\n",
    "        elapsed_minute = min_a - min_b\n",
    "        answer += 1000 + (elapsed_minute // 10) * 500\n",
    "    return answer"
   ]
  },
  {
   "cell_type": "markdown",
   "id": "leading-representation",
   "metadata": {},
   "source": [
    "#### KTX 열차 승차 인원 구하는 함수 빈칸 채우기"
   ]
  },
  {
   "cell_type": "code",
   "execution_count": null,
   "id": "seventh-claim",
   "metadata": {},
   "outputs": [],
   "source": []
  }
 ],
 "metadata": {
  "kernelspec": {
   "display_name": "Python 3",
   "language": "python",
   "name": "python3"
  },
  "language_info": {
   "codemirror_mode": {
    "name": "ipython",
    "version": 3
   },
   "file_extension": ".py",
   "mimetype": "text/x-python",
   "name": "python",
   "nbconvert_exporter": "python",
   "pygments_lexer": "ipython3",
   "version": "3.8.8"
  }
 },
 "nbformat": 4,
 "nbformat_minor": 5
}
