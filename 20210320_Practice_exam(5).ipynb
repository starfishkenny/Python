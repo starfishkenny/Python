{
 "cells": [
  {
   "cell_type": "markdown",
   "id": "appreciated-archives",
   "metadata": {},
   "source": [
    "### 모의고사 5회"
   ]
  },
  {
   "cell_type": "markdown",
   "id": "adaptive-plaintiff",
   "metadata": {},
   "source": [
    "#### 도착지까지 충전 횟수를 구하는 함수 작성하기"
   ]
  },
  {
   "cell_type": "code",
   "execution_count": 1,
   "id": "stone-tunisia",
   "metadata": {},
   "outputs": [],
   "source": [
    "def solution(arr):\n",
    "    answer = 0\n",
    "    energy = 40\n",
    "    for i in arr:\n",
    "        if energy < i: # 남은 에너지로 i만큼 갈 수 있나?\n",
    "            energy = 40 # 충전\n",
    "            answer += 1 # 충전 횟수\n",
    "        energy -= i # 다음 도시로 이동\n",
    "    return answer"
   ]
  },
  {
   "cell_type": "markdown",
   "id": "technological-letter",
   "metadata": {},
   "source": [
    "#### 3개 사면 추가 하나는 50% 할인 행사의 금액을 계산하는 함수 빈칸 채우기"
   ]
  },
  {
   "cell_type": "code",
   "execution_count": 4,
   "id": "front-findings",
   "metadata": {},
   "outputs": [],
   "source": [
    "def solution(arr):\n",
    "    answer = 0\n",
    "    for i in range(len(arr)):\n",
    "        price = arr[i] # i번 물건의 가격\n",
    "        if (i+1) % 4 == 0: # 물건의 개수는 i+1\n",
    "            price //= 2\n",
    "        answer += price\n",
    "    return answer"
   ]
  },
  {
   "cell_type": "markdown",
   "id": "marked-latter",
   "metadata": {},
   "source": [
    "#### 목재소의 매출액 구하는 함수 수정하기"
   ]
  },
  {
   "cell_type": "code",
   "execution_count": 5,
   "id": "magnetic-australian",
   "metadata": {},
   "outputs": [],
   "source": [
    "def func_a(a, length):\n",
    "    for i in range(len(a)):\n",
    "        if a[i] >= length:\n",
    "            return i\n",
    "    return -1\n",
    "\n",
    "def solution(N, orders):\n",
    "    material = [8 for _ in range(N)] # 최초 목재 길이는 8\n",
    "    k = 0\n",
    "    price = 0\n",
    "    for o in orders:\n",
    "        k = func_a(material, o)\n",
    "        if k >= 0:\n",
    "            material[k] -= o\n",
    "            price += 3000 * o\n",
    "    return price       "
   ]
  },
  {
   "cell_type": "markdown",
   "id": "egyptian-fundamentals",
   "metadata": {},
   "source": [
    "#### 영문 단어를 전화번호로 변환하는 함수 수정하기"
   ]
  },
  {
   "cell_type": "code",
   "execution_count": 6,
   "id": "confused-security",
   "metadata": {},
   "outputs": [],
   "source": [
    "def solution(word):\n",
    "    num2alpha = [\"oqz\", \"ij\", \"abc\", \"def\", \"gh\", \"ki\", \"mn\", \"prs\", \"tuv\", \"wxy\"]\n",
    "    answer = ''\n",
    "    for c in word:\n",
    "        for i in range(len(num2alpha)):\n",
    "            for a in num2alpha[i]:\n",
    "                if a == c:\n",
    "                    answer += str(i) # += 연산으로 합치기 위해 str()로 바꾸어야 함\n",
    "                    break\n",
    "    return answer"
   ]
  },
  {
   "cell_type": "markdown",
   "id": "centered-stream",
   "metadata": {},
   "source": [
    "#### 주차장 요금 정산하는 함수 빈칸 채우기"
   ]
  },
  {
   "cell_type": "code",
   "execution_count": 7,
   "id": "interior-termination",
   "metadata": {},
   "outputs": [],
   "source": [
    "def func_a(a):\n",
    "    return ((a // 100) * 60) + (a % 100)\n",
    "\n",
    "def solution(arr):\n",
    "    answer = 0\n",
    "    min_a = func_a(2200) # 마감시간\n",
    "    for i in arr:\n",
    "        min_b = func_a(i) # 각 차가 들어온 시간\n",
    "        elapsed_minute = min_a - min_b\n",
    "        answer += 1000 + (elapsed_minute // 10) * 500\n",
    "    return answer"
   ]
  },
  {
   "cell_type": "markdown",
   "id": "disabled-sunrise",
   "metadata": {},
   "source": [
    "#### KTX 열차 승차 인원 구하는 함수 빈칸 채우기"
   ]
  },
  {
   "cell_type": "code",
   "execution_count": 8,
   "id": "amazing-guarantee",
   "metadata": {},
   "outputs": [],
   "source": [
    "def solution(down, up):\n",
    "    answer = 0\n",
    "    passenger = 0\n",
    "    n = len(down)\n",
    "    for i in range(n):\n",
    "        passenger += up[i] - down[i]\n",
    "        stand = passenger - 240\n",
    "        if stand < 0:\n",
    "            stand = 0\n",
    "        if stand > 0 and stand > answer: # 탑승객이 좌석 수보다 많음\n",
    "            answer = stand\n",
    "    return answer"
   ]
  },
  {
   "cell_type": "markdown",
   "id": "dependent-mouse",
   "metadata": {},
   "source": [
    "#### 판매 이익금을 구하는 함수 수정하기"
   ]
  },
  {
   "cell_type": "code",
   "execution_count": 9,
   "id": "interesting-definition",
   "metadata": {},
   "outputs": [],
   "source": [
    "def func_a(a):\n",
    "    min_ = a[0]\n",
    "    for i in a:\n",
    "        if i < min_:\n",
    "            min_ = i\n",
    "    return min_\n",
    "\n",
    "def solution(price):\n",
    "    sales = [0 for _ in range(len(price))]\n",
    "    for i in price:\n",
    "        if i[0] < 5000:\n",
    "            percent = 0.25\n",
    "        elif i[0] < 15000:\n",
    "            percent = 0.20\n",
    "        elif i[0] < 100000:\n",
    "            percent = 0.15\n",
    "        else:\n",
    "            percent = 0.1\n",
    "        sales[i] = i[0] * percent * i[1]\n",
    "    return func_a(sales)"
   ]
  },
  {
   "cell_type": "markdown",
   "id": "specialized-batch",
   "metadata": {},
   "source": [
    "#### 직선으로 교차하는 두 직선과 x축선이 이루는 삼각형 면적 구하는 함수 작성하기"
   ]
  },
  {
   "cell_type": "code",
   "execution_count": 12,
   "id": "particular-wellington",
   "metadata": {},
   "outputs": [],
   "source": [
    "def solution(x,y):\n",
    "    answer = 0,0\n",
    "    b1 = y - x\n",
    "    b2 = y + x\n",
    "    a1 = (y * (x - b1)) / 2.0\n",
    "    a2 = (y * (x - b2)) / 2.0\n",
    "    answer = a1 + a2\n",
    "    return answer"
   ]
  },
  {
   "cell_type": "markdown",
   "id": "extensive-kuwait",
   "metadata": {},
   "source": [
    "#### 업다운 숫자게임 정답 찾는 함수 빈칸 채우기"
   ]
  },
  {
   "cell_type": "code",
   "execution_count": 15,
   "id": "peripheral-debate",
   "metadata": {},
   "outputs": [],
   "source": [
    "def solution(answer):\n",
    "    min_ = 1\n",
    "    max_ = 100\n",
    "    result = 0\n",
    "    for i in answer:\n",
    "        result = (max_ + min_) / 2 # 중앙값을 구함\n",
    "        if min_ == max_ or i == 'c':\n",
    "            break\n",
    "        if i == 'u':\n",
    "            max_ = result # max를 감소\n",
    "        if i == 'd':\n",
    "            min_ = result # min을 증가\n",
    "    return result"
   ]
  },
  {
   "cell_type": "markdown",
   "id": "valuable-turtle",
   "metadata": {},
   "source": [
    "#### 빌라의 세대별 전기요금 구하는 함수 빈칸 채우기"
   ]
  },
  {
   "cell_type": "code",
   "execution_count": null,
   "id": "potential-mailman",
   "metadata": {},
   "outputs": [],
   "source": [
    "def solution(wats, bill):\n",
    "    result = [0 for _ in range(8)]\n",
    "    unit_price = int(bill / wats[0]) + 1\n",
    "    for i in range(len(result)):\n",
    "        result[i] = wats[i+1] * unit_price\n",
    "    return result"
   ]
  }
 ],
 "metadata": {
  "kernelspec": {
   "display_name": "Python 3",
   "language": "python",
   "name": "python3"
  },
  "language_info": {
   "codemirror_mode": {
    "name": "ipython",
    "version": 3
   },
   "file_extension": ".py",
   "mimetype": "text/x-python",
   "name": "python",
   "nbconvert_exporter": "python",
   "pygments_lexer": "ipython3",
   "version": "3.8.8"
  }
 },
 "nbformat": 4,
 "nbformat_minor": 5
}
