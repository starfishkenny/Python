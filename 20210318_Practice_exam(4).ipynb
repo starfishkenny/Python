{
 "cells": [
  {
   "cell_type": "markdown",
   "id": "loving-uncle",
   "metadata": {},
   "source": [
    "### 모의고사 4회"
   ]
  },
  {
   "cell_type": "markdown",
   "id": "capable-arrest",
   "metadata": {},
   "source": [
    "#### 카드 숫자 조합하여 홀수의 개수를 구하는 함수 빈칸 채우기"
   ]
  },
  {
   "cell_type": "code",
   "execution_count": 3,
   "id": "smoking-technician",
   "metadata": {},
   "outputs": [],
   "source": [
    "def solution(cards):\n",
    "    answer = 0\n",
    "    for i in range(3):\n",
    "        for k in range(i+1, 5):\n",
    "            for m in range(k+1, 5):\n",
    "                if (cards[i] + cards[k] + cards[m]) % 2 == 1:\n",
    "                    answer += 1\n",
    "    return answer"
   ]
  },
  {
   "cell_type": "markdown",
   "id": "crude-equivalent",
   "metadata": {},
   "source": [
    "#### 무게를 재기 위해 필요한 추의 개수를 구하는 함수 빈칸 채우기"
   ]
  },
  {
   "cell_type": "code",
   "execution_count": 4,
   "id": "mature-retro",
   "metadata": {},
   "outputs": [],
   "source": [
    "def func_a(arr):\n",
    "    total = 0\n",
    "    for i in arr:\n",
    "        total += i\n",
    "    return total\n",
    "\n",
    "def solution(arr, payload):\n",
    "    answer = 0\n",
    "    sum_ = func_a(arr)\n",
    "    if sum_ >= payload:\n",
    "        arr.sort()\n",
    "        arr.reverse()\n",
    "        weight = 0\n",
    "        for i in range(len(arr)):\n",
    "            diff = payload - weight\n",
    "            if arr[i] <= diff:\n",
    "                weight += arr[i]\n",
    "                answer += 1\n",
    "        if weight != payload:\n",
    "            answer = 0\n",
    "    return answer"
   ]
  },
  {
   "cell_type": "markdown",
   "id": "imported-logic",
   "metadata": {},
   "source": [
    "#### 통학버스 왕복 횟수 구하는 함수 작성하기"
   ]
  },
  {
   "cell_type": "code",
   "execution_count": null,
   "id": "fatal-magnitude",
   "metadata": {},
   "outputs": [],
   "source": [
    "def solution(student, apts):\n",
    "    result = 0\n",
    "    total = 0\n",
    "    for i in student:\n",
    "        total += i\n",
    "    result = total // 12\n",
    "    if total % 12 != 0:\n",
    "        result += 1\n",
    "    return result"
   ]
  },
  {
   "cell_type": "markdown",
   "id": "martial-system",
   "metadata": {},
   "source": [
    "#### 열린 문의 개수를 구하는 함수 빈칸 채우기"
   ]
  },
  {
   "cell_type": "code",
   "execution_count": 2,
   "id": "extreme-commerce",
   "metadata": {},
   "outputs": [],
   "source": [
    "def solution(n,m):\n",
    "    answer = 0\n",
    "    OPEN, CLOSE = 0, 1\n",
    "    room = [CLOSE for i in range(m+1)] # [1]번부터 [m]번까지를 사용\n",
    "    for i in range(1,n+1):\n",
    "        for k in range(1,m+1):\n",
    "            if k % i == 0:\n",
    "                room[k] = 1 - room[k] # 문의 상태 반전\n",
    "    answer = room.count(OPEN) # 리스트에서 값이 OPEN인 개수를 반환\n",
    "    return answer"
   ]
  },
  {
   "cell_type": "markdown",
   "id": "effective-chamber",
   "metadata": {},
   "source": [
    "#### 대괄호 쌍의 개수 세는 함수 빈칸 채우기"
   ]
  },
  {
   "cell_type": "code",
   "execution_count": 3,
   "id": "burning-yukon",
   "metadata": {},
   "outputs": [],
   "source": [
    "def func_a(s):\n",
    "    answer = False # 대괄호 쌍이 맞지 않을 때\n",
    "    cnt = 0\n",
    "    for i in s:\n",
    "        if i == '[':\n",
    "            cnt += 1\n",
    "        if i == ']':\n",
    "            cnt -= 1\n",
    "    if cnt == 0:\n",
    "        answer = True # 대괄호 쌍이 맞을 때\n",
    "    return answer\n",
    "\n",
    "def solution(string):\n",
    "    answer = 0\n",
    "    if not func_a(string):\n",
    "        return -1\n",
    "    for i in string:\n",
    "        if i == ']':\n",
    "            answer += 1\n",
    "    return answer"
   ]
  },
  {
   "cell_type": "code",
   "execution_count": null,
   "id": "informational-metro",
   "metadata": {},
   "outputs": [],
   "source": []
  }
 ],
 "metadata": {
  "kernelspec": {
   "display_name": "Python 3",
   "language": "python",
   "name": "python3"
  },
  "language_info": {
   "codemirror_mode": {
    "name": "ipython",
    "version": 3
   },
   "file_extension": ".py",
   "mimetype": "text/x-python",
   "name": "python",
   "nbconvert_exporter": "python",
   "pygments_lexer": "ipython3",
   "version": "3.8.8"
  }
 },
 "nbformat": 4,
 "nbformat_minor": 5
}
