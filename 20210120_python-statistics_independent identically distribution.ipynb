{
 "cells": [
  {
   "cell_type": "markdown",
   "metadata": {},
   "source": [
    "## 9. 독립동일분포\n",
    "### - 독립성\n",
    "### - 합의 분포\n",
    "### - 표본평균의 분포"
   ]
  },
  {
   "cell_type": "markdown",
   "metadata": {},
   "source": [
    "* 서로 독립인 다차원 확률변수 -> 독립동일분포 (Independently and Identically Distributed, i.i.d)\n",
    "* 독립동일분포를 다루는 이유 -> 통계분석에서 취급하는 데이터 중 상당수가 독립이면서 다차원인 확률변수의 실현값으로 간주될 수 있기 때문"
   ]
  },
  {
   "cell_type": "code",
   "execution_count": 1,
   "metadata": {},
   "outputs": [],
   "source": [
    "import numpy as np\n",
    "import matplotlib.pyplot as plt\n",
    "from scipy import stats\n",
    "\n",
    "np.random.seed(0)\n",
    "%precision 3\n",
    "%matplotlib inline"
   ]
  },
  {
   "cell_type": "code",
   "execution_count": 2,
   "metadata": {},
   "outputs": [],
   "source": [
    "# 이산형 확률변수를 다룰 때 사용한 함수 준비\n",
    "linestyles = ['-','--',':','-.']\n",
    "\n",
    "def E(XY, g):\n",
    "    x_set, y_set, f_XY = XY\n",
    "    return np.sum([g(x_i,y_j) * f_XY(x_i,y_j) for x_i in x_set for y_j in y_set])\n",
    "\n",
    "def Cov(XY):\n",
    "    x_set, y_set, f_XY = XY\n",
    "    mean_X = E(XY, lambda x,y: x)\n",
    "    mean_Y = E(XY, lambda x,y: y)\n",
    "    return np.sum([(x_i - mean_X) * (y_j - mean_Y) * f_XY(x_i,y_j) for x_i in x_set for y_j in y_set])\n",
    "\n",
    "def f_X(x):\n",
    "    return np.sum([f_XY(x,y_k) for y_k in y_set])\n",
    "\n",
    "def f_Y(y):\n",
    "    return np.sum([f_XY(x_k,y) for x_k in x_set])"
   ]
  },
  {
   "cell_type": "markdown",
   "metadata": {},
   "source": [
    "#### 1. 독립성 (Independence)\n",
    "* 2개 이상의 확률변수가 서로 영향을 끼치지 않으며 관계가 없음을 나타내는 개념\n",
    "* $f_{X,Y}(x,y) = f_X(x)f_Y(y)$ -> 확률변수가 독립일 때 결합확률은 주변확률의 곱으로 작성할 수 있음\n",
    "* 즉, n개의 확률변수 $X_1,X_2,\\dots,X_n$이 다음을 만족할 때, $X_1,X_2,\\dots,X_n$은 서로 독립\\\n",
    "$f_{X_1,X_2,\\dots,X_n}(x_1,x_2,\\dots,x_n) = f_{X_1}(x_1)f_{X_2}(x_2)\\dots f_{X_n}(x_n)$\\\n",
    "(다만 함수 $f$가 이산형이면 확률함수, 연속형이면 밀도함수를 나타냄)\n",
    "* 그러면 '독립성'과 '무상관성'의 차이는?\n",
    "  - 독립성이 더 강한 개념\n",
    "  - 독립성을 만족하면 무상관이 됨 / 무상관이어도 서로 영향을 끼치는 경우가 있으므로 독립성을 가진다고 말할 수 없음"
   ]
  },
  {
   "cell_type": "markdown",
   "metadata": {},
   "source": [
    "#### 2. 합의 분포\n",
    "* "
   ]
  },
  {
   "cell_type": "markdown",
   "metadata": {},
   "source": [
    "#### 3. 표본평균의 분포\n",
    "* "
   ]
  },
  {
   "cell_type": "code",
   "execution_count": null,
   "metadata": {},
   "outputs": [],
   "source": []
  },
  {
   "cell_type": "code",
   "execution_count": null,
   "metadata": {},
   "outputs": [],
   "source": []
  }
 ],
 "metadata": {
  "kernelspec": {
   "display_name": "Python 3",
   "language": "python",
   "name": "python3"
  },
  "language_info": {
   "codemirror_mode": {
    "name": "ipython",
    "version": 3
   },
   "file_extension": ".py",
   "mimetype": "text/x-python",
   "name": "python",
   "nbconvert_exporter": "python",
   "pygments_lexer": "ipython3",
   "version": "3.8.5"
  }
 },
 "nbformat": 4,
 "nbformat_minor": 4
}
