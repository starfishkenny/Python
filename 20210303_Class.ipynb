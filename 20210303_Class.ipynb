{
 "cells": [
  {
   "cell_type": "markdown",
   "metadata": {},
   "source": [
    "#### 2.1 클래스의 정의\n",
    "* 클래스: 함수나 변수들의 모음 단위\n",
    "* 새로운 자료형을 만든다는 개념으로 이야기되기도 함\n",
    "* 클래스를 어떻게 작성하고 클래스들 간의 관계를 어떻게 설정하는가에 따라 코딩의 난이도가 다르게 됨\n",
    "* 클래스는 일종의 규칙으로 실제 실행할 때 사용되기 위해서는 인스턴스(instance of class)를 생성해야 함 (인스턴스 = 객체)"
   ]
  },
  {
   "cell_type": "code",
   "execution_count": 2,
   "metadata": {},
   "outputs": [],
   "source": [
    "class ClassName:\n",
    "    '''클래스의 정의'''"
   ]
  },
  {
   "cell_type": "markdown",
   "metadata": {},
   "source": [
    "* 클래스의 인스턴스를 만드는 방법 $\\rightarrow$ \"클래스명\"()"
   ]
  },
  {
   "cell_type": "code",
   "execution_count": 3,
   "metadata": {},
   "outputs": [],
   "source": [
    "class Pokemon: # Pokemon 클래스 정의\n",
    "    pass\n",
    "\n",
    "gotcha = Pokemon() # gotcha -> 생성된 인스턴의 이름"
   ]
  },
  {
   "cell_type": "code",
   "execution_count": 4,
   "metadata": {},
   "outputs": [],
   "source": [
    "# 여러 개의 인스턴스 생성 가능\n",
    "class Pokemon:\n",
    "    pass\n",
    "\n",
    "gotcha = Pokemon()\n",
    "swan = Pokemon()\n",
    "nightly = Pokemon()"
   ]
  },
  {
   "cell_type": "markdown",
   "metadata": {},
   "source": [
    "* 사람이 모두 고유한 성격이나 체형, 나이 등의 데이터를 갖고 걷거나 뛰거나 일하는 것과 같은 행동을 하듯이\n",
    "* 생성된 인스턴스들은 각기 독립적인 데이터를 가지지만 모두 Pokemon에 해당하는 항목과 함수들을 가지고 있다고 말함"
   ]
  },
  {
   "cell_type": "markdown",
   "metadata": {},
   "source": [
    "* 모듈은 변수, 함수뿐만 아니라 클래스도 포함"
   ]
  },
  {
   "cell_type": "markdown",
   "metadata": {},
   "source": [
    "* 하나의 클래스에는 여러 개의 변수와 함수를 만들 수 있음\n",
    "* 이때 변수들은 함수 밖에서 선언되는 것을 의미하며 클래스의 변수는 필드(field), 함수는 메서드(method)로 표현됨"
   ]
  },
  {
   "cell_type": "markdown",
   "metadata": {},
   "source": [
    "#### 2.2 클래스의 멤버(변수)"
   ]
  },
  {
   "cell_type": "code",
   "execution_count": 7,
   "metadata": {},
   "outputs": [],
   "source": [
    "class Pokemon:\n",
    "    '''field 들의 선언\n",
    "    method() 들의 선언\n",
    "    pass''' # pass는 단순히 여기에서 끝남을 표시"
   ]
  },
  {
   "cell_type": "markdown",
   "metadata": {},
   "source": [
    "* 변수 $\\rightarrow$ 이 클래스가 가지는 데이터(속성)\n",
    "* 함수 $\\rightarrow$ 이 클래스가 할 수 있는 행동이나 일\n",
    "* 모든 포켓몬이 이름을 가지듯이, Pokemon 클래스는 name 필드를 가짐"
   ]
  },
  {
   "cell_type": "code",
   "execution_count": 8,
   "metadata": {},
   "outputs": [],
   "source": [
    "class Pokemon:\n",
    "    name = 'unknown'\n",
    "    pass"
   ]
  },
  {
   "cell_type": "markdown",
   "metadata": {},
   "source": [
    "#### 2.3 클래스의 멤버(함수)"
   ]
  },
  {
   "cell_type": "markdown",
   "metadata": {},
   "source": [
    "* 객체가 할 수 있는 행동 = 함수\n",
    "* 클래스 안에 정의된 함수를 호출하여 어떤 실행을 하는 것 = \"행동(일)을 할 수 있다\"\n",
    "* 클래스 내에 정의된 함수는 특별히 메서드라고 칭하는 것이 일반적"
   ]
  },
  {
   "cell_type": "markdown",
   "metadata": {},
   "source": [
    "#### 2.4 인스턴스 변수"
   ]
  },
  {
   "cell_type": "markdown",
   "metadata": {},
   "source": [
    "* 하나의 클래스로부터 생성되는 인스턴스들은 모두 같은 값으로 초기화되거나 각자 다른 값을 가져야 할 수 있음"
   ]
  },
  {
   "cell_type": "code",
   "execution_count": null,
   "metadata": {},
   "outputs": [],
   "source": []
  }
 ],
 "metadata": {
  "kernelspec": {
   "display_name": "Python 3",
   "language": "python",
   "name": "python3"
  },
  "language_info": {
   "codemirror_mode": {
    "name": "ipython",
    "version": 3
   },
   "file_extension": ".py",
   "mimetype": "text/x-python",
   "name": "python",
   "nbconvert_exporter": "python",
   "pygments_lexer": "ipython3",
   "version": "3.8.5"
  }
 },
 "nbformat": 4,
 "nbformat_minor": 4
}
