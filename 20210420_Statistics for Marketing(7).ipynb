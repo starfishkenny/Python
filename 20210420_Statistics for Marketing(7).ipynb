{
 "cells": [
  {
   "cell_type": "markdown",
   "id": "independent-slovakia",
   "metadata": {},
   "source": [
    "### 신뢰성 분석\n",
    "* 신뢰성과 타당성\n",
    "  - 신뢰성(Reliability): 측정도구의 안정성, 일관성, 예측가능성, 정확성 또는 의존가능성\n",
    "  - 타당성(Validity): 측정도구의 정확성 내지 적절성\n",
    "  - 타당성이 만족되기 위해서는 기본적으로 신뢰성이 만족되어야 하지만, 아무리 신뢰성이 높더라도 반드시 타당성이 높은 것은 아님\n",
    "* 측정오차\n",
    "  - 측정오차 = 실제값 - 측정값, 측정오차 = 체계적 오차 + 비체계적 오차\n",
    "  - 체계적 오차 = 측정과정에서 일정한 패턴을 나타내는 오차 (타당성을 결정)\n",
    "  - 비체계적 오차 = 일정한 패턴이 없는 오차 (신뢰성을 결정)\n",
    "* 신뢰성"
   ]
  },
  {
   "cell_type": "code",
   "execution_count": null,
   "id": "alone-hepatitis",
   "metadata": {},
   "outputs": [],
   "source": []
  }
 ],
 "metadata": {
  "kernelspec": {
   "display_name": "Python 3",
   "language": "python",
   "name": "python3"
  },
  "language_info": {
   "codemirror_mode": {
    "name": "ipython",
    "version": 3
   },
   "file_extension": ".py",
   "mimetype": "text/x-python",
   "name": "python",
   "nbconvert_exporter": "python",
   "pygments_lexer": "ipython3",
   "version": "3.8.8"
  }
 },
 "nbformat": 4,
 "nbformat_minor": 5
}
