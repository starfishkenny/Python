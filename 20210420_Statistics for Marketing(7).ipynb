{
 "cells": [
  {
   "cell_type": "markdown",
   "id": "independent-slovakia",
   "metadata": {},
   "source": [
    "### 신뢰성 분석\n",
    "* 신뢰성과 타당성\n",
    "  - 신뢰성(Reliability): 측정도구의 안정성, 일관성, 예측가능성, 정확성 또는 의존가능성\n",
    "  - 타당성(Validity): 측정도구의 정확성 내지 적절성\n",
    "  - 타당성이 만족되기 위해서는 기본적으로 신뢰성이 만족되어야 하지만, 아무리 신뢰성이 높더라도 반드시 타당성이 높은 것은 아님\n",
    "* 측정오차\n",
    "  - 측정오차 = 실제값 - 측정값, 측정오차 = 체계적 오차 + 비체계적 오차\n",
    "  - 체계적 오차 = 측정과정에서 일정한 패턴을 나타내는 오차 (타당성을 결정)\n",
    "  - 비체계적 오차 = 일정한 패턴이 없는 오차 (신뢰성을 결정)\n",
    "* 신뢰성: 측정대상을 반복적으로 측정했을 때 동일한 결과가 나오는 정도\n",
    "  - 신뢰성을 측정하는 방법: 반복측정(Test-Retest), 대체측정(Alternative Form), 반분측정(Split-Half), 내적일관성(Internal Consistency)\n",
    "  - 반복측정: 측정방법이 하나밖에 없는 경우 신뢰성을 평가하는 방법, 측정 대상에 대해 시간적인 간격을 두고 2회에 걸쳐 측정을 한 후 그 결과의 상관관계를 검토\n",
    "    + 단점: 시간의 간격이 신뢰성 평가에 영향을 줄 수 있음, 측정 대상에게 추가적인 조사 및 측정이 진행되므로 시간과 비용이 커짐, 피실험자들이 첫 번째 실험을 통해 이미 실험내용을 숙지했을 겨우 두 번쨰 실험결과 값에 영햐을 미치는 주시험 효과가 존재할 수 있음\n",
    "  - 대체측정(동형검사법): 대등한 두 가지의 측정 도구가 있을 경우 이들을 이용하여 동일한 측정 대상을 동시에 측정 \n",
    "    + 단점: 대등한 측정 도구나 방법을 개발하는 데 비용 및 시간이 더 많이 소요될 수 있다는 단점 존재\n",
    "  - 반분측정: 다수의 측정 항목이 존재할 경우 이를 두 개의 측정항목 그룹으로 나누고, 측정 대상 역시 두 그룹으로 나누어 측정된 결과값 사이의 상관관계를 분석\n",
    "    + 단점: 측정항목들을 두 그룹으로 분리할 만큼 충분한 개수로 개발해야 하고 이러한 여러 측정항목들이 동일한 개념을 측정한다는 측정도구의 동질성을 확보해야 함\n",
    "  - 내적일관성: 하나의 개념을 측정하기 위해 여러 개의 하위 측정항목들이 존재할 겨우 이들 측정 값 사이의 상관관계를 분석 (가장 많이 사용)\n",
    "* 신뢰성을 높이기 위해 고려해야 할 사항\n",
    "  - 측정하고자 하는 개념과 그 하위 측정항목간의 관계인 구성개념(construct)을 명확히 이해\n",
    "  - 가급적 신뢰성이 높다고 평가되었던 기존의 측정항목을 사용\n",
    "  - 측정항목의 수를 최소 3개 이상으로 늘림\n",
    "  - 내적일관성 분석을 통해 전체적인 신뢰도를 저해하는 항목은 사용하지 않음\n",
    "  - 측정자 혹은 실험자의 실험방식이나 측저환경이 일관되도록 유지\n",
    "* 타당성: 측정하고자 하는 대상 즉 구성개념(construct)를 측정항목이 제대로 혹은 올바르게 측정하고 있는지를 나타내는 정도\n",
    "  - 타당성을 통계적으로 정확히 평가할 수 있는 방법은 존재하지 않음\n",
    "  - 다만 타당성의 유형에 따라 적절한 방법으로 실제의 타당성을 유추\n",
    "  - 타당성 $\\rightarrow$ 내용타당성, 기준타당성, 구성타당성\n",
    "    + 내용타당성(content validity): 타당성의 본질적인 의미를 나타내는 타당성 유형으로써 측정 도구가 측정하고자 하는 개념의 내용이나 속성을 얼마나 정확히 측정하고 있느냐의 수준\n",
    "    + 기준타당성(criterion-related validity): 특정 측정도구의 측정 결과값을 기준으로 삼아 실제로 평가하고자 하는 개념이나 상태를 올바르게 나타낼 수 있는 정도\n",
    "      * 예측적 타당성(predictive validity): 특정 실험의 결과 값으로 예측된 기준이 추후 나타난 행위 또는 상황의 결과 값과 얼마나 연관되어 있는가를 평가\n",
    "      * 동시적 타당성(concurrent validity): 특정 실험의 결과 값으로 예측된 기준이 또 다른 현재의 행위 또는 상황의 결과 값과 얼마나 연관되어 있는가를 평가\n",
    "    + 구성타당성(construct validity): 측정하고자 하는 개념의 하위 요소들이 상위 개념을 적절히 측정하고 있는지를 나타내고 있는 정도 (이론적 연구에 있어 가장 중요시 됨)\n",
    "      * 집중타당성(convergent validity): 동일한 개념을 측정하는 다수의 측정도구 사이의 상관관계 정도 (상관관계가 높을수록 집중타당성이 높다고 판단)\n",
    "      * 판별타당성(discriminant validity): 상이한 개념을 측정하는 서로 다른 측정도구 사이의 상관관계 정도 (상관관계가 낮을수록 판별타당성이 높다고 판단)\n",
    "      * 이해타당성(nomological validity): 구성개념들간의 이론적인 혹은 논리적인 관계가 실제 측정 결과에서도 나타나고 있는지를 판단 (구성개념들간의 관계를 가설 검정하여 판단)"
   ]
  },
  {
   "cell_type": "markdown",
   "id": "weighted-mandate",
   "metadata": {},
   "source": [
    "* 내적일관성 분석\n",
    "  - 하나의 개념을 측정하기 위해 여러 개의 하위 측정항목들이 존재할 경우 이들 측정 값 사이의 상관관계를 분석하여 신뢰성을 평가하는 방법\n",
    "  - 크론바흐 알파계수 활용 (크론바흐 알파계수 $\\geq$ 0.6 $\\rightarrow$ 신뢰성이 존재, 크론바흐 알파계수 $\\geq$ 0.7 $\\rightarrow$ 신뢰성이 높음)\n",
    "  - 크론바흐 알파계수가 낮을 경우에는 측정 항목들 간의 내적일관성이 떨어지는 것을 의미하므로 다른 측정 항목들과 상관관계가 낮은 측정항목을 제거함으로써 전체적인 측정도구들의 내적일관성을 향상시킬 수 있음\n",
    "  - 하나의 개념에 대해 신뢰성과 타당성을 평가하기 위한 최소의 항목 수는 3개이므로 가급적 모든 개념의 측정 항목 수는 3개 이상으로 유지하는 것이 중요"
   ]
  },
  {
   "cell_type": "code",
   "execution_count": 1,
   "id": "virgin-tactics",
   "metadata": {},
   "outputs": [
    {
     "name": "stderr",
     "output_type": "stream",
     "text": [
      "C:\\Users\\starf\\anaconda3\\envs\\Regular\\lib\\site-packages\\outdated\\utils.py:14: OutdatedPackageWarning: The package pingouin is out of date. Your version is 0.3.10, the latest is 0.3.11.\n",
      "Set the environment variable OUTDATED_IGNORE=1 to disable these warnings.\n",
      "  return warn(\n"
     ]
    }
   ],
   "source": [
    "import pandas as pd\n",
    "import numpy as np\n",
    "import matplotlib.pyplot as plt\n",
    "import pingouin as pg"
   ]
  },
  {
   "cell_type": "code",
   "execution_count": 2,
   "id": "corrected-transmission",
   "metadata": {},
   "outputs": [
    {
     "data": {
      "text/plain": [
       "(0.8117458883194829, array([0.793, 0.83 ]))"
      ]
     },
     "execution_count": 2,
     "metadata": {},
     "output_type": "execute_result"
    }
   ],
   "source": [
    "# 내적일관성 분석 실습\n",
    "df = pd.read_csv('Ashopping.csv', sep=',', encoding='CP949')\n",
    "X = df[['친절성','신속성','책임성','정확성','전문성']]\n",
    "\n",
    "# 크론바흐 알파계수\n",
    "pg.cronbach_alpha(data=X) # [0.793,0.83]은 신뢰수준 95%의 신뢰구간 의미"
   ]
  },
  {
   "cell_type": "code",
   "execution_count": 3,
   "id": "posted-school",
   "metadata": {},
   "outputs": [
    {
     "name": "stdout",
     "output_type": "stream",
     "text": [
      "(0.7341054622297101, array([0.706, 0.76 ]))\n",
      "(0.7713180205968042, array([0.747, 0.794]))\n",
      "(0.7811976111855439, array([0.758, 0.803]))\n",
      "(0.7836410115861369, array([0.761, 0.805]))\n",
      "(0.8057989412964606, array([0.785, 0.825]))\n"
     ]
    }
   ],
   "source": [
    "# 각 변수들을 모두 사용하는 것이 적절한지 파악\n",
    "X1 = df[['친절성','신속성','책임성','정확성']]\n",
    "X2 = df[['친절성','신속성','책임성','전문성']]\n",
    "X3 = df[['친절성','신속성','정확성','전문성']]\n",
    "X4 = df[['친절성','책임성','정확성','전문성']]\n",
    "X5 = df[['신속성','책임성','정확성','전문성']]\n",
    "print(pg.cronbach_alpha(data=X1))\n",
    "print(pg.cronbach_alpha(data=X2))\n",
    "print(pg.cronbach_alpha(data=X3))\n",
    "print(pg.cronbach_alpha(data=X4))\n",
    "print(pg.cronbach_alpha(data=X5))"
   ]
  },
  {
   "cell_type": "markdown",
   "id": "chinese-regulation",
   "metadata": {},
   "source": [
    "* 5가지 변수를 모두 사용한 전체 크론바흐 알파계수와 각 변수를 제외했을 경우의 변화된 크론바흐 알파계수 값을 비교했을 때 어떠한 변수를 제거하여도 알파 값이 높아지지 않고 오히려 낮아짐\n",
    "* 그러므로 5가지 변수 모두를 사용하는 것이 가장 적절한 평가임을 알 수 있음"
   ]
  }
 ],
 "metadata": {
  "kernelspec": {
   "display_name": "Python 3",
   "language": "python",
   "name": "python3"
  },
  "language_info": {
   "codemirror_mode": {
    "name": "ipython",
    "version": 3
   },
   "file_extension": ".py",
   "mimetype": "text/x-python",
   "name": "python",
   "nbconvert_exporter": "python",
   "pygments_lexer": "ipython3",
   "version": "3.8.8"
  }
 },
 "nbformat": 4,
 "nbformat_minor": 5
}
