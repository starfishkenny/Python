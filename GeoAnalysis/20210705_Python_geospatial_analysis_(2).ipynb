{
 "cells": [
  {
   "cell_type": "code",
   "execution_count": null,
   "id": "6da49cd4",
   "metadata": {},
   "outputs": [],
   "source": [
    "# jupyter notebook (python 3.7) 사용"
   ]
  },
  {
   "cell_type": "markdown",
   "id": "e02931a8",
   "metadata": {},
   "source": [
    "### 지리공간 데이터베이스 구축\n",
    "* (PostgreSQL 및 PostGIS 설치 완료)\n",
    "#### 파이썬으로 PostgreSQL, PostGIS 작업\n",
    "* psycopg2\n",
    "  - 라이브러리 설치\n",
    "  - 연결 만들기\n",
    "  - 쿼리를 실행\n",
    "  - 결과를 읽는 방법"
   ]
  },
  {
   "cell_type": "code",
   "execution_count": null,
   "id": "649fb45e",
   "metadata": {},
   "outputs": [],
   "source": [
    "# psycopg2 설치\n",
    "!pip install psycopg2"
   ]
  },
  {
   "cell_type": "code",
   "execution_count": null,
   "id": "bd101255",
   "metadata": {},
   "outputs": [],
   "source": [
    "# 데이터베이스에 연결하고 테이블 생성\n",
    "import psycopg2\n",
    "connection = psycopg2.connect(database='pythonspatial', user='postgres',password='-')\n",
    "cursor = connection.cursor() # cursor => 데이터베이스와 통신\n",
    "\n",
    "cursor.execute(\"CREATE TABLE commercial (id SERIAL PRIMARY KEY, code VARCHAR(255), location GEOMETRY)\") # 수정 필요\n",
    "connection.commit()"
   ]
  },
  {
   "cell_type": "code",
   "execution_count": null,
   "id": "f1e57950",
   "metadata": {},
   "outputs": [],
   "source": [
    "# 데이터베이스 연결과 테이블 생성까지는 성공\n",
    "# 그러나 책에 있는 지리 데이터 url이 존재하지 않음\n",
    "# 활용할 수 있는 다른 데이터를 찾아보고 다시 시도해본다. (20210707)\n",
    "# COMPAS '세종시 주택시장 특성분석' 대회 데이터를 활용해보고자 한다."
   ]
  },
  {
   "cell_type": "code",
   "execution_count": null,
   "id": "d7921350",
   "metadata": {},
   "outputs": [],
   "source": [
    "# 데이터 불러오기 (세종 상권정보)\n",
    "import pandas as pd\n",
    "sejong_com = pd.read_csv('sejong_house/14.세종시_상권정보.csv',sep = ',')\n",
    "sejong_com.head()"
   ]
  },
  {
   "cell_type": "code",
   "execution_count": null,
   "id": "57e2bd8a",
   "metadata": {},
   "outputs": [],
   "source": [
    "sejong_com.info()"
   ]
  },
  {
   "cell_type": "code",
   "execution_count": null,
   "id": "ce06f537",
   "metadata": {},
   "outputs": [],
   "source": [
    "sejong_com['표준산업분류코드'][0]"
   ]
  },
  {
   "cell_type": "code",
   "execution_count": null,
   "id": "c3a501f9",
   "metadata": {},
   "outputs": [],
   "source": [
    "# 테이블에 데이터 추가하기 (표준산업분류명, 도로명주소, 경도, 위도)\n",
    "#for i in range(len(sejong_com)):\n",
    "#    code = sejong_com['표준산업분류명'][i]\n",
    "#    address = sejong_com['도로명주소'][i]\n",
    "#    wkt = \"POINT(\"+str(sejong_com['lon'][i])+\"  \"+str(sejong_com['lat'][i])+\")\" \n",
    "#    if sejong_com['lon'][i] == 'Nan':\n",
    "#        pass\n",
    "#    else:\n",
    "#        cursor.execute(\"INSERT INTO \")\n"
   ]
  },
  {
   "cell_type": "code",
   "execution_count": null,
   "id": "716d53aa",
   "metadata": {},
   "outputs": [],
   "source": []
  }
 ],
 "metadata": {
  "kernelspec": {
   "display_name": "Python 3",
   "language": "python",
   "name": "python3"
  },
  "language_info": {
   "codemirror_mode": {
    "name": "ipython",
    "version": 3
   },
   "file_extension": ".py",
   "mimetype": "text/x-python",
   "name": "python",
   "nbconvert_exporter": "python",
   "pygments_lexer": "ipython3",
   "version": "3.6.13"
  }
 },
 "nbformat": 4,
 "nbformat_minor": 5
}
