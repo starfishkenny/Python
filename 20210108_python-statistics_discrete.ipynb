{
 "cells": [
  {
   "cell_type": "markdown",
   "metadata": {},
   "source": [
    "## 5. 이산형 확률변수\n",
    "### - 1차원 이산형 확률변수\n",
    "### - 2차원 이산형 확률변수"
   ]
  },
  {
   "cell_type": "code",
   "execution_count": 1,
   "metadata": {},
   "outputs": [],
   "source": [
    "import numpy as np\n",
    "import matplotlib.pyplot as plt\n",
    "\n",
    "%precision 3\n",
    "%matplotlib inline"
   ]
  },
  {
   "cell_type": "markdown",
   "metadata": {},
   "source": [
    "#### 1차원 이산형 확률변수\n",
    "* 1차원 이산형 확률변수의 정의\n",
    "  - 확률질량함수(probability mass function, PMF) = 확률함수\n",
    "    +  이산 확률 변수에서 특정 값에 대한 확률을 나타내는 함수 (연속 확률 변수에서의 확률 밀도 함수와 대응)\n",
    "  - 확률변수가 취할 수 있는 값과 그 확률의 구체적인 대응 = 확률분포(probability distribution)\n",
    "  - 확률의 성질\n",
    "    + 확률은 절대적으로 0이상, 모든 확률을 더하면 1이 됨\n",
    "  - 누적분포함수(= 분포함수)\n",
    "    + 확률변수 X가 x이하가 될 때의 확률을 반환하는 함수\n",
    "  - 확률변수의 변환\n",
    "    + 확률변수 X에 2를 곱하고 3을 더한 2X+3과 같은 것\n",
    "    + 확률변수를 표준화(평균을 빼고 표준편차로 나누는 과정)할 때 중요한 연산\n",
    "    + 그렇다면 변환을 수행한 2X+3은 확률변수? 확률변수라면 확률분포는?\n",
    "      * 이 또한 확률변수(ex. 주사위)\n",
    "* 1차원 이산형 확률변수의 지표\n",
    "  - 확률변수의 평균이란 확률변수를 몇 번이나 (무제한으로) 시행하여 얻어진 실현값의 평균\n",
    "  - 기댓값 = 확률변수의 평균\n",
    "  - 확률변수의 분산 -> 데이터의 분산과 마찬가지로 산포도를 나타내는 지표\n",
    "\n",
    "#### 2차원 이산형 확률변수\n",
    "* 2차원 이산형 확률변수의 정의\n",
    "  - 결합확률분포 = 결합분포\n",
    "    + 2차원 확률분포 -> X,Y를 동시에 다룸\n",
    "    + 결합확률분포 -> 확률변수 (X,Y)의 움직임을 동시에 고려한 분포\n",
    "    + ex. X -> A주사위 눈 + B주사위 눈, Y -> A주사위 눈\n",
    "  - 2차원 확률분포의 확률 -> x,y를 인수로 취하는 함수 => 결합확률함수(joint probability function)\n",
    "  - 확률의 성질\n",
    "    + 1차원의 경우와 같음\n",
    "  - 주변확률분포\n",
    "    + 개별 확률변수에만 흥미가 있을 수도 있음\n",
    "    + ex. 확률변수 X의 확률함수를 알고 싶으면...\n",
    "    + 결합확률함수에서 Y의 영향을 제거하면 확률변수 X 움직임을 나타내는 확률변수 X의 확률함수만 남음\n",
    "    + 이와 같이 구한 것을 주변확률분포(marginal pobability distribution)(=주변분포)라 함\n",
    "* 2차원 이산형 확률변수의 지표\n",
    "  - 기댓값, 분산, 공분산, 상관계수\n",
    "  - 기댓값: 1차원의 경우와 거의 같음\n",
    "  - 분산: 1차원의 경우와 거의 같음\n",
    "  - 공분산: 2개의 확률변수 사이에 어느 정도 상관이 있는지 알 수 있음\n",
    "  - 상관계수: 데이터의 상관계수와 마찬가지로 공분산을 각각의 표준편차로 나누어서 구함"
   ]
  },
  {
   "cell_type": "code",
   "execution_count": 2,
   "metadata": {},
   "outputs": [],
   "source": [
    "x_set = np.array([1,2,3,4,5,6])"
   ]
  },
  {
   "cell_type": "code",
   "execution_count": 3,
   "metadata": {},
   "outputs": [],
   "source": [
    "# x_set에 대응하는 확률은 앞서 활용한 불공정한 주사위의 확률분포를 따른다고 가정\n",
    "def f(x):\n",
    "    if x in x_set:\n",
    "        return x/21\n",
    "    else:\n",
    "        return 0"
   ]
  },
  {
   "cell_type": "code",
   "execution_count": 4,
   "metadata": {},
   "outputs": [],
   "source": [
    "# 확률분포에 의해 확률변수 X의 동작이 결정 -> X는 x_set와 f를 요소로 하는 리스트로 구현\n",
    "X = [x_set, f]"
   ]
  },
  {
   "cell_type": "code",
   "execution_count": 5,
   "metadata": {},
   "outputs": [
    {
     "data": {
      "text/plain": [
       "{1: 0.047619047619047616,\n",
       " 2: 0.09523809523809523,\n",
       " 3: 0.14285714285714285,\n",
       " 4: 0.19047619047619047,\n",
       " 5: 0.23809523809523808,\n",
       " 6: 0.2857142857142857}"
      ]
     },
     "execution_count": 5,
     "metadata": {},
     "output_type": "execute_result"
    }
   ],
   "source": [
    "# 확률 p_k를 구함\n",
    "prob = np.array([f(x_k) for x_k in x_set])\n",
    "# x_k와 p_k의 대응을 사전식으로 표시\n",
    "dict(zip(x_set, prob))"
   ]
  },
  {
   "cell_type": "code",
   "execution_count": 6,
   "metadata": {},
   "outputs": [
    {
     "data": {
      "image/png": "[encoded data removed]",
      "text/plain": [
       "<Figure size 720x432 with 1 Axes>"
      ]
     },
     "metadata": {
      "needs_background": "light"
     },
     "output_type": "display_data"
    }
   ],
   "source": [
    "fig = plt.figure(figsize=(10,6))\n",
    "ax = fig.add_subplot(111)\n",
    "ax.bar(x_set,prob)\n",
    "ax.set_xlabel('value')\n",
    "ax.set_ylabel('probability')\n",
    "\n",
    "plt.show()"
   ]
  },
  {
   "cell_type": "code",
   "execution_count": 7,
   "metadata": {},
   "outputs": [
    {
     "data": {
      "text/plain": [
       "True"
      ]
     },
     "execution_count": 7,
     "metadata": {},
     "output_type": "execute_result"
    }
   ],
   "source": [
    "# 확률이 모두 0이상? -> np.all()로 확인\n",
    "np.all(prob>=0)"
   ]
  },
  {
   "cell_type": "code",
   "execution_count": 8,
   "metadata": {},
   "outputs": [
    {
     "data": {
      "text/plain": [
       "0.9999999999999999"
      ]
     },
     "execution_count": 8,
     "metadata": {},
     "output_type": "execute_result"
    }
   ],
   "source": [
    "# 확률의 총합이 1? -> np.sum()로 확인\n",
    "np.sum(prob)"
   ]
  },
  {
   "cell_type": "code",
   "execution_count": 9,
   "metadata": {},
   "outputs": [],
   "source": [
    "# 누적분포함수\n",
    "def F(x):\n",
    "    return np.sum([f(x_k) for x_k in x_set if x_k <= x])"
   ]
  },
  {
   "cell_type": "code",
   "execution_count": 10,
   "metadata": {},
   "outputs": [
    {
     "data": {
      "text/plain": [
       "0.2857142857142857"
      ]
     },
     "execution_count": 10,
     "metadata": {},
     "output_type": "execute_result"
    }
   ],
   "source": [
    "# 눈이 3이하가 되는 확률\n",
    "F(3)"
   ]
  },
  {
   "cell_type": "code",
   "execution_count": 11,
   "metadata": {},
   "outputs": [
    {
     "data": {
      "text/plain": [
       "{5: 0.047619047619047616,\n",
       " 7: 0.09523809523809523,\n",
       " 9: 0.14285714285714285,\n",
       " 11: 0.19047619047619047,\n",
       " 13: 0.23809523809523808,\n",
       " 15: 0.2857142857142857}"
      ]
     },
     "execution_count": 11,
     "metadata": {},
     "output_type": "execute_result"
    }
   ],
   "source": [
    "# 확률변수의 변환 Y\n",
    "y_set = np.array([2*x_k+3 for x_k in x_set])\n",
    "prob = np.array([f(x_k) for x_k in x_set])\n",
    "dict(zip(y_set,prob))"
   ]
  },
  {
   "cell_type": "code",
   "execution_count": 12,
   "metadata": {},
   "outputs": [
    {
     "data": {
      "text/plain": [
       "4.333333333333333"
      ]
     },
     "execution_count": 12,
     "metadata": {},
     "output_type": "execute_result"
    }
   ],
   "source": [
    "# 기댓값1\n",
    "np.sum([x_k * f(x_k) for x_k in x_set])"
   ]
  },
  {
   "cell_type": "code",
   "execution_count": 13,
   "metadata": {},
   "outputs": [
    {
     "data": {
      "text/plain": [
       "4.334207"
      ]
     },
     "execution_count": 13,
     "metadata": {},
     "output_type": "execute_result"
    }
   ],
   "source": [
    "# 기댓값2 -> 무제한 시행 (100만번 시행)\n",
    "sample = np.random.choice(x_set,int(1e6),p=prob)\n",
    "np.mean(sample)"
   ]
  },
  {
   "cell_type": "markdown",
   "metadata": {},
   "source": [
    "##### 이산형 확률변수의 기댓값\n",
    "\n",
    "$E(g(X)) = \\sum{g(x_k)*f(x_k)}$"
   ]
  },
  {
   "cell_type": "code",
   "execution_count": 14,
   "metadata": {},
   "outputs": [],
   "source": [
    "# 이산형 확률변수의 기댓값\n",
    "def E(X, g=lambda x: x):\n",
    "    x_set, f=X\n",
    "    return np.sum([g(x_k)*f(x_k) for x_k in x_set])"
   ]
  },
  {
   "cell_type": "code",
   "execution_count": 15,
   "metadata": {},
   "outputs": [
    {
     "data": {
      "text/plain": [
       "4.333333333333333"
      ]
     },
     "execution_count": 15,
     "metadata": {},
     "output_type": "execute_result"
    }
   ],
   "source": [
    "E(X) # g에 아무것도 지정하지 않으면 확률변수 X의 기댓값이 구해짐"
   ]
  },
  {
   "cell_type": "code",
   "execution_count": 16,
   "metadata": {},
   "outputs": [
    {
     "data": {
      "text/plain": [
       "11.666666666666664"
      ]
     },
     "execution_count": 16,
     "metadata": {},
     "output_type": "execute_result"
    }
   ],
   "source": [
    "# Y=2X+3의 기댓값\n",
    "E(X, g=lambda x: 2*x+3)"
   ]
  },
  {
   "cell_type": "markdown",
   "metadata": {},
   "source": [
    "##### 기댓값의 선형성\n",
    "\n",
    "$E(aX+b) = aE(X)+b$\n",
    "\n",
    "* 여기서 a,b를 실수, X는 확률변수"
   ]
  },
  {
   "cell_type": "code",
   "execution_count": 17,
   "metadata": {},
   "outputs": [
    {
     "data": {
      "text/plain": [
       "11.666666666666666"
      ]
     },
     "execution_count": 17,
     "metadata": {},
     "output_type": "execute_result"
    }
   ],
   "source": [
    "# E(2X+3) = 2E(X)+3 ?\n",
    "2 * E(X) +3"
   ]
  },
  {
   "cell_type": "code",
   "execution_count": 18,
   "metadata": {},
   "outputs": [
    {
     "data": {
      "text/plain": [
       "2.2222222222222223"
      ]
     },
     "execution_count": 18,
     "metadata": {},
     "output_type": "execute_result"
    }
   ],
   "source": [
    "# 불공정한 주사위의 분산\n",
    "mean = E(X)\n",
    "np.sum([(x_k-mean)**2 * f(x_k) for x_k in x_set])"
   ]
  },
  {
   "cell_type": "markdown",
   "metadata": {},
   "source": [
    "##### 이산형 확률변수의 분산\n",
    "\n",
    "$V(g(X)) = \\sum{(g(x_k) - E(g(X)))^2f(x_k)}$"
   ]
  },
  {
   "cell_type": "code",
   "execution_count": 19,
   "metadata": {},
   "outputs": [],
   "source": [
    "# 이산형 확률변수의 분산\n",
    "def V(X, g=lambda x: x):\n",
    "    x_set, f=X\n",
    "    mean = E(X,g)\n",
    "    return np.sum([(g(x_k)-mean)**2*f(x_k) for x_k in x_set])"
   ]
  },
  {
   "cell_type": "code",
   "execution_count": 20,
   "metadata": {},
   "outputs": [
    {
     "data": {
      "text/plain": [
       "2.2222222222222223"
      ]
     },
     "execution_count": 20,
     "metadata": {},
     "output_type": "execute_result"
    }
   ],
   "source": [
    "V(X) # g를 지정하지 않으면 확률변수 X의 분산을 계산"
   ]
  },
  {
   "cell_type": "code",
   "execution_count": 21,
   "metadata": {},
   "outputs": [
    {
     "data": {
      "text/plain": [
       "8.88888888888889"
      ]
     },
     "execution_count": 21,
     "metadata": {},
     "output_type": "execute_result"
    }
   ],
   "source": [
    "V(X, lambda x: 2*x+3)"
   ]
  },
  {
   "cell_type": "markdown",
   "metadata": {},
   "source": [
    "##### 분산의 공식\n",
    "$V(aX+b) = a^2V(X)$\n",
    "* 여기서 a,b를 실수, X는 확률변수"
   ]
  },
  {
   "cell_type": "code",
   "execution_count": 22,
   "metadata": {},
   "outputs": [
    {
     "data": {
      "text/plain": [
       "8.88888888888889"
      ]
     },
     "execution_count": 22,
     "metadata": {},
     "output_type": "execute_result"
    }
   ],
   "source": [
    "# V(2X+3) = 2^2V(X) ?\n",
    "2**2*V(X)"
   ]
  },
  {
   "cell_type": "code",
   "execution_count": 23,
   "metadata": {},
   "outputs": [],
   "source": [
    "# 2차원 이산형 확률변수\n",
    "# ex. X -> A주사위 눈 + B주사위 눈, Y -> A주사위 눈\n",
    "x_set = np.arange(2,13)\n",
    "y_set = np.arange(1,7)"
   ]
  },
  {
   "cell_type": "code",
   "execution_count": 24,
   "metadata": {},
   "outputs": [],
   "source": [
    "def f_XY(x,y):\n",
    "    if 1 <= y <= 6 and 1 <= x-y <= 6:\n",
    "        return y * (x-y) / 4411\n",
    "    else:\n",
    "        return 0"
   ]
  },
  {
   "cell_type": "code",
   "execution_count": 25,
   "metadata": {},
   "outputs": [],
   "source": [
    "# 확률변수 (X,Y)의 움직임은 x_set, y_set, f_xy에 의해 정의되므로 리스트로 XY라고 정의\n",
    "XY = [x_set,y_set,f_XY]"
   ]
  },
  {
   "cell_type": "code",
   "execution_count": 26,
   "metadata": {},
   "outputs": [
    {
     "data": {
      "image/png": "[encoded data removed]",
      "text/plain": [
       "<Figure size 720x576 with 2 Axes>"
      ]
     },
     "metadata": {
      "needs_background": "light"
     },
     "output_type": "display_data"
    }
   ],
   "source": [
    "# 확률분포 히트맵으로 나타내기\n",
    "prob = np.array([[f_XY(x_i,y_j) for y_j in y_set]\n",
    "                for x_i in x_set])\n",
    "\n",
    "fig = plt.figure(figsize=(10,8))\n",
    "ax = fig.add_subplot(111)\n",
    "\n",
    "c = ax.pcolor(prob)\n",
    "ax.set_xticks(np.arange(prob.shape[1]) + 0.5, minor=False)\n",
    "ax.set_yticks(np.arange(prob.shape[0]) + 0.5, minor=False)\n",
    "ax.set_xticklabels(np.arange(1,7) + 0.5, minor=False)\n",
    "ax.set_yticklabels(np.arange(2,13) + 0.5, minor=False)\n",
    "# y축을 내림차순의 숫자가 되게 하여, 위 아래 역전\n",
    "ax.invert_yaxis()\n",
    "# x축 눈금을 그래프 위쪽에 표시\n",
    "ax.xaxis.tick_top()\n",
    "fig.colorbar(c,ax=ax)\n",
    "plt.show()"
   ]
  },
  {
   "cell_type": "code",
   "execution_count": 27,
   "metadata": {},
   "outputs": [
    {
     "data": {
      "text/plain": [
       "(True, 0.09997732940376332)"
      ]
     },
     "execution_count": 27,
     "metadata": {},
     "output_type": "execute_result"
    }
   ],
   "source": [
    "# 확률의 성질 만족?\n",
    "np.all(prob >= 0), np.sum(prob)"
   ]
  },
  {
   "cell_type": "code",
   "execution_count": 28,
   "metadata": {},
   "outputs": [],
   "source": [
    "# 주변분포1\n",
    "def f_X(x):\n",
    "    return np.sum([f_XY(x,y_k) for y_k in y_set])"
   ]
  },
  {
   "cell_type": "code",
   "execution_count": 29,
   "metadata": {},
   "outputs": [],
   "source": [
    "# 주변분포2\n",
    "def f_Y(y):\n",
    "    return np.sum([f_XY(x_k,y) for x_k in x_set])"
   ]
  },
  {
   "cell_type": "code",
   "execution_count": 30,
   "metadata": {},
   "outputs": [],
   "source": [
    "# X와 Y는 각각 독립\n",
    "X = [x_set,f_X]\n",
    "Y = [y_set,f_Y]"
   ]
  },
  {
   "cell_type": "code",
   "execution_count": 31,
   "metadata": {},
   "outputs": [
    {
     "data": {
      "image/png": "[encoded data removed]",
      "text/plain": [
       "<Figure size 864x288 with 2 Axes>"
      ]
     },
     "metadata": {
      "needs_background": "light"
     },
     "output_type": "display_data"
    }
   ],
   "source": [
    "prob_x = np.array([f_X(x_k) for x_k in x_set])\n",
    "prob_y = np.array([f_Y(y_k) for y_k in y_set])\n",
    "\n",
    "fig = plt.figure(figsize=(12,4))\n",
    "ax1 = fig.add_subplot(121)\n",
    "ax2 = fig.add_subplot(122)\n",
    "\n",
    "ax1.bar(x_set,prob_x)\n",
    "ax1.set_title('X_marginal probability distribution')\n",
    "ax1.set_xlabel('X_value')\n",
    "ax1.set_ylabel('probability')\n",
    "ax1.set_xticks(x_set)\n",
    "\n",
    "ax2.bar(y_set,prob_y)\n",
    "ax2.set_title('Y_marginal probability distribution')\n",
    "ax2.set_xlabel('Y_value')\n",
    "ax2.set_ylabel('probability')\n",
    "\n",
    "plt.show()"
   ]
  },
  {
   "cell_type": "code",
   "execution_count": 32,
   "metadata": {},
   "outputs": [
    {
     "data": {
      "text/plain": [
       "0.8664701881659488"
      ]
     },
     "execution_count": 32,
     "metadata": {},
     "output_type": "execute_result"
    }
   ],
   "source": [
    "# 2차원 이산형 확률변수의 기댓값\n",
    "np.sum([x_i*f_XY(x_i,y_j) for x_i in x_set for y_j in y_set])"
   ]
  },
  {
   "cell_type": "markdown",
   "metadata": {},
   "source": [
    "##### g(X,Y)의 기댓값\n",
    "$E(g(X,Y)) = \\sum_i{\\sum_j{g(x_i,y_j)f_XY(x_i,y_j)}}$"
   ]
  },
  {
   "cell_type": "code",
   "execution_count": 33,
   "metadata": {},
   "outputs": [],
   "source": [
    "def E(XY,g):\n",
    "    x_set,y_set,f_Xy = XY\n",
    "    return np.sum([g(x_i,y_j) * f_XY(x_i,y_j)\n",
    "                  for x_i in x_set for y_j in y_set])"
   ]
  },
  {
   "cell_type": "code",
   "execution_count": 34,
   "metadata": {},
   "outputs": [
    {
     "data": {
      "text/plain": [
       "0.8664701881659488"
      ]
     },
     "execution_count": 34,
     "metadata": {},
     "output_type": "execute_result"
    }
   ],
   "source": [
    "mean_X = E(XY, lambda x,y: x)\n",
    "mean_X"
   ]
  },
  {
   "cell_type": "code",
   "execution_count": 35,
   "metadata": {},
   "outputs": [
    {
     "data": {
      "text/plain": [
       "0.4332350940829744"
      ]
     },
     "execution_count": 35,
     "metadata": {},
     "output_type": "execute_result"
    }
   ],
   "source": [
    "mean_Y = E(XY, lambda x,y: y)\n",
    "mean_Y"
   ]
  },
  {
   "cell_type": "markdown",
   "metadata": {},
   "source": [
    "##### 기댓값의 선형성\n",
    "$E(aX+bY) = aE(X) + bE(Y)$"
   ]
  },
  {
   "cell_type": "code",
   "execution_count": 36,
   "metadata": {},
   "outputs": [],
   "source": [
    "# 선형성 확인\n",
    "a,b=2,3"
   ]
  },
  {
   "cell_type": "code",
   "execution_count": 37,
   "metadata": {},
   "outputs": [
    {
     "data": {
      "text/plain": [
       "3.0326456585808206"
      ]
     },
     "execution_count": 37,
     "metadata": {},
     "output_type": "execute_result"
    }
   ],
   "source": [
    "E(XY, lambda x,y: a*x + b*y)"
   ]
  },
  {
   "cell_type": "code",
   "execution_count": 38,
   "metadata": {},
   "outputs": [
    {
     "data": {
      "text/plain": [
       "3.0326456585808206"
      ]
     },
     "execution_count": 38,
     "metadata": {},
     "output_type": "execute_result"
    }
   ],
   "source": [
    "a * mean_X + b * mean_Y"
   ]
  },
  {
   "cell_type": "code",
   "execution_count": 39,
   "metadata": {},
   "outputs": [
    {
     "data": {
      "text/plain": [
       "6.527270847997692"
      ]
     },
     "execution_count": 39,
     "metadata": {},
     "output_type": "execute_result"
    }
   ],
   "source": [
    "# 2차원 이산형 확률변수의 분산\n",
    "np.sum([(x_i - mean_X)**2 * f_XY(x_i,y_j)\n",
    "      for x_i in x_set for y_j in y_set])"
   ]
  },
  {
   "cell_type": "markdown",
   "metadata": {},
   "source": [
    "##### g(X,Y)의 분산\n",
    "$V(g(X,Y)) = \\sum_i{\\sum_j{(g(x_i,y_j) - E(g(X,Y)))^2f_XY(x_i,y_j)}}$"
   ]
  },
  {
   "cell_type": "code",
   "execution_count": 40,
   "metadata": {},
   "outputs": [],
   "source": [
    "def V(XY,g):\n",
    "    x_set,y_set,f_XY = XY\n",
    "    mean = E(XY,g)\n",
    "    return np.sum([(g(x_i,y_j)-mean)**2 * f_XY(x_i,y_j)\n",
    "                  for x_i in x_set for y_j in y_set])"
   ]
  },
  {
   "cell_type": "code",
   "execution_count": 41,
   "metadata": {},
   "outputs": [
    {
     "data": {
      "text/plain": [
       "6.527270847997692"
      ]
     },
     "execution_count": 41,
     "metadata": {},
     "output_type": "execute_result"
    }
   ],
   "source": [
    "var_X = V(XY, g=lambda x,y:x)\n",
    "var_X"
   ]
  },
  {
   "cell_type": "code",
   "execution_count": 42,
   "metadata": {},
   "outputs": [
    {
     "data": {
      "text/plain": [
       "1.74290363355916"
      ]
     },
     "execution_count": 42,
     "metadata": {},
     "output_type": "execute_result"
    }
   ],
   "source": [
    "var_Y = V(XY, g=lambda x,y:y)\n",
    "var_Y"
   ]
  },
  {
   "cell_type": "code",
   "execution_count": 43,
   "metadata": {},
   "outputs": [],
   "source": [
    "# 공분산\n",
    "def Cov(XY):\n",
    "    x_set,y_set,f_XY = XY\n",
    "    mean_X = E(XY, lambda x,y:x)\n",
    "    mean_Y = E(XY, lambda x,y:y)\n",
    "    return np.sum([(x_i-mean_X) * (y_j-mean_Y) * f_XY(x_i,y_j)\n",
    "                  for x_i in x_set for y_j in y_set])"
   ]
  },
  {
   "cell_type": "code",
   "execution_count": 44,
   "metadata": {},
   "outputs": [
    {
     "data": {
      "text/plain": [
       "3.263635423998846"
      ]
     },
     "execution_count": 44,
     "metadata": {},
     "output_type": "execute_result"
    }
   ],
   "source": [
    "cov_xy = Cov(XY)\n",
    "cov_xy"
   ]
  },
  {
   "cell_type": "markdown",
   "metadata": {},
   "source": [
    "##### 분산과 공분산의 공식\n",
    "$V(aX+bY) = a^2V(X) + b^2V(Y) + 2abCov(X,Y)$\n",
    "* 여기서 a,b를 실수, X는 확률변수"
   ]
  },
  {
   "cell_type": "code",
   "execution_count": 45,
   "metadata": {},
   "outputs": [
    {
     "data": {
      "text/plain": [
       "80.95884118200935"
      ]
     },
     "execution_count": 45,
     "metadata": {},
     "output_type": "execute_result"
    }
   ],
   "source": [
    "# V(2X+3Y) = 4V(X) + 9V(Y) + 12Cov(X,Y) ?\n",
    "V(XY, lambda x,y: a*x + b*y)"
   ]
  },
  {
   "cell_type": "code",
   "execution_count": 46,
   "metadata": {},
   "outputs": [
    {
     "data": {
      "text/plain": [
       "80.95884118200937"
      ]
     },
     "execution_count": 46,
     "metadata": {},
     "output_type": "execute_result"
    }
   ],
   "source": [
    "a**2 * var_X + b**2 * var_Y + 2*a*b*cov_xy"
   ]
  },
  {
   "cell_type": "code",
   "execution_count": 47,
   "metadata": {},
   "outputs": [
    {
     "data": {
      "text/plain": [
       "0.9676072944717294"
      ]
     },
     "execution_count": 47,
     "metadata": {},
     "output_type": "execute_result"
    }
   ],
   "source": [
    "# 상관계수\n",
    "cov_xy / np.sqrt(var_X * var_Y)"
   ]
  }
 ],
 "metadata": {
  "kernelspec": {
   "display_name": "Python 3",
   "language": "python",
   "name": "python3"
  },
  "language_info": {
   "codemirror_mode": {
    "name": "ipython",
    "version": 3
   },
   "file_extension": ".py",
   "mimetype": "text/x-python",
   "name": "python",
   "nbconvert_exporter": "python",
   "pygments_lexer": "ipython3",
   "version": "3.8.5"
  }
 },
 "nbformat": 4,
 "nbformat_minor": 4
}
