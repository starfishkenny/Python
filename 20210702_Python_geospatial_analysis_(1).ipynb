{
 "cells": [
  {
   "cell_type": "markdown",
   "id": "421f1c3a",
   "metadata": {},
   "source": [
    "### Python을 활용한 지리공간 분석"
   ]
  },
  {
   "cell_type": "code",
   "execution_count": 5,
   "id": "df527a33",
   "metadata": {},
   "outputs": [],
   "source": [
    "# jupyter notebook (python 3.8) 사용"
   ]
  },
  {
   "cell_type": "markdown",
   "id": "00431ad9",
   "metadata": {},
   "source": [
    "### 지리공간 코드 라이브러리\n",
    "#### GDAL/OGR\n",
    "* GDAL\n",
    "  - C와 C++로 쓰여짐 -> 일반적인 파이썬 패키지와 조금 다름 (conda와 Anaconda 활용하면 쉽게 사용)\n",
    "  - 래스터 데이터를 위한 라이브러리\n",
    "* OGR\n",
    "  - 벡터 포맷의 지리공간 데이터를 읽고 쓰는 데 사용\n",
    "* GDAL/OGR 설치\n",
    "  - 아나콘다/conda/pip (아나콘다로 설치)\n",
    " \n",
    "#### GEOS (Geometry Engine Open Source)\n",
    "* 지오메트리 모델, 지오메트릭 함수, 공간 구조 및 알고리즘, i/o 기능 등 제공\n",
    "  - within, contains 등 지리공간 함수, union, intersection 등 지리공간 연산, 공간 인덱싱 등 기능\n",
    "* GEOS 설치\n",
    "  - 아니콘다/conda/pip (pip로 설치)\n",
    "\n",
    "#### Shapely\n",
    "* 평면 형상의 처리와 분석을 위한 패키지\n",
    "  - shapely.geometry 모듈 내에 8가지 기본 지오메트리 타입 지원 (클래스)\n",
    "    + 포인트, 멀티포인트, 라인스트링, 멀티라인스트링, 멀티폴리곤, 폴리곤, 다원형 및 지오메트리컬렉션\n",
    "  - GEOS는 파이썬 내에서 C++ 사용 / Shapely는 순수 파이썬\n",
    "* Shapely 설치\n",
    "  - 아나콘다/conda/pip (pip로 설치)"
   ]
  },
  {
   "cell_type": "code",
   "execution_count": 4,
   "id": "f14672ac",
   "metadata": {},
   "outputs": [
    {
     "name": "stdout",
     "output_type": "stream",
     "text": [
      "Collecting geos\n",
      "  Downloading geos-0.2.3-py3-none-any.whl (400 kB)\n",
      "Collecting flask\n",
      "  Downloading Flask-2.0.1-py3-none-any.whl (94 kB)\n",
      "Collecting pillow\n",
      "  Downloading Pillow-8.3.0-cp38-cp38-win_amd64.whl (2.3 MB)\n",
      "Collecting lxml\n",
      "  Downloading lxml-4.6.3-cp38-cp38-win_amd64.whl (3.5 MB)\n",
      "Requirement already satisfied: Jinja2>=3.0 in c:\\users\\starf\\anaconda3\\envs\\geo\\lib\\site-packages (from flask->geos) (3.0.1)\n",
      "Collecting Werkzeug>=2.0\n",
      "  Downloading Werkzeug-2.0.1-py3-none-any.whl (288 kB)\n",
      "Collecting click>=7.1.2\n",
      "  Downloading click-8.0.1-py3-none-any.whl (97 kB)\n",
      "Collecting itsdangerous>=2.0\n",
      "  Downloading itsdangerous-2.0.1-py3-none-any.whl (18 kB)\n",
      "Requirement already satisfied: colorama in c:\\users\\starf\\anaconda3\\envs\\geo\\lib\\site-packages (from click>=7.1.2->flask->geos) (0.4.4)\n",
      "Requirement already satisfied: MarkupSafe>=2.0 in c:\\users\\starf\\anaconda3\\envs\\geo\\lib\\site-packages (from Jinja2>=3.0->flask->geos) (2.0.1)\n",
      "Installing collected packages: Werkzeug, itsdangerous, click, pillow, lxml, flask, geos\n",
      "Successfully installed Werkzeug-2.0.1 click-8.0.1 flask-2.0.1 geos-0.2.3 itsdangerous-2.0.1 lxml-4.6.3 pillow-8.3.0\n"
     ]
    }
   ],
   "source": [
    "# GEOS 설치\n",
    "!pip install geos"
   ]
  },
  {
   "cell_type": "code",
   "execution_count": 6,
   "id": "c4ee3462",
   "metadata": {},
   "outputs": [
    {
     "name": "stdout",
     "output_type": "stream",
     "text": [
      "Collecting shapely\n",
      "  Downloading Shapely-1.7.1-cp38-cp38-win_amd64.whl (1.0 MB)\n",
      "Installing collected packages: shapely\n",
      "Successfully installed shapely-1.7.1\n"
     ]
    }
   ],
   "source": [
    "# Shapely 설치\n",
    "!pip install shapely"
   ]
  },
  {
   "cell_type": "code",
   "execution_count": null,
   "id": "93c5775f",
   "metadata": {},
   "outputs": [],
   "source": []
  }
 ],
 "metadata": {
  "kernelspec": {
   "display_name": "Python 3",
   "language": "python",
   "name": "python3"
  },
  "language_info": {
   "codemirror_mode": {
    "name": "ipython",
    "version": 3
   },
   "file_extension": ".py",
   "mimetype": "text/x-python",
   "name": "python",
   "nbconvert_exporter": "python",
   "pygments_lexer": "ipython3",
   "version": "3.8.10"
  }
 },
 "nbformat": 4,
 "nbformat_minor": 5
}
