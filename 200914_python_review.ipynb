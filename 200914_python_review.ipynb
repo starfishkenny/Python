{
  "nbformat": 4,
  "nbformat_minor": 0,
  "metadata": {
    "colab": {
      "name": "200914_python_review",
      "provenance": [],
      "collapsed_sections": [
        "CuEtP-_lhPTQ",
        "z5Xd4ygFiIr0"
      ]
    },
    "kernelspec": {
      "name": "python3",
      "display_name": "Python 3"
    }
  },
  "cells": [
    {
      "cell_type": "markdown",
      "metadata": {
        "id": "yTKZqe96gDO-",
        "colab_type": "text"
      },
      "source": [
        "## 파이썬 기초\n",
        "* 기억장소\n",
        "    - 변수\n",
        "* 연산자\n",
        "    - 산술 연산\n",
        "    - 논리 연산\n",
        "    - 비교 연산\n",
        "* 구문\n",
        "    - 비교문\n",
        "    - 반복문\n",
        "* 함수\n",
        "* 클래스"
      ]
    },
    {
      "cell_type": "markdown",
      "metadata": {
        "id": "kpcTk-NJgu4U",
        "colab_type": "text"
      },
      "source": [
        "### 프로그램이 하는 일\n",
        "1. 기억장소에 데이터를 넣는다 (입력)\n",
        "2. 기억장소의 데이터를 (수정/조작)\n",
        "3. 기억장소의 데이터를 (판단)한다\n",
        "4. 기억장소의 데이터를 출력(표현)한다\n",
        "5. 반복 임무를 대행한다"
      ]
    },
    {
      "cell_type": "markdown",
      "metadata": {
        "id": "CuEtP-_lhPTQ",
        "colab_type": "text"
      },
      "source": [
        "### 기억장소 만들기: 변수 생성\n",
        "* 변수 명명 규칙\n",
        "    - 알파뉴메릭(A-Za-z1-9_)으로 작성\n",
        "    - 시작은 숫자가 들어갈 수 없다\n",
        "    - 띄어쓰기를 할 수 없다"
      ]
    },
    {
      "cell_type": "code",
      "metadata": {
        "id": "xMJCMz2SgbNi",
        "colab_type": "code",
        "colab": {}
      },
      "source": [
        "# 1abc=0 # 숫자로 시작 불가\n",
        "# abc 1=0 # 띄어쓰기 없음\n",
        "a1=0"
      ],
      "execution_count": null,
      "outputs": []
    },
    {
      "cell_type": "markdown",
      "metadata": {
        "id": "z5Xd4ygFiIr0",
        "colab_type": "text"
      },
      "source": [
        "### 변수특징\n",
        "* 타입 형 지정이 없음\n",
        "* 객체형 변수형태"
      ]
    },
    {
      "cell_type": "code",
      "metadata": {
        "id": "xMi6w27RiG0K",
        "colab_type": "code",
        "colab": {
          "base_uri": "https://localhost:8080/",
          "height": 34
        },
        "outputId": "bcb73fed-b7ac-4e6f-f67a-cea04a43dddb"
      },
      "source": [
        "a1=3\n",
        "print('a1 type:',type(a1))"
      ],
      "execution_count": null,
      "outputs": [
        {
          "output_type": "stream",
          "text": [
            "a1 type: <class 'int'>\n"
          ],
          "name": "stdout"
        }
      ]
    },
    {
      "cell_type": "code",
      "metadata": {
        "id": "mqWJIsHIiWD4",
        "colab_type": "code",
        "colab": {
          "base_uri": "https://localhost:8080/",
          "height": 34
        },
        "outputId": "49b0d414-229c-48d4-c805-2040060a5c4a"
      },
      "source": [
        "a2='3'\n",
        "print('a2 type:',type(a1))"
      ],
      "execution_count": null,
      "outputs": [
        {
          "output_type": "stream",
          "text": [
            "a2 type: <class 'int'>\n"
          ],
          "name": "stdout"
        }
      ]
    },
    {
      "cell_type": "code",
      "metadata": {
        "id": "OeMh417DihAc",
        "colab_type": "code",
        "colab": {
          "base_uri": "https://localhost:8080/",
          "height": 34
        },
        "outputId": "5730a02b-4bbb-4ba6-a024-8fba5a13bb84"
      },
      "source": [
        "b1=4\n",
        "print('b1 type:',type(b1))"
      ],
      "execution_count": null,
      "outputs": [
        {
          "output_type": "stream",
          "text": [
            "b1 type: <class 'int'>\n"
          ],
          "name": "stdout"
        }
      ]
    },
    {
      "cell_type": "code",
      "metadata": {
        "id": "Lo0MZXWHiy9F",
        "colab_type": "code",
        "colab": {
          "base_uri": "https://localhost:8080/",
          "height": 34
        },
        "outputId": "62d30df7-052c-4ef0-ea44-dc39b4730b02"
      },
      "source": [
        "b2='4'\n",
        "print('b2 type:',type(b2))"
      ],
      "execution_count": null,
      "outputs": [
        {
          "output_type": "stream",
          "text": [
            "b2 type: <class 'str'>\n"
          ],
          "name": "stdout"
        }
      ]
    },
    {
      "cell_type": "code",
      "metadata": {
        "id": "05C83f0di4qo",
        "colab_type": "code",
        "colab": {
          "base_uri": "https://localhost:8080/",
          "height": 34
        },
        "outputId": "51a04f28-61b3-4f04-bc20-08efa0ab842d"
      },
      "source": [
        "c1=a1+b1\n",
        "print(c1)"
      ],
      "execution_count": null,
      "outputs": [
        {
          "output_type": "stream",
          "text": [
            "7\n"
          ],
          "name": "stdout"
        }
      ]
    },
    {
      "cell_type": "code",
      "metadata": {
        "id": "EGW6f9hwjFHf",
        "colab_type": "code",
        "colab": {
          "base_uri": "https://localhost:8080/",
          "height": 34
        },
        "outputId": "366d7240-dc78-4640-820e-2cf22326ee7e"
      },
      "source": [
        "c2=a2+b2\n",
        "print(c2)"
      ],
      "execution_count": null,
      "outputs": [
        {
          "output_type": "stream",
          "text": [
            "34\n"
          ],
          "name": "stdout"
        }
      ]
    },
    {
      "cell_type": "code",
      "metadata": {
        "id": "o3Pqm0JmjHrc",
        "colab_type": "code",
        "colab": {
          "base_uri": "https://localhost:8080/",
          "height": 34
        },
        "outputId": "842aebbc-06fe-44d3-a814-253bf5e6c0eb"
      },
      "source": [
        "print(type(c2))"
      ],
      "execution_count": null,
      "outputs": [
        {
          "output_type": "stream",
          "text": [
            "<class 'str'>\n"
          ],
          "name": "stdout"
        }
      ]
    },
    {
      "cell_type": "code",
      "metadata": {
        "id": "_pLU22bwjMiZ",
        "colab_type": "code",
        "colab": {}
      },
      "source": [
        "d1 = c1+c2 # 다른 타입 간 연산 불가"
      ],
      "execution_count": null,
      "outputs": []
    },
    {
      "cell_type": "code",
      "metadata": {
        "id": "SGuVbgiHjUaJ",
        "colab_type": "code",
        "colab": {
          "base_uri": "https://localhost:8080/",
          "height": 34
        },
        "outputId": "794748d1-1bcf-4aba-c76b-74bdb96300fe"
      },
      "source": [
        "a1=3.7\n",
        "b1=4\n",
        "c=a1+b1\n",
        "print(type(c),'=',type(a1),'+',type(b1))"
      ],
      "execution_count": null,
      "outputs": [
        {
          "output_type": "stream",
          "text": [
            "<class 'float'> = <class 'float'> + <class 'int'>\n"
          ],
          "name": "stdout"
        }
      ]
    },
    {
      "cell_type": "markdown",
      "metadata": {
        "id": "rkBWoow-j6Pt",
        "colab_type": "text"
      },
      "source": [
        "### 데이터 형\n",
        "* 단순형\n",
        "    * int\n",
        "    * float\n",
        "    * str\n",
        "* 배열형\n",
        "    * 리스트 [ ] : ar[ ] # index, a = [ ] # 리스트 앞에 문자없음\n",
        "    * 튜플 ( ): ar( ) # 함수 a= ( ) # 튜플\n",
        "    * 딕서녀리 { }: {키:밸류} # { } 내부에 키 밸류 값으로 존재"
      ]
    },
    {
      "cell_type": "code",
      "metadata": {
        "id": "ag2-4rQfjptU",
        "colab_type": "code",
        "colab": {
          "base_uri": "https://localhost:8080/",
          "height": 153
        },
        "outputId": "0e7cc7b4-32c0-47e7-e154-53a3e7e0eb02"
      },
      "source": [
        "# 리스트형\n",
        "ar = [1,2,3.2,'4',[5.1,6.2,'7,3']]\n",
        "print(ar, type(ar))\n",
        "print('ar의 2번째 요소 (인덱스는 0부터 시작):', ar[1])\n",
        "ar[1]='2번째요소'\n",
        "print('ar의 2번째 요소 (인덱스는 0부터 시작):', ar[1])\n",
        "\n",
        "# 요소별 출력\n",
        "i=0\n",
        "for a in ar:\n",
        "    print(i,'번째 요소:',a)\n",
        "    i+=1"
      ],
      "execution_count": null,
      "outputs": [
        {
          "output_type": "stream",
          "text": [
            "[1, 2, 3.2, '4', [5.1, 6.2, '7,3']] <class 'list'>\n",
            "ar의 2번째 요소 (인덱스는 0부터 시작): 2\n",
            "ar의 2번째 요소 (인덱스는 0부터 시작): 2번째요소\n",
            "0 번째 요소: 1\n",
            "1 번째 요소: 2번째요소\n",
            "2 번째 요소: 3.2\n",
            "3 번째 요소: 4\n",
            "4 번째 요소: [5.1, 6.2, '7,3']\n"
          ],
          "name": "stdout"
        }
      ]
    },
    {
      "cell_type": "code",
      "metadata": {
        "id": "iK-CGpS2qyns",
        "colab_type": "code",
        "colab": {
          "base_uri": "https://localhost:8080/",
          "height": 153
        },
        "outputId": "ab80725f-2568-44d4-ed74-71c84a368f23"
      },
      "source": [
        "# 튜플형\n",
        "tr = (1,2,3.2,'4',[5.1,6.2,'7,3'])\n",
        "print(tr, type(tr))\n",
        "print('tr의 2번째 요소 (인덱스는 0부터 시작):', tr[1])\n",
        "# tr[1]='2번째요소' # 튜플은 요소 수정 불가!\n",
        "print('tr의 2번째 요소 (인덱스는 0부터 시작):', tr[1])\n",
        "\n",
        "# 요소별 출력\n",
        "i=0\n",
        "for a in tr:\n",
        "    print(i,'번째 요소:',a)\n",
        "    i+=1"
      ],
      "execution_count": null,
      "outputs": [
        {
          "output_type": "stream",
          "text": [
            "(1, 2, 3.2, '4', [5.1, 6.2, '7,3']) <class 'tuple'>\n",
            "tr의 2번째 요소 (인덱스는 0부터 시작): 2\n",
            "tr의 2번째 요소 (인덱스는 0부터 시작): 2\n",
            "0 번째 요소: 1\n",
            "1 번째 요소: 2\n",
            "2 번째 요소: 3.2\n",
            "3 번째 요소: 4\n",
            "4 번째 요소: [5.1, 6.2, '7,3']\n"
          ],
          "name": "stdout"
        }
      ]
    },
    {
      "cell_type": "code",
      "metadata": {
        "id": "3VXxT1TkrX2m",
        "colab_type": "code",
        "colab": {
          "base_uri": "https://localhost:8080/",
          "height": 136
        },
        "outputId": "8dca87df-4a13-483c-b4ca-81791108aef9"
      },
      "source": [
        "# 딕서녀리형\n",
        "dr = {1:2,2:'3.2','3.3':[5.1,6.2,'7,3']}\n",
        "print(dr, type(dr))\n",
        "print('dr의 인덱스 1인 요소 (인덱스는 키값):', dr[1])\n",
        "print('dr의 인덱스\"3\":',dr['3.3'])\n",
        "dr[1]='2번째요소' # 키를 참조해서 밸류값 수정가능\n",
        "print(dr)\n",
        "\n",
        "# 요소별 출력\n",
        "i=0\n",
        "for a in dr:\n",
        "    print(i,'번째 요소:',a,'=>',dr[a])\n",
        "    i+=1"
      ],
      "execution_count": null,
      "outputs": [
        {
          "output_type": "stream",
          "text": [
            "{1: 2, 2: '3.2', '3.3': [5.1, 6.2, '7,3']} <class 'dict'>\n",
            "dr의 인덱스 1인 요소 (인덱스는 키값): 2\n",
            "dr의 인덱스\"3\": [5.1, 6.2, '7,3']\n",
            "{1: '2번째요소', 2: '3.2', '3.3': [5.1, 6.2, '7,3']}\n",
            "0 번째 요소: 1 => 2번째요소\n",
            "1 번째 요소: 2 => 3.2\n",
            "2 번째 요소: 3.3 => [5.1, 6.2, '7,3']\n"
          ],
          "name": "stdout"
        }
      ]
    },
    {
      "cell_type": "markdown",
      "metadata": {
        "id": "xzAzt6DByhMt",
        "colab_type": "text"
      },
      "source": [
        "### 연산자\n",
        "* 산술연산(6): + - * / % //\n",
        "* 비교연산(6): > < >= <= == !=\n"
      ]
    },
    {
      "cell_type": "code",
      "metadata": {
        "id": "74Ih3OJXslxf",
        "colab_type": "code",
        "colab": {
          "base_uri": "https://localhost:8080/",
          "height": 51
        },
        "outputId": "92f6c83b-ca21-44b4-ef7b-d5d18d49c8a4"
      },
      "source": [
        "a1=5\n",
        "b1=3\n",
        "print('몫연산자:',a1//b1)\n",
        "print('나머지연산자:',a1%b1)"
      ],
      "execution_count": null,
      "outputs": [
        {
          "output_type": "stream",
          "text": [
            "몫연산자: 1\n",
            "나머지연산자: 2\n"
          ],
          "name": "stdout"
        }
      ]
    },
    {
      "cell_type": "code",
      "metadata": {
        "id": "tmcAhlO3y5p8",
        "colab_type": "code",
        "colab": {
          "base_uri": "https://localhost:8080/",
          "height": 34
        },
        "outputId": "5834461a-eeb9-4345-bf78-e82f04bc5595"
      },
      "source": [
        "print(a1>b1)"
      ],
      "execution_count": null,
      "outputs": [
        {
          "output_type": "stream",
          "text": [
            "True\n"
          ],
          "name": "stdout"
        }
      ]
    },
    {
      "cell_type": "markdown",
      "metadata": {
        "id": "XbF0o1nC1NT3",
        "colab_type": "text"
      },
      "source": [
        "### 판단문 if\n",
        "* if(조건식):\n",
        "        참일 때 실행\n",
        "        else:\n",
        "        거짓일 때 실행"
      ]
    },
    {
      "cell_type": "code",
      "metadata": {
        "id": "eF9uBThs1LkG",
        "colab_type": "code",
        "colab": {
          "base_uri": "https://localhost:8080/",
          "height": 34
        },
        "outputId": "b5b211d4-6529-42d5-afc9-076f0adc0765"
      },
      "source": [
        "if(a1>b1):\n",
        "    print(a1,'은 ',b1,' 보다 큽니다.')\n",
        "else:\n",
        "    print(a1,'은 ',b1,'보다 크지 않습니다.')"
      ],
      "execution_count": null,
      "outputs": [
        {
          "output_type": "stream",
          "text": [
            "5 은  3  보다 큽니다.\n"
          ],
          "name": "stdout"
        }
      ]
    },
    {
      "cell_type": "markdown",
      "metadata": {
        "id": "DSuu3oax1yoi",
        "colab_type": "text"
      },
      "source": [
        "### 반복문 for\n",
        "for 요소 in 배열:"
      ]
    },
    {
      "cell_type": "markdown",
      "metadata": {
        "id": "ocJcAx6U2X3O",
        "colab_type": "text"
      },
      "source": [
        "### 반복문 while -> 무한루프에 조심\n",
        "while(조건식):\n",
        "        조건이 참인 경우 실행"
      ]
    },
    {
      "cell_type": "markdown",
      "metadata": {
        "id": "lY1GhSCQ2DFT",
        "colab_type": "text"
      },
      "source": [
        "### 이스케이프 문자열\n",
        "* \\t :  탭\n",
        "* \\n : 한 줄 내리기\n",
        "* \\\\ : 역슬래쉬 표시"
      ]
    },
    {
      "cell_type": "code",
      "metadata": {
        "id": "z7R2V9xf1vdy",
        "colab_type": "code",
        "colab": {
          "base_uri": "https://localhost:8080/",
          "height": 51
        },
        "outputId": "df290181-02af-4156-ec98-1dbf56b6ee6d"
      },
      "source": [
        "print('안녕하세요 \\t 여러분 \\n 반갑습니다. \\\\ \\\\')"
      ],
      "execution_count": null,
      "outputs": [
        {
          "output_type": "stream",
          "text": [
            "안녕하세요 \t 여러분 \n",
            " 반갑습니다. \\ \\\n"
          ],
          "name": "stdout"
        }
      ]
    },
    {
      "cell_type": "markdown",
      "metadata": {
        "id": "JrtmouKJ2v4J",
        "colab_type": "text"
      },
      "source": [
        "### 구구단 표 만들기\n",
        "* 3으로 나뉘어지는 수옆에 * 표시\n",
        "* 4로 나뉘어지는 수 옆에 _ 표시"
      ]
    },
    {
      "cell_type": "code",
      "metadata": {
        "id": "z5LCwlzk3Bnq",
        "colab_type": "code",
        "colab": {}
      },
      "source": [
        "for a in range(2, 10):\n",
        "    for b in range(1, 10):\n",
        "        if (a*b)%3 == 0:\n",
        "            print(a, \"X\", b, \"=\", a*b, '*')\n",
        "        elif (a*b)%4 == 0:\n",
        "            print(a, \"X\", b, \"=\", a*b, '_')\n",
        "        else:\n",
        "            print(a, \"X\", b, \"=\", a*b)"
      ],
      "execution_count": null,
      "outputs": []
    },
    {
      "cell_type": "code",
      "metadata": {
        "id": "LLm63BnX3Vb1",
        "colab_type": "code",
        "colab": {
          "base_uri": "https://localhost:8080/",
          "height": 340
        },
        "outputId": "8c3ed84a-0783-491f-bef2-57ba0a4d9c0a"
      },
      "source": [
        "# 선생님 답안\n",
        "\n",
        "for i in range(1,10):\n",
        "    print('\\n')\n",
        "    for j in range(1,10):\n",
        "        c = i*j\n",
        "        if c%3==0:\n",
        "            print(c,'*',end='\\t')\n",
        "        elif c%4==0:\n",
        "            print(c,'_',end='\\t')\n",
        "        else:\n",
        "            print(c, end='\\t')"
      ],
      "execution_count": null,
      "outputs": [
        {
          "output_type": "stream",
          "text": [
            "\n",
            "\n",
            "1\t2\t3 *\t4 _\t5\t6 *\t7\t8 _\t9 *\t\n",
            "\n",
            "2\t4 _\t6 *\t8 _\t10\t12 *\t14\t16 _\t18 *\t\n",
            "\n",
            "3 *\t6 *\t9 *\t12 *\t15 *\t18 *\t21 *\t24 *\t27 *\t\n",
            "\n",
            "4 _\t8 _\t12 *\t16 _\t20 _\t24 *\t28 _\t32 _\t36 *\t\n",
            "\n",
            "5\t10\t15 *\t20 _\t25\t30 *\t35\t40 _\t45 *\t\n",
            "\n",
            "6 *\t12 *\t18 *\t24 *\t30 *\t36 *\t42 *\t48 *\t54 *\t\n",
            "\n",
            "7\t14\t21 *\t28 _\t35\t42 *\t49\t56 _\t63 *\t\n",
            "\n",
            "8 _\t16 _\t24 *\t32 _\t40 _\t48 *\t56 _\t64 _\t72 *\t\n",
            "\n",
            "9 *\t18 *\t27 *\t36 *\t45 *\t54 *\t63 *\t72 *\t81 *\t"
          ],
          "name": "stdout"
        }
      ]
    },
    {
      "cell_type": "markdown",
      "metadata": {
        "id": "R6-puZJIJ4jV",
        "colab_type": "text"
      },
      "source": [
        "### 함수\n",
        "* 선언부 def 함수명():\n",
        "* 실행부 함수명()"
      ]
    },
    {
      "cell_type": "code",
      "metadata": {
        "id": "gSVE8TSE5jXX",
        "colab_type": "code",
        "colab": {
          "base_uri": "https://localhost:8080/",
          "height": 34
        },
        "outputId": "2788da30-8af2-4106-9431-bc0337877f80"
      },
      "source": [
        "# 함수 정의하기 (a,b 매개변수를 활용)\n",
        "# 매개변수의 합을 반환\n",
        "def mAdd(a,b):\n",
        "    # 함수 실행부\n",
        "    c=a+b\n",
        "    # 매개변수의 합을 반환\n",
        "    return c\n",
        "\n",
        "mAdd(3,4)"
      ],
      "execution_count": null,
      "outputs": [
        {
          "output_type": "execute_result",
          "data": {
            "text/plain": [
              "7"
            ]
          },
          "metadata": {
            "tags": []
          },
          "execution_count": 1
        }
      ]
    },
    {
      "cell_type": "code",
      "metadata": {
        "id": "4ozMcdLyKM2d",
        "colab_type": "code",
        "colab": {
          "base_uri": "https://localhost:8080/",
          "height": 35
        },
        "outputId": "2b34247f-7113-48c9-ea58-99edad2bcf76"
      },
      "source": [
        "#주민등록번호에서 생일 부분만 추출\n",
        "temp='940318-1074413'\n",
        "temp[0:6]"
      ],
      "execution_count": null,
      "outputs": [
        {
          "output_type": "execute_result",
          "data": {
            "application/vnd.google.colaboratory.intrinsic+json": {
              "type": "string"
            },
            "text/plain": [
              "'940318'"
            ]
          },
          "metadata": {
            "tags": []
          },
          "execution_count": 1
        }
      ]
    },
    {
      "cell_type": "code",
      "metadata": {
        "id": "F5dgrO0eSwv-",
        "colab_type": "code",
        "colab": {
          "base_uri": "https://localhost:8080/",
          "height": 34
        },
        "outputId": "6a0d6c8a-00f8-445f-8d8d-9bc919e00de3"
      },
      "source": [
        "rnn=\"910625-1005822\"\n",
        "yymmdd=rnn[:6]\n",
        "num=rnn[7:]\n",
        "print(yymmdd,num)"
      ],
      "execution_count": null,
      "outputs": [
        {
          "output_type": "stream",
          "text": [
            "910625 1005822\n"
          ],
          "name": "stdout"
        }
      ]
    },
    {
      "cell_type": "code",
      "metadata": {
        "id": "y_NwaZaPS3uB",
        "colab_type": "code",
        "colab": {
          "base_uri": "https://localhost:8080/",
          "height": 34
        },
        "outputId": "d4b050db-b0ce-4f3c-f6d3-71682ba16d02"
      },
      "source": [
        "a='20010331Rainy'\n",
        "date=a[:8]\n",
        "weather=a[8:]\n",
        "print(date, weather)"
      ],
      "execution_count": null,
      "outputs": [
        {
          "output_type": "stream",
          "text": [
            "20010331 Rainy\n"
          ],
          "name": "stdout"
        }
      ]
    },
    {
      "cell_type": "code",
      "metadata": {
        "id": "XHfcVirKTJWX",
        "colab_type": "code",
        "colab": {
          "base_uri": "https://localhost:8080/",
          "height": 34
        },
        "outputId": "b27fa406-418f-47fe-a025-e6a9ee10a44f"
      },
      "source": [
        "b='Pithon'\n",
        "new=b[:1]+'y'+b[2:]\n",
        "print(new)"
      ],
      "execution_count": null,
      "outputs": [
        {
          "output_type": "stream",
          "text": [
            "Python\n"
          ],
          "name": "stdout"
        }
      ]
    },
    {
      "cell_type": "code",
      "metadata": {
        "id": "xJn8f1IKTWfY",
        "colab_type": "code",
        "colab": {
          "base_uri": "https://localhost:8080/",
          "height": 52
        },
        "outputId": "9a814c68-3afc-47b4-bbc5-7a7b25009054"
      },
      "source": [
        "c=[1,2,['a','b',['Life','is']]]\n",
        "print(c)\n",
        "\n",
        "#리스트안에 리스트안에 리스트\n",
        "c[2][2][0]"
      ],
      "execution_count": null,
      "outputs": [
        {
          "output_type": "stream",
          "text": [
            "[1, 2, ['a', 'b', ['Life', 'is']]]\n"
          ],
          "name": "stdout"
        },
        {
          "output_type": "execute_result",
          "data": {
            "application/vnd.google.colaboratory.intrinsic+json": {
              "type": "string"
            },
            "text/plain": [
              "'Life'"
            ]
          },
          "metadata": {
            "tags": []
          },
          "execution_count": 12
        }
      ]
    },
    {
      "cell_type": "markdown",
      "metadata": {
        "id": "sjBg5_i5Z-J9",
        "colab_type": "text"
      },
      "source": [
        "### 함수 정의"
      ]
    },
    {
      "cell_type": "code",
      "metadata": {
        "id": "qoQgs0cnYl68",
        "colab_type": "code",
        "colab": {}
      },
      "source": [
        "# 평균 구하는 함수 정의\n",
        "def avg(kor,eng,math):\n",
        "    return (kor+eng+math)/3"
      ],
      "execution_count": null,
      "outputs": []
    },
    {
      "cell_type": "code",
      "metadata": {
        "id": "B1KE83-0ZN_h",
        "colab_type": "code",
        "colab": {
          "base_uri": "https://localhost:8080/",
          "height": 34
        },
        "outputId": "fb59831a-3cff-432b-9852-0c99d7206764"
      },
      "source": [
        "avg(80,75,55)"
      ],
      "execution_count": null,
      "outputs": [
        {
          "output_type": "execute_result",
          "data": {
            "text/plain": [
              "70.0"
            ]
          },
          "metadata": {
            "tags": []
          },
          "execution_count": 14
        }
      ]
    },
    {
      "cell_type": "code",
      "metadata": {
        "id": "SZ8HOnZWYsgj",
        "colab_type": "code",
        "colab": {}
      },
      "source": [
        "# for문으로 짝/홀 판별\n",
        "val=[1,4,7,132]\n",
        "for i in val:\n",
        "    if(i%2==0):\n",
        "        print('i={}는 짝수'.format(i))\n",
        "    else:\n",
        "        print('i={}는 홀수'.format(i))"
      ],
      "execution_count": null,
      "outputs": []
    },
    {
      "cell_type": "markdown",
      "metadata": {
        "id": "iJftdg76Y8cZ",
        "colab_type": "text"
      },
      "source": [
        "## 함수def 구조\n",
        "- def 함수형(인자1,인자2,...인자n):\n",
        "    - 코드\n",
        "    - return 반환값"
      ]
    },
    {
      "cell_type": "code",
      "metadata": {
        "id": "Q9lbaUlyYsj1",
        "colab_type": "code",
        "colab": {}
      },
      "source": [
        "#인자도 반환값도 없는 함수\n",
        "def my_func():\n",
        "    print(\"my first fun\")\n",
        "    print(\"my first fun\")"
      ],
      "execution_count": null,
      "outputs": []
    },
    {
      "cell_type": "code",
      "metadata": {
        "id": "LymvfXLxZSx7",
        "colab_type": "code",
        "colab": {
          "base_uri": "https://localhost:8080/",
          "height": 51
        },
        "outputId": "76c7c91d-f517-4432-a26d-267ddccab689"
      },
      "source": [
        "my_func()"
      ],
      "execution_count": null,
      "outputs": [
        {
          "output_type": "stream",
          "text": [
            "my first fun\n",
            "my first fun\n"
          ],
          "name": "stdout"
        }
      ]
    },
    {
      "cell_type": "code",
      "metadata": {
        "id": "hmtUT8VjZTEE",
        "colab_type": "code",
        "colab": {}
      },
      "source": [
        "#인자는 있으나 반환값이 없는 함수\n",
        "def my_friend(name):\n",
        "    print(\"{}는 나의 친구\".format(name))"
      ],
      "execution_count": null,
      "outputs": []
    },
    {
      "cell_type": "code",
      "metadata": {
        "id": "I7C_piJfZzS5",
        "colab_type": "code",
        "colab": {
          "base_uri": "https://localhost:8080/",
          "height": 34
        },
        "outputId": "aaa8dc86-beeb-4a39-fff8-dd11a849d06c"
      },
      "source": [
        "my_friend(\"홍길동\")"
      ],
      "execution_count": null,
      "outputs": [
        {
          "output_type": "stream",
          "text": [
            "홍길동는 나의 친구\n"
          ],
          "name": "stdout"
        }
      ]
    },
    {
      "cell_type": "code",
      "metadata": {
        "id": "41iOkU6sZz2a",
        "colab_type": "code",
        "colab": {
          "base_uri": "https://localhost:8080/",
          "height": 34
        },
        "outputId": "06af846d-ece6-44c6-9a10-ad3ef67aac0e"
      },
      "source": [
        "aa=\"홍길동\"\n",
        "my_friend(aa)"
      ],
      "execution_count": null,
      "outputs": [
        {
          "output_type": "stream",
          "text": [
            "홍길동는 나의 친구\n"
          ],
          "name": "stdout"
        }
      ]
    },
    {
      "cell_type": "code",
      "metadata": {
        "id": "JQSmzmP8Z31d",
        "colab_type": "code",
        "colab": {}
      },
      "source": [
        "def my_info(name,id,number):\n",
        "    print(\"이름=\",name)\n",
        "    print(\"id=\",id)\n",
        "    print(\"number=\",number)"
      ],
      "execution_count": null,
      "outputs": []
    },
    {
      "cell_type": "code",
      "metadata": {
        "id": "endO1kVLaFOM",
        "colab_type": "code",
        "colab": {
          "base_uri": "https://localhost:8080/",
          "height": 68
        },
        "outputId": "7743f51a-4454-45e5-8b9a-4829de7a5b83"
      },
      "source": [
        "my_info(\"길동\",123,\"010-353\")"
      ],
      "execution_count": null,
      "outputs": [
        {
          "output_type": "stream",
          "text": [
            "이름= 길동\n",
            "id= 123\n",
            "number= 010-353\n"
          ],
          "name": "stdout"
        }
      ]
    },
    {
      "cell_type": "code",
      "metadata": {
        "id": "HEasZc0aaFuK",
        "colab_type": "code",
        "colab": {}
      },
      "source": [
        "#인자도 있고 반환값도 있는 함수\n",
        "def my_calc(x,y):\n",
        "    z=x*y\n",
        "    return z"
      ],
      "execution_count": null,
      "outputs": []
    },
    {
      "cell_type": "code",
      "metadata": {
        "id": "eoat-SqwaFsm",
        "colab_type": "code",
        "colab": {
          "base_uri": "https://localhost:8080/",
          "height": 34
        },
        "outputId": "7808fe31-e0a5-4eec-8fdd-519ac18e7f55"
      },
      "source": [
        "my_calc(3,5)"
      ],
      "execution_count": null,
      "outputs": [
        {
          "output_type": "execute_result",
          "data": {
            "text/plain": [
              "15"
            ]
          },
          "metadata": {
            "tags": []
          },
          "execution_count": 24
        }
      ]
    },
    {
      "cell_type": "code",
      "metadata": {
        "id": "7EPCAz-caFq5",
        "colab_type": "code",
        "colab": {
          "base_uri": "https://localhost:8080/",
          "height": 34
        },
        "outputId": "969dcf2e-994b-440b-b8b0-ae15b6ef022e"
      },
      "source": [
        "res=my_calc(4,10)\n",
        "res"
      ],
      "execution_count": null,
      "outputs": [
        {
          "output_type": "execute_result",
          "data": {
            "text/plain": [
              "40"
            ]
          },
          "metadata": {
            "tags": []
          },
          "execution_count": 25
        }
      ]
    },
    {
      "cell_type": "code",
      "metadata": {
        "id": "PevRd1i-aFob",
        "colab_type": "code",
        "colab": {}
      },
      "source": [
        "#*args 처럼 *를 붙이면 입력 값을 모두 모아 튜플로 만들어준다.\n",
        "def sum_many(*args):\n",
        "    sum=0\n",
        "    for i in args:\n",
        "        sum=sum+i\n",
        "    return sum"
      ],
      "execution_count": null,
      "outputs": []
    },
    {
      "cell_type": "code",
      "metadata": {
        "id": "IOCJ4xwSaFmf",
        "colab_type": "code",
        "colab": {
          "base_uri": "https://localhost:8080/",
          "height": 34
        },
        "outputId": "eeb0abea-94b4-4702-f6be-852988da2383"
      },
      "source": [
        "sum_many(1,2,3)"
      ],
      "execution_count": null,
      "outputs": [
        {
          "output_type": "execute_result",
          "data": {
            "text/plain": [
              "6"
            ]
          },
          "metadata": {
            "tags": []
          },
          "execution_count": 27
        }
      ]
    },
    {
      "cell_type": "code",
      "metadata": {
        "id": "dz3dte1NaFj2",
        "colab_type": "code",
        "colab": {}
      },
      "source": [
        "def sum_many(*aa):\n",
        "    sum=0\n",
        "    for i in aa:\n",
        "        sum=sum+i\n",
        "    return sum"
      ],
      "execution_count": null,
      "outputs": []
    },
    {
      "cell_type": "code",
      "metadata": {
        "id": "Q1ldRmOXa6Wn",
        "colab_type": "code",
        "colab": {
          "base_uri": "https://localhost:8080/",
          "height": 34
        },
        "outputId": "8672ce2a-4332-4e26-85fb-ee7ea5f4b10d"
      },
      "source": [
        "sum_many(1,2,3)"
      ],
      "execution_count": null,
      "outputs": [
        {
          "output_type": "execute_result",
          "data": {
            "text/plain": [
              "6"
            ]
          },
          "metadata": {
            "tags": []
          },
          "execution_count": 29
        }
      ]
    },
    {
      "cell_type": "code",
      "metadata": {
        "id": "765Ggbtsa9pT",
        "colab_type": "code",
        "colab": {}
      },
      "source": [
        ""
      ],
      "execution_count": null,
      "outputs": []
    }
  ]
}