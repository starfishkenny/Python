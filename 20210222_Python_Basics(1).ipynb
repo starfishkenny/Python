{
 "cells": [
  {
   "cell_type": "markdown",
   "metadata": {},
   "source": [
    "# 파이썬 COS Pro 1급 준비\n",
    "* 교재: 최적합 COS PRO 2급 Python (장대경, 성안당) / 파이썬 알고리즘 인터뷰 (박상길, 책만)\n",
    "* 시험일: 2021년 3월 21일 (Sun) 목표"
   ]
  },
  {
   "cell_type": "markdown",
   "metadata": {},
   "source": [
    "## 최적합 COS PRO 2급 Python\n",
    "* 파이썬 필수 문법 정리\n",
    "  - 연산자들\n",
    "  - List 사용하기\n",
    "  - 함수\n",
    "* 심화학습\n",
    "  - 모듈 (Import Module)\n",
    "  - 클래스 (Class)\n",
    "* 문제 해결 능력\n",
    "  - COS Pro 출제 형식의 이해\n",
    "  - 기출 문제 따라하기\n",
    "* 모의고사\n",
    "  - 모의고사 1/2/3/4/5회"
   ]
  },
  {
   "cell_type": "markdown",
   "metadata": {},
   "source": [
    "### 파이썬 필수 문법 정리"
   ]
  },
  {
   "cell_type": "code",
   "execution_count": 2,
   "metadata": {},
   "outputs": [
    {
     "name": "stdout",
     "output_type": "stream",
     "text": [
      "<class 'str'>\n",
      "<class 'str'>\n",
      "<class 'int'>\n",
      "<class 'float'>\n"
     ]
    }
   ],
   "source": [
    "# 파이썬에서는 자료형을 의미하는 예약어를 사용하지는 않으나 실행 시 자료형을 자동으로 구분함 => 동적 타입(바인딩)\n",
    "## type()을 통해 확인 가능\n",
    "print(type('1')) \n",
    "print(type(\"1\")) # 문자열\n",
    "print(type(10)) # 정수\n",
    "print(type(10.0)) # 실수 (소수점이 있는 값)"
   ]
  },
  {
   "cell_type": "markdown",
   "metadata": {},
   "source": [
    "#### 1.1 산술연산자"
   ]
  },
  {
   "cell_type": "code",
   "execution_count": 3,
   "metadata": {},
   "outputs": [],
   "source": [
    "# 증감연산\n",
    "## 파이썬에서는 증감연산자를 지원하지 않음\n",
    "### 덧셈(+), 뺄셈(-) 연산과 대입 연산(=)을 사용하여 표현\n",
    "num = 0\n",
    "num = num+1 # 현재 num의 값 0과 1을 더한 결과를 num에 저장\n",
    "num +=1 # 위와 동일\n",
    "num = num-1 # 현재 num의 값과 1을 뺄셈한 결과를 num에 저장\n",
    "num -=1 # 위와 동일"
   ]
  },
  {
   "cell_type": "markdown",
   "metadata": {},
   "source": [
    "* +=, -= $\\rightarrow$ 복합대입(산술연산 + 대입연산)\n",
    "* 반드시 변수에 값을 저장(대입)한 후 사용되어야 함"
   ]
  },
  {
   "cell_type": "code",
   "execution_count": 4,
   "metadata": {},
   "outputs": [
    {
     "name": "stdout",
     "output_type": "stream",
     "text": [
      "<class 'int'> <class 'int'>\n",
      "<class 'float'>\n"
     ]
    }
   ],
   "source": [
    "# 나누기의 결과는 실수 (float)\n",
    "num1 = 10\n",
    "num2 = 2\n",
    "print(type(num1), type(num2))\n",
    "lf = num / num2\n",
    "print(type(lf))"
   ]
  },
  {
   "cell_type": "code",
   "execution_count": 5,
   "metadata": {},
   "outputs": [
    {
     "name": "stdout",
     "output_type": "stream",
     "text": [
      "10 <class 'int'>\n",
      "10.71 <class 'float'>\n"
     ]
    }
   ],
   "source": [
    "# 나눗셈의 결과를 정수로 처리하고자 하는 경우 int() 함수를 사용하거나 정수 나눗셈인 //을 사용\n",
    "## 소수점 이하는 버려짐\n",
    "lf = 1071 / 100\n",
    "num = int(lf)\n",
    "print(num, type(num))\n",
    "print(lf, type(lf))"
   ]
  },
  {
   "cell_type": "code",
   "execution_count": 6,
   "metadata": {},
   "outputs": [
    {
     "name": "stdout",
     "output_type": "stream",
     "text": [
      "5.75 <class 'float'>\n",
      "5 <class 'int'>\n",
      "5 <class 'int'>\n"
     ]
    }
   ],
   "source": [
    "a,b = 23,4 # 대입 연산은 여러 개의 변수를 동시적으로 처리할 수 있음\n",
    "c = a/b\n",
    "print(c, type(c))\n",
    "d = int(a/b)\n",
    "print(d, type(d))\n",
    "e = a//b # 정수 나눗셈 연산\n",
    "print(e, type(e))"
   ]
  },
  {
   "cell_type": "markdown",
   "metadata": {},
   "source": [
    "#### 1.2 관계연산자 (대소 비교 연산)"
   ]
  },
  {
   "cell_type": "code",
   "execution_count": 8,
   "metadata": {},
   "outputs": [
    {
     "name": "stdout",
     "output_type": "stream",
     "text": [
      "5 > 7 = 0\n",
      "5 < 7 = 1\n",
      "5 >= 7 = 0\n",
      "5 <= 7 = 1\n",
      "5 == 7 = False\n",
      "5 != 7 = True\n"
     ]
    }
   ],
   "source": [
    "# 관계 연산의 결과는 <class 'bool'>로 True 아니면 False\n",
    "## 단독으로 사용되는 경우는 없으며 if, while 제어문에서 조건식으로 사용됨\n",
    "a = 5;\n",
    "b = 7;\n",
    "print(\"%d > %d = %d\" % (a,b,a>b))\n",
    "print(\"%d < %d = %d\" % (a,b,a<b))\n",
    "print(\"%d >= %d = %d\" % (a,b,a>=b))\n",
    "print(\"%d <= %d = %d\" % (a,b,a<=b))\n",
    "print(\"%d == %d = %s\" % (a,b,a==b))\n",
    "print(\"%d != %d = %s\" % (a,b,a!=b))"
   ]
  },
  {
   "cell_type": "markdown",
   "metadata": {},
   "source": [
    "* formatting str 출력은 C언어의 printf 함수와 비슷\n",
    "* print(\"출력할 문자열\" & (출력할 값들)) 형태\n",
    "* 논리값인 True와 False는 형식지정이 \"%d\"인 정수로 출력되는데 True는 1, False는 0으로 출력\n",
    "* \"%s\" 문자열 형식일 때는 \"True\", \"False\" 그대로 출력"
   ]
  },
  {
   "cell_type": "code",
   "execution_count": 9,
   "metadata": {},
   "outputs": [
    {
     "name": "stdout",
     "output_type": "stream",
     "text": [
      "True\n",
      "False\n"
     ]
    }
   ],
   "source": [
    "# 수학에서 사용되는 범위 표현도 관계 연산으로 표현\n",
    "a = 5\n",
    "print(1<a<10)\n",
    "print(1<a<4)"
   ]
  },
  {
   "cell_type": "code",
   "execution_count": 10,
   "metadata": {},
   "outputs": [
    {
     "name": "stdout",
     "output_type": "stream",
     "text": [
      "False\n",
      "False\n"
     ]
    }
   ],
   "source": [
    "# 관계연산은 해석 시 주로 왽쪽을 기준으로 말을 하는 경우가 많음\n",
    "## 5>7 -> \"5가 7보다 크다\"\n",
    "print(5>7) \n",
    "print(7<5) # 여기서 False는 \"7은 5보다 작지 않다\"를 의미"
   ]
  },
  {
   "cell_type": "code",
   "execution_count": 12,
   "metadata": {},
   "outputs": [
    {
     "name": "stdout",
     "output_type": "stream",
     "text": [
      "False\n",
      "False\n",
      "True\n",
      "True\n"
     ]
    }
   ],
   "source": [
    "# == -> ~이면, ~일 때\n",
    "a = 20\n",
    "b = 10\n",
    "c = 10\n",
    "print(a is b) # is 와 == 는 동작이 다름\n",
    "print(a == b)\n",
    "print(c is b)\n",
    "print(c == b)"
   ]
  },
  {
   "cell_type": "markdown",
   "metadata": {},
   "source": [
    "* 정수나 실수 같은 상수를 다루는 경우 is 연산과 == 연산은 별 차이가 없어 보이지만 동작이 다름\n",
    "  - is 연산은 값이 아닌 \"참조(reference)\"를 비교한다\n",
    "  - == 연산은 값을 비교한다\n",
    "  - 참조란 각 변수 또는 객체의 식별값(identities)이라고 하는데 위치의 개념으로 생각\n",
    "  - 즉 참조가 같다 $\\rightarrow$ 위치가 같은 변수다\n",
    "  - \"값이 같은 변수\" $\\rightarrow$ 변수는 다르지만 저장된 값이 같은 경우\n",
    "  - 변수의 식별값은 id() 함수로 확인 가능"
   ]
  },
  {
   "cell_type": "code",
   "execution_count": 13,
   "metadata": {},
   "outputs": [
    {
     "name": "stdout",
     "output_type": "stream",
     "text": [
      "True\n",
      "False\n"
     ]
    }
   ],
   "source": [
    "a,b = 20,20\n",
    "print(a is b)\n",
    "c,d = [10],[10]\n",
    "print(c is d) # 결과값이 False인 이유는 두 리스트는 같지만, 위치(참조)는 다른 별개의 리스트기 때문"
   ]
  },
  {
   "cell_type": "markdown",
   "metadata": {},
   "source": [
    "#### 1.3 논리연산자\n",
    "* not: 논리 반전 (아니면)\n",
    "* and: 논리 곱 (그리고)\n",
    "* or: 논리 합 (또는)"
   ]
  },
  {
   "cell_type": "code",
   "execution_count": 4,
   "metadata": {},
   "outputs": [
    {
     "name": "stdout",
     "output_type": "stream",
     "text": [
      "False\n",
      "True\n",
      "True\n"
     ]
    }
   ],
   "source": [
    "a = 5\n",
    "b = 7\n",
    "print((not (1<a<10)))\n",
    "print((a<b) and (a>0)) # 둘 다 참일 때만 참\n",
    "print((a<b) or (a>0)) # 둘 중 하나만 참이어도 참"
   ]
  },
  {
   "cell_type": "markdown",
   "metadata": {},
   "source": [
    "#### 1.4 조건식의 결과 판단하기"
   ]
  },
  {
   "cell_type": "code",
   "execution_count": 6,
   "metadata": {},
   "outputs": [
    {
     "data": {
      "text/plain": [
       "'\\nif 조건식:\\n    # 조건식이 참일 때 if쪽 실행\\nelse:\\n    # 조건식이 거짓일 때 else쪽 실행\\n'"
      ]
     },
     "execution_count": 6,
     "metadata": {},
     "output_type": "execute_result"
    }
   ],
   "source": [
    "# if 문에서의 조건식\n",
    "'''\n",
    "if 조건식:\n",
    "    # 조건식이 참일 때 if쪽 실행\n",
    "else:\n",
    "    # 조건식이 거짓일 때 else쪽 실행\n",
    "'''"
   ]
  },
  {
   "cell_type": "code",
   "execution_count": 7,
   "metadata": {},
   "outputs": [
    {
     "name": "stdout",
     "output_type": "stream",
     "text": [
      "R을 4로 나눈 나머지가 0이다.\n"
     ]
    }
   ],
   "source": [
    "# 임의의 정수 R이 4의 배수인지 확인하라\n",
    "R = 8\n",
    "if R % 4 ==0:\n",
    "    print('R을 4로 나눈 나머지가 0이다.')\n",
    "else:\n",
    "    print('R을 4로 나눈 나머지가 0이 아니다.')"
   ]
  },
  {
   "cell_type": "code",
   "execution_count": 8,
   "metadata": {},
   "outputs": [
    {
     "name": "stdout",
     "output_type": "stream",
     "text": [
      "R을 4로 나눈 나머지가 0이 아니다.\n"
     ]
    }
   ],
   "source": [
    "# 같은 문제를 반대 논리로 작성\n",
    "R = 9\n",
    "if R % 4:\n",
    "    print('R을 4로 나눈 나머지가 0이 아니다.')\n",
    "else:\n",
    "    print('R을 4로 나눈 나머지가 0이다.')"
   ]
  },
  {
   "cell_type": "code",
   "execution_count": 9,
   "metadata": {},
   "outputs": [],
   "source": [
    "# 조건이 몇 개인지 파악하는 것이 중요\n",
    "R = 149\n",
    "if (R%2==0) and (R%3==0):\n",
    "    print('True')"
   ]
  },
  {
   "cell_type": "code",
   "execution_count": 10,
   "metadata": {},
   "outputs": [],
   "source": [
    "# 다르게 표현할 수도.. (조건식이 복잡해지거나 길면 이 방법이 나을 수도)\n",
    "R = 149\n",
    "if R % 2 == 0:\n",
    "    if R % 3 == 0:\n",
    "        print('True')"
   ]
  },
  {
   "cell_type": "code",
   "execution_count": 12,
   "metadata": {},
   "outputs": [
    {
     "data": {
      "text/plain": [
       "\"\\nif A:\\n    print('A is True')\\nelif B:\\n    print('A is False and B is True')\\nelif C:\\n    print('A is False and B is False and C is True')\\nelse:\\n    print('Finally, A,B,C all False')\\nprint('여기에서 종료')\\n\""
      ]
     },
     "execution_count": 12,
     "metadata": {},
     "output_type": "execute_result"
    }
   ],
   "source": [
    "# 중첩\n",
    "'''\n",
    "if A: \n",
    "    print('A is True') \n",
    "elif B:\n",
    "    print('A is False and B is True')\n",
    "elif C:\n",
    "    print('A is False and B is False and C is True')\n",
    "else:\n",
    "    print('Finally, A,B,C all False')\n",
    "print('여기에서 종료')\n",
    "'''"
   ]
  },
  {
   "cell_type": "markdown",
   "metadata": {},
   "source": [
    "* A가 참이면 이하 나머지 부분을 모두 건너뛰어 가장 아래의 '여기에서 종료' 함수가 있는 곳으로 감\n",
    "* elif B 라는 것은 A 조건이 거짓이라는 상황에서 해석하는 것이 중요"
   ]
  },
  {
   "cell_type": "code",
   "execution_count": 13,
   "metadata": {},
   "outputs": [
    {
     "name": "stdout",
     "output_type": "stream",
     "text": [
      "81 이상일 떄\n"
     ]
    }
   ],
   "source": [
    "# 예시\n",
    "score = 91\n",
    "if score > 80:\n",
    "    print('81 이상일 떄')\n",
    "elif score > 60:\n",
    "    print('61부터 80 사이일 때')\n",
    "elif score > 40:\n",
    "    print('41부터 60 사이일 때')\n",
    "elif score > 20:\n",
    "    print('21부터 40 사이일 때')\n",
    "else:\n",
    "    print('20 이하일 때')"
   ]
  },
  {
   "cell_type": "code",
   "execution_count": 14,
   "metadata": {},
   "outputs": [
    {
     "data": {
      "text/plain": [
       "'\\nfor 변수명 in 리스트:\\n   # 리스트의 각 요소의 처리\\n'"
      ]
     },
     "execution_count": 14,
     "metadata": {},
     "output_type": "execute_result"
    }
   ],
   "source": [
    "# 반복문에서의 조건식\n",
    "'''\n",
    "while 조건식:\n",
    "   # 조건식이 참인 동안 반복 실행\n",
    "'''\n",
    "\n",
    "'''\n",
    "for 변수명 in 리스트:\n",
    "   # 리스트의 각 요소의 처리\n",
    "'''"
   ]
  },
  {
   "cell_type": "code",
   "execution_count": 15,
   "metadata": {},
   "outputs": [
    {
     "name": "stdout",
     "output_type": "stream",
     "text": [
      "10\n"
     ]
    }
   ],
   "source": [
    "i = 0\n",
    "while i < 10:\n",
    "    i+=1\n",
    "print(i) # 여러 번 실행하다가 i 변수값이 10이 되면 반복 종료"
   ]
  },
  {
   "cell_type": "code",
   "execution_count": 16,
   "metadata": {},
   "outputs": [
    {
     "name": "stdout",
     "output_type": "stream",
     "text": [
      "5\n"
     ]
    }
   ],
   "source": [
    "# 반복 구간 내에서 추가로 조건을 주어 반복을 종료하는 경우에 if문을 포함 -> break 명령으로 반복 종료\n",
    "i = 0\n",
    "while i < 10:\n",
    "    if i == 5:\n",
    "        break\n",
    "    i+=1\n",
    "print(i) # i == 5가 참이면 break가 실행되어 반복을 종료"
   ]
  },
  {
   "cell_type": "code",
   "execution_count": 17,
   "metadata": {},
   "outputs": [
    {
     "name": "stdout",
     "output_type": "stream",
     "text": [
      "10 , 4\n"
     ]
    }
   ],
   "source": [
    "i = 0\n",
    "total = 0\n",
    "while i < 10:\n",
    "    total += i\n",
    "    if total == 10:\n",
    "        break\n",
    "    i+=1\n",
    "print(total,',',i)"
   ]
  }
 ],
 "metadata": {
  "kernelspec": {
   "display_name": "Python 3",
   "language": "python",
   "name": "python3"
  },
  "language_info": {
   "codemirror_mode": {
    "name": "ipython",
    "version": 3
   },
   "file_extension": ".py",
   "mimetype": "text/x-python",
   "name": "python",
   "nbconvert_exporter": "python",
   "pygments_lexer": "ipython3",
   "version": "3.8.5"
  }
 },
 "nbformat": 4,
 "nbformat_minor": 4
}
