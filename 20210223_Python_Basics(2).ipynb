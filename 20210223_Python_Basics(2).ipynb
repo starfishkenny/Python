{
 "cells": [
  {
   "cell_type": "markdown",
   "metadata": {},
   "source": [
    "#### 2.1 List의 이해"
   ]
  },
  {
   "cell_type": "code",
   "execution_count": 1,
   "metadata": {},
   "outputs": [
    {
     "data": {
      "text/plain": [
       "'\\n리스트명 = [] # list 형의 객체를 생성, 빈 상태\\n리스트명 = list(list_object) # list 형의 객체를 생성, 전달인자는 list이거나 없음\\nlen(리스트명) # 리스트의 길이 (data의 개수: 비어 있는 경우 0)\\n리스트명.append(object) # 리스트에 object를 추가 (object는 무엇이든 가능)\\n리스트명.copy() # 복사한 리스트를 반환\\n리스트명.count(value) # 리스트 내에 value가 몇 개 있는지 반환\\n리스트명.index(value) # 리스트 내 value가 몇 번째인지 반환 (0이 가장 첫 번째, 해당값이 없는 경우 ValueError 발생)\\n리스트명.insert(index,value) # 리스트의 index번 자리에 value를 삽입\\n리스트명.remove(value) # 리스트 내 value를 삭제\\n리스트명.reverse() # 리스트 내 요소들의 순서를 뒤집음\\n리스트명.sort() # 리스트 내 요소들을 정렬 (기본은 오름차순)\\n'"
      ]
     },
     "execution_count": 1,
     "metadata": {},
     "output_type": "execute_result"
    }
   ],
   "source": [
    "# 시험에 주로 나오는 메서드(함수)\n",
    "'''\n",
    "리스트명 = [] # list 형의 객체를 생성, 빈 상태\n",
    "리스트명 = list(list_object) # list 형의 객체를 생성, 전달인자는 list이거나 없음\n",
    "len(리스트명) # 리스트의 길이 (data의 개수: 비어 있는 경우 0)\n",
    "리스트명.append(object) # 리스트에 object를 추가 (object는 무엇이든 가능)\n",
    "리스트명.copy() # 복사한 리스트를 반환\n",
    "리스트명.count(value) # 리스트 내에 value가 몇 개 있는지 반환\n",
    "리스트명.index(value) # 리스트 내 value가 몇 번째인지 반환 (0이 가장 첫 번째, 해당값이 없는 경우 ValueError 발생)\n",
    "리스트명.insert(index,value) # 리스트의 index번 자리에 value를 삽입\n",
    "리스트명.remove(value) # 리스트 내 value를 삭제\n",
    "리스트명.reverse() # 리스트 내 요소들의 순서를 뒤집음\n",
    "리스트명.sort() # 리스트 내 요소들을 정렬 (기본은 오름차순)\n",
    "'''"
   ]
  },
  {
   "cell_type": "code",
   "execution_count": 2,
   "metadata": {},
   "outputs": [
    {
     "data": {
      "text/plain": [
       "('P', 'S')"
      ]
     },
     "execution_count": 2,
     "metadata": {},
     "output_type": "execute_result"
    }
   ],
   "source": [
    "a = ['P','Y','T','H','O','N','C','O','S']\n",
    "a[0], a[-1] # 앞에서부터 0부터 9번째 요소 / 뒤에서부터 -1부터 -10번째 요소"
   ]
  },
  {
   "cell_type": "code",
   "execution_count": 3,
   "metadata": {},
   "outputs": [
    {
     "name": "stdout",
     "output_type": "stream",
     "text": [
      "[1, 2, 3, 4, 5]\n",
      "[1, 2, 3, 4, 5, 6]\n",
      "[1, 2, 3, 4, 5, 6, [10, 20, 30]]\n"
     ]
    }
   ],
   "source": [
    "# append 메서드\n",
    "li = [1,2,3,4,5]\n",
    "print(li)\n",
    "li.append(6)\n",
    "print(li)\n",
    "li.append([10,20,30]) # [10,20,30]이 통째로 요소 1개가 됨\n",
    "print(li)"
   ]
  },
  {
   "cell_type": "code",
   "execution_count": 4,
   "metadata": {},
   "outputs": [
    {
     "name": "stdout",
     "output_type": "stream",
     "text": [
      "[1, 2, 3, [10, 20, 30]]\n"
     ]
    }
   ],
   "source": [
    "first = [1,2,3]\n",
    "second = [10,20,30]\n",
    "first.append(second)\n",
    "print(first) # append -> 어떤 리스트에 리스트를 추가한다"
   ]
  },
  {
   "cell_type": "code",
   "execution_count": 5,
   "metadata": {},
   "outputs": [
    {
     "name": "stdout",
     "output_type": "stream",
     "text": [
      "[1, 2, 3, 10, 20, 30]\n"
     ]
    }
   ],
   "source": [
    "# + 연산으로 리스트 합치기\n",
    "first = [1,2,3]\n",
    "second = [10,20,30]\n",
    "first = first + second\n",
    "print(first) # + 연산 -> 2개의 리스트를 합쳐서 하나의 리스트를 만든다"
   ]
  },
  {
   "cell_type": "code",
   "execution_count": 6,
   "metadata": {},
   "outputs": [
    {
     "name": "stdout",
     "output_type": "stream",
     "text": [
      "[1, 2, 3] vs [1, 2, 3]\n"
     ]
    }
   ],
   "source": [
    "# copy 메서드\n",
    "first = [1,2,3]\n",
    "second = first\n",
    "print(first,'vs',second)"
   ]
  },
  {
   "cell_type": "code",
   "execution_count": 7,
   "metadata": {},
   "outputs": [
    {
     "name": "stdout",
     "output_type": "stream",
     "text": [
      "[1, 2, 3] vs [1, 2, 3]\n"
     ]
    }
   ],
   "source": [
    "first = [1,2,3]\n",
    "second = first.copy()\n",
    "print(first,'vs',second)"
   ]
  },
  {
   "cell_type": "markdown",
   "metadata": {},
   "source": [
    "* 리스트를 복사하려는 경우엔 '독립적'이어야 하는지를 살펴두어야함\n",
    "* 독립적이란 것은 각자 별개의 공간에 다른 값을 가질 수 있어야 함을 의미\n",
    "* 어떤 값이 바뀌었을 때 다른 변수의 값도 바뀌거나 바뀌어야 한다면 이것은 의존적 또는 독립적이지 않다"
   ]
  },
  {
   "cell_type": "code",
   "execution_count": 8,
   "metadata": {},
   "outputs": [
    {
     "name": "stdout",
     "output_type": "stream",
     "text": [
      "[10, 2, 3] vs [1, 2, 3]\n"
     ]
    }
   ],
   "source": [
    "first[0] = 10\n",
    "print(first,'vs',second) # first의 요소가 바뀌면 second의 요소도 값이 바뀜"
   ]
  },
  {
   "cell_type": "code",
   "execution_count": 9,
   "metadata": {},
   "outputs": [
    {
     "name": "stdout",
     "output_type": "stream",
     "text": [
      "[10, 2, 3] vs [1, 2, 3]\n"
     ]
    }
   ],
   "source": [
    "first[0] = 10\n",
    "print(first,'vs',second) # first의 요소 변경은 second와는 관계없이 다른 값을 가진 형태로 동작"
   ]
  },
  {
   "cell_type": "markdown",
   "metadata": {},
   "source": [
    "* 리스트를 전달하는 쪽에서 함수 실행 후 리스트에 변경이 없길 바란다면 .copy() 메서드를 먼저 실행하여 리스트의 복사본을 전달하도록 해야 함"
   ]
  },
  {
   "cell_type": "code",
   "execution_count": 10,
   "metadata": {},
   "outputs": [
    {
     "name": "stdout",
     "output_type": "stream",
     "text": [
      "count of 3:  1\n",
      "index of 3:  2\n"
     ]
    }
   ],
   "source": [
    "# 리스트명.count(value), 리스트명.index(value)\n",
    "numbers = [1,5,3,7,8,10]\n",
    "count = numbers.count(3) # 3이 몇 개 있는지 반환, 없으면 0\n",
    "print('count of 3: ', count)\n",
    "index = numbers.index(3) # 3이 몇 번 요소에 있는지 반환, 없으면 error\n",
    "print('index of 3: ', index)"
   ]
  },
  {
   "cell_type": "code",
   "execution_count": 11,
   "metadata": {},
   "outputs": [
    {
     "name": "stdout",
     "output_type": "stream",
     "text": [
      "not found 6 in list\n"
     ]
    }
   ],
   "source": [
    "# index 메서드는 리스트 내에 찾는 값이 리스트 내에 여러 개 있는 경우 가장 첫 번째 나타나는 요소번호를 반환\n",
    "## 찾으려는 값이 리스트 안에 있는지 없는지를 에러 없이 확인하고자 할 때는 in 연산을 사용할 수 있음\n",
    "numbers = [1,5,3,7,8,10]\n",
    "if 6 in numbers:\n",
    "    print('index of 6: ', numbers.index(6))\n",
    "else:\n",
    "    print('not found 6 in list')"
   ]
  },
  {
   "cell_type": "code",
   "execution_count": 12,
   "metadata": {},
   "outputs": [
    {
     "name": "stdout",
     "output_type": "stream",
     "text": [
      "[1, 4, 2, 3]\n",
      "[1, 4, 3]\n"
     ]
    }
   ],
   "source": [
    "# 리스트명.insert(index,value), 리스트명.remove(value)\n",
    "numbers = [1,2,3]\n",
    "numbers.insert(1,4) # [1]번 요소에 4를 삽입\n",
    "print(numbers)\n",
    "numbers.remove(2)\n",
    "print(numbers)"
   ]
  },
  {
   "cell_type": "code",
   "execution_count": 13,
   "metadata": {},
   "outputs": [
    {
     "name": "stdout",
     "output_type": "stream",
     "text": [
      "[1, 5, 3, 7, 8, 10]\n",
      "[10, 8, 7, 3, 5, 1]\n"
     ]
    }
   ],
   "source": [
    "# 리스트명.reverse() (정렬과 함계 사용하면 오름차순, 내림차순 구현 가능)\n",
    "numbers = [1,5,3,7,8,10]\n",
    "print(numbers)\n",
    "numbers.reverse() # numbers 리스트의 요소들의 순서 뒤집기\n",
    "print(numbers)"
   ]
  },
  {
   "cell_type": "code",
   "execution_count": null,
   "metadata": {},
   "outputs": [],
   "source": []
  }
 ],
 "metadata": {
  "kernelspec": {
   "display_name": "Python 3",
   "language": "python",
   "name": "python3"
  },
  "language_info": {
   "codemirror_mode": {
    "name": "ipython",
    "version": 3
   },
   "file_extension": ".py",
   "mimetype": "text/x-python",
   "name": "python",
   "nbconvert_exporter": "python",
   "pygments_lexer": "ipython3",
   "version": "3.8.5"
  }
 },
 "nbformat": 4,
 "nbformat_minor": 4
}
