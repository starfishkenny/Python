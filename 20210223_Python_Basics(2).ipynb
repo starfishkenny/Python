{
 "cells": [
  {
   "cell_type": "markdown",
   "metadata": {},
   "source": [
    "#### 2.1 List의 이해"
   ]
  },
  {
   "cell_type": "code",
   "execution_count": 1,
   "metadata": {},
   "outputs": [
    {
     "data": {
      "text/plain": [
       "'\\n리스트명 = [] # list 형의 객체를 생성, 빈 상태\\n리스트명 = list(list_object) # list 형의 객체를 생성, 전달인자는 list이거나 없음\\nlen(리스트명) # 리스트의 길이 (data의 개수: 비어 있는 경우 0)\\n리스트명.append(object) # 리스트에 object를 추가 (object는 무엇이든 가능)\\n리스트명.copy() # 복사한 리스트를 반환\\n리스트명.count(value) # 리스트 내에 value가 몇 개 있는지 반환\\n리스트명.index(value) # 리스트 내 value가 몇 번째인지 반환 (0이 가장 첫 번째, 해당값이 없는 경우 ValueError 발생)\\n리스트명.insert(index,value) # 리스트의 index번 자리에 value를 삽입\\n리스트명.remove(value) # 리스트 내 value를 삭제\\n리스트명.reverse() # 리스트 내 요소들의 순서를 뒤집음\\n리스트명.sort() # 리스트 내 요소들을 정렬 (기본은 오름차순)\\n'"
      ]
     },
     "execution_count": 1,
     "metadata": {},
     "output_type": "execute_result"
    }
   ],
   "source": [
    "# 시험에 주로 나오는 메서드(함수)\n",
    "'''\n",
    "리스트명 = [] # list 형의 객체를 생성, 빈 상태\n",
    "리스트명 = list(list_object) # list 형의 객체를 생성, 전달인자는 list이거나 없음\n",
    "len(리스트명) # 리스트의 길이 (data의 개수: 비어 있는 경우 0)\n",
    "리스트명.append(object) # 리스트에 object를 추가 (object는 무엇이든 가능)\n",
    "리스트명.copy() # 복사한 리스트를 반환\n",
    "리스트명.count(value) # 리스트 내에 value가 몇 개 있는지 반환\n",
    "리스트명.index(value) # 리스트 내 value가 몇 번째인지 반환 (0이 가장 첫 번째, 해당값이 없는 경우 ValueError 발생)\n",
    "리스트명.insert(index,value) # 리스트의 index번 자리에 value를 삽입\n",
    "리스트명.remove(value) # 리스트 내 value를 삭제\n",
    "리스트명.reverse() # 리스트 내 요소들의 순서를 뒤집음\n",
    "리스트명.sort() # 리스트 내 요소들을 정렬 (기본은 오름차순)\n",
    "'''"
   ]
  },
  {
   "cell_type": "code",
   "execution_count": 2,
   "metadata": {},
   "outputs": [
    {
     "data": {
      "text/plain": [
       "('P', 'S')"
      ]
     },
     "execution_count": 2,
     "metadata": {},
     "output_type": "execute_result"
    }
   ],
   "source": [
    "a = ['P','Y','T','H','O','N','C','O','S']\n",
    "a[0], a[-1] # 앞에서부터 0부터 9번째 요소 / 뒤에서부터 -1부터 -10번째 요소"
   ]
  },
  {
   "cell_type": "code",
   "execution_count": 3,
   "metadata": {},
   "outputs": [
    {
     "name": "stdout",
     "output_type": "stream",
     "text": [
      "[1, 2, 3, 4, 5]\n",
      "[1, 2, 3, 4, 5, 6]\n",
      "[1, 2, 3, 4, 5, 6, [10, 20, 30]]\n"
     ]
    }
   ],
   "source": [
    "# append 메서드\n",
    "li = [1,2,3,4,5]\n",
    "print(li)\n",
    "li.append(6)\n",
    "print(li)\n",
    "li.append([10,20,30]) # [10,20,30]이 통째로 요소 1개가 됨\n",
    "print(li)"
   ]
  },
  {
   "cell_type": "code",
   "execution_count": 4,
   "metadata": {},
   "outputs": [
    {
     "name": "stdout",
     "output_type": "stream",
     "text": [
      "[1, 2, 3, [10, 20, 30]]\n"
     ]
    }
   ],
   "source": [
    "first = [1,2,3]\n",
    "second = [10,20,30]\n",
    "first.append(second)\n",
    "print(first) # append -> 어떤 리스트에 리스트를 추가한다"
   ]
  },
  {
   "cell_type": "code",
   "execution_count": 5,
   "metadata": {},
   "outputs": [
    {
     "name": "stdout",
     "output_type": "stream",
     "text": [
      "[1, 2, 3, 10, 20, 30]\n"
     ]
    }
   ],
   "source": [
    "# + 연산으로 리스트 합치기\n",
    "first = [1,2,3]\n",
    "second = [10,20,30]\n",
    "first = first + second\n",
    "print(first) # + 연산 -> 2개의 리스트를 합쳐서 하나의 리스트를 만든다"
   ]
  },
  {
   "cell_type": "code",
   "execution_count": 6,
   "metadata": {},
   "outputs": [
    {
     "name": "stdout",
     "output_type": "stream",
     "text": [
      "[1, 2, 3] vs [1, 2, 3]\n"
     ]
    }
   ],
   "source": [
    "# copy 메서드\n",
    "first = [1,2,3]\n",
    "second = first\n",
    "print(first,'vs',second)"
   ]
  },
  {
   "cell_type": "code",
   "execution_count": 7,
   "metadata": {},
   "outputs": [
    {
     "name": "stdout",
     "output_type": "stream",
     "text": [
      "[1, 2, 3] vs [1, 2, 3]\n"
     ]
    }
   ],
   "source": [
    "first = [1,2,3]\n",
    "second = first.copy()\n",
    "print(first,'vs',second)"
   ]
  },
  {
   "cell_type": "markdown",
   "metadata": {},
   "source": [
    "* 리스트를 복사하려는 경우엔 '독립적'이어야 하는지를 살펴두어야함\n",
    "* 독립적이란 것은 각자 별개의 공간에 다른 값을 가질 수 있어야 함을 의미\n",
    "* 어떤 값이 바뀌었을 때 다른 변수의 값도 바뀌거나 바뀌어야 한다면 이것은 의존적 또는 독립적이지 않다"
   ]
  },
  {
   "cell_type": "code",
   "execution_count": 8,
   "metadata": {},
   "outputs": [
    {
     "name": "stdout",
     "output_type": "stream",
     "text": [
      "[10, 2, 3] vs [1, 2, 3]\n"
     ]
    }
   ],
   "source": [
    "first[0] = 10\n",
    "print(first,'vs',second) # first의 요소가 바뀌면 second의 요소도 값이 바뀜"
   ]
  },
  {
   "cell_type": "code",
   "execution_count": 9,
   "metadata": {},
   "outputs": [
    {
     "name": "stdout",
     "output_type": "stream",
     "text": [
      "[10, 2, 3] vs [1, 2, 3]\n"
     ]
    }
   ],
   "source": [
    "first[0] = 10\n",
    "print(first,'vs',second) # first의 요소 변경은 second와는 관계없이 다른 값을 가진 형태로 동작"
   ]
  },
  {
   "cell_type": "markdown",
   "metadata": {},
   "source": [
    "* 리스트를 전달하는 쪽에서 함수 실행 후 리스트에 변경이 없길 바란다면 .copy() 메서드를 먼저 실행하여 리스트의 복사본을 전달하도록 해야 함"
   ]
  },
  {
   "cell_type": "code",
   "execution_count": 10,
   "metadata": {},
   "outputs": [
    {
     "name": "stdout",
     "output_type": "stream",
     "text": [
      "count of 3:  1\n",
      "index of 3:  2\n"
     ]
    }
   ],
   "source": [
    "# 리스트명.count(value), 리스트명.index(value)\n",
    "numbers = [1,5,3,7,8,10]\n",
    "count = numbers.count(3) # 3이 몇 개 있는지 반환, 없으면 0\n",
    "print('count of 3: ', count)\n",
    "index = numbers.index(3) # 3이 몇 번 요소에 있는지 반환, 없으면 error\n",
    "print('index of 3: ', index)"
   ]
  },
  {
   "cell_type": "code",
   "execution_count": 11,
   "metadata": {},
   "outputs": [
    {
     "name": "stdout",
     "output_type": "stream",
     "text": [
      "not found 6 in list\n"
     ]
    }
   ],
   "source": [
    "# index 메서드는 리스트 내에 찾는 값이 리스트 내에 여러 개 있는 경우 가장 첫 번째 나타나는 요소번호를 반환\n",
    "## 찾으려는 값이 리스트 안에 있는지 없는지를 에러 없이 확인하고자 할 때는 in 연산을 사용할 수 있음\n",
    "numbers = [1,5,3,7,8,10]\n",
    "if 6 in numbers:\n",
    "    print('index of 6: ', numbers.index(6))\n",
    "else:\n",
    "    print('not found 6 in list')"
   ]
  },
  {
   "cell_type": "code",
   "execution_count": 12,
   "metadata": {},
   "outputs": [
    {
     "name": "stdout",
     "output_type": "stream",
     "text": [
      "[1, 4, 2, 3]\n",
      "[1, 4, 3]\n"
     ]
    }
   ],
   "source": [
    "# 리스트명.insert(index,value), 리스트명.remove(value)\n",
    "numbers = [1,2,3]\n",
    "numbers.insert(1,4) # [1]번 요소에 4를 삽입\n",
    "print(numbers)\n",
    "numbers.remove(2)\n",
    "print(numbers)"
   ]
  },
  {
   "cell_type": "code",
   "execution_count": 13,
   "metadata": {},
   "outputs": [
    {
     "name": "stdout",
     "output_type": "stream",
     "text": [
      "[1, 5, 3, 7, 8, 10]\n",
      "[10, 8, 7, 3, 5, 1]\n"
     ]
    }
   ],
   "source": [
    "# 리스트명.reverse() (정렬과 함계 사용하면 오름차순, 내림차순 구현 가능)\n",
    "numbers = [1,5,3,7,8,10]\n",
    "print(numbers)\n",
    "numbers.reverse() # numbers 리스트의 요소들의 순서 뒤집기\n",
    "print(numbers)"
   ]
  },
  {
   "cell_type": "code",
   "execution_count": 14,
   "metadata": {},
   "outputs": [
    {
     "name": "stdout",
     "output_type": "stream",
     "text": [
      "[1, 5, 3, 7, 8, 10]\n",
      "[1, 3, 5, 7, 8, 10]\n",
      "[10, 8, 7, 5, 3, 1]\n"
     ]
    }
   ],
   "source": [
    "# 리스트명.sort()\n",
    "numbers = [1,5,3,7,8,10]\n",
    "print(numbers)\n",
    "numbers.sort() # 기본 동작은 작은 값에서 큰 값 순서\n",
    "print(numbers)\n",
    "numbers.reverse() # 큰 값에서 작은 값 순서\n",
    "print(numbers)"
   ]
  },
  {
   "cell_type": "code",
   "execution_count": 15,
   "metadata": {},
   "outputs": [
    {
     "name": "stdout",
     "output_type": "stream",
     "text": [
      "4\n",
      "40\n",
      "30\n",
      "2\n"
     ]
    }
   ],
   "source": [
    "# 리스트명.pop()\n",
    "## 리스트의 마지막 요소를 꺼내어 사용할 수 있지만 꺼낸 후 리스트에서 삭제됨\n",
    "numbers = [10,20,30,40]\n",
    "print(len(numbers))\n",
    "print(numbers.pop())\n",
    "print(numbers.pop())\n",
    "print(len(numbers)) # 개수가 감소됨"
   ]
  },
  {
   "cell_type": "code",
   "execution_count": 16,
   "metadata": {},
   "outputs": [
    {
     "name": "stdout",
     "output_type": "stream",
     "text": [
      "A\n",
      "B\n",
      "C\n",
      "D\n",
      "E\n",
      "F\n"
     ]
    }
   ],
   "source": [
    "# for와 range함수\n",
    "scores = ['A','B','C','D','E','F']\n",
    "for i in scores:\n",
    "    print(i)"
   ]
  },
  {
   "cell_type": "markdown",
   "metadata": {},
   "source": [
    "* for는 여러 개의 data를 저장한 리스트 구조에서 요소 단위로 반복하는 처리에서 사용되며 while은 특정한 조건을 만족하는 동안 반복하는 처리에서 사용됨"
   ]
  },
  {
   "cell_type": "markdown",
   "metadata": {},
   "source": [
    "* python 2.x 버전에서는 type(range(5)) -> <class 'list'>\n",
    "* python 3.x 버전에서는 type(range(5)) -> <class 'range'> (반복문에서는 그대로 사용해도 무방...)"
   ]
  },
  {
   "cell_type": "code",
   "execution_count": 17,
   "metadata": {},
   "outputs": [
    {
     "data": {
      "text/plain": [
       "'\\nrange(종료값) # 0 ~ (종료값-1)까지의 정수 나열\\nrange(시작값,종료값) # 시작 ~ (종료값-1)까지의 정수 나열\\nrange(시작값,종료값,증감) # 시작 ~ (종료값-1)까지 (증감)만큼씩의 정수 나열\\nlist(range(종료값)) # range 함수가 반환한 것을 list로 바꿈 (3.x버전)\\n'"
      ]
     },
     "execution_count": 17,
     "metadata": {},
     "output_type": "execute_result"
    }
   ],
   "source": [
    "'''\n",
    "range(종료값) # 0 ~ (종료값-1)까지의 정수 나열\n",
    "range(시작값,종료값) # 시작 ~ (종료값-1)까지의 정수 나열\n",
    "range(시작값,종료값,증감) # 시작 ~ (종료값-1)까지 (증감)만큼씩의 정수 나열\n",
    "list(range(종료값)) # range 함수가 반환한 것을 list로 바꿈 (3.x버전)\n",
    "'''"
   ]
  },
  {
   "cell_type": "code",
   "execution_count": 18,
   "metadata": {},
   "outputs": [
    {
     "name": "stdout",
     "output_type": "stream",
     "text": [
      "[0, 1, 2, 3, 4, 5, 6, 7, 8, 9]\n",
      "[5, 6, 7, 8, 9]\n",
      "[1, 3, 5, 7, 9]\n"
     ]
    }
   ],
   "source": [
    "# 예시\n",
    "a = list(range(10))\n",
    "print(a)\n",
    "b = list(range(5,10))\n",
    "print(b)\n",
    "c = list(range(1,10,2))\n",
    "print(c)"
   ]
  },
  {
   "cell_type": "code",
   "execution_count": 19,
   "metadata": {},
   "outputs": [
    {
     "name": "stdout",
     "output_type": "stream",
     "text": [
      "01234"
     ]
    }
   ],
   "source": [
    "# for문에서는 list()로 range()를 감쌀 필요는 없음\n",
    "for i in range(5):\n",
    "    print(i, end='')"
   ]
  },
  {
   "cell_type": "code",
   "execution_count": 20,
   "metadata": {},
   "outputs": [
    {
     "name": "stdout",
     "output_type": "stream",
     "text": [
      "01234"
     ]
    }
   ],
   "source": [
    "for i in list(range(5)):\n",
    "    print(i, end='')"
   ]
  },
  {
   "cell_type": "code",
   "execution_count": 21,
   "metadata": {},
   "outputs": [
    {
     "name": "stdout",
     "output_type": "stream",
     "text": [
      "[[1, 2, 3, 4]]\n",
      "[1, 2, 3, 4]\n",
      "1\n"
     ]
    }
   ],
   "source": [
    "# 다차 배열 -> 리스트의 요소가 리스트\n",
    "a = [1,2,3,4]\n",
    "b = []\n",
    "b.append(a)\n",
    "print(b)\n",
    "print(b[0])\n",
    "print(b[0][0])"
   ]
  },
  {
   "cell_type": "code",
   "execution_count": 22,
   "metadata": {},
   "outputs": [
    {
     "name": "stdout",
     "output_type": "stream",
     "text": [
      "[[1, 2, 3, 4], 'string element']\n",
      "[[1, 2, 3, 4], 'string element', ['c', 'o', 's']]\n",
      "c\n",
      "o\n",
      "s\n"
     ]
    }
   ],
   "source": [
    "b.append('string element') # 문자열 요소의 추가\n",
    "print(b)\n",
    "b.append(['c','o','s'])\n",
    "print(b)\n",
    "print(b[2][0])\n",
    "print(b[2][1])\n",
    "print(b[2][2])"
   ]
  },
  {
   "cell_type": "markdown",
   "metadata": {},
   "source": [
    "* __시험에서 '배열'이나 '2차 배열'이라는 표현이 나오면 리스트로 생각하고 다루면 될 것__"
   ]
  },
  {
   "cell_type": "markdown",
   "metadata": {},
   "source": [
    "#### 2.2 리스트의 처리 (예제)"
   ]
  },
  {
   "cell_type": "code",
   "execution_count": 23,
   "metadata": {},
   "outputs": [
    {
     "name": "stdout",
     "output_type": "stream",
     "text": [
      "총합: 55\n",
      "평균: 5.5\n",
      "[1, 2, 3, 4, 5, 6, 7, 8, 9, 10]\n"
     ]
    }
   ],
   "source": [
    "# 리스트에 임의의 정수를 저장하고 그 합과 평균을 구하는 코드학습\n",
    "arr = list(range(1,11))\n",
    "sum_ = 0\n",
    "for i in arr:\n",
    "    sum_ += i\n",
    "avg = sum_ / len(arr)\n",
    "print('총합:',sum_)\n",
    "print('평균:',avg)\n",
    "print(arr)"
   ]
  },
  {
   "cell_type": "code",
   "execution_count": 24,
   "metadata": {},
   "outputs": [
    {
     "name": "stdout",
     "output_type": "stream",
     "text": [
      "89\n",
      "[1, 2, -4, 56, 8, 89, 77, 23, 4, 22]\n"
     ]
    }
   ],
   "source": [
    "# 최대값 구하기\n",
    "arr = [1,2,-4,56,8,89,77,23,4,22]\n",
    "max_ = arr[0]\n",
    "for i in arr:\n",
    "    if max_ < i:\n",
    "        max_ = i # max_가 바뀜\n",
    "print(max_)\n",
    "print(arr)"
   ]
  },
  {
   "cell_type": "code",
   "execution_count": 25,
   "metadata": {},
   "outputs": [
    {
     "name": "stdout",
     "output_type": "stream",
     "text": [
      "-4\n",
      "[1, 2, -4, 56, 8, 89, 77, 23, 4, 22]\n"
     ]
    }
   ],
   "source": [
    "# 최솟값 구하기\n",
    "arr = [1,2,-4,56,8,89,77,23,4,22]\n",
    "min_ = arr[0]\n",
    "for i in arr:\n",
    "    if min_ > i:\n",
    "        min_ = i\n",
    "print(min_)\n",
    "print(arr)"
   ]
  },
  {
   "cell_type": "code",
   "execution_count": 26,
   "metadata": {},
   "outputs": [
    {
     "name": "stdout",
     "output_type": "stream",
     "text": [
      "정렬 후: [-4, 1, 2, 4, 8, 22, 23, 56, 77, 89]\n",
      "Min: -4 Max: 89\n"
     ]
    }
   ],
   "source": [
    "# sort()함수로 최대값과 최솟값 한 번에 구하기\n",
    "# sort()를 시행하면 리스트를 작은 값부터 큰 값 순서대로 정렬해줄 것이기 때문\n",
    "arr = [1,2,-4,56,8,89,77,23,4,22]\n",
    "arr.sort()\n",
    "print('정렬 후:',arr)\n",
    "min_ = arr[0]\n",
    "max_ = arr[len(arr)-1] # arr[-1]로 해도 됨\n",
    "print('Min:',min_,'Max:',max_)"
   ]
  },
  {
   "cell_type": "markdown",
   "metadata": {},
   "source": [
    "* 특정요소를 찾기\n",
    "  - 선형검색: 찾으려는 값을 리스트의 처음부터 시작해서 찾을 때까지 검색하는 방법\n",
    "    + 구현이 쉬운 반면 찾으려는 값이 어디에 놓여 있느냐에 따라 검색시간이 오래 걸리는 단점이 있음\n",
    "  - 이분검색: 선형검색을 개선한 알고리즘 / 데이터가 순서대로 정렬되어 있음을 가정\n",
    "    + 순서대로 정렬된 데이터를 반으로 나누어 원하는 값이 작은 쪽에 속하는지 큰 쪽에 속하는지 비교한 후 반을 버리고 남은 반만 가지고 다시 동작을 반복하기 때문에 원하는 값이 어디에 있던 일정한 횟수의 비교를 하기 때문에 검색속도가 빠름\n",
    "    + But 데이터를 정렬하는 데 많은 시간이 필요할 경우에는 의미가 없음\n",
    "  - 해시 검색: 이론상 한 번에 원하는 값을 찾을 수 있어서 속도는 가장 빠르나 구현이 어려움\n",
    "* __시험에서는 주로 선형검색을 사용__"
   ]
  },
  {
   "cell_type": "code",
   "execution_count": 27,
   "metadata": {},
   "outputs": [
    {
     "name": "stdout",
     "output_type": "stream",
     "text": [
      "8 찾음\n"
     ]
    }
   ],
   "source": [
    "arr = [1,2,-4,56,8,89,77,23,4,22]\n",
    "search_value = 8\n",
    "for i in arr:\n",
    "    if i == search_value:\n",
    "        print(i,'찾음')"
   ]
  },
  {
   "cell_type": "markdown",
   "metadata": {},
   "source": [
    "* 만약 '리스트의 요소들을 중복되지 않는다'고 제시된 문제인 경우...\n",
    "  - 같은 값이 있으면 break로 반복을 종료하여 불필요한 반복을 하지 않아도 됨"
   ]
  },
  {
   "cell_type": "code",
   "execution_count": 28,
   "metadata": {},
   "outputs": [
    {
     "name": "stdout",
     "output_type": "stream",
     "text": [
      "2\n"
     ]
    }
   ],
   "source": [
    "# 검색 문제에 활용할 수 있는 index() 메서드\n",
    "arr = [1,2,8,56,8,89,77,23,4,22]\n",
    "index = arr.index(8)\n",
    "print(index) # 여러 개가 있더라도 첫 번째 발견된 요소의 번호만 반환, 찾는 값이 없다면 에러 발생"
   ]
  },
  {
   "cell_type": "code",
   "execution_count": 29,
   "metadata": {},
   "outputs": [
    {
     "name": "stdout",
     "output_type": "stream",
     "text": [
      "찾을 수 없음\n",
      "찾던 못 찾던 실행은 계속되어야 한다\n"
     ]
    }
   ],
   "source": [
    "# 예외 처리 (try except)\n",
    "arr = [1,2,8,56,8,89,77,23,4,22]\n",
    "try:\n",
    "    index = arr.index(0)\n",
    "    print(index)\n",
    "except:\n",
    "    print('찾을 수 없음')\n",
    "    \n",
    "print('찾던 못 찾던 실행은 계속되어야 한다')"
   ]
  },
  {
   "cell_type": "markdown",
   "metadata": {},
   "source": [
    "* try 쪽에 실행할 코드를 실행하다가 에러가 발생하면 except 쪽의 코드가 실행된 후 이어서 나머지 코드들을 실행 $\\rightarrow$ \"Exception Handling\""
   ]
  },
  {
   "cell_type": "code",
   "execution_count": 30,
   "metadata": {},
   "outputs": [
    {
     "name": "stdout",
     "output_type": "stream",
     "text": [
      "8 가 2 개 존재\n"
     ]
    }
   ],
   "source": [
    "# 검색에는 count() 메서드도 사용할 수 있음\n",
    "## 리스트 내에 같은 값이 몇 개가 있는지를 반환 -> 반환하는 값이 0이면 해당 값은 존재하지 않는다는 뜻\n",
    "arr = [1,2,8,56,8,89,77,23,4,22]\n",
    "search_value = 8\n",
    "count = arr.count(search_value)\n",
    "if count == 0:\n",
    "    print(search_value,'를 찾을 수 없습니다')\n",
    "else:\n",
    "    print(search_value,'가',count,'개 존재')"
   ]
  },
  {
   "cell_type": "code",
   "execution_count": 31,
   "metadata": {},
   "outputs": [
    {
     "name": "stdout",
     "output_type": "stream",
     "text": [
      "list_a [1, 2, 3, 4, 5] list_b [1, 2, 3, 4, 5]\n"
     ]
    }
   ],
   "source": [
    "# 리스트 복사\n",
    "## 반복문을 사용하여 요소를 하나씩 대입 vs copy() 메서드\n",
    "a = [1,2,3,4,5]\n",
    "b = []\n",
    "for i in a:\n",
    "    b.append(i)\n",
    "print('list_a',a,'list_b',b)"
   ]
  },
  {
   "cell_type": "code",
   "execution_count": 32,
   "metadata": {},
   "outputs": [
    {
     "name": "stdout",
     "output_type": "stream",
     "text": [
      "list_a [1, 2, 3, 4, 5] list_b [1, 2, 3, 4, 5]\n"
     ]
    }
   ],
   "source": [
    "a = [1,2,3,4,5]\n",
    "b = a.copy()\n",
    "print('list_a',a,'list_b',b)"
   ]
  },
  {
   "cell_type": "markdown",
   "metadata": {},
   "source": [
    "* 리스트명은 실제 메모리상의 리스트를 바라보는 '참조'임\n",
    "* 이를 대입하는 것은 리스트 자체를 복사한 것이 아닌 '참조를 복사'한 것이므로 개별적인 리스트를 여러 개 복사하려는 경우 위와 같은 방법들을 사용하면 됨"
   ]
  },
  {
   "cell_type": "code",
   "execution_count": 33,
   "metadata": {},
   "outputs": [
    {
     "name": "stdout",
     "output_type": "stream",
     "text": [
      "[1, 2, 3, 4]\n",
      "[5, 6, 7, 8, 9, 10, 11, 12, 13, 14, 15]\n",
      "[6, 7]\n",
      "[8, 9, 10, 11, 12, 13, 14, 15]\n"
     ]
    }
   ],
   "source": [
    "# 리스트 잘라내기 (슬라이싱) -> 요소들을 쪼개는 것\n",
    "## [시작번호:종료번호]\n",
    "s = [1,2,3,4,5,6,7,8,9,10,11,12,13,14,15]\n",
    "sliced = s[:4] # s[0] ~ s[3]\n",
    "print(sliced)\n",
    "sliced = s[4:] # s[4] ~ 끝까지\n",
    "print(sliced)\n",
    "sliced = s[5:7] # s[5] ~ s[6]\n",
    "print(sliced)\n",
    "sliced = s[-8:] # s[-8] ~ 끝까지\n",
    "print(sliced)"
   ]
  },
  {
   "cell_type": "markdown",
   "metadata": {},
   "source": [
    "#### 2.3 문자열"
   ]
  },
  {
   "cell_type": "code",
   "execution_count": 34,
   "metadata": {},
   "outputs": [
    {
     "name": "stdout",
     "output_type": "stream",
     "text": [
      "<class 'str'> <class 'str'>\n",
      "<class 'str'> <class 'int'>\n"
     ]
    }
   ],
   "source": [
    "# 문자의 이해\n",
    "print(type('a'),type(\"a\"))\n",
    "print(type('1234'),type(1234))"
   ]
  },
  {
   "cell_type": "code",
   "execution_count": 35,
   "metadata": {},
   "outputs": [
    {
     "name": "stdout",
     "output_type": "stream",
     "text": [
      "98 <class 'int'>\n",
      "a <class 'str'>\n"
     ]
    }
   ],
   "source": [
    "# 문자 함수\n",
    "ch = 'b'\n",
    "ascii_code = ord(ch) # ord() -> 전달되는 문자의 ASCII 코드 값을 변환\n",
    "ascii_char = chr(97) # chr() -> 전달되는 정수에 해당되는 ASCII 문자를 반환\n",
    "print(ascii_code,type(ascii_code))\n",
    "print(ascii_char,type(ascii_char))"
   ]
  },
  {
   "cell_type": "code",
   "execution_count": 36,
   "metadata": {},
   "outputs": [
    {
     "name": "stdout",
     "output_type": "stream",
     "text": [
      "49 <class 'str'> <class 'int'>\n"
     ]
    }
   ],
   "source": [
    "# 정수와 문자열간의 변환\n",
    "c = '1'\n",
    "n = ord(c) # ASCII 값 반환\n",
    "print(n,type(c),type(n))"
   ]
  },
  {
   "cell_type": "code",
   "execution_count": 37,
   "metadata": {},
   "outputs": [
    {
     "name": "stdout",
     "output_type": "stream",
     "text": [
      "1 <class 'str'> <class 'int'>\n"
     ]
    }
   ],
   "source": [
    "c = '1'\n",
    "n = int(c) # integer 반환\n",
    "print(n,type(c),type(n)) # 실수를 사용하려는 경우 float() 함수를 사용할 수 있음"
   ]
  },
  {
   "cell_type": "code",
   "execution_count": 38,
   "metadata": {},
   "outputs": [
    {
     "name": "stdout",
     "output_type": "stream",
     "text": [
      "1234\n",
      "[1, 23, 4] [\n",
      "1234\n"
     ]
    }
   ],
   "source": [
    "# int() -> 전달된 문자열이 숫자일 때 이를 정수로 변환하여 반환\n",
    "## str() -> 전달된 것을 문자열로 반환\n",
    "string = str(1234)\n",
    "print(string)\n",
    "string = str([1,23,4])\n",
    "print(string,string[0])\n",
    "string = str('12'+'34')\n",
    "print(string)"
   ]
  },
  {
   "cell_type": "code",
   "execution_count": 39,
   "metadata": {},
   "outputs": [
    {
     "name": "stdout",
     "output_type": "stream",
     "text": [
      "this is string constant <class 'str'>\n",
      "this is string constant\n",
      "this is string constant\n"
     ]
    }
   ],
   "source": [
    "# 문자열의 검색\n",
    "## 문자열을 문자 단위로 출력\n",
    "s = 'this is string constant'\n",
    "print(s,type(s))\n",
    "i = 0\n",
    "while i < len(s):\n",
    "    print(s[i],end='') # 행을 내리지 않음 (end='') -> 나란히 출력\n",
    "    i+=1\n",
    "print('') # 여기서 행을 내림 (개행)\n",
    "for i in s:\n",
    "    print(i,end='')\n",
    "print('')"
   ]
  },
  {
   "cell_type": "code",
   "execution_count": 40,
   "metadata": {},
   "outputs": [
    {
     "name": "stdout",
     "output_type": "stream",
     "text": [
      "this is string constant\n",
      "t's count:  4\n"
     ]
    }
   ],
   "source": [
    "# 문자열 내에 특정 문잘르 확인하는 코드\n",
    "string = 'this is string constant'\n",
    "char = 't'\n",
    "char_count = 0\n",
    "i = 0\n",
    "while i < len(string):\n",
    "    print(string[i],end='')\n",
    "    if string[i] == char:\n",
    "        char_count += 1\n",
    "    i+=1\n",
    "print('')\n",
    "print(char+\"'s count: \",char_count)"
   ]
  },
  {
   "cell_type": "markdown",
   "metadata": {},
   "source": [
    "* 하나의 문자라도 파이썬에서는 <class 'str'>임\n",
    "* 그러므로 문자라는 표현보다는 부분 문자열(substring)이라는 표현이 많이 사용됨"
   ]
  },
  {
   "cell_type": "code",
   "execution_count": 41,
   "metadata": {},
   "outputs": [
    {
     "name": "stdout",
     "output_type": "stream",
     "text": [
      "python, this is string constant\n",
      "is 이 2 개 포함됨\n",
      "is 이 [ 10 ]번에 위치함\n"
     ]
    }
   ],
   "source": [
    "# 문자열 내 특정 문자 또는 부분 문자열의 개수를 세려는 경우 -> count()\n",
    "## 포함되어 있는지만 확인하고자 하는 경우 -> find()\n",
    "string = 'python, this is string constant'\n",
    "print(string)\n",
    "substring = 'is'\n",
    "print(substring,'이',string.count(substring),'개 포함됨')\n",
    "print(substring,'이 [',string.find(substring),']번에 위치함')"
   ]
  },
  {
   "cell_type": "code",
   "execution_count": null,
   "metadata": {},
   "outputs": [],
   "source": []
  }
 ],
 "metadata": {
  "kernelspec": {
   "display_name": "Python 3",
   "language": "python",
   "name": "python3"
  },
  "language_info": {
   "codemirror_mode": {
    "name": "ipython",
    "version": 3
   },
   "file_extension": ".py",
   "mimetype": "text/x-python",
   "name": "python",
   "nbconvert_exporter": "python",
   "pygments_lexer": "ipython3",
   "version": "3.8.5"
  }
 },
 "nbformat": 4,
 "nbformat_minor": 4
}
