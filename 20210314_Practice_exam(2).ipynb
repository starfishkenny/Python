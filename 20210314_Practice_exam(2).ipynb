{
 "cells": [
  {
   "cell_type": "markdown",
   "id": "residential-scientist",
   "metadata": {},
   "source": [
    "### 모의고사 2회"
   ]
  },
  {
   "cell_type": "markdown",
   "id": "negative-female",
   "metadata": {},
   "source": [
    "#### 축구장 임대료를 구하는 함수 빈칸 채우기"
   ]
  },
  {
   "cell_type": "code",
   "execution_count": 1,
   "id": "biblical-lancaster",
   "metadata": {},
   "outputs": [],
   "source": [
    "def solution(n,price):\n",
    "    games = n * (n-1) // 2\n",
    "    per_day = n // 2\n",
    "    answer = (games // per_day) * price\n",
    "    return answer"
   ]
  },
  {
   "cell_type": "markdown",
   "id": "victorian-enough",
   "metadata": {},
   "source": [
    "#### 축구화 주문 수량 구하는 함수 완성하기"
   ]
  },
  {
   "cell_type": "code",
   "execution_count": 2,
   "id": "divine-commissioner",
   "metadata": {},
   "outputs": [],
   "source": [
    "def solution(shoes_size):\n",
    "    answer = [0,0,0,0,0,0] # answer = [] / for _ in range(6): answer.append(0)\n",
    "    for size in shoes_size:\n",
    "        if size == '7':\n",
    "            answer[0] += 1\n",
    "        elif size == '7.5':\n",
    "            answer[1] += 1\n",
    "        elif size == '8':\n",
    "            answer[2] += 1\n",
    "        elif size == '8.5':\n",
    "            answer[3] += 1\n",
    "        elif size == '9':\n",
    "            answer[4] += 1\n",
    "        elif size == '9.5':\n",
    "            answer[5] += 1\n",
    "    return answer"
   ]
  },
  {
   "cell_type": "markdown",
   "id": "healthy-extra",
   "metadata": {},
   "source": [
    "#### 방문객 수의 차이를 구하는 함수의 빈칸 채우기"
   ]
  },
  {
   "cell_type": "code",
   "execution_count": null,
   "id": "vulnerable-cameroon",
   "metadata": {},
   "outputs": [],
   "source": [
    "def func_a(arr,num):  # num을 빼고 새로운 리스트 생성\n",
    "    ret = []\n",
    "    for i in arr:\n",
    "        if i != num:\n",
    "            ret.append(i)\n",
    "    return ret\n",
    "\n",
    "def func_b(a,b): # 뺼셈\n",
    "    if a >= b:\n",
    "        return a-b\n",
    "    else:\n",
    "        return b-a\n",
    "    \n",
    "def func_c(arr): # 최대값 구하는 함수\n",
    "    ret = -1\n",
    "    for i in arr:\n",
    "        if ret < i:\n",
    "            ret = i\n",
    "    return ret\n",
    "\n",
    "def solution(visitor):\n",
    "    max_first = func_c(visitor)\n",
    "    visitor_removed = func_a(visitor, max_first)\n",
    "    max_second = func_c(visitor_removed)\n",
    "    answer = func_b(max_first,max_second)\n",
    "    return answer"
   ]
  }
 ],
 "metadata": {
  "kernelspec": {
   "display_name": "Python 3",
   "language": "python",
   "name": "python3"
  },
  "language_info": {
   "codemirror_mode": {
    "name": "ipython",
    "version": 3
   },
   "file_extension": ".py",
   "mimetype": "text/x-python",
   "name": "python",
   "nbconvert_exporter": "python",
   "pygments_lexer": "ipython3",
   "version": "3.8.8"
  }
 },
 "nbformat": 4,
 "nbformat_minor": 5
}
