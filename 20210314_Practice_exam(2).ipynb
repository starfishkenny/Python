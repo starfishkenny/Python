{
 "cells": [
  {
   "cell_type": "markdown",
   "id": "residential-scientist",
   "metadata": {},
   "source": [
    "### 모의고사 2회"
   ]
  },
  {
   "cell_type": "markdown",
   "id": "negative-female",
   "metadata": {},
   "source": [
    "#### 축구장 임대료를 구하는 함수 빈칸 채우기"
   ]
  },
  {
   "cell_type": "code",
   "execution_count": 1,
   "id": "biblical-lancaster",
   "metadata": {},
   "outputs": [],
   "source": [
    "def solution(n,price):\n",
    "    games = n * (n-1) // 2\n",
    "    per_day = n // 2\n",
    "    answer = (games // per_day) * price\n",
    "    return answer"
   ]
  },
  {
   "cell_type": "markdown",
   "id": "victorian-enough",
   "metadata": {},
   "source": [
    "#### 축구화 주문 수량 구하는 함수 완성하기"
   ]
  },
  {
   "cell_type": "code",
   "execution_count": 2,
   "id": "divine-commissioner",
   "metadata": {},
   "outputs": [],
   "source": [
    "def solution(shoes_size):\n",
    "    answer = [0,0,0,0,0,0] # answer = [] / for _ in range(6): answer.append(0)\n",
    "    for size in shoes_size:\n",
    "        if size == '7':\n",
    "            answer[0] += 1\n",
    "        elif size == '7.5':\n",
    "            answer[1] += 1\n",
    "        elif size == '8':\n",
    "            answer[2] += 1\n",
    "        elif size == '8.5':\n",
    "            answer[3] += 1\n",
    "        elif size == '9':\n",
    "            answer[4] += 1\n",
    "        elif size == '9.5':\n",
    "            answer[5] += 1\n",
    "    return answer"
   ]
  },
  {
   "cell_type": "markdown",
   "id": "healthy-extra",
   "metadata": {},
   "source": [
    "#### 방문객 수의 차이를 구하는 함수의 빈칸 채우기"
   ]
  },
  {
   "cell_type": "code",
   "execution_count": null,
   "id": "vulnerable-cameroon",
   "metadata": {},
   "outputs": [],
   "source": [
    "def func_a(arr,num):  # num을 빼고 새로운 리스트 생성\n",
    "    ret = []\n",
    "    for i in arr:\n",
    "        if i != num:\n",
    "            ret.append(i)\n",
    "    return ret\n",
    "\n",
    "def func_b(a,b): # 뺼셈\n",
    "    if a >= b:\n",
    "        return a-b\n",
    "    else:\n",
    "        return b-a\n",
    "    \n",
    "def func_c(arr): # 최대값 구하는 함수\n",
    "    ret = -1\n",
    "    for i in arr:\n",
    "        if ret < i:\n",
    "            ret = i\n",
    "    return ret\n",
    "\n",
    "def solution(visitor):\n",
    "    max_first = func_c(visitor)\n",
    "    visitor_removed = func_a(visitor, max_first)\n",
    "    max_second = func_c(visitor_removed)\n",
    "    answer = func_b(max_first,max_second)\n",
    "    return answer"
   ]
  },
  {
   "cell_type": "markdown",
   "id": "considered-sister",
   "metadata": {},
   "source": [
    "#### 학점별 인원수를 구하는 함수의 빈칸 채우기"
   ]
  },
  {
   "cell_type": "code",
   "execution_count": 1,
   "id": "improving-charm",
   "metadata": {},
   "outputs": [],
   "source": [
    "def solution(scores):\n",
    "    grade_counter = [0 for i in range(5)]\n",
    "    for i in scores:\n",
    "        if i >= 85:\n",
    "            grade_counter[0] += 1\n",
    "        elif i >= 70:\n",
    "            grade_counter[1] += 1\n",
    "        elif i >= 55:\n",
    "            grade_counter[2] += 1\n",
    "        elif i >= 40:\n",
    "            grade_counter[3] += 1\n",
    "        else:\n",
    "            grade_counter[4] += 1\n",
    "    return grade_counter"
   ]
  },
  {
   "cell_type": "markdown",
   "id": "intensive-second",
   "metadata": {},
   "source": [
    "#### 빈도(출현 횟수)를 구하는 함수의 빈칸 채우기"
   ]
  },
  {
   "cell_type": "code",
   "execution_count": 2,
   "id": "driving-ordinary",
   "metadata": {},
   "outputs": [],
   "source": [
    "def func_a(arr):\n",
    "    counter = [0 for _ in range(1001)] # arr 요소들 값의 개수를 센 리스트 반환\n",
    "    for i in arr:\n",
    "        counter[i] += 1\n",
    "    return counter\n",
    "\n",
    "def func_b(arr): # 최대값\n",
    "    ret = 0\n",
    "    for i in arr:\n",
    "        if ret < i:\n",
    "            ret = i\n",
    "    return ret\n",
    "\n",
    "def func_c(arr): # 최소값\n",
    "    ret = func_b(arr)\n",
    "    for i in arr:\n",
    "        if i != 0 and ret > i: # 0은 제외한 최소값 조건\n",
    "            ret = i\n",
    "    return ret\n",
    "\n",
    "def solution(arr):\n",
    "    counter = func_a(arr)\n",
    "    max_cnt = func_b(counter)\n",
    "    min_cnt = func_c(counter)\n",
    "    return max_cnt // min_cnt"
   ]
  },
  {
   "cell_type": "markdown",
   "id": "julian-internship",
   "metadata": {},
   "source": [
    "#### 몸무게가 큰 사람의 수를 구하는 함수 수정하기"
   ]
  },
  {
   "cell_type": "code",
   "execution_count": 3,
   "id": "palestinian-negotiation",
   "metadata": {},
   "outputs": [],
   "source": [
    "def solution(weight,k):\n",
    "    answer = 0\n",
    "    for w in weight:\n",
    "        if w > k:\n",
    "            answer += 1\n",
    "    return answer"
   ]
  },
  {
   "cell_type": "markdown",
   "id": "accessory-termination",
   "metadata": {},
   "source": [
    "#### 문자열 내 특정 문자를 바꾸는 함수 수정하기"
   ]
  },
  {
   "cell_type": "code",
   "execution_count": 9,
   "id": "initial-benjamin",
   "metadata": {},
   "outputs": [],
   "source": [
    "def solution(s):\n",
    "    answer = []\n",
    "    for c in s:\n",
    "        if '0' <= c <= '9':\n",
    "            n = ord(\"i\") - ord(c) # 큰 값에서 작은 값을 빼야 함\n",
    "            c = chr(n)\n",
    "        answer.append(c)\n",
    "    return ''.join(answer)"
   ]
  },
  {
   "cell_type": "markdown",
   "id": "sensitive-valley",
   "metadata": {},
   "source": [
    "#### 이름에 특정 문자가 포함된 개수를 구하는 함수 수정하기"
   ]
  },
  {
   "cell_type": "code",
   "execution_count": null,
   "id": "complete-sphere",
   "metadata": {},
   "outputs": [],
   "source": [
    "def solution(name_list):\n",
    "    answer = 0\n",
    "    for name in name_list:\n",
    "        for char in name:\n",
    "            if char.find('A') > -1 or char.find('K') > -1: # find 함수의 사용\n",
    "                answer += 1\n",
    "                break\n",
    "    return answer"
   ]
  }
 ],
 "metadata": {
  "kernelspec": {
   "display_name": "Python 3",
   "language": "python",
   "name": "python3"
  },
  "language_info": {
   "codemirror_mode": {
    "name": "ipython",
    "version": 3
   },
   "file_extension": ".py",
   "mimetype": "text/x-python",
   "name": "python",
   "nbconvert_exporter": "python",
   "pygments_lexer": "ipython3",
   "version": "3.8.8"
  }
 },
 "nbformat": 4,
 "nbformat_minor": 5
}
