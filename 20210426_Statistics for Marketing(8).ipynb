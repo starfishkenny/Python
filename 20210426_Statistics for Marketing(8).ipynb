{
 "cells": [
  {
   "cell_type": "markdown",
   "id": "mighty-bristol",
   "metadata": {},
   "source": [
    "### 분산분석\n",
    "* 분산분석(ANOVA: Analysis of Variance): 명목척돌로 측정된 독립변수와 등간 또는 비율척도로 측정된 종속변수 사이의 관계를 3개 이상 집단간 평균의 차이로 검정할 때 사용\n",
    "  - 집단간 평균 차이를 판단함에 있어 단순히 평균값의 차이를 비교하는 것은 정확한 비교가 어렵기 때문에, 집단간 분산과 집단 내 분산을 이용하여 여러 집단간 평균 차이를 판단한다고 하여 평균 차이를 검정함에도 불구하고 분산분석이라 함\n",
    "* 분산분석의 종류: 독립변수와 종속변수의 수에 따라 일원분산분석, 이원분산분석(이상 단일변량분석), 다변량분산분석, 공분산분석\n",
    "  - 일원분산분석(One-way ANOVA): 집단을 나누는 요인인 독립변수가 1개(단일요인), 종속변수도 1개일 때 집단간 종속변수의 평균 차이를 분석하는 방법\n",
    "  - 이원분산분석(Two-way ANOVA: 독립변수는 2개, 종속변수는 1개일 때 집단간 종속변수의 평균 차이를 분석하는 방법\n",
    "  - 다변량분산분석(MANOVA: Multivariate ANOVA): 종속변수가 2개 이상일 때 종속변수들가의 집단간 차이를 동시에 평가하는 방법\n",
    "  - 공분산분석(ANCOVA: Analysis of Covariance): 일반적인 분산분석에서 종속변수에 영향을 줄 수 있는 연속형 외생변수의 효과를 제거하고, 순수하게 집단 간 종속변수의 평균 차이를 분석하는 방법\n",
    "* 사후분석: 분산분석 후 구체적으로 어떤 집단이 어떤 집단과 유의한 차이를 보이는지 비교할 수 있는 방법\n",
    "  - '각 집단의 평균은 동일하다.'라는 분산분석의 귀무가설에 대해 기각 여부와 관계없이 수행 가능\n",
    "  - 분산분석의 귀무가설이 기각되지 않는 자료에 대해서 사후분석을 진행한 경우라고 하더라도 집단간의 모평균 차이는 존재할 수 있음\n",
    "  - FIsher의 최소유의차(LSD, least significant difference), Tukey의 정직유의차(HSD, honestly significant difference), Scheffe 방법, Duncan 방법 등 있음\n",
    "  - Fisher의 최소유의차: 등분산을 가정, 주로 귀무가설이 기각되는 경우에 사용하며 각 집단의 표본 크기가 다른 경우에도 적용이 가능하다는 장점이 있음\n",
    "  - Tukey의 정직유의차: Fisher의 최소유의차 방법보다 더욱 엄격, 일반적으로 검정력이 떨어지기 때문에 보통 유의수준을 0.05가 아닌 0.1 이상의 큰 값으로 분석, 집단간 차이를 가장 정밀하게 감지할 수 있지만 집단별 표본 크기가 같은 경우에만 의미가 있음\n",
    "  - Scheffe 방법: 일반적이고 융통성 있는 방법, 집단별 표본 크기가 다른 경우에도 사용이 가능하지만 필요이상으로 넓은 신뢰구간을 제시하는 단점이 있음\n",
    "  - Duncan 방법: Fisher의 최소유의차와 마찬가지로 등분산을 가정, 1종 오류를 범할 가능성이 높다는 단점이 있음"
   ]
  },
  {
   "cell_type": "markdown",
   "id": "expired-growth",
   "metadata": {},
   "source": [
    "#### 일원분산분석\n",
    "* 가설검정을 위해 사용되는 검정통계량은 F값\n",
    "* F값 $\\rightarrow$ 집단내 분산 대비 집단간 분산이 몇 배 더 큰지를 나타내는 값\n",
    "* F값이 F의 임계치보다 크다면 집단 간의 차이가 충분히 크다는 의미\n",
    "* F검정 통계량을 구하기 위해서는 집단내 분산, 집단간 분산, 총분산을 알아야 함\n",
    "  - 집단내 분산(SSW: Sum of Square Within Groups): 각 집단의 평균치를 중심으로 각 집단내의 자료들이 우연적인 오차에 의해 어떻게 흩어져 있는가를 요약하는 척도\n",
    "  - 집단간 분산(SSB: Sum of Square Between Groups): 각 집단의 평균들이 전체 평균으로부터 흩어진 정도를 나타내는 척도\n",
    "  - 총 분산(SST: Sum of Square Total): 각 자료들이 전체 평균으로부터 흩어진 정도를 나타내는 척도\n",
    "* 분산의 정도는 각 자료가 평균으로부터 흩어진 정도뿐 아니라 자료의 수에도 영향을 받기 때문에 각 편차 제곱의 합을 자유도로 나눈 표준화 값인 제곱 합의 평균을 이용하여 F검정 통계량을 구함\n",
    "\n",
    "#### 이원분산분석 (Two-way ANOVA)\n",
    "* 2개의 요인(독립변수 2개)에 의한 집단간 종속변수의 평균 차이 비교를 할 때 사용하는 분석\n",
    "* 일원분산분석의 원리와 해석방법과 동일, 그러나 독립변수의 수가 2개이기 때문에 독립변수들간의 상호작용 효과를 추가로 판단해야 함\n",
    "\n",
    "#### 다변량분산분석 (MANOVA: Multivariate Analysis of Variance)\n",
    "* 종속변수가 2개 이상인 경우 집단 간의 평균 차이를 비교하기 위한 분석 기법\n",
    "* 집단 간 평균 뿐만 아니라 모집단에 대해 여러 상황을 제시하고 여러 개의 변수를 동시에 관찰하는 경우에도 유용\n",
    "* 다변량분산분석의 종속변수 $\\rightarrow$ 벡터변수, 다변량분산분석 $\\rightarrow$ 모집단들의 종속변수에 의해 구성된 공간에서 평균이 같은지 조사\n",
    "* 우선 종속변수가 2개이기 때문에 종속변수 사이에 상관관계가 존재하는지를 파악해야 함\n",
    "  - 종속변수 간의 상관관계 없음 $\\rightarrow$ 단일변량 분산분석으로 각각 분석을 진행\n",
    "  - 종속변수 간의 상관관계 있음 $\\rightarrow$ 다변량분산분석 진행\n",
    "* 다변량 통계치\n",
    "  - $Pillai's Trace$: 집단간분산 / 총분산 (값이 클수록 유의)\n",
    "  - $Wilk's Lambda$:집단내분산 / 총분산 (값이 작을수록 유의)\n",
    "  - $Hotteling's T^2$: 집단간분산 / 집단내분산 (값이 클수록 유의)"
   ]
  },
  {
   "cell_type": "code",
   "execution_count": 1,
   "id": "early-meeting",
   "metadata": {},
   "outputs": [],
   "source": [
    "# 일원분산분석 실습\n",
    "# A쇼핑 고객들의 구매유형별 총 매출액의 차이가 있는지를 일원분산분석을 통해 검정\n",
    "# 귀무가설: A쇼핑 고객의 구매유형에 따른 총 매출액의 차이는 없다\n",
    "# 연구가설: A쇼핑 고객은 적어도 1개의 구매유형이 다른 구매유형과 총 매출액 차이가 존재한다"
   ]
  },
  {
   "cell_type": "code",
   "execution_count": 2,
   "id": "massive-bibliography",
   "metadata": {},
   "outputs": [
    {
     "name": "stderr",
     "output_type": "stream",
     "text": [
      "C:\\Users\\starf\\anaconda3\\envs\\Regular\\lib\\site-packages\\outdated\\utils.py:14: OutdatedPackageWarning: The package pingouin is out of date. Your version is 0.3.10, the latest is 0.3.12.\n",
      "Set the environment variable OUTDATED_IGNORE=1 to disable these warnings.\n",
      "  return warn(\n"
     ]
    }
   ],
   "source": [
    "import pandas as pd\n",
    "import numpy as np\n",
    "import pingouin as pg\n",
    "import scipy as sp\n",
    "import scikit_posthocs # 사후분석용 패키지"
   ]
  },
  {
   "cell_type": "code",
   "execution_count": 3,
   "id": "religious-africa",
   "metadata": {},
   "outputs": [],
   "source": [
    "df = pd.read_csv('Ashopping.csv',sep=',',encoding='CP949')\n",
    "df1 = df[['구매유형','총_매출액']]\n",
    "pd.options.display.float_format = '{:.3f}'.format # 소수점 셋째 자리까지 설정"
   ]
  },
  {
   "cell_type": "code",
   "execution_count": 4,
   "id": "fresh-presence",
   "metadata": {},
   "outputs": [
    {
     "data": {
      "text/plain": [
       "LeveneResult(statistic=61.83834278363635, pvalue=1.1483869977419955e-36)"
      ]
     },
     "execution_count": 4,
     "metadata": {},
     "output_type": "execute_result"
    }
   ],
   "source": [
    "# 등분산 검정\n",
    "구매유형 = []\n",
    "for i in range(1,5,1):\n",
    "    구매유형.append(df1[df1.구매유형==i].총_매출액)\n",
    "\n",
    "sp.stats.levene(구매유형[0], 구매유형[1], 구매유형[2], 구매유형[3])"
   ]
  },
  {
   "cell_type": "code",
   "execution_count": 5,
   "id": "together-insertion",
   "metadata": {},
   "outputs": [
    {
     "name": "stdout",
     "output_type": "stream",
     "text": [
      "  Source  ddof1   ddof2      F  p-unc   np2\n",
      "0   구매유형      3 230.936 88.238  0.000 0.193\n",
      "      4     2     1     3\n",
      "4 1.000 0.000 0.805 0.000\n",
      "2 0.000 1.000 0.000 0.008\n",
      "1 0.805 0.000 1.000 0.000\n",
      "3 0.000 0.008 0.000 1.000\n",
      "3403682.3255813955 9612645.078864353 11779839.652777778 4392794.395161291\n"
     ]
    },
    {
     "name": "stderr",
     "output_type": "stream",
     "text": [
      "<ipython-input-5-5a4bf642683c>:5: SettingWithCopyWarning: \n",
      "A value is trying to be set on a copy of a slice from a DataFrame.\n",
      "Try using .loc[row_indexer,col_indexer] = value instead\n",
      "\n",
      "See the caveats in the documentation: https://pandas.pydata.org/pandas-docs/stable/user_guide/indexing.html#returning-a-view-versus-a-copy\n",
      "  df1['구매유형'] = df1['구매유형'].astype(str)\n"
     ]
    }
   ],
   "source": [
    "# Welch 일원분산분석\n",
    "print(pg.welch_anova(dv='총_매출액', between='구매유형', data=df1)) # dv -> 종속변수, between -> 독립변수\n",
    "\n",
    "# 사후분석\n",
    "df1['구매유형'] = df1['구매유형'].astype(str)\n",
    "print(scikit_posthocs.posthoc_scheffe(df1,val_col='총_매출액',group_col='구매유형')) #val_col -> 종속변수, group_col -> 독립변수\n",
    "\n",
    "# 구매유형별 평균 총매출액\n",
    "print(구매유형[0].mean(),구매유형[1].mean(),구매유형[2].mean(),구매유형[3].mean())"
   ]
  },
  {
   "cell_type": "code",
   "execution_count": 6,
   "id": "french-satellite",
   "metadata": {},
   "outputs": [],
   "source": [
    "# 이원분산분석 실습\n",
    "# 구매유형과 거주지역에 따라 고객들의 총 매출액이 다른지 검정\n",
    "# 제1독립변수의 효과, 제2독립변수의 효과, 상호작용 효과에 대해 논하는 가설로 분리하여 설정\n",
    "# 구매유형에 따른 매출액 차이 가설\n",
    "  # 귀무가설: 구매유형에 따른 총 매출액의 차이는 없다.\n",
    "  # 연구가설: 적어도 1개의 구매유형이 다른 구매유형과 총 매출액 차이가 존재한다.\n",
    "# 거주지역에 따른 매출액 차이 가설\n",
    "  # 귀무가설: 거주지역에 따른 총 매출액의 차이는 없다.\n",
    "  # 연구가설: 적어도 1개의 거주지역이 다른 거주지역과 총 매출액 차이가 존재한다.\n",
    "# 독립변수간 상호작용에 대한 가설\n",
    "  # 귀무가설: 구매유형과 거주지역의 상호작용 효과는 없다.\n",
    "  # 연구가설: 구매유형과 거주지역의 상호작용 효과는 있다.."
   ]
  },
  {
   "cell_type": "code",
   "execution_count": 7,
   "id": "complex-cooper",
   "metadata": {},
   "outputs": [
    {
     "name": "stdout",
     "output_type": "stream",
     "text": [
      "        Source                    SS      DF                   MS      F  \\\n",
      "0         구매유형  6193823502579444.000   3.000 2064607834193148.000 62.781   \n",
      "1         거주지역 16139576682269626.000   6.000 2689929447044937.500 81.796   \n",
      "2  구매유형 * 거주지역  3867936213048931.000  18.000  214885345169385.062  6.534   \n",
      "3     Residual 32096439113329672.000 976.000   32885695812837.777    NaN   \n",
      "\n",
      "   p-unc   np2  \n",
      "0  0.000 0.162  \n",
      "1  0.000 0.335  \n",
      "2  0.000 0.108  \n",
      "3    NaN   NaN  \n",
      "      4     2     1     3\n",
      "4 1.000 0.000 0.805 0.000\n",
      "2 0.000 1.000 0.000 0.008\n",
      "1 0.805 0.000 1.000 0.000\n",
      "3 0.000 0.008 0.000 1.000\n",
      "      6     4     5     7     3     2     1\n",
      "6 1.000 0.008 0.002 0.000 0.019 0.339 0.988\n",
      "4 0.008 1.000 1.000 0.000 0.978 0.980 1.000\n",
      "5 0.002 1.000 1.000 0.000 0.935 0.965 1.000\n",
      "7 0.000 0.000 0.000 1.000 0.000 0.000 0.412\n",
      "3 0.019 0.978 0.935 0.000 1.000 1.000 1.000\n",
      "2 0.339 0.980 0.965 0.000 1.000 1.000 1.000\n",
      "1 0.988 1.000 1.000 0.412 1.000 1.000 1.000\n"
     ]
    },
    {
     "name": "stderr",
     "output_type": "stream",
     "text": [
      "<ipython-input-7-a6d7a1fc1f65>:9: SettingWithCopyWarning: \n",
      "A value is trying to be set on a copy of a slice from a DataFrame.\n",
      "Try using .loc[row_indexer,col_indexer] = value instead\n",
      "\n",
      "See the caveats in the documentation: https://pandas.pydata.org/pandas-docs/stable/user_guide/indexing.html#returning-a-view-versus-a-copy\n",
      "  df1['구매유형'] = df1['구매유형'].astype(str)\n",
      "<ipython-input-7-a6d7a1fc1f65>:10: SettingWithCopyWarning: \n",
      "A value is trying to be set on a copy of a slice from a DataFrame.\n",
      "Try using .loc[row_indexer,col_indexer] = value instead\n",
      "\n",
      "See the caveats in the documentation: https://pandas.pydata.org/pandas-docs/stable/user_guide/indexing.html#returning-a-view-versus-a-copy\n",
      "  df1['거주지역'] = df1['거주지역'].astype(str)\n"
     ]
    },
    {
     "data": {
      "text/html": [
       "<div>\n",
       "<style scoped>\n",
       "    .dataframe tbody tr th:only-of-type {\n",
       "        vertical-align: middle;\n",
       "    }\n",
       "\n",
       "    .dataframe tbody tr th {\n",
       "        vertical-align: top;\n",
       "    }\n",
       "\n",
       "    .dataframe thead th {\n",
       "        text-align: right;\n",
       "    }\n",
       "</style>\n",
       "<table border=\"1\" class=\"dataframe\">\n",
       "  <thead>\n",
       "    <tr style=\"text-align: right;\">\n",
       "      <th>거주지역</th>\n",
       "      <th>1</th>\n",
       "      <th>2</th>\n",
       "      <th>3</th>\n",
       "      <th>4</th>\n",
       "      <th>5</th>\n",
       "      <th>6</th>\n",
       "      <th>7</th>\n",
       "    </tr>\n",
       "    <tr>\n",
       "      <th>구매유형</th>\n",
       "      <th></th>\n",
       "      <th></th>\n",
       "      <th></th>\n",
       "      <th></th>\n",
       "      <th></th>\n",
       "      <th></th>\n",
       "      <th></th>\n",
       "    </tr>\n",
       "  </thead>\n",
       "  <tbody>\n",
       "    <tr>\n",
       "      <th>1</th>\n",
       "      <td>NaN</td>\n",
       "      <td>3281350.000</td>\n",
       "      <td>3002825.000</td>\n",
       "      <td>3041428.182</td>\n",
       "      <td>3637031.667</td>\n",
       "      <td>3712146.667</td>\n",
       "      <td>3864880.000</td>\n",
       "    </tr>\n",
       "    <tr>\n",
       "      <th>2</th>\n",
       "      <td>NaN</td>\n",
       "      <td>NaN</td>\n",
       "      <td>4215648.571</td>\n",
       "      <td>8278686.562</td>\n",
       "      <td>6590330.674</td>\n",
       "      <td>10226770.763</td>\n",
       "      <td>13513839.437</td>\n",
       "    </tr>\n",
       "    <tr>\n",
       "      <th>3</th>\n",
       "      <td>4906400.000</td>\n",
       "      <td>3215055.000</td>\n",
       "      <td>6809777.143</td>\n",
       "      <td>7965439.677</td>\n",
       "      <td>11046081.250</td>\n",
       "      <td>13768678.750</td>\n",
       "      <td>25451441.176</td>\n",
       "    </tr>\n",
       "    <tr>\n",
       "      <th>4</th>\n",
       "      <td>NaN</td>\n",
       "      <td>4034175.556</td>\n",
       "      <td>3720989.697</td>\n",
       "      <td>4229915.000</td>\n",
       "      <td>4272964.468</td>\n",
       "      <td>4749139.200</td>\n",
       "      <td>5138468.276</td>\n",
       "    </tr>\n",
       "  </tbody>\n",
       "</table>\n",
       "</div>"
      ],
      "text/plain": [
       "거주지역           1           2           3           4            5  \\\n",
       "구매유형                                                                \n",
       "1            NaN 3281350.000 3002825.000 3041428.182  3637031.667   \n",
       "2            NaN         NaN 4215648.571 8278686.562  6590330.674   \n",
       "3    4906400.000 3215055.000 6809777.143 7965439.677 11046081.250   \n",
       "4            NaN 4034175.556 3720989.697 4229915.000  4272964.468   \n",
       "\n",
       "거주지역            6            7  \n",
       "구매유형                            \n",
       "1     3712146.667  3864880.000  \n",
       "2    10226770.763 13513839.437  \n",
       "3    13768678.750 25451441.176  \n",
       "4     4749139.200  5138468.276  "
      ]
     },
     "execution_count": 7,
     "metadata": {},
     "output_type": "execute_result"
    }
   ],
   "source": [
    "df= pd.read_csv('Ashopping.csv', sep=',', encoding='CP949')\n",
    "df1 = df[['총_매출액','구매유형','거주지역']]\n",
    "pd.options.display.float_format = '{:.3f}'.format\n",
    "\n",
    "# 이원분산분석\n",
    "print(pg.anova(dv = '총_매출액', between = ['구매유형','거주지역'], data = df1))\n",
    "\n",
    "# 사후분석\n",
    "df1['구매유형'] = df1['구매유형'].astype(str)\n",
    "df1['거주지역'] = df1['거주지역'].astype(str)\n",
    "print(scikit_posthocs.posthoc_scheffe(df1, val_col = '총_매출액', group_col = '구매유형'))\n",
    "print(scikit_posthocs.posthoc_scheffe(df1, val_col = '총_매출액', group_col = '거주지역'))\n",
    "\n",
    "# 구매유형, 거주지역별 평균 총 매출액\n",
    "pd.pivot_table(df1, index = '구매유형', columns = '거주지역', values = '총_매출액', aggfunc=np.mean)"
   ]
  },
  {
   "cell_type": "code",
   "execution_count": 8,
   "id": "blocked-declaration",
   "metadata": {},
   "outputs": [],
   "source": [
    "# 결과해석\n",
    "# 구매유형의 F값: 63.18, 거주지역의 F값: 81.80, 두 변수간의 상호작용 효과의 F값: 6.53\n",
    "# 유의확률은 모두 0.01 이하\n",
    "# 사후분석 결과: 구매유형은 구매유형(1)과 구매유형(4)를 제외한 나머지 유형 간의 총 매출액 차이가 유의, \n",
    "# 거주지역은 (3,6), (4,6), (5,6), (2,7), (3,7), (4,7), (5,7), (6,7) 그룹간의 총 매출액 차이가 유의\n",
    "# -> 이원분산분석 결과 모든 귀무가설 기각, 연구가설 채택 = 매출액은 구매유형, 거주지역에 따라 달라진다고 볼 수 있고, 구매유형과 거주지역 간의 상호작용 효과 또한 유의하다."
   ]
  },
  {
   "cell_type": "code",
   "execution_count": 9,
   "id": "heard-commons",
   "metadata": {},
   "outputs": [],
   "source": [
    "# 다변량분산분석 실습\n",
    "# 구매유형, 거주지역에 따라 방문빈도 및 총 매출액의 차이를 검정\n",
    "  # 귀무가설: A쇼핑 고객의 구매유형, 거주지역에 따른 방문빈도, 총 매출액의 차이는 없다.\n",
    "  # 연구가설: A쇼핑 고객의 구매유형, 거주지역에 따른 방문빈도, 총 매출액의 차이는 있다.\n",
    "# 앞선 상관관계분석 실습에서 종속변수 (방문빈도, 총 매출액) 간의 유의한 상관관계가 존재하는 것으로 판명됨\n",
    "# 그러므로 바로 다변량분산분석 진행"
   ]
  },
  {
   "cell_type": "code",
   "execution_count": 10,
   "id": "incoming-partnership",
   "metadata": {},
   "outputs": [],
   "source": [
    "# 모듈 및 데이터 불러오기\n",
    "import pandas as pd\n",
    "from statsmodels.multivariate.manova import MANOVA\n",
    "df = pd.read_csv('Ashopping.csv', sep=',', encoding='CP949')\n",
    "df1 = df[['총_매출액','방문빈도','구매유형','거주지역']]\n",
    "pd.options.display.float_format = '{:.3f}'.format"
   ]
  },
  {
   "cell_type": "code",
   "execution_count": 11,
   "id": "collect-volume",
   "metadata": {},
   "outputs": [
    {
     "name": "stdout",
     "output_type": "stream",
     "text": [
      "                  Multivariate linear model\n",
      "==============================================================\n",
      "                                                              \n",
      "--------------------------------------------------------------\n",
      "        Intercept        Value  Num DF  Den DF  F Value Pr > F\n",
      "--------------------------------------------------------------\n",
      "           Wilks' lambda 0.9578 2.0000 996.0000 21.9327 0.0000\n",
      "          Pillai's trace 0.0422 2.0000 996.0000 21.9327 0.0000\n",
      "  Hotelling-Lawley trace 0.0440 2.0000 996.0000 21.9327 0.0000\n",
      "     Roy's greatest root 0.0440 2.0000 996.0000 21.9327 0.0000\n",
      "--------------------------------------------------------------\n",
      "                                                              \n",
      "--------------------------------------------------------------\n",
      "          구매유형          Value  Num DF  Den DF  F Value  Pr > F\n",
      "--------------------------------------------------------------\n",
      "          Wilks' lambda 0.8248 2.0000 996.0000 105.8119 0.0000\n",
      "         Pillai's trace 0.1752 2.0000 996.0000 105.8119 0.0000\n",
      " Hotelling-Lawley trace 0.2125 2.0000 996.0000 105.8119 0.0000\n",
      "    Roy's greatest root 0.2125 2.0000 996.0000 105.8119 0.0000\n",
      "--------------------------------------------------------------\n",
      "                                                              \n",
      "--------------------------------------------------------------\n",
      "           거주지역          Value  Num DF  Den DF  F Value Pr > F\n",
      "--------------------------------------------------------------\n",
      "           Wilks' lambda 0.8672 2.0000 996.0000 76.2545 0.0000\n",
      "          Pillai's trace 0.1328 2.0000 996.0000 76.2545 0.0000\n",
      "  Hotelling-Lawley trace 0.1531 2.0000 996.0000 76.2545 0.0000\n",
      "     Roy's greatest root 0.1531 2.0000 996.0000 76.2545 0.0000\n",
      "==============================================================\n",
      "\n"
     ]
    }
   ],
   "source": [
    "# 다변량분산분석\n",
    "print(MANOVA.from_formula('방문빈도 + 총_매출액 ~ 구매유형 + 거주지역', data=df1).mv_test())\n",
    "\n",
    "# from_formula('종속변수1 + 종속변수2 + ... + 종속변수n ~ 독립변수1 + 독립변수2 + ... + 독립변수n', data=data1)의 형태\n",
    "# mv_test(): 앞서 설정해놓은 다변량분산분석 가설 검정을 수행하여 통계량 산출"
   ]
  },
  {
   "cell_type": "code",
   "execution_count": 12,
   "id": "preceding-puzzle",
   "metadata": {},
   "outputs": [],
   "source": [
    "# 다변량분산분석 정체 모형의 적합성, 거주지역과 구매유형에 대한 각각의 다변량분산분석 모형의 결과 출력\n",
    "# 모두 유의확률 0.01 이하로 모형 유의미"
   ]
  },
  {
   "cell_type": "code",
   "execution_count": 13,
   "id": "decimal-there",
   "metadata": {},
   "outputs": [
    {
     "name": "stdout",
     "output_type": "stream",
     "text": [
      "\n",
      " 구매유형 총매출액 사후분석 \n",
      "       4     2     1     3\n",
      "4 1.000 0.000 0.805 0.000\n",
      "2 0.000 1.000 0.000 0.008\n",
      "1 0.805 0.000 1.000 0.000\n",
      "3 0.000 0.008 0.000 1.000\n",
      "\n",
      " 거주지역 총매출액 사후분석 \n",
      "       6     4     5     7     3     2     1\n",
      "6 1.000 0.008 0.002 0.000 0.019 0.339 0.988\n",
      "4 0.008 1.000 1.000 0.000 0.978 0.980 1.000\n",
      "5 0.002 1.000 1.000 0.000 0.935 0.965 1.000\n",
      "7 0.000 0.000 0.000 1.000 0.000 0.000 0.412\n",
      "3 0.019 0.978 0.935 0.000 1.000 1.000 1.000\n",
      "2 0.339 0.980 0.965 0.000 1.000 1.000 1.000\n",
      "1 0.988 1.000 1.000 0.412 1.000 1.000 1.000\n",
      "\n",
      " 구매유형 방문빈도 사후분석 \n",
      "       4     2     1     3\n",
      "4 1.000 0.000 0.030 0.998\n",
      "2 0.000 1.000 0.000 0.000\n",
      "1 0.030 0.000 1.000 0.075\n",
      "3 0.998 0.000 0.075 1.000\n",
      "\n",
      " 거주지역 방문빈도 사후분석 \n",
      "       6     4     5     7     3     2     1\n",
      "6 1.000 0.000 0.000 0.000 0.000 0.005 0.451\n",
      "4 0.000 1.000 0.913 0.000 0.370 0.604 0.949\n",
      "5 0.000 0.913 1.000 0.000 0.040 0.303 0.878\n",
      "7 0.000 0.000 0.000 1.000 0.000 0.000 0.018\n",
      "3 0.000 0.370 0.040 0.000 1.000 0.999 1.000\n",
      "2 0.005 0.604 0.303 0.000 0.999 1.000 1.000\n",
      "1 0.451 0.949 0.878 0.018 1.000 1.000 1.000\n",
      "\n",
      "구매유형, 거주지역별 평균총매출액\n",
      " 거주지역           1           2           3           4            5  \\\n",
      "구매유형                                                                \n",
      "1            NaN 3281350.000 3002825.000 3041428.182  3637031.667   \n",
      "2            NaN         NaN 4215648.571 8278686.562  6590330.674   \n",
      "3    4906400.000 3215055.000 6809777.143 7965439.677 11046081.250   \n",
      "4            NaN 4034175.556 3720989.697 4229915.000  4272964.468   \n",
      "\n",
      "거주지역            6            7  \n",
      "구매유형                            \n",
      "1     3712146.667  3864880.000  \n",
      "2    10226770.763 13513839.437  \n",
      "3    13768678.750 25451441.176  \n",
      "4     4749139.200  5138468.276  \n",
      "\n",
      "구매유형, 거주지역별 평균방문빈도\n",
      " 거주지역           1           2           3           4            5  \\\n",
      "구매유형                                                                \n",
      "1            NaN 3281350.000 3002825.000 3041428.182  3637031.667   \n",
      "2            NaN         NaN 4215648.571 8278686.562  6590330.674   \n",
      "3    4906400.000 3215055.000 6809777.143 7965439.677 11046081.250   \n",
      "4            NaN 4034175.556 3720989.697 4229915.000  4272964.468   \n",
      "\n",
      "거주지역            6            7  \n",
      "구매유형                            \n",
      "1     3712146.667  3864880.000  \n",
      "2    10226770.763 13513839.437  \n",
      "3    13768678.750 25451441.176  \n",
      "4     4749139.200  5138468.276  \n"
     ]
    },
    {
     "name": "stderr",
     "output_type": "stream",
     "text": [
      "<ipython-input-13-0d3223e679dd>:2: SettingWithCopyWarning: \n",
      "A value is trying to be set on a copy of a slice from a DataFrame.\n",
      "Try using .loc[row_indexer,col_indexer] = value instead\n",
      "\n",
      "See the caveats in the documentation: https://pandas.pydata.org/pandas-docs/stable/user_guide/indexing.html#returning-a-view-versus-a-copy\n",
      "  df1['구매유형'] = df1['구매유형'].astype(str)\n",
      "<ipython-input-13-0d3223e679dd>:3: SettingWithCopyWarning: \n",
      "A value is trying to be set on a copy of a slice from a DataFrame.\n",
      "Try using .loc[row_indexer,col_indexer] = value instead\n",
      "\n",
      "See the caveats in the documentation: https://pandas.pydata.org/pandas-docs/stable/user_guide/indexing.html#returning-a-view-versus-a-copy\n",
      "  df1['거주지역'] = df1['거주지역'].astype(str)\n"
     ]
    }
   ],
   "source": [
    "# 사후분석\n",
    "df1['구매유형'] = df1['구매유형'].astype(str)\n",
    "df1['거주지역'] = df1['거주지역'].astype(str)\n",
    "print('\\n 구매유형 총매출액 사후분석 \\n', scikit_posthocs.posthoc_scheffe(df1, val_col='총_매출액', group_col='구매유형'))\n",
    "print('\\n 거주지역 총매출액 사후분석 \\n', scikit_posthocs.posthoc_scheffe(df1, val_col='총_매출액', group_col='거주지역'))\n",
    "print('\\n 구매유형 방문빈도 사후분석 \\n', scikit_posthocs.posthoc_scheffe(df1, val_col='방문빈도', group_col='구매유형'))\n",
    "print('\\n 거주지역 방문빈도 사후분석 \\n', scikit_posthocs.posthoc_scheffe(df1, val_col='방문빈도', group_col='거주지역'))\n",
    "\n",
    "# 구매유형, 거주지역별 평균 총매출액, 구매유형, 거주지역별 평균 방문빈도\n",
    "평균총매출액 = pd.pivot_table(df1, index='구매유형', columns='거주지역', values='총_매출액', aggfunc=np.mean)\n",
    "print('\\n구매유형, 거주지역별 평균총매출액\\n', 평균총매출액)\n",
    "평균방문빈도 = pd.pivot_table(df1, index='구매유형', columns='거주지역', values='총_매출액', aggfunc=np.mean)\n",
    "print('\\n구매유형, 거주지역별 평균방문빈도\\n', 평균방문빈도)"
   ]
  },
  {
   "cell_type": "code",
   "execution_count": 14,
   "id": "prerequisite-district",
   "metadata": {},
   "outputs": [],
   "source": [
    "# 구매유형 기준으로 구매유형(1)과 구매유형(4)를 제외한 나머지 유형 간의 총매출액 차이가 유의하고,\n",
    "# 거주지역 기준으로 그룹 (3,6), (4,6), (5,6), (2,7), (3,7), (4,7), (5,7), (6,7) 그룹간의 총매출액 차이가 유의하게 나타남\n",
    "# 구매유형 기준으로 구매유형(1)과 구매유형(3), 구매유형(3)과 구매유형(4)를 제외한 나머지 유형 간의 방문빈도 차이 유의하고,\n",
    "# 거주지역 기준으로 그룹 (3,5), (2,6), (3,6), (4,6), (5,6), (1,7), (2,7), (3,7), (4,7), (5,7), (6,7) 그룹간의 방문빈도 차이가 유의하게 나타남"
   ]
  },
  {
   "cell_type": "code",
   "execution_count": 15,
   "id": "subjective-baker",
   "metadata": {},
   "outputs": [
    {
     "data": {
      "text/plain": [
       "[<matplotlib.lines.Line2D at 0x2965a6f6070>]"
      ]
     },
     "execution_count": 15,
     "metadata": {},
     "output_type": "execute_result"
    },
    {
     "data": {
      "image/png": "[encoded data removed]",
      "text/plain": [
       "<Figure size 432x288 with 1 Axes>"
      ]
     },
     "metadata": {
      "needs_background": "light"
     },
     "output_type": "display_data"
    }
   ],
   "source": [
    "# 두 개의 독립변수로 구성된 28개 세부 그룹에 대한 평균총매출액과 평균방문빈도를 그래프에 나타내기 (평균점 산점도)\n",
    "import matplotlib\n",
    "import matplotlib.pyplot as plt\n",
    "\n",
    "X = np.hstack(평균방문빈도.values[0:4]) \n",
    "Y = np.hstack(평균총매출액.values[0:4])\n",
    "\n",
    "matplotlib.rcParams['font.family'] = 'Malgun Gothic'\n",
    "\n",
    "# 평균점 산점도 그리기\n",
    "labels = []\n",
    "for i in range(1,5,1):\n",
    "    for j in range(1,8,1):\n",
    "        labels.append(str(i)+str(j))\n",
    "\n",
    "for label, x_count, y_count in zip(labels, X, Y): # zip(): 동일한 길이의 여러 객체에 대해 같은 인덱스에 해당하는 값들을 묶어 하나의 리스트로 반환\n",
    "    plt.annotate(label,  # 출력될 텍스트 객체 (label)\n",
    "                              xycoords = 'data', # x와 y축의 좌표체계 (평균방문빈도와 평균총매출액)\n",
    "                              textcoords= 'offset points', # 주석이 찍히는 좌표체계 (좌표평면 상에서 포인트 단위로 처리)\n",
    "                              xy = (x_count, y_count), # 매 반복별 텍스트가 찍힐 x, y의 좌표\n",
    "                              xytext= (5,-5)) # 실제 위치에서 +5, _5 떨어지도록 설정\n",
    "\n",
    "# annotate(text, xycoords, textcoords, xy, xytest)\n",
    "    \n",
    "plt.title('평균점 산점도')\n",
    "plt.xlabel('평균 방문빈도')\n",
    "plt.ylabel('평균 총매출액')\n",
    "plt.plot(X, Y, 'o')"
   ]
  },
  {
   "cell_type": "code",
   "execution_count": null,
   "id": "lovely-korea",
   "metadata": {},
   "outputs": [],
   "source": []
  }
 ],
 "metadata": {
  "kernelspec": {
   "display_name": "Python 3",
   "language": "python",
   "name": "python3"
  },
  "language_info": {
   "codemirror_mode": {
    "name": "ipython",
    "version": 3
   },
   "file_extension": ".py",
   "mimetype": "text/x-python",
   "name": "python",
   "nbconvert_exporter": "python",
   "pygments_lexer": "ipython3",
   "version": "3.8.8"
  }
 },
 "nbformat": 4,
 "nbformat_minor": 5
}
