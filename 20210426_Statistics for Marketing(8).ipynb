{
 "cells": [
  {
   "cell_type": "markdown",
   "id": "mighty-bristol",
   "metadata": {},
   "source": [
    "### 분산분석\n",
    "* 분산분석(ANOVA: Analysis of Variance): 명목척돌로 측정된 독립변수와 등간 또는 비율척도로 측정된 종속변수 사이의 관계를 3개 이상 집단간 평균의 차이로 검정할 때 사용\n",
    "  - 집단간 평균 차이를 판단함에 있어 단순히 평균값의 차이를 비교하는 것은 정확한 비교가 어렵기 때문에, 집단간 분산과 집단 내 분산을 이용하여 여러 집단간 평균 차이를 판단한다고 하여 평균 차이를 검정함에도 불구하고 분산분석이라 함\n",
    "* 분산분석의 종류\n"
   ]
  },
  {
   "cell_type": "code",
   "execution_count": null,
   "id": "instrumental-running",
   "metadata": {},
   "outputs": [],
   "source": []
  }
 ],
 "metadata": {
  "kernelspec": {
   "display_name": "Python 3",
   "language": "python",
   "name": "python3"
  },
  "language_info": {
   "codemirror_mode": {
    "name": "ipython",
    "version": 3
   },
   "file_extension": ".py",
   "mimetype": "text/x-python",
   "name": "python",
   "nbconvert_exporter": "python",
   "pygments_lexer": "ipython3",
   "version": "3.8.8"
  }
 },
 "nbformat": 4,
 "nbformat_minor": 5
}
