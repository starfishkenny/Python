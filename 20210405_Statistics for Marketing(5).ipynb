{
 "cells": [
  {
   "cell_type": "markdown",
   "id": "naughty-matrix",
   "metadata": {},
   "source": [
    "#### 상관관계 분석\n",
    "* 상관관계 분석의 종류\n",
    "  |상관관계 분석|변수 특성|분석목적|\n",
    "  |:---:|:---:|---|\n",
    "  |피어슨 상관관계 분석|수치형 변수간의 개별 상관관계 파악|수치형 변수로 이루어진 두 변수간의 선형적 연관성 파악|\n",
    "  |스피어만 서열 상관관계 분석|순서형 변수간의 개별 상관관계 파악|서열척도로 이루어진 두 변수간의 연관성 파악|\n",
    "  |정준상관분석|변수 그룹간의 상관관계 파악|변수들의 군집 간 선형 상관관계 파악|\n",
    "* 수치형 변수의 상관관계 분석\n",
    "  - 주로 피어슨 상관관계 분석 활용\n",
    "  - 분석대상 변수가 2개인 경우: 단순 상관관계 분석(simple correlation analysis)\n",
    "  - 분석대상 변수가 3개 이상인 경우: 다중 상관관계 분석(multiple correlation analysis)\n",
    "    + 다중상관분석에서 다른 변수들과의 관계는 고정되고 두 변수만의 순수한 상관관계에 대한 강도를 나타내는 것을 편 혹은 부분 상관관계 분석(partial correlation)이라 함\n",
    "  - 수치형 변수간의 상관관계를 나타내는 지표는 공분산(covariance)과 상관계수(correlation coefficient)가 있음\n",
    "    + 공분산: 각 변수의 편차곱 합계에 대한 평균값 (이 값이 양수일 경우 양의 선형관계, 음수일 경우 음의 선형관계 존재)\n",
    "    + 상관계수\n",
    "      * 공분산 값은 두 변수의 측정 단위에 의존적이기 때문에 상관관계의 방향성만 알 수 있을 뿐, 그 값의 크기로 선형관계의 정도를 파악하기 어려움\n",
    "      * 상관계수는 이러한 공분산의 단점을 보완\n",
    "      * 피어슨 상관계수: 공분산을 각 변수의 표준편차 곱으로 표준화해 준 값이기 때문에 측정 단위와는 무관하게 -1에서 1까지의 일정한 범위의 값을 가지며 선형관계에 대한 방향성뿐만 아니라 강도까지도 나타냄\n",
    "      * 상관계수 > 0 $\\rightarrow$ 양의 상관관계, 상관계수 < 0 $\\rightarrow$ 음의 상관관계, 상관계수 = 0 $\\rightarrow$ 선형적인 상관관계 없음\n",
    "* 편(부분) 상관관계 분석\n",
    "  - 일반적인 다중 상관관계 분석을 통한 변수간의 상관계수는 특정 두 변수간의 순수한 상관관계를 나타낸다고 할 수 없음\n",
    "  - 또 다른 제3의 변수가 두 변수의 연관성 자체에 영향을 줄 수 있기 때문 $\\rightarrow$ 특정 변수의 영향을 제거한 상태에서의 두 변수간의 순수한 상관관계를 파악하기 위해선 편(부분) 상관관계 분석이라는 기법을 사용해야 함"
   ]
  },
  {
   "cell_type": "code",
   "execution_count": 2,
   "id": "latter-battlefield",
   "metadata": {},
   "outputs": [],
   "source": [
    "import pandas as pd\n",
    "import numpy as np\n",
    "import matplotlib\n",
    "import matplotlib.pyplot as plt\n",
    "from scipy import stats\n",
    "\n",
    "df = pd.read_csv('Ashopping.csv', sep=',', encoding='CP949')\n",
    "df1 = df[['총_매출액','방문빈도','구매_카테고리_수']]"
   ]
  },
  {
   "cell_type": "code",
   "execution_count": 3,
   "id": "present-bleeding",
   "metadata": {},
   "outputs": [
    {
     "name": "stdout",
     "output_type": "stream",
     "text": [
      "(0.6311706453193395, 3.051960449687332e-112)\n",
      "(0.3083469132396712, 1.8121422756812584e-23)\n",
      "(0.39586072218464485, 7.345432750388936e-39)\n"
     ]
    }
   ],
   "source": [
    "# 피어슨 상관계수 출력\n",
    "print(stats.pearsonr(df1.총_매출액, df1.방문빈도)) # 상관계수와 유의확률의 쌍으로 출력\n",
    "print(stats.pearsonr(df1.총_매출액, df1.구매_카테고리_수))\n",
    "print(stats.pearsonr(df1.방문빈도, df1.구매_카테고리_수))"
   ]
  },
  {
   "cell_type": "code",
   "execution_count": 4,
   "id": "electoral-harassment",
   "metadata": {},
   "outputs": [
    {
     "data": {
      "text/html": [
       "<div>\n",
       "<style scoped>\n",
       "    .dataframe tbody tr th:only-of-type {\n",
       "        vertical-align: middle;\n",
       "    }\n",
       "\n",
       "    .dataframe tbody tr th {\n",
       "        vertical-align: top;\n",
       "    }\n",
       "\n",
       "    .dataframe thead th {\n",
       "        text-align: right;\n",
       "    }\n",
       "</style>\n",
       "<table border=\"1\" class=\"dataframe\">\n",
       "  <thead>\n",
       "    <tr style=\"text-align: right;\">\n",
       "      <th></th>\n",
       "      <th>총_매출액</th>\n",
       "      <th>방문빈도</th>\n",
       "      <th>구매_카테고리_수</th>\n",
       "    </tr>\n",
       "  </thead>\n",
       "  <tbody>\n",
       "    <tr>\n",
       "      <th>총_매출액</th>\n",
       "      <td>1.000000</td>\n",
       "      <td>0.631171</td>\n",
       "      <td>0.308347</td>\n",
       "    </tr>\n",
       "    <tr>\n",
       "      <th>방문빈도</th>\n",
       "      <td>0.631171</td>\n",
       "      <td>1.000000</td>\n",
       "      <td>0.395861</td>\n",
       "    </tr>\n",
       "    <tr>\n",
       "      <th>구매_카테고리_수</th>\n",
       "      <td>0.308347</td>\n",
       "      <td>0.395861</td>\n",
       "      <td>1.000000</td>\n",
       "    </tr>\n",
       "  </tbody>\n",
       "</table>\n",
       "</div>"
      ],
      "text/plain": [
       "              총_매출액      방문빈도  구매_카테고리_수\n",
       "총_매출액      1.000000  0.631171   0.308347\n",
       "방문빈도       0.631171  1.000000   0.395861\n",
       "구매_카테고리_수  0.308347  0.395861   1.000000"
      ]
     },
     "execution_count": 4,
     "metadata": {},
     "output_type": "execute_result"
    }
   ],
   "source": [
    "# 상관관계 테이블 출력\n",
    "df1.corr(method = 'pearson') # 유의확률은 출력 X, 순서형 변수면 spearman 지정"
   ]
  },
  {
   "cell_type": "code",
   "execution_count": null,
   "id": "executed-syndication",
   "metadata": {},
   "outputs": [],
   "source": []
  }
 ],
 "metadata": {
  "kernelspec": {
   "display_name": "Python 3",
   "language": "python",
   "name": "python3"
  },
  "language_info": {
   "codemirror_mode": {
    "name": "ipython",
    "version": 3
   },
   "file_extension": ".py",
   "mimetype": "text/x-python",
   "name": "python",
   "nbconvert_exporter": "python",
   "pygments_lexer": "ipython3",
   "version": "3.8.8"
  }
 },
 "nbformat": 4,
 "nbformat_minor": 5
}
