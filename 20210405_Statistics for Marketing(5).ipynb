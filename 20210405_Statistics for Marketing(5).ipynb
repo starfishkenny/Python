{
 "cells": [
  {
   "cell_type": "markdown",
   "id": "naughty-matrix",
   "metadata": {},
   "source": [
    "#### 상관관계 분석\n",
    "* 상관관계 분석의 종류\n",
    "  |상관관계 분석|변수 특성|분석목적|\n",
    "  |:---:|:---:|---|\n",
    "  |피어슨 상관관계 분석|수치형 변수간의 개별 상관관계 파악|수치형 변수로 이루어진 두 변수간의 선형적 연관성 파악|\n",
    "  |스피어만 서열 상관관계 분석|순서형 변수간의 개별 상관관계 파악|서열척도로 이루어진 두 변수간의 연관성 파악|\n",
    "  |정준상관분석|변수 그룹간의 상관관계 파악|변수들의 군집 간 선형 상관관계 파악|\n",
    "* 수치형 변수의 상관관계 분석\n",
    "  - 주로 피어슨 상관관계 분석 활용\n",
    "  - 분석대상 변수가 2개인 경우: 단순 상관관계 분석(simple correlation analysis)\n",
    "  - 분석대상 변수가 3개 이상인 경우: 다중 상관관계 분석(multiple correlation analysis)\n",
    "    + 다중상관분석에서 다른 변수들과의 관계는 고정되고 두 변수만의 순수한 상관관계에 대한 강도를 나타내는 것을 편 혹은 부분 상관관계 분석(partial correlation)이라 함\n",
    "  - 수치형 변수간의 상관관계를 나타내는 지표는 공분산(covariance)과 상관계수(correlation coefficient)가 있음\n",
    "    + 공분산: 각 변수의 편차곱 합계에 대한 평균값 (이 값이 양수일 경우 양의 선형관계, 음수일 경우 음의 선형관계 존재)\n",
    "    + 상관계수\n",
    "      * 공분산 값은 두 변수의 측정 단위에 의존적이기 때문에 상관관계의 방향성만 알 수 있을 뿐, 그 값의 크기로 선형관계의 정도를 파악하기 어려움\n",
    "      * 상관계수는 이러한 공분산의 단점을 보완\n",
    "      * 피어슨 상관계수: 공분산을 각 변수의 표준편차 곱으로 표준화해 준 값이기 때문에 측정 단위와는 무관하게 -1에서 1까지의 일정한 범위의 값을 가지며 선형관계에 대한 방향성뿐만 아니라 강도까지도 나타냄\n",
    "      * 상관계수 > 0 $\\rightarrow$ 양의 상관관계, 상관계수 < 0 $\\rightarrow$ 음의 상관관계, 상관계수 = 0 $\\rightarrow$ 선형적인 상관관계 없음\n",
    "* 편(부분) 상관관계 분석\n",
    "  - 일반적인 다중 상관관계 분석을 통한 변수간의 상관계수는 특정 두 변수간의 순수한 상관관계를 나타낸다고 할 수 없음\n",
    "  - 또 다른 제3의 변수가 두 변수의 연관성 자체에 영향을 줄 수 있기 때문 $\\rightarrow$ 특정 변수의 영향을 제거한 상태에서의 두 변수간의 순수한 상관관계를 파악하기 위해선 편(부분) 상관관계 분석이라는 기법을 사용해야 함\n",
    "  - 두 변수 x,y 각각에서 제 3의 변수 z에 의해 선형적으로 설명되는 부분을 제거하고 남은 잔차들간의 상관계수를 구해야 함\n",
    "* 순서형 변수의 상관관계 분석\n",
    "  - 주로 스피어만 서열 상관관계 분석 활용\n",
    "    + 원래의 자료 값 대신에 자료 값들의 순위를 이용하여 상관계수를 구함\n",
    "    + 피어슨 상관계수와 마찬가지로 -1에서 1 사이의 값을 가짐\n",
    "* 정준상관분석(Canonical Correlation Analysis, CCA)\n",
    "  - 변수 그룹 간의 선형 상관 관계를 탐색하는 분석 방법 $\\rightarrow$ 요인분석과 다변량 회귀분석의 역할을 결합한 분석방법으로 알려져 있음\n",
    "  - 정준상관분석에 사용되는 모든 변수들은 원칙적으로 연속형이어야 하지만 범주형 변수일 경우 더미 변수화하여 분석에 사용할 수 있음\n",
    "  - 각각 p,q 개로 이루어진 두 변수 그룹 X와 Y가 있을 때, X와 Y를 소속된 개별 변수들간의 선형결합으로 이루어진 정준변수라 하고, 정준변수 X와 Y 사이의 상관계수 p를 정준상관계수라고 함\n",
    "  - 정준상관모형 $\\rightarrow$ 가능한 모든 선형결합 중 두 변수 X,Y 간 상관계수를 최대화 시키는 선형결합 X,Y를 찾으며 이때, 선형결합을 나타내는 개별 변수들의 계수들을 정준계수라고 함\n",
    "  - 정준변수간 상관계수가 최대일 때는 제1 정준상관계수라고 하고 이에 대응되는 정준변수는 제1 정준변수라 함\n",
    "  - 제1 정준변수만으로는 두 변수집단을 설명하기에 충분하지 않을 수 있으므로 X와 Y의 가능한 모든 선형결합 중에서 제1 정준변수 쌍과는 서로 상관 없으면서 상관계수를 가장 크게 해주는 또 다른 선형결합 X와 Y를 제2 정준변수라 하고 이들간의 상관계수를 제2 정준상관계수라고 함\n",
    "  - 정준상관분석의 목적은 정준상관계수와 정준변수를 추정하는 것 외에도 정준적재량과 교차적재량을 통해 두 변수 그룹간의 관계에 대한 각 변수의 상대적 영향력을 확인하는 것\n",
    "    + 정준적재량 (canonical loadings): 정준변수와 해당 정준변수를 구성하는 측정변수들 사이의 상관계수\n",
    "    + 교차적재량 (cross loadings): 정준변수와 대립하는 정준변수의 측정 변수들 사이의 상관계수\n",
    "    + 이를 통해 변수 그룹들 사이에 내포된 상대적 중요도의 의미를 파악할 수 있음"
   ]
  },
  {
   "cell_type": "code",
   "execution_count": 1,
   "id": "latter-battlefield",
   "metadata": {},
   "outputs": [],
   "source": [
    "import pandas as pd\n",
    "import numpy as np\n",
    "import matplotlib\n",
    "import matplotlib.pyplot as plt\n",
    "from scipy import stats\n",
    "\n",
    "df = pd.read_csv('Ashopping.csv', sep=',', encoding='CP949')\n",
    "df1 = df[['총_매출액','방문빈도','구매_카테고리_수']]"
   ]
  },
  {
   "cell_type": "code",
   "execution_count": 2,
   "id": "present-bleeding",
   "metadata": {},
   "outputs": [
    {
     "name": "stdout",
     "output_type": "stream",
     "text": [
      "(0.6311706453193395, 3.051960449687332e-112)\n",
      "(0.3083469132396712, 1.8121422756812584e-23)\n",
      "(0.39586072218464485, 7.345432750388936e-39)\n"
     ]
    }
   ],
   "source": [
    "# 피어슨 상관계수 출력\n",
    "print(stats.pearsonr(df1.총_매출액, df1.방문빈도)) # 상관계수와 유의확률의 쌍으로 출력\n",
    "print(stats.pearsonr(df1.총_매출액, df1.구매_카테고리_수))\n",
    "print(stats.pearsonr(df1.방문빈도, df1.구매_카테고리_수))"
   ]
  },
  {
   "cell_type": "code",
   "execution_count": 3,
   "id": "electoral-harassment",
   "metadata": {},
   "outputs": [
    {
     "data": {
      "text/html": [
       "<div>\n",
       "<style scoped>\n",
       "    .dataframe tbody tr th:only-of-type {\n",
       "        vertical-align: middle;\n",
       "    }\n",
       "\n",
       "    .dataframe tbody tr th {\n",
       "        vertical-align: top;\n",
       "    }\n",
       "\n",
       "    .dataframe thead th {\n",
       "        text-align: right;\n",
       "    }\n",
       "</style>\n",
       "<table border=\"1\" class=\"dataframe\">\n",
       "  <thead>\n",
       "    <tr style=\"text-align: right;\">\n",
       "      <th></th>\n",
       "      <th>총_매출액</th>\n",
       "      <th>방문빈도</th>\n",
       "      <th>구매_카테고리_수</th>\n",
       "    </tr>\n",
       "  </thead>\n",
       "  <tbody>\n",
       "    <tr>\n",
       "      <th>총_매출액</th>\n",
       "      <td>1.000000</td>\n",
       "      <td>0.631171</td>\n",
       "      <td>0.308347</td>\n",
       "    </tr>\n",
       "    <tr>\n",
       "      <th>방문빈도</th>\n",
       "      <td>0.631171</td>\n",
       "      <td>1.000000</td>\n",
       "      <td>0.395861</td>\n",
       "    </tr>\n",
       "    <tr>\n",
       "      <th>구매_카테고리_수</th>\n",
       "      <td>0.308347</td>\n",
       "      <td>0.395861</td>\n",
       "      <td>1.000000</td>\n",
       "    </tr>\n",
       "  </tbody>\n",
       "</table>\n",
       "</div>"
      ],
      "text/plain": [
       "              총_매출액      방문빈도  구매_카테고리_수\n",
       "총_매출액      1.000000  0.631171   0.308347\n",
       "방문빈도       0.631171  1.000000   0.395861\n",
       "구매_카테고리_수  0.308347  0.395861   1.000000"
      ]
     },
     "execution_count": 3,
     "metadata": {},
     "output_type": "execute_result"
    }
   ],
   "source": [
    "# 상관관계 테이블 출력\n",
    "df1.corr(method = 'pearson') # 유의확률은 출력 X, 순서형 변수면 spearman 지정"
   ]
  },
  {
   "cell_type": "code",
   "execution_count": 4,
   "id": "executed-syndication",
   "metadata": {},
   "outputs": [
    {
     "data": {
      "text/html": [
       "<div>\n",
       "<style scoped>\n",
       "    .dataframe tbody tr th:only-of-type {\n",
       "        vertical-align: middle;\n",
       "    }\n",
       "\n",
       "    .dataframe tbody tr th {\n",
       "        vertical-align: top;\n",
       "    }\n",
       "\n",
       "    .dataframe thead th {\n",
       "        text-align: right;\n",
       "    }\n",
       "</style>\n",
       "<table border=\"1\" class=\"dataframe\">\n",
       "  <thead>\n",
       "    <tr style=\"text-align: right;\">\n",
       "      <th></th>\n",
       "      <th>n</th>\n",
       "      <th>r</th>\n",
       "      <th>CI95%</th>\n",
       "      <th>r2</th>\n",
       "      <th>adj_r2</th>\n",
       "      <th>p-val</th>\n",
       "      <th>BF10</th>\n",
       "      <th>power</th>\n",
       "    </tr>\n",
       "  </thead>\n",
       "  <tbody>\n",
       "    <tr>\n",
       "      <th>pearson</th>\n",
       "      <td>1000</td>\n",
       "      <td>0.582794</td>\n",
       "      <td>[0.54, 0.62]</td>\n",
       "      <td>0.339649</td>\n",
       "      <td>0.338324</td>\n",
       "      <td>5.054646e-92</td>\n",
       "      <td>2.242e+88</td>\n",
       "      <td>1.0</td>\n",
       "    </tr>\n",
       "  </tbody>\n",
       "</table>\n",
       "</div>"
      ],
      "text/plain": [
       "            n         r         CI95%        r2    adj_r2         p-val  \\\n",
       "pearson  1000  0.582794  [0.54, 0.62]  0.339649  0.338324  5.054646e-92   \n",
       "\n",
       "              BF10  power  \n",
       "pearson  2.242e+88    1.0  "
      ]
     },
     "execution_count": 4,
     "metadata": {},
     "output_type": "execute_result"
    }
   ],
   "source": [
    "# 편 상관계수 -> 피어슨 상관계수 사용\n",
    "# 귀무가설: 구매카테고리 수가 통제된 상황에서 총 매출액과 방문빈도 간에는 유의한 선형관계를 갖지 않는다.\n",
    "# 연구가설: 구매카테고리 수가 통제된 상황에서 총 매출액과 방문빈도 간에는 유의한 선형관계를 갖는다.\n",
    "# pingouin -> Pandas와 NumPy를 기반으로 한 다양한 통계 기능을 제공하는 패키지 (상관분석, 분산분석, 베이즈분석, 회귀분석 등)\n",
    "from pingouin import partial_corr\n",
    "# 편 상관계수 출력\n",
    "partial_corr(data=df1, x='총_매출액', y='방문빈도', covar='구매_카테고리_수') # covar -> 통제하고자 하는 공변량"
   ]
  },
  {
   "cell_type": "code",
   "execution_count": 5,
   "id": "pregnant-duncan",
   "metadata": {},
   "outputs": [
    {
     "data": {
      "text/plain": [
       "SpearmanrResult(correlation=-0.4988411248473936, pvalue=4.929293870381245e-64)"
      ]
     },
     "execution_count": 5,
     "metadata": {},
     "output_type": "execute_result"
    }
   ],
   "source": [
    "# 순서형 변수의 상관관계 분석\n",
    "# 귀무가설: A 쇼핑 고객들의 1회 평균 매출액 순위와 방문빈도 순위는 연관성이 없다.\n",
    "# 연구가설: A 쇼핑 고객들의 1회 평균 매출액 순위와 방문빈도 순위는 연관성이 있다.\n",
    "df1 = df[['1회_평균매출액','방문빈도',]]\n",
    "stats.spearmanr(df1['1회_평균매출액'], df1['방문빈도']) # 지정된 데이터가 수치형일 경우 자동으로 순서형 척도로 변환하여 서열 상관계수를 출력"
   ]
  },
  {
   "cell_type": "code",
   "execution_count": null,
   "id": "bulgarian-roommate",
   "metadata": {},
   "outputs": [],
   "source": []
  }
 ],
 "metadata": {
  "kernelspec": {
   "display_name": "Python 3",
   "language": "python",
   "name": "python3"
  },
  "language_info": {
   "codemirror_mode": {
    "name": "ipython",
    "version": 3
   },
   "file_extension": ".py",
   "mimetype": "text/x-python",
   "name": "python",
   "nbconvert_exporter": "python",
   "pygments_lexer": "ipython3",
   "version": "3.8.8"
  }
 },
 "nbformat": 4,
 "nbformat_minor": 5
}
