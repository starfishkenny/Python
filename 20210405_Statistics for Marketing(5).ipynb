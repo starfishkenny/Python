{
 "cells": [
  {
   "cell_type": "markdown",
   "id": "naughty-matrix",
   "metadata": {},
   "source": [
    "#### 상관관계 분석\n",
    "* 상관관계 분석의 종류\n",
    "  |상관관계 분석|변수 특성|분석목적|\n",
    "  |:---:|:---:|---|\n",
    "  |피어슨 상관관계 분석|수치형 변수간의 개별 상관관계 파악|수치형 변수로 이루어진 두 변수간의 선형적 연관성 파악|\n",
    "  |스피어만 서열 상관관계 분석|순서형 변수간의 개별 상관관계 파악|서열척도로 이루어진 두 변수간의 연관성 파악|\n",
    "  |정준상관분석|변수 그룹간의 상관관계 파악|변수들의 군집 간 선형 상관관계 파악|\n",
    "* 수치형 변수의 상관관계 분석\n",
    "  - 주로 피어슨 상관관계 분석 활용\n",
    "  - 분석대상 변수가 2개인 경우: 단순 상관관계 분석(simple correlation analysis)\n",
    "  - 분석대상 변수가 3개 이상인 경우: 다중 상관관계 분석(multiple correlation analysis)\n",
    "    + 다중상관분석에서 다른 변수들과의 관계는 고정되고 두 변수만의 순수한 상관관계에 대한 강도를 나타내는 것을 편 혹은 부분 상관관계 분석(partial correlation)이라 함\n",
    "  - 수치형 변수간의 상관관계를 나타내는 지표는 공분산(covariance)과 상관계수(correlation coefficient)가 있음"
   ]
  },
  {
   "cell_type": "code",
   "execution_count": null,
   "id": "present-bleeding",
   "metadata": {},
   "outputs": [],
   "source": []
  }
 ],
 "metadata": {
  "kernelspec": {
   "display_name": "Python 3",
   "language": "python",
   "name": "python3"
  },
  "language_info": {
   "codemirror_mode": {
    "name": "ipython",
    "version": 3
   },
   "file_extension": ".py",
   "mimetype": "text/x-python",
   "name": "python",
   "nbconvert_exporter": "python",
   "pygments_lexer": "ipython3",
   "version": "3.8.8"
  }
 },
 "nbformat": 4,
 "nbformat_minor": 5
}
