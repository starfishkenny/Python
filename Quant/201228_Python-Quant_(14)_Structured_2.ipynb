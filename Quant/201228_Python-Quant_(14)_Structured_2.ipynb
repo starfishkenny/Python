{
 "cells": [
  {
   "cell_type": "markdown",
   "metadata": {},
   "source": [
    "### 정규표현식 re"
   ]
  },
  {
   "cell_type": "code",
   "execution_count": 1,
   "metadata": {},
   "outputs": [],
   "source": [
    "import re"
   ]
  },
  {
   "cell_type": "markdown",
   "metadata": {},
   "source": [
    "#### re 명령어\n",
    "+ re.match(패턴, 문자열): 문자열의 시작이 패턴과 일치하는지 조사 (일치하면 해당 인덱스, 일치하지 않으면 None 반환)\n",
    "+ re.search(패턴, 문자열): 문자열 전체에서 패턴과 일치하는 부분이 있는지 조사 (일치하는 부분 有 -> 첫 인덱스, 일치하는 부분 無 -> None 반환)\n",
    "+ re.findall(패턴, 문자열): 문자열에서 패턴과 일치하는 부분을 모두 찾아냄 (찾은 부분을 리스트로 반환)\n",
    "+ re.split(구분자, 문자열): 문자열을 구분자 기준으로 자름 (잘라낸 각각의 문자열을 리스트로 반환)\n",
    "+ re.sub(패턴, 대체문자, 문자열): 문자열에서 패턴을 찾아 대체문자로 바꿈 (바꾼 문자열 반환)\n",
    "+ re.compile(패턴): 패턴을 미리 해석 (복잡한 패턴을 사전에 정의해놓고 사용하는 경우 코드 가독성이 높아짐)"
   ]
  },
  {
   "cell_type": "code",
   "execution_count": 2,
   "metadata": {},
   "outputs": [
    {
     "data": {
      "text/plain": [
       "<re.Match object; span=(0, 3), match='이사원'>"
      ]
     },
     "execution_count": 2,
     "metadata": {},
     "output_type": "execute_result"
    }
   ],
   "source": [
    "# re.match()\n",
    "str = '이사원,오대리,구과장,육차장,정부장'\n",
    "re.match('이사원',str)"
   ]
  },
  {
   "cell_type": "code",
   "execution_count": 4,
   "metadata": {},
   "outputs": [],
   "source": [
    "re.match('오대리',str) # str은 '오대리'로 시작되지 않아 반환값 없음"
   ]
  },
  {
   "cell_type": "code",
   "execution_count": 5,
   "metadata": {},
   "outputs": [
    {
     "data": {
      "text/plain": [
       "<re.Match object; span=(0, 3), match='이사원'>"
      ]
     },
     "execution_count": 5,
     "metadata": {},
     "output_type": "execute_result"
    }
   ],
   "source": [
    "# re.search()\n",
    "re.search('이사원',str)"
   ]
  },
  {
   "cell_type": "code",
   "execution_count": 6,
   "metadata": {},
   "outputs": [
    {
     "data": {
      "text/plain": [
       "<re.Match object; span=(4, 7), match='오대리'>"
      ]
     },
     "execution_count": 6,
     "metadata": {},
     "output_type": "execute_result"
    }
   ],
   "source": [
    "re.search('오대리',str)"
   ]
  },
  {
   "cell_type": "code",
   "execution_count": 7,
   "metadata": {},
   "outputs": [
    {
     "data": {
      "text/plain": [
       "['장', '장', '장']"
      ]
     },
     "execution_count": 7,
     "metadata": {},
     "output_type": "execute_result"
    }
   ],
   "source": [
    "# re.findall()\n",
    "re.findall('장',str)"
   ]
  },
  {
   "cell_type": "code",
   "execution_count": 9,
   "metadata": {},
   "outputs": [
    {
     "data": {
      "text/plain": [
       "['이사원', '오대리', '구과장', '육차장', '정부장']"
      ]
     },
     "execution_count": 9,
     "metadata": {},
     "output_type": "execute_result"
    }
   ],
   "source": [
    "# re.split()\n",
    "words = re.split(',',str) # ,를 기준으로 문자열 분리해서 words 리스트에 담기\n",
    "words"
   ]
  },
  {
   "cell_type": "code",
   "execution_count": 10,
   "metadata": {},
   "outputs": [
    {
     "data": {
      "text/plain": [
       "'오대리'"
      ]
     },
     "execution_count": 10,
     "metadata": {},
     "output_type": "execute_result"
    }
   ],
   "source": [
    "words[1]"
   ]
  },
  {
   "cell_type": "code",
   "execution_count": 12,
   "metadata": {},
   "outputs": [
    {
     "name": "stdout",
     "output_type": "stream",
     "text": [
      "구과장\n",
      "육차장\n",
      "정부장\n"
     ]
    }
   ],
   "source": [
    "# 여러 음절 중 원하는 패턴이 들어 있는 음절 찾기\n",
    "for w in words:\n",
    "    if re.search('장', w):\n",
    "        print(w)"
   ]
  },
  {
   "cell_type": "code",
   "execution_count": 13,
   "metadata": {},
   "outputs": [
    {
     "data": {
      "text/plain": [
       "'2사원,5대리,9과장,6차장,정부장'"
      ]
     },
     "execution_count": 13,
     "metadata": {},
     "output_type": "execute_result"
    }
   ],
   "source": [
    "# re.sub()\n",
    "str = re.sub('구','9',str)\n",
    "str = re.sub('오','5',str)\n",
    "str = re.sub('이','2',str)\n",
    "str = re.sub('육','6',str)\n",
    "str"
   ]
  },
  {
   "cell_type": "code",
   "execution_count": 14,
   "metadata": {},
   "outputs": [
    {
     "data": {
      "text/plain": [
       "[]"
      ]
     },
     "execution_count": 14,
     "metadata": {},
     "output_type": "execute_result"
    }
   ],
   "source": [
    "# 패턴 정의하기\n",
    "re.findall('0123456789',str) # 0123456789가 통째로 패턴으로 인식되므로 문자열 찾을 수 없음"
   ]
  },
  {
   "cell_type": "code",
   "execution_count": 15,
   "metadata": {},
   "outputs": [
    {
     "data": {
      "text/plain": [
       "['2', '5', '9', '6']"
      ]
     },
     "execution_count": 15,
     "metadata": {},
     "output_type": "execute_result"
    }
   ],
   "source": [
    "re.findall('[0123456789]',str)"
   ]
  },
  {
   "cell_type": "code",
   "execution_count": 16,
   "metadata": {},
   "outputs": [
    {
     "data": {
      "text/plain": [
       "['2', '5', '9', '6']"
      ]
     },
     "execution_count": 16,
     "metadata": {},
     "output_type": "execute_result"
    }
   ],
   "source": [
    "# -로 간단히 표시할 수 있음\n",
    "re.findall('[0-9]',str)"
   ]
  },
  {
   "cell_type": "code",
   "execution_count": 17,
   "metadata": {},
   "outputs": [
    {
     "data": {
      "text/plain": [
       "['2', '5', '9', '6']"
      ]
     },
     "execution_count": 17,
     "metadata": {},
     "output_type": "execute_result"
    }
   ],
   "source": [
    "# or을 의미하는 | 사용\n",
    "re.findall('0|1|2|3|4|5|6|7|8|9',str)"
   ]
  },
  {
   "cell_type": "code",
   "execution_count": 18,
   "metadata": {},
   "outputs": [
    {
     "data": {
      "text/plain": [
       "['과장', '차장', '부장']"
      ]
     },
     "execution_count": 18,
     "metadata": {},
     "output_type": "execute_result"
    }
   ],
   "source": [
    "re.findall('과장|차장|부장',str)"
   ]
  },
  {
   "cell_type": "code",
   "execution_count": 19,
   "metadata": {},
   "outputs": [
    {
     "data": {
      "text/plain": [
       "['과', '장', '차', '장', '부', '장']"
      ]
     },
     "execution_count": 19,
     "metadata": {},
     "output_type": "execute_result"
    }
   ],
   "source": [
    "re.findall('[과장|차장|부장]',str) # 과,장,차,..와 같이 각각 개별적인 문자열로 인식"
   ]
  },
  {
   "cell_type": "markdown",
   "metadata": {},
   "source": [
    "+ __조심해야할 점: 공백조차도 패턴으로 인식되므로 의도되지 않은 공백을 넣으면 안됨__"
   ]
  },
  {
   "cell_type": "markdown",
   "metadata": {},
   "source": [
    "#### re를 활용한 데이터 정제\n",
    "+ 인터넷에서 수집해온 페이지에서 원하는 데이터를 뽑아내기 위해서는 문장->음절로 분해하는 과정 필요"
   ]
  },
  {
   "cell_type": "code",
   "execution_count": null,
   "metadata": {},
   "outputs": [],
   "source": [
    "nums = re.split(',',str)\n",
    "nums"
   ]
  },
  {
   "cell_type": "code",
   "execution_count": 22,
   "metadata": {},
   "outputs": [
    {
     "name": "stdout",
     "output_type": "stream",
     "text": [
      "2사원\n",
      "5대리\n",
      "9과장\n",
      "6차장\n"
     ]
    }
   ],
   "source": [
    "# 숫자가 포함된 직급만 표시\n",
    "for n in nums:\n",
    "    if re.search('[0-9]',n):\n",
    "        print(n)"
   ]
  },
  {
   "cell_type": "code",
   "execution_count": 24,
   "metadata": {},
   "outputs": [
    {
     "name": "stdout",
     "output_type": "stream",
     "text": [
      "9과장\n",
      "6차장\n",
      "정부장\n"
     ]
    }
   ],
   "source": [
    "# 과장 이상의 직급만\n",
    "for n in nums:\n",
    "    if re.search('장',n):\n",
    "        print(n)"
   ]
  },
  {
   "cell_type": "code",
   "execution_count": 26,
   "metadata": {},
   "outputs": [
    {
     "name": "stdout",
     "output_type": "stream",
     "text": [
      "BA\n",
      "BAAA\n",
      "BAAAAA\n",
      "CBA\n",
      "CBABA\n",
      "CBABABA\n"
     ]
    }
   ],
   "source": [
    "# 문자열 내에 동일한 구문이 반복되는 경우 -> 반복 연산자를 활용\n",
    "# BA를 포함한 문자열 모두 찾기\n",
    "str = ['B','BA','BAAA','BAAAAA','CBA','CBABA','CBABABA']\n",
    "for s in str:\n",
    "    if re.search('BA',s):\n",
    "        print(s)"
   ]
  },
  {
   "cell_type": "code",
   "execution_count": 27,
   "metadata": {},
   "outputs": [
    {
     "name": "stdout",
     "output_type": "stream",
     "text": [
      "BAAA\n",
      "BAAAAA\n",
      "CBABA\n",
      "CBABABA\n"
     ]
    }
   ],
   "source": [
    "# BAㅁㅁ 형태의 패턴\n",
    "for s in str:\n",
    "    if re.search('BA..',s):\n",
    "        print(s)"
   ]
  },
  {
   "cell_type": "code",
   "execution_count": 28,
   "metadata": {},
   "outputs": [
    {
     "name": "stdout",
     "output_type": "stream",
     "text": [
      "BAAAAA\n",
      "CBABABA\n"
     ]
    }
   ],
   "source": [
    "# BAㅁㅁㅁ 형태의 패턴\n",
    "for s in str:\n",
    "    if re.search('BA...',s):\n",
    "        print(s)"
   ]
  },
  {
   "cell_type": "markdown",
   "metadata": {},
   "source": [
    "- 특정 문자를 지정하고 *,+,{} 등을 활용\n",
    "  + \"*\": 0회 이상 반복 (BA*: B,BA,BAA,...)\n",
    "  + +: 1회 이상 반복 (BA+: BA,BAA,BAAA,...)\n",
    "  + ?: 1회 이하 반복 (BA?: B,BA)\n",
    "  + {m,n}: m회 이상, n회 이하 반복\n",
    "    * BA{2,4}: BAA,BAAA,BAAAA\n",
    "    * BA{2}: BAA\n",
    "    * BA{2,}: BAA,BAAA.BAAAA,...\n",
    "    * BA{,2}: B,BA,BAA"
   ]
  },
  {
   "cell_type": "code",
   "execution_count": 29,
   "metadata": {},
   "outputs": [
    {
     "name": "stdout",
     "output_type": "stream",
     "text": [
      "B\n",
      "BA\n",
      "BAAA\n",
      "BAAAAA\n",
      "CBA\n",
      "CBABA\n",
      "CBABABA\n"
     ]
    }
   ],
   "source": [
    "for s in str:\n",
    "    if re.search('BA*',s):\n",
    "        print(s)"
   ]
  },
  {
   "cell_type": "code",
   "execution_count": 30,
   "metadata": {},
   "outputs": [
    {
     "name": "stdout",
     "output_type": "stream",
     "text": [
      "BAAA\n",
      "BAAAAA\n"
     ]
    }
   ],
   "source": [
    "for s in str:\n",
    "    if re.search('BA{2,3}',s):\n",
    "        print(s)"
   ]
  },
  {
   "cell_type": "code",
   "execution_count": 31,
   "metadata": {},
   "outputs": [
    {
     "name": "stdout",
     "output_type": "stream",
     "text": [
      "CBABABA\n"
     ]
    }
   ],
   "source": [
    "for s in str:\n",
    "    if re.search('(BA){3}',s):\n",
    "        print(s)"
   ]
  },
  {
   "cell_type": "code",
   "execution_count": 33,
   "metadata": {},
   "outputs": [
    {
     "name": "stdout",
     "output_type": "stream",
     "text": [
      "BA\n",
      "BAAA\n",
      "BAAAAA\n",
      "CBA\n",
      "CBABA\n",
      "CBABABA\n"
     ]
    }
   ],
   "source": [
    "for s in str:\n",
    "    if re.search('BA',s):\n",
    "        print(s)"
   ]
  },
  {
   "cell_type": "code",
   "execution_count": 32,
   "metadata": {},
   "outputs": [
    {
     "name": "stdout",
     "output_type": "stream",
     "text": [
      "BA\n",
      "BAAA\n",
      "BAAAAA\n"
     ]
    }
   ],
   "source": [
    "# ^활용하여 C로 시작되는 것들 말고 B로 시작되는 것들만 찾아오기\n",
    "for s in str:\n",
    "    if re.search('^BA',s):\n",
    "        print(s)"
   ]
  },
  {
   "cell_type": "code",
   "execution_count": 35,
   "metadata": {},
   "outputs": [
    {
     "name": "stdout",
     "output_type": "stream",
     "text": [
      "BA\n",
      "BAAA\n",
      "BAAAAA\n"
     ]
    }
   ],
   "source": [
    "# 이번에는 match 활용\n",
    "for s in str:\n",
    "    if re.match('BA',s):\n",
    "        print(s)"
   ]
  },
  {
   "cell_type": "code",
   "execution_count": 36,
   "metadata": {},
   "outputs": [
    {
     "name": "stdout",
     "output_type": "stream",
     "text": [
      "BA\n",
      "CBA\n",
      "CBABA\n",
      "CBABABA\n"
     ]
    }
   ],
   "source": [
    "# BA로 딱 끝나는 문자열을 찾으려면... -> $\n",
    "for s in str:\n",
    "    if re.search('BA$',s):\n",
    "        print(s)"
   ]
  },
  {
   "cell_type": "code",
   "execution_count": 37,
   "metadata": {},
   "outputs": [
    {
     "name": "stdout",
     "output_type": "stream",
     "text": [
      "BA\n"
     ]
    }
   ],
   "source": [
    "for s in str:\n",
    "    if re.search('^BA$',s):\n",
    "        print(s)"
   ]
  },
  {
   "cell_type": "markdown",
   "metadata": {},
   "source": [
    "#### 핸드폰 번호 검색\n",
    "+ re.compile() 활용"
   ]
  },
  {
   "cell_type": "code",
   "execution_count": 44,
   "metadata": {},
   "outputs": [],
   "source": [
    "phone = ['010-1111-2222','01012345678','010 5555 7777',\n",
    "        '0709999-0000','010.2222~5555','02-3774-3774']\n",
    "phone_pattern = re.compile('010[-~= \\.]?[0-9]{4}[-~= \\.]?[0-9]{4}')"
   ]
  },
  {
   "cell_type": "markdown",
   "metadata": {},
   "source": [
    "1. 핸드폰 인식 번호 010\n",
    "2. 번호 사이 공백[-~=\\.]?: 가능한 문자를 모두 고려, 각 기호는 or 조건으로 취급, 공백은 ' '를 넣어야 함\n",
    "3. [-~=\\.]?: .은 임의의 문자를 의미하는 특수기호이므로 그냥 넣어주면 파이썬이 제대로 인식할 수 없음\n",
    "  - 특수기호를 넣을 때는 \\를 병기\n",
    "4. [-~=\\.]?: []?는 []안의 내용이 0회 또는 1회 발생할 수 있다는 의미\n",
    "5. 중간 및 끝 번호[0-9]{4}: 숫자가 4번 반복된다는 의미"
   ]
  },
  {
   "cell_type": "code",
   "execution_count": 45,
   "metadata": {},
   "outputs": [
    {
     "name": "stdout",
     "output_type": "stream",
     "text": [
      "010-1111-2222\n",
      "01012345678\n",
      "010 5555 7777\n",
      "010.2222~5555\n"
     ]
    }
   ],
   "source": [
    "for p in phone:\n",
    "    if phone_pattern.search(p):\n",
    "        print(p)"
   ]
  },
  {
   "cell_type": "code",
   "execution_count": 46,
   "metadata": {},
   "outputs": [
    {
     "name": "stdout",
     "output_type": "stream",
     "text": [
      "010-1111-2222\n",
      "010-1234-5678\n",
      "010-5555-7777\n",
      "010-2222-5555\n"
     ]
    }
   ],
   "source": [
    "for p in phone:\n",
    "    if phone_pattern.search(p):\n",
    "        p = re.sub('[^0-9]','',p) # \\D도 같은 표현\n",
    "        print(p[:3] + '-' + p[3:7] + '-' + p[7:])"
   ]
  },
  {
   "cell_type": "markdown",
   "metadata": {},
   "source": [
    "#### 간편식을 이용한 패턴 정의\n",
    "+ \\d: [0-9] 숫자\n",
    "+ \\D: [^0-9] 숫자 제외 전체\n",
    "+ \\w: [A-Za-z0-9] 문자+숫자\n",
    "+ \\W: [^A-Za-z0-9] 문자와 숫자를 제외한 전체\n",
    "+ \\s: [ \\t\\n\\r] 공백(스페이스,탭,엔터 등)\n",
    "+ \\S: [^ ] 공백 제외 전체"
   ]
  },
  {
   "cell_type": "code",
   "execution_count": 48,
   "metadata": {},
   "outputs": [
    {
     "name": "stdout",
     "output_type": "stream",
     "text": [
      "숫자: ['1', '2']\n",
      "숫자X: ['A', 'B', 'c', 'd', '!', '@', ' ', '가', '나']\n",
      "문자: ['A', 'B', 'c', 'd', '1', '2', '가', '나']\n",
      "문자X: ['!', '@', ' ']\n",
      "공백: [' ']\n",
      "공백X: ['A', 'B', 'c', 'd', '1', '2', '!', '@', '가', '나']\n"
     ]
    }
   ],
   "source": [
    "str = 'ABcd12!@ 가나'\n",
    "print('숫자:',re.findall('\\d',str))\n",
    "print('숫자X:',re.findall('\\D',str))\n",
    "print('문자:',re.findall('\\w',str))\n",
    "print('문자X:',re.findall('\\W',str))\n",
    "print('공백:',re.findall('\\s',str))\n",
    "print('공백X:',re.findall('\\S',str))"
   ]
  }
 ],
 "metadata": {
  "kernelspec": {
   "display_name": "Python 3",
   "language": "python",
   "name": "python3"
  },
  "language_info": {
   "codemirror_mode": {
    "name": "ipython",
    "version": 3
   },
   "file_extension": ".py",
   "mimetype": "text/x-python",
   "name": "python",
   "nbconvert_exporter": "python",
   "pygments_lexer": "ipython3",
   "version": "3.8.3"
  }
 },
 "nbformat": 4,
 "nbformat_minor": 4
}
