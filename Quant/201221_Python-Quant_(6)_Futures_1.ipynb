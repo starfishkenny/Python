{
 "cells": [
  {
   "cell_type": "markdown",
   "metadata": {},
   "source": [
    "### 선물 (Futures Contract)\n",
    "  + 미래에 필요한 상품을 미리 거래하는 것\n",
    "  + 거래를 할 때(거래일) 바로 상품이 넘어가지 않고 약속한 날짜(만기일)가 되어야 상품이 넘어감\n",
    "  + 그러므로 상대방의 신용이 중요 (거래소 보증 O = 선물거래 / 거래소 보증 X = 선도거래)\n",
    "  + 대표적인 선물 상품: WTI (서부 텍사스 중질유)"
   ]
  },
  {
   "cell_type": "markdown",
   "metadata": {},
   "source": [
    "#### 선물거래의 특징\n",
    "  - 시작부터 매도할 수 있음 (팔 물건이 없어도 매도가 가능)\n",
    "  - 선물가격\n",
    "    * 승수(Multiplier): 선물 1계약당 가격을 결정하는 것\n",
    "    * 선물가격 = 기초자산지수(가격) * 승수 * 계약 수\n",
    "  - 증거금만 있으면 거래가능 (레버리지 효과)\n",
    "    * 선물계약은 기본적으로 후불 / 하지만 불특정 다수 간의 거래에 따른 부도 위험에 대비해 계약시점에 보증금 성격의 보증금 부여\n",
    "    * 예) KOSPI200 지수선물의 위탁증거금율 = 7.5%, KOSPI200 = 300, 승수 = 250,000원이라면...  \n",
    "      + KOSPI200 선물 1계약에 해당하는 증거금은 5,625,000원 (지수 * 계약 수 * 승수 * 증거금율 = 300 * 1 * 250,000 * 7.5%)\n",
    "      + 승수에 따라 레버리지 가능해짐 (레버리지: 상대적으로 적은 자본으로 큰 규모의 매매를 하는 것)\n",
    "    * 증거금율은 거래소가 정하고, 시장 상황에 따라 수시로 변경 (시장 가격 변동에 따른 위험에 따라)\n",
    "  - 레버리지에 대한 안전장치: 일일정산과 마진콜\n",
    "    * 거래 상대방이 계약을 이행하지 않을 위험 = 거래상대방 위험 --> 선물거래는 이를 방지하기 위해 매일 정산 (일일정산)\n",
    "    * 유지증거금 제도: KOSPI200 선물의 유지증거금율이 5%일 때, 증거금이 선물계약 금액의 5% 미만으로 내려가면 투자자에게 위탁증거금만큼인 7.5%에 맞추도록 돈을 추가로 납부하게 하는 제도 --> 추가 납부를 안하면 거래소에서 투자자 포지션 청산 (마진콜)"
   ]
  },
  {
   "cell_type": "markdown",
   "metadata": {},
   "source": [
    "#### 선물 이론가\n",
    "  + 파생상품 밸류에이션 => 파생상품을 보유하고 있을 때와 보유하고 있지 않을 때의 손익을 따져서 결정\n",
    "    - 선물도 마찬가지 => 계약 체결 후 만기가 되어 상품을 인도받을 때까지 손익을 따져보면 됨\n",
    "  + 계산은 나중 ==> 이자이익 발생 (포트폴리오상의 포지션에는 有, 돈은 지불하지 않은 상태)\n",
    "  + 확보 자산에 대한 권리 X ==> 배당 X\n",
    "  + 선물 이론가 계산:\n",
    "    - 선물 이론가 = 기초자산 가격 + 금융(이자) 비용 - 배당 수입\n",
    "    - 연속복리이자율(Continuous Compounded Interest Rate) 이용하여 표현... \n",
    "      * $ F = Se^{(r-d)t} $\n",
    "      * $ F = S[1+(r-d)*t/365]$ (단순이자율 활용한 공식)\n",
    "      * F: 선물가격, S: 현물가격, r: 이자율, d: 배당률, t: 잔존만기\n"
   ]
  },
  {
   "cell_type": "markdown",
   "metadata": {},
   "source": [
    "#### Numpy\n",
    "  + 다차원 배열을 다루고 벡터 연산법을 알아본다."
   ]
  },
  {
   "cell_type": "code",
   "execution_count": 1,
   "metadata": {},
   "outputs": [],
   "source": [
    "import numpy as np"
   ]
  },
  {
   "cell_type": "code",
   "execution_count": 2,
   "metadata": {},
   "outputs": [
    {
     "name": "stdout",
     "output_type": "stream",
     "text": [
      "[1 2 3]\n"
     ]
    }
   ],
   "source": [
    "# 1차원 array 만들기\n",
    "a1 = np.array([1,2,3])\n",
    "print(a1)"
   ]
  },
  {
   "cell_type": "code",
   "execution_count": 3,
   "metadata": {},
   "outputs": [
    {
     "name": "stdout",
     "output_type": "stream",
     "text": [
      "[[1 2 3]\n",
      " [4 5 6]]\n"
     ]
    }
   ],
   "source": [
    "# 2차원 array 만들기: 이중 [[]]\n",
    "a2 = np.array([[1,2,3],[4,5,6]])\n",
    "print(a2)"
   ]
  },
  {
   "cell_type": "code",
   "execution_count": 4,
   "metadata": {},
   "outputs": [
    {
     "name": "stdout",
     "output_type": "stream",
     "text": [
      "[[[1 2 3]\n",
      "  [4 5 6]]\n",
      "\n",
      " [[1 2 3]\n",
      "  [4 5 6]]]\n"
     ]
    }
   ],
   "source": [
    "# 3차원 array 만들기: 3중 [[[]]]\n",
    "a3 = np.array([[[1,2,3],[4,5,6]],[[1,2,3],[4,5,6]]])\n",
    "print(a3)"
   ]
  },
  {
   "cell_type": "code",
   "execution_count": 5,
   "metadata": {},
   "outputs": [
    {
     "name": "stdout",
     "output_type": "stream",
     "text": [
      "[ 0  1  2  3  4  5  6  7  8  9 10 11 12 13 14]\n"
     ]
    }
   ],
   "source": [
    "# np.arange(시작번호, 끝번호, 간격)로 배열 모양 정의\n",
    "c = np.arange(15) # 시작번호와 간격을 생략하면 0부터 시작해서 1씩 올라가며 숫자를 돌려줌\n",
    "print(c)"
   ]
  },
  {
   "cell_type": "code",
   "execution_count": 6,
   "metadata": {},
   "outputs": [
    {
     "name": "stdout",
     "output_type": "stream",
     "text": [
      "[[ 0  1  2  3  4]\n",
      " [ 5  6  7  8  9]\n",
      " [10 11 12 13 14]]\n"
     ]
    }
   ],
   "source": [
    "# np.reshape(행,열)으로 배열 모양 변경\n",
    "c = c.reshape(3,5)\n",
    "print(c)"
   ]
  },
  {
   "cell_type": "code",
   "execution_count": 7,
   "metadata": {},
   "outputs": [
    {
     "name": "stdout",
     "output_type": "stream",
     "text": [
      "[ 0  5 10 15 20 25 30 35 40 45 50 55 60 65 70 75 80 85 90 95]\n"
     ]
    }
   ],
   "source": [
    "d = np.arange(0,100,5)\n",
    "print(d)"
   ]
  },
  {
   "cell_type": "code",
   "execution_count": 8,
   "metadata": {},
   "outputs": [
    {
     "name": "stdout",
     "output_type": "stream",
     "text": [
      "[[[ 0  5 10 15 20]\n",
      "  [25 30 35 40 45]]\n",
      "\n",
      " [[50 55 60 65 70]\n",
      "  [75 80 85 90 95]]]\n"
     ]
    }
   ],
   "source": [
    "d = d.reshape(2,2,5)\n",
    "print(d)"
   ]
  },
  {
   "cell_type": "code",
   "execution_count": 9,
   "metadata": {},
   "outputs": [],
   "source": [
    "# 배열의 스칼라 연산\n",
    "n1 = np.array([[1,0],\n",
    "              [0,1]])\n",
    "n2 = np.array([[1,2],\n",
    "              [3,4]])"
   ]
  },
  {
   "cell_type": "code",
   "execution_count": 10,
   "metadata": {},
   "outputs": [
    {
     "data": {
      "text/plain": [
       "array([[2, 2],\n",
       "       [3, 5]])"
      ]
     },
     "execution_count": 10,
     "metadata": {},
     "output_type": "execute_result"
    }
   ],
   "source": [
    "n1+n2"
   ]
  },
  {
   "cell_type": "code",
   "execution_count": 11,
   "metadata": {},
   "outputs": [
    {
     "data": {
      "text/plain": [
       "array([[ 0, -2],\n",
       "       [-3, -3]])"
      ]
     },
     "execution_count": 11,
     "metadata": {},
     "output_type": "execute_result"
    }
   ],
   "source": [
    "n1-n2"
   ]
  },
  {
   "cell_type": "code",
   "execution_count": 12,
   "metadata": {},
   "outputs": [
    {
     "data": {
      "text/plain": [
       "array([[1, 0],\n",
       "       [0, 4]])"
      ]
     },
     "execution_count": 12,
     "metadata": {},
     "output_type": "execute_result"
    }
   ],
   "source": [
    "n1*n2"
   ]
  },
  {
   "cell_type": "code",
   "execution_count": 13,
   "metadata": {},
   "outputs": [
    {
     "data": {
      "text/plain": [
       "array([[1.  , 0.  ],\n",
       "       [0.  , 0.25]])"
      ]
     },
     "execution_count": 13,
     "metadata": {},
     "output_type": "execute_result"
    }
   ],
   "source": [
    "n1/n2"
   ]
  },
  {
   "cell_type": "code",
   "execution_count": 14,
   "metadata": {},
   "outputs": [
    {
     "name": "stderr",
     "output_type": "stream",
     "text": [
      "<ipython-input-14-3c9af8f1022c>:1: RuntimeWarning: divide by zero encountered in true_divide\n",
      "  n2/n1\n"
     ]
    },
    {
     "data": {
      "text/plain": [
       "array([[ 1., inf],\n",
       "       [inf,  4.]])"
      ]
     },
     "execution_count": 14,
     "metadata": {},
     "output_type": "execute_result"
    }
   ],
   "source": [
    "n2/n1"
   ]
  },
  {
   "cell_type": "code",
   "execution_count": 15,
   "metadata": {},
   "outputs": [
    {
     "data": {
      "text/plain": [
       "array([[2, 1],\n",
       "       [1, 2]])"
      ]
     },
     "execution_count": 15,
     "metadata": {},
     "output_type": "execute_result"
    }
   ],
   "source": [
    "# 배열 전체에 같은 연산을 일괄적으로 적용\n",
    "n1+1"
   ]
  },
  {
   "cell_type": "code",
   "execution_count": 16,
   "metadata": {},
   "outputs": [
    {
     "data": {
      "text/plain": [
       "array([[ 0, -1],\n",
       "       [-1,  0]])"
      ]
     },
     "execution_count": 16,
     "metadata": {},
     "output_type": "execute_result"
    }
   ],
   "source": [
    "n1-1"
   ]
  },
  {
   "cell_type": "code",
   "execution_count": 17,
   "metadata": {},
   "outputs": [
    {
     "data": {
      "text/plain": [
       "array([[2, 0],\n",
       "       [0, 2]])"
      ]
     },
     "execution_count": 17,
     "metadata": {},
     "output_type": "execute_result"
    }
   ],
   "source": [
    "n1*2"
   ]
  },
  {
   "cell_type": "code",
   "execution_count": 18,
   "metadata": {},
   "outputs": [
    {
     "data": {
      "text/plain": [
       "array([[0.5, 0. ],\n",
       "       [0. , 0.5]])"
      ]
     },
     "execution_count": 18,
     "metadata": {},
     "output_type": "execute_result"
    }
   ],
   "source": [
    "n1/2"
   ]
  },
  {
   "cell_type": "markdown",
   "metadata": {},
   "source": [
    "##### 벡터 곱셈\n",
    "$ \\begin{bmatrix}\n",
    "a & b \\\\\n",
    "c & d\n",
    "\\end{bmatrix}\n",
    "\\begin{bmatrix}\n",
    "e & f \\\\\n",
    "g & h\n",
    "\\end{bmatrix}\n",
    "=\n",
    " \\begin{bmatrix}\n",
    "ae + bg & af + bh \\\\\n",
    "ce + dg & cf +dh\n",
    "\\end{bmatrix}$"
   ]
  },
  {
   "cell_type": "code",
   "execution_count": 19,
   "metadata": {},
   "outputs": [
    {
     "data": {
      "text/plain": [
       "array([[1, 2],\n",
       "       [3, 4]])"
      ]
     },
     "execution_count": 19,
     "metadata": {},
     "output_type": "execute_result"
    }
   ],
   "source": [
    "# numpy에서는 dot()함수 사용\n",
    "np.dot(n1,n2)"
   ]
  },
  {
   "cell_type": "code",
   "execution_count": 20,
   "metadata": {},
   "outputs": [
    {
     "data": {
      "text/plain": [
       "array([[1, 2],\n",
       "       [3, 4]])"
      ]
     },
     "execution_count": 20,
     "metadata": {},
     "output_type": "execute_result"
    }
   ],
   "source": [
    "n1.dot(n2) # np.dot(n1,n2)와 같은 표현"
   ]
  },
  {
   "cell_type": "code",
   "execution_count": 21,
   "metadata": {},
   "outputs": [
    {
     "name": "stdout",
     "output_type": "stream",
     "text": [
      "[[ 0  1  2  3]\n",
      " [ 4  5  6  7]\n",
      " [ 8  9 10 11]]\n"
     ]
    }
   ],
   "source": [
    "# 행끼리, 열끼리 계산의 장점 --> 최고가, 최저가, 평균가 등을 뽑을 때 유리\n",
    "# axis=0 => 열끼리 / axis=1 => 행끼리\n",
    "n3 = np.arange(12).reshape(3,4)\n",
    "print(n3)"
   ]
  },
  {
   "cell_type": "code",
   "execution_count": 22,
   "metadata": {},
   "outputs": [
    {
     "data": {
      "text/plain": [
       "array([12, 15, 18, 21])"
      ]
     },
     "execution_count": 22,
     "metadata": {},
     "output_type": "execute_result"
    }
   ],
   "source": [
    "n3.sum(axis=0) # 열 합계"
   ]
  },
  {
   "cell_type": "code",
   "execution_count": 23,
   "metadata": {},
   "outputs": [
    {
     "data": {
      "text/plain": [
       "array([ 6, 22, 38])"
      ]
     },
     "execution_count": 23,
     "metadata": {},
     "output_type": "execute_result"
    }
   ],
   "source": [
    "n3.sum(axis=1) # 행 합계"
   ]
  },
  {
   "cell_type": "code",
   "execution_count": 24,
   "metadata": {},
   "outputs": [
    {
     "data": {
      "text/plain": [
       "array([ 8,  9, 10, 11])"
      ]
     },
     "execution_count": 24,
     "metadata": {},
     "output_type": "execute_result"
    }
   ],
   "source": [
    "n3.max(axis=0) # 각 열의 최댓값"
   ]
  },
  {
   "cell_type": "code",
   "execution_count": 25,
   "metadata": {},
   "outputs": [
    {
     "data": {
      "text/plain": [
       "array([1.5, 5.5, 9.5])"
      ]
     },
     "execution_count": 25,
     "metadata": {},
     "output_type": "execute_result"
    }
   ],
   "source": [
    "n3.mean(axis=1) # 각 행의 평균값"
   ]
  },
  {
   "cell_type": "code",
   "execution_count": 26,
   "metadata": {},
   "outputs": [
    {
     "name": "stdout",
     "output_type": "stream",
     "text": [
      "11\n",
      "0\n",
      "66\n",
      "5.5\n",
      "3.452052529534663\n",
      "11.916666666666666\n",
      "[ 0  1  3  6 10 15 21 28 36 45 55 66]\n",
      "[0 0 0 0 0 0 0 0 0 0 0 0]\n"
     ]
    }
   ],
   "source": [
    "# 축 지정 X --> 전체 원소에 대한 연산 실행\n",
    "print(n3.max())\n",
    "print(n3.min())\n",
    "print(n3.sum())\n",
    "print(n3.mean())\n",
    "print(n3.std()) # 표준편차\n",
    "print(n3.var()) # 분산\n",
    "print(n3.cumsum()) # 각 원소의 누적 합\n",
    "print(n3.cumprod()) # 각 원소의 누적 곱"
   ]
  },
  {
   "cell_type": "code",
   "execution_count": 27,
   "metadata": {},
   "outputs": [],
   "source": [
    "# 배열에서 특정 데이터 뽑아오기 => 슬라이싱\n",
    "# 첫 번째 데이터 => 1이 아닌 0부터 시작\n",
    "v = np.array([[11,12,13,14,15],\n",
    "            [21,22,23,24,25],\n",
    "            [31,32,33,34,35],\n",
    "            [41,42,43,44,45]])"
   ]
  },
  {
   "cell_type": "code",
   "execution_count": 28,
   "metadata": {},
   "outputs": [
    {
     "data": {
      "text/plain": [
       "23"
      ]
     },
     "execution_count": 28,
     "metadata": {},
     "output_type": "execute_result"
    }
   ],
   "source": [
    "v[1,2] # 2행 3열 데이터 추출"
   ]
  },
  {
   "cell_type": "code",
   "execution_count": 29,
   "metadata": {},
   "outputs": [
    {
     "data": {
      "text/plain": [
       "23"
      ]
     },
     "execution_count": 29,
     "metadata": {},
     "output_type": "execute_result"
    }
   ],
   "source": [
    "v[1][2] # v[1,2]와 동일"
   ]
  },
  {
   "cell_type": "code",
   "execution_count": 30,
   "metadata": {},
   "outputs": [
    {
     "data": {
      "text/plain": [
       "array([12, 22, 32, 42])"
      ]
     },
     "execution_count": 30,
     "metadata": {},
     "output_type": "execute_result"
    }
   ],
   "source": [
    "v[:,1] # 전체 행, 2열 데이터 추출"
   ]
  },
  {
   "cell_type": "code",
   "execution_count": 31,
   "metadata": {},
   "outputs": [
    {
     "data": {
      "text/plain": [
       "array([22, 32])"
      ]
     },
     "execution_count": 31,
     "metadata": {},
     "output_type": "execute_result"
    }
   ],
   "source": [
    "v[1:3,1] # 2~3행, 2열 데이터 추출"
   ]
  },
  {
   "cell_type": "code",
   "execution_count": 32,
   "metadata": {},
   "outputs": [
    {
     "data": {
      "text/plain": [
       "array([21, 22, 23, 24, 25])"
      ]
     },
     "execution_count": 32,
     "metadata": {},
     "output_type": "execute_result"
    }
   ],
   "source": [
    "v[1,:] # 2행, 전체 절 데이터 추출"
   ]
  },
  {
   "cell_type": "markdown",
   "metadata": {},
   "source": [
    "#### Pandas\n",
    "  + pandas로... 1차원 데이터 => 시리즈, 2차원 데이터 => 데이터프레임"
   ]
  },
  {
   "cell_type": "code",
   "execution_count": 33,
   "metadata": {},
   "outputs": [],
   "source": [
    "import pandas as pd"
   ]
  },
  {
   "cell_type": "code",
   "execution_count": 34,
   "metadata": {},
   "outputs": [],
   "source": [
    "# 주가를 담아놓은 리스트 생성\n",
    "prices = [1000,1010,1020]"
   ]
  },
  {
   "cell_type": "code",
   "execution_count": 35,
   "metadata": {},
   "outputs": [
    {
     "data": {
      "text/plain": [
       "DatetimeIndex(['2018-12-01', '2018-12-02', '2018-12-03'], dtype='datetime64[ns]', freq='D')"
      ]
     },
     "execution_count": 35,
     "metadata": {},
     "output_type": "execute_result"
    }
   ],
   "source": [
    "# pd.date_range('시작날짜','끝 날짜',periods=날짜 수,freq='주기') (끝 날짜 혹은 periods 둘 중 하나 지정 / freq는 생략가능)\n",
    "# freq --> 'D'(매일) / 'W'(매주) / 'M'(매달) 등으로 지정, 생략 시 기본값 'D'\n",
    "dates = pd.date_range('20181201',periods=3)\n",
    "dates"
   ]
  },
  {
   "cell_type": "code",
   "execution_count": 36,
   "metadata": {},
   "outputs": [
    {
     "data": {
      "text/plain": [
       "DatetimeIndex(['2020-01-05', '2020-01-12', '2020-01-19', '2020-01-26'], dtype='datetime64[ns]', freq='W-SUN')"
      ]
     },
     "execution_count": 36,
     "metadata": {},
     "output_type": "execute_result"
    }
   ],
   "source": [
    "pd.date_range('20200101','20200131',freq='W')"
   ]
  },
  {
   "cell_type": "code",
   "execution_count": 37,
   "metadata": {},
   "outputs": [
    {
     "data": {
      "text/plain": [
       "2018-12-01    1000\n",
       "2018-12-02    1010\n",
       "2018-12-03    1020\n",
       "Freq: D, dtype: int64"
      ]
     },
     "execution_count": 37,
     "metadata": {},
     "output_type": "execute_result"
    }
   ],
   "source": [
    "s = pd.Series(prices, index=dates) # 주가를 데이터, 날짜를 인덱스로 하는 시리즈 생성\n",
    "s"
   ]
  },
  {
   "cell_type": "code",
   "execution_count": 38,
   "metadata": {},
   "outputs": [
    {
     "data": {
      "text/plain": [
       "0    1000\n",
       "1    1010\n",
       "2    1020\n",
       "dtype: int64"
      ]
     },
     "execution_count": 38,
     "metadata": {},
     "output_type": "execute_result"
    }
   ],
   "source": [
    "s2 = pd.Series(prices)\n",
    "s2"
   ]
  },
  {
   "cell_type": "code",
   "execution_count": 39,
   "metadata": {},
   "outputs": [
    {
     "data": {
      "text/plain": [
       "0    1000\n",
       "1    1010\n",
       "2    1020\n",
       "3    1030\n",
       "dtype: int64"
      ]
     },
     "execution_count": 39,
     "metadata": {},
     "output_type": "execute_result"
    }
   ],
   "source": [
    "s2[3] = 1030 # 시리즈에 데이터 추가\n",
    "s2"
   ]
  },
  {
   "cell_type": "code",
   "execution_count": 40,
   "metadata": {},
   "outputs": [
    {
     "name": "stdout",
     "output_type": "stream",
     "text": [
      "123123\n",
      "246\n"
     ]
    }
   ],
   "source": [
    "# str과 int의 차이\n",
    "print('123'+'123')\n",
    "print(123+123)"
   ]
  },
  {
   "cell_type": "code",
   "execution_count": 41,
   "metadata": {},
   "outputs": [
    {
     "data": {
      "text/plain": [
       "2018-12-01    1000\n",
       "2018-12-02    1010\n",
       "2018-12-03    1020\n",
       "2018-12-04    1030\n",
       "Freq: D, dtype: int64"
      ]
     },
     "execution_count": 41,
     "metadata": {},
     "output_type": "execute_result"
    }
   ],
   "source": [
    "# pd.to_datetime('날짜') => str 형식의 날짜를 datetime으로 변환\n",
    "s[pd.to_datetime('2018-12-04')] = 1030\n",
    "s"
   ]
  },
  {
   "cell_type": "code",
   "execution_count": 42,
   "metadata": {},
   "outputs": [
    {
     "data": {
      "text/plain": [
       "1020"
      ]
     },
     "execution_count": 42,
     "metadata": {},
     "output_type": "execute_result"
    }
   ],
   "source": [
    "s[2] # 리스트나 배열처럼 특정 데이터 추출 가능"
   ]
  },
  {
   "cell_type": "code",
   "execution_count": 43,
   "metadata": {},
   "outputs": [
    {
     "data": {
      "text/plain": [
       "1020"
      ]
     },
     "execution_count": 43,
     "metadata": {},
     "output_type": "execute_result"
    }
   ],
   "source": [
    "s['2018-12-03'] # 레이블(인덱스 이름)을 이용하여 추출도 가능"
   ]
  },
  {
   "cell_type": "code",
   "execution_count": 44,
   "metadata": {},
   "outputs": [
    {
     "data": {
      "text/html": [
       "<div>\n",
       "<style scoped>\n",
       "    .dataframe tbody tr th:only-of-type {\n",
       "        vertical-align: middle;\n",
       "    }\n",
       "\n",
       "    .dataframe tbody tr th {\n",
       "        vertical-align: top;\n",
       "    }\n",
       "\n",
       "    .dataframe thead th {\n",
       "        text-align: right;\n",
       "    }\n",
       "</style>\n",
       "<table border=\"1\" class=\"dataframe\">\n",
       "  <thead>\n",
       "    <tr style=\"text-align: right;\">\n",
       "      <th></th>\n",
       "      <th>A전자</th>\n",
       "      <th>B화학</th>\n",
       "      <th>C금융</th>\n",
       "    </tr>\n",
       "  </thead>\n",
       "  <tbody>\n",
       "    <tr>\n",
       "      <th>0</th>\n",
       "      <td>1000</td>\n",
       "      <td>2000</td>\n",
       "      <td>3000</td>\n",
       "    </tr>\n",
       "    <tr>\n",
       "      <th>1</th>\n",
       "      <td>1010</td>\n",
       "      <td>2010</td>\n",
       "      <td>3010</td>\n",
       "    </tr>\n",
       "    <tr>\n",
       "      <th>2</th>\n",
       "      <td>1020</td>\n",
       "      <td>2020</td>\n",
       "      <td>3020</td>\n",
       "    </tr>\n",
       "  </tbody>\n",
       "</table>\n",
       "</div>"
      ],
      "text/plain": [
       "    A전자   B화학   C금융\n",
       "0  1000  2000  3000\n",
       "1  1010  2010  3010\n",
       "2  1020  2020  3020"
      ]
     },
     "execution_count": 44,
     "metadata": {},
     "output_type": "execute_result"
    }
   ],
   "source": [
    "# 데이터프레임 생성\n",
    "prices = {'A전자': [1000,1010,1020],\n",
    "         'B화학': [2000,2010,2020],\n",
    "         'C금융': [3000,3010,3020]}\n",
    "df1 = pd.DataFrame(prices)\n",
    "df1"
   ]
  },
  {
   "cell_type": "code",
   "execution_count": 45,
   "metadata": {},
   "outputs": [
    {
     "data": {
      "text/html": [
       "<div>\n",
       "<style scoped>\n",
       "    .dataframe tbody tr th:only-of-type {\n",
       "        vertical-align: middle;\n",
       "    }\n",
       "\n",
       "    .dataframe tbody tr th {\n",
       "        vertical-align: top;\n",
       "    }\n",
       "\n",
       "    .dataframe thead th {\n",
       "        text-align: right;\n",
       "    }\n",
       "</style>\n",
       "<table border=\"1\" class=\"dataframe\">\n",
       "  <thead>\n",
       "    <tr style=\"text-align: right;\">\n",
       "      <th></th>\n",
       "      <th>A전자</th>\n",
       "      <th>B화학</th>\n",
       "      <th>C금융</th>\n",
       "    </tr>\n",
       "  </thead>\n",
       "  <tbody>\n",
       "    <tr>\n",
       "      <th>2018-12-01</th>\n",
       "      <td>1000</td>\n",
       "      <td>2000</td>\n",
       "      <td>3000</td>\n",
       "    </tr>\n",
       "    <tr>\n",
       "      <th>2018-12-02</th>\n",
       "      <td>1010</td>\n",
       "      <td>2010</td>\n",
       "      <td>3010</td>\n",
       "    </tr>\n",
       "    <tr>\n",
       "      <th>2018-12-03</th>\n",
       "      <td>1020</td>\n",
       "      <td>2020</td>\n",
       "      <td>3020</td>\n",
       "    </tr>\n",
       "  </tbody>\n",
       "</table>\n",
       "</div>"
      ],
      "text/plain": [
       "             A전자   B화학   C금융\n",
       "2018-12-01  1000  2000  3000\n",
       "2018-12-02  1010  2010  3010\n",
       "2018-12-03  1020  2020  3020"
      ]
     },
     "execution_count": 45,
     "metadata": {},
     "output_type": "execute_result"
    }
   ],
   "source": [
    "# 인덱스 추가\n",
    "df2 = pd.DataFrame(prices, index=dates)\n",
    "df2"
   ]
  },
  {
   "cell_type": "code",
   "execution_count": 46,
   "metadata": {},
   "outputs": [
    {
     "data": {
      "text/plain": [
       "A전자    1000\n",
       "B화학    2000\n",
       "C금융    3000\n",
       "Name: 2018-12-01 00:00:00, dtype: int64"
      ]
     },
     "execution_count": 46,
     "metadata": {},
     "output_type": "execute_result"
    }
   ],
   "source": [
    "# 데이터프레임.iloc[줄번호, 열번호(생략기능, 생략하면 열 전체)] 데이터프레임 조회\n",
    "df2.iloc[0]"
   ]
  },
  {
   "cell_type": "code",
   "execution_count": 47,
   "metadata": {},
   "outputs": [
    {
     "data": {
      "text/plain": [
       "2018-12-01    1000\n",
       "2018-12-02    1010\n",
       "2018-12-03    1020\n",
       "Freq: D, Name: A전자, dtype: int64"
      ]
     },
     "execution_count": 47,
     "metadata": {},
     "output_type": "execute_result"
    }
   ],
   "source": [
    "df2.iloc[:,0]"
   ]
  },
  {
   "cell_type": "code",
   "execution_count": 48,
   "metadata": {},
   "outputs": [
    {
     "data": {
      "text/plain": [
       "1000"
      ]
     },
     "execution_count": 48,
     "metadata": {},
     "output_type": "execute_result"
    }
   ],
   "source": [
    "df2.iloc[0,0]"
   ]
  },
  {
   "cell_type": "code",
   "execution_count": 49,
   "metadata": {},
   "outputs": [
    {
     "data": {
      "text/plain": [
       "A전자    1000\n",
       "B화학    2000\n",
       "C금융    3000\n",
       "Name: 2018-12-01 00:00:00, dtype: int64"
      ]
     },
     "execution_count": 49,
     "metadata": {},
     "output_type": "execute_result"
    }
   ],
   "source": [
    "# 데이터프레임.loc['행 레이블','열 레이블']\n",
    "df2.loc['2018-12-01']"
   ]
  },
  {
   "cell_type": "code",
   "execution_count": 50,
   "metadata": {},
   "outputs": [
    {
     "data": {
      "text/plain": [
       "2018-12-01    1000\n",
       "2018-12-02    1010\n",
       "2018-12-03    1020\n",
       "Freq: D, Name: A전자, dtype: int64"
      ]
     },
     "execution_count": 50,
     "metadata": {},
     "output_type": "execute_result"
    }
   ],
   "source": [
    "df2.loc[:,'A전자']"
   ]
  },
  {
   "cell_type": "code",
   "execution_count": 51,
   "metadata": {},
   "outputs": [
    {
     "data": {
      "text/plain": [
       "2010"
      ]
     },
     "execution_count": 51,
     "metadata": {},
     "output_type": "execute_result"
    }
   ],
   "source": [
    "df2.loc['2018-12-02','B화학']"
   ]
  },
  {
   "cell_type": "code",
   "execution_count": 52,
   "metadata": {},
   "outputs": [
    {
     "data": {
      "text/plain": [
       "2018-12-01    1000\n",
       "2018-12-02    1010\n",
       "2018-12-03    1020\n",
       "Freq: D, Name: A전자, dtype: int64"
      ]
     },
     "execution_count": 52,
     "metadata": {},
     "output_type": "execute_result"
    }
   ],
   "source": [
    "df2.A전자 # df2['A전자']와 동일"
   ]
  },
  {
   "cell_type": "code",
   "execution_count": 53,
   "metadata": {},
   "outputs": [
    {
     "data": {
      "text/plain": [
       "1000"
      ]
     },
     "execution_count": 53,
     "metadata": {},
     "output_type": "execute_result"
    }
   ],
   "source": [
    "df2['A전자']['2018-12-01'] # 열 선택 후 행 선택"
   ]
  },
  {
   "cell_type": "code",
   "execution_count": 54,
   "metadata": {},
   "outputs": [
    {
     "data": {
      "text/plain": [
       "1000"
      ]
     },
     "execution_count": 54,
     "metadata": {},
     "output_type": "execute_result"
    }
   ],
   "source": [
    "df2.loc[:,'A전자']['2018-12-01'] # df2['A전자']['2018-12-01']와 동일"
   ]
  },
  {
   "cell_type": "code",
   "execution_count": 55,
   "metadata": {},
   "outputs": [
    {
     "data": {
      "text/html": [
       "<div>\n",
       "<style scoped>\n",
       "    .dataframe tbody tr th:only-of-type {\n",
       "        vertical-align: middle;\n",
       "    }\n",
       "\n",
       "    .dataframe tbody tr th {\n",
       "        vertical-align: top;\n",
       "    }\n",
       "\n",
       "    .dataframe thead th {\n",
       "        text-align: right;\n",
       "    }\n",
       "</style>\n",
       "<table border=\"1\" class=\"dataframe\">\n",
       "  <thead>\n",
       "    <tr style=\"text-align: right;\">\n",
       "      <th></th>\n",
       "      <th>A전자</th>\n",
       "      <th>B화학</th>\n",
       "      <th>C금융</th>\n",
       "      <th>D엔터</th>\n",
       "    </tr>\n",
       "  </thead>\n",
       "  <tbody>\n",
       "    <tr>\n",
       "      <th>2018-12-01</th>\n",
       "      <td>1000</td>\n",
       "      <td>2000</td>\n",
       "      <td>3000</td>\n",
       "      <td>4000</td>\n",
       "    </tr>\n",
       "    <tr>\n",
       "      <th>2018-12-02</th>\n",
       "      <td>1010</td>\n",
       "      <td>2010</td>\n",
       "      <td>3010</td>\n",
       "      <td>4010</td>\n",
       "    </tr>\n",
       "    <tr>\n",
       "      <th>2018-12-03</th>\n",
       "      <td>1020</td>\n",
       "      <td>2020</td>\n",
       "      <td>3020</td>\n",
       "      <td>4020</td>\n",
       "    </tr>\n",
       "  </tbody>\n",
       "</table>\n",
       "</div>"
      ],
      "text/plain": [
       "             A전자   B화학   C금융   D엔터\n",
       "2018-12-01  1000  2000  3000  4000\n",
       "2018-12-02  1010  2010  3010  4010\n",
       "2018-12-03  1020  2020  3020  4020"
      ]
     },
     "execution_count": 55,
     "metadata": {},
     "output_type": "execute_result"
    }
   ],
   "source": [
    "# 데이터프레임에 데이터 추가\n",
    "df2['D엔터'] = [4000,4010,4020]\n",
    "df2"
   ]
  },
  {
   "cell_type": "code",
   "execution_count": 56,
   "metadata": {},
   "outputs": [
    {
     "data": {
      "text/html": [
       "<div>\n",
       "<style scoped>\n",
       "    .dataframe tbody tr th:only-of-type {\n",
       "        vertical-align: middle;\n",
       "    }\n",
       "\n",
       "    .dataframe tbody tr th {\n",
       "        vertical-align: top;\n",
       "    }\n",
       "\n",
       "    .dataframe thead th {\n",
       "        text-align: right;\n",
       "    }\n",
       "</style>\n",
       "<table border=\"1\" class=\"dataframe\">\n",
       "  <thead>\n",
       "    <tr style=\"text-align: right;\">\n",
       "      <th></th>\n",
       "      <th>A전자</th>\n",
       "      <th>B화학</th>\n",
       "      <th>C금융</th>\n",
       "      <th>D엔터</th>\n",
       "      <th>E텔레콤</th>\n",
       "    </tr>\n",
       "  </thead>\n",
       "  <tbody>\n",
       "    <tr>\n",
       "      <th>2018-12-01</th>\n",
       "      <td>1000</td>\n",
       "      <td>2000</td>\n",
       "      <td>3000</td>\n",
       "      <td>4000</td>\n",
       "      <td>1000</td>\n",
       "    </tr>\n",
       "    <tr>\n",
       "      <th>2018-12-02</th>\n",
       "      <td>1010</td>\n",
       "      <td>2010</td>\n",
       "      <td>3010</td>\n",
       "      <td>4010</td>\n",
       "      <td>1010</td>\n",
       "    </tr>\n",
       "    <tr>\n",
       "      <th>2018-12-03</th>\n",
       "      <td>1020</td>\n",
       "      <td>2020</td>\n",
       "      <td>3020</td>\n",
       "      <td>4020</td>\n",
       "      <td>1020</td>\n",
       "    </tr>\n",
       "  </tbody>\n",
       "</table>\n",
       "</div>"
      ],
      "text/plain": [
       "             A전자   B화학   C금융   D엔터  E텔레콤\n",
       "2018-12-01  1000  2000  3000  4000  1000\n",
       "2018-12-02  1010  2010  3010  4010  1010\n",
       "2018-12-03  1020  2020  3020  4020  1020"
      ]
     },
     "execution_count": 56,
     "metadata": {},
     "output_type": "execute_result"
    }
   ],
   "source": [
    "df2['E텔레콤'] = s\n",
    "df2"
   ]
  },
  {
   "cell_type": "code",
   "execution_count": 57,
   "metadata": {},
   "outputs": [
    {
     "data": {
      "text/plain": [
       "2018-12-01    1000\n",
       "2018-12-02    1010\n",
       "2018-12-03    1020\n",
       "2018-12-04    1030\n",
       "Freq: D, Name: F소프트, dtype: int64"
      ]
     },
     "execution_count": 57,
     "metadata": {},
     "output_type": "execute_result"
    }
   ],
   "source": [
    "# pd.concat(A, B, axis=1) => 데이터프레임 병합\n",
    "# 시리즈를 이용해 인덱스에 업는 값도 추가하려면 사용 --> 데이터프레임 확장\n",
    "# axis는 합쳐질 방향 (0=행, 1=열)\n",
    "s.name = 'F소프트'\n",
    "s"
   ]
  },
  {
   "cell_type": "code",
   "execution_count": 58,
   "metadata": {},
   "outputs": [
    {
     "data": {
      "text/html": [
       "<div>\n",
       "<style scoped>\n",
       "    .dataframe tbody tr th:only-of-type {\n",
       "        vertical-align: middle;\n",
       "    }\n",
       "\n",
       "    .dataframe tbody tr th {\n",
       "        vertical-align: top;\n",
       "    }\n",
       "\n",
       "    .dataframe thead th {\n",
       "        text-align: right;\n",
       "    }\n",
       "</style>\n",
       "<table border=\"1\" class=\"dataframe\">\n",
       "  <thead>\n",
       "    <tr style=\"text-align: right;\">\n",
       "      <th></th>\n",
       "      <th>A전자</th>\n",
       "      <th>B화학</th>\n",
       "      <th>C금융</th>\n",
       "      <th>D엔터</th>\n",
       "      <th>E텔레콤</th>\n",
       "      <th>F소프트</th>\n",
       "    </tr>\n",
       "  </thead>\n",
       "  <tbody>\n",
       "    <tr>\n",
       "      <th>2018-12-01</th>\n",
       "      <td>1000.0</td>\n",
       "      <td>2000.0</td>\n",
       "      <td>3000.0</td>\n",
       "      <td>4000.0</td>\n",
       "      <td>1000.0</td>\n",
       "      <td>1000</td>\n",
       "    </tr>\n",
       "    <tr>\n",
       "      <th>2018-12-02</th>\n",
       "      <td>1010.0</td>\n",
       "      <td>2010.0</td>\n",
       "      <td>3010.0</td>\n",
       "      <td>4010.0</td>\n",
       "      <td>1010.0</td>\n",
       "      <td>1010</td>\n",
       "    </tr>\n",
       "    <tr>\n",
       "      <th>2018-12-03</th>\n",
       "      <td>1020.0</td>\n",
       "      <td>2020.0</td>\n",
       "      <td>3020.0</td>\n",
       "      <td>4020.0</td>\n",
       "      <td>1020.0</td>\n",
       "      <td>1020</td>\n",
       "    </tr>\n",
       "    <tr>\n",
       "      <th>2018-12-04</th>\n",
       "      <td>NaN</td>\n",
       "      <td>NaN</td>\n",
       "      <td>NaN</td>\n",
       "      <td>NaN</td>\n",
       "      <td>NaN</td>\n",
       "      <td>1030</td>\n",
       "    </tr>\n",
       "  </tbody>\n",
       "</table>\n",
       "</div>"
      ],
      "text/plain": [
       "               A전자     B화학     C금융     D엔터    E텔레콤  F소프트\n",
       "2018-12-01  1000.0  2000.0  3000.0  4000.0  1000.0  1000\n",
       "2018-12-02  1010.0  2010.0  3010.0  4010.0  1010.0  1010\n",
       "2018-12-03  1020.0  2020.0  3020.0  4020.0  1020.0  1020\n",
       "2018-12-04     NaN     NaN     NaN     NaN     NaN  1030"
      ]
     },
     "execution_count": 58,
     "metadata": {},
     "output_type": "execute_result"
    }
   ],
   "source": [
    "df2 = pd.concat([df2,s],axis=1)\n",
    "df2"
   ]
  },
  {
   "cell_type": "code",
   "execution_count": 59,
   "metadata": {},
   "outputs": [
    {
     "data": {
      "text/plain": [
       "A전자     1060.0\n",
       "B화학     2060.0\n",
       "C금융     3060.0\n",
       "D엔터     4060.0\n",
       "E텔레콤    1060.0\n",
       "F소프트    1060.0\n",
       "Name: 2018-12-07 00:00:00, dtype: float64"
      ]
     },
     "execution_count": 59,
     "metadata": {},
     "output_type": "execute_result"
    }
   ],
   "source": [
    "# 만약 12.7의 시세가 12.1보다 50원씩 올랐다면\n",
    "df3 = df2.iloc[0]\n",
    "df3 = df3 + 60\n",
    "df3.name = pd.to_datetime('20181207')\n",
    "df3"
   ]
  },
  {
   "cell_type": "code",
   "execution_count": 61,
   "metadata": {},
   "outputs": [
    {
     "data": {
      "text/html": [
       "<div>\n",
       "<style scoped>\n",
       "    .dataframe tbody tr th:only-of-type {\n",
       "        vertical-align: middle;\n",
       "    }\n",
       "\n",
       "    .dataframe tbody tr th {\n",
       "        vertical-align: top;\n",
       "    }\n",
       "\n",
       "    .dataframe thead th {\n",
       "        text-align: right;\n",
       "    }\n",
       "</style>\n",
       "<table border=\"1\" class=\"dataframe\">\n",
       "  <thead>\n",
       "    <tr style=\"text-align: right;\">\n",
       "      <th></th>\n",
       "      <th>A전자</th>\n",
       "      <th>B화학</th>\n",
       "      <th>C금융</th>\n",
       "      <th>D엔터</th>\n",
       "      <th>E텔레콤</th>\n",
       "      <th>F소프트</th>\n",
       "    </tr>\n",
       "  </thead>\n",
       "  <tbody>\n",
       "    <tr>\n",
       "      <th>2018-12-01</th>\n",
       "      <td>1000.0</td>\n",
       "      <td>2000.0</td>\n",
       "      <td>3000.0</td>\n",
       "      <td>4000.0</td>\n",
       "      <td>1000.0</td>\n",
       "      <td>1000.0</td>\n",
       "    </tr>\n",
       "    <tr>\n",
       "      <th>2018-12-02</th>\n",
       "      <td>1010.0</td>\n",
       "      <td>2010.0</td>\n",
       "      <td>3010.0</td>\n",
       "      <td>4010.0</td>\n",
       "      <td>1010.0</td>\n",
       "      <td>1010.0</td>\n",
       "    </tr>\n",
       "    <tr>\n",
       "      <th>2018-12-03</th>\n",
       "      <td>1020.0</td>\n",
       "      <td>2020.0</td>\n",
       "      <td>3020.0</td>\n",
       "      <td>4020.0</td>\n",
       "      <td>1020.0</td>\n",
       "      <td>1020.0</td>\n",
       "    </tr>\n",
       "    <tr>\n",
       "      <th>2018-12-04</th>\n",
       "      <td>NaN</td>\n",
       "      <td>NaN</td>\n",
       "      <td>NaN</td>\n",
       "      <td>NaN</td>\n",
       "      <td>NaN</td>\n",
       "      <td>1030.0</td>\n",
       "    </tr>\n",
       "    <tr>\n",
       "      <th>2018-12-07</th>\n",
       "      <td>1060.0</td>\n",
       "      <td>2060.0</td>\n",
       "      <td>3060.0</td>\n",
       "      <td>4060.0</td>\n",
       "      <td>1060.0</td>\n",
       "      <td>1060.0</td>\n",
       "    </tr>\n",
       "  </tbody>\n",
       "</table>\n",
       "</div>"
      ],
      "text/plain": [
       "               A전자     B화학     C금융     D엔터    E텔레콤    F소프트\n",
       "2018-12-01  1000.0  2000.0  3000.0  4000.0  1000.0  1000.0\n",
       "2018-12-02  1010.0  2010.0  3010.0  4010.0  1010.0  1010.0\n",
       "2018-12-03  1020.0  2020.0  3020.0  4020.0  1020.0  1020.0\n",
       "2018-12-04     NaN     NaN     NaN     NaN     NaN  1030.0\n",
       "2018-12-07  1060.0  2060.0  3060.0  4060.0  1060.0  1060.0"
      ]
     },
     "execution_count": 61,
     "metadata": {},
     "output_type": "execute_result"
    }
   ],
   "source": [
    "df2 = df2.append(df3)\n",
    "df2"
   ]
  },
  {
   "cell_type": "code",
   "execution_count": 62,
   "metadata": {},
   "outputs": [
    {
     "data": {
      "text/html": [
       "<div>\n",
       "<style scoped>\n",
       "    .dataframe tbody tr th:only-of-type {\n",
       "        vertical-align: middle;\n",
       "    }\n",
       "\n",
       "    .dataframe tbody tr th {\n",
       "        vertical-align: top;\n",
       "    }\n",
       "\n",
       "    .dataframe thead th {\n",
       "        text-align: right;\n",
       "    }\n",
       "</style>\n",
       "<table border=\"1\" class=\"dataframe\">\n",
       "  <thead>\n",
       "    <tr style=\"text-align: right;\">\n",
       "      <th></th>\n",
       "      <th>A전자</th>\n",
       "      <th>B화학</th>\n",
       "      <th>C금융</th>\n",
       "      <th>D엔터</th>\n",
       "      <th>E텔레콤</th>\n",
       "      <th>F소프트</th>\n",
       "    </tr>\n",
       "  </thead>\n",
       "  <tbody>\n",
       "    <tr>\n",
       "      <th>2018-12-01</th>\n",
       "      <td>1000.0</td>\n",
       "      <td>2000.0</td>\n",
       "      <td>3000.0</td>\n",
       "      <td>4000.0</td>\n",
       "      <td>1000.0</td>\n",
       "      <td>1000.0</td>\n",
       "    </tr>\n",
       "    <tr>\n",
       "      <th>2018-12-02</th>\n",
       "      <td>1010.0</td>\n",
       "      <td>2010.0</td>\n",
       "      <td>3010.0</td>\n",
       "      <td>4010.0</td>\n",
       "      <td>1010.0</td>\n",
       "      <td>1010.0</td>\n",
       "    </tr>\n",
       "    <tr>\n",
       "      <th>2018-12-03</th>\n",
       "      <td>1020.0</td>\n",
       "      <td>2020.0</td>\n",
       "      <td>3020.0</td>\n",
       "      <td>4020.0</td>\n",
       "      <td>1020.0</td>\n",
       "      <td>1020.0</td>\n",
       "    </tr>\n",
       "    <tr>\n",
       "      <th>2018-12-04</th>\n",
       "      <td>NaN</td>\n",
       "      <td>NaN</td>\n",
       "      <td>NaN</td>\n",
       "      <td>NaN</td>\n",
       "      <td>NaN</td>\n",
       "      <td>1030.0</td>\n",
       "    </tr>\n",
       "    <tr>\n",
       "      <th>2018-12-07</th>\n",
       "      <td>1060.0</td>\n",
       "      <td>2060.0</td>\n",
       "      <td>3060.0</td>\n",
       "      <td>4060.0</td>\n",
       "      <td>1060.0</td>\n",
       "      <td>1060.0</td>\n",
       "    </tr>\n",
       "    <tr>\n",
       "      <th>2018-12-06</th>\n",
       "      <td>1050.0</td>\n",
       "      <td>2050.0</td>\n",
       "      <td>3050.0</td>\n",
       "      <td>4050.0</td>\n",
       "      <td>1050.0</td>\n",
       "      <td>1050.0</td>\n",
       "    </tr>\n",
       "  </tbody>\n",
       "</table>\n",
       "</div>"
      ],
      "text/plain": [
       "               A전자     B화학     C금융     D엔터    E텔레콤    F소프트\n",
       "2018-12-01  1000.0  2000.0  3000.0  4000.0  1000.0  1000.0\n",
       "2018-12-02  1010.0  2010.0  3010.0  4010.0  1010.0  1010.0\n",
       "2018-12-03  1020.0  2020.0  3020.0  4020.0  1020.0  1020.0\n",
       "2018-12-04     NaN     NaN     NaN     NaN     NaN  1030.0\n",
       "2018-12-07  1060.0  2060.0  3060.0  4060.0  1060.0  1060.0\n",
       "2018-12-06  1050.0  2050.0  3050.0  4050.0  1050.0  1050.0"
      ]
     },
     "execution_count": 62,
     "metadata": {},
     "output_type": "execute_result"
    }
   ],
   "source": [
    "# 만약 12.6의 시세가 12.1보다 50원씩 올랐다면\n",
    "df3 = df2.iloc[0] + 50\n",
    "df3.name = pd.to_datetime('20181206')\n",
    "df2 = df2.append(df3)\n",
    "df2"
   ]
  },
  {
   "cell_type": "code",
   "execution_count": 64,
   "metadata": {},
   "outputs": [
    {
     "data": {
      "text/html": [
       "<div>\n",
       "<style scoped>\n",
       "    .dataframe tbody tr th:only-of-type {\n",
       "        vertical-align: middle;\n",
       "    }\n",
       "\n",
       "    .dataframe tbody tr th {\n",
       "        vertical-align: top;\n",
       "    }\n",
       "\n",
       "    .dataframe thead th {\n",
       "        text-align: right;\n",
       "    }\n",
       "</style>\n",
       "<table border=\"1\" class=\"dataframe\">\n",
       "  <thead>\n",
       "    <tr style=\"text-align: right;\">\n",
       "      <th></th>\n",
       "      <th>A전자</th>\n",
       "      <th>B화학</th>\n",
       "      <th>C금융</th>\n",
       "      <th>D엔터</th>\n",
       "      <th>E텔레콤</th>\n",
       "      <th>F소프트</th>\n",
       "    </tr>\n",
       "  </thead>\n",
       "  <tbody>\n",
       "    <tr>\n",
       "      <th>2018-12-01</th>\n",
       "      <td>1000.0</td>\n",
       "      <td>2000.0</td>\n",
       "      <td>3000.0</td>\n",
       "      <td>4000.0</td>\n",
       "      <td>1000.0</td>\n",
       "      <td>1000.0</td>\n",
       "    </tr>\n",
       "    <tr>\n",
       "      <th>2018-12-02</th>\n",
       "      <td>1010.0</td>\n",
       "      <td>2010.0</td>\n",
       "      <td>3010.0</td>\n",
       "      <td>4010.0</td>\n",
       "      <td>1010.0</td>\n",
       "      <td>1010.0</td>\n",
       "    </tr>\n",
       "    <tr>\n",
       "      <th>2018-12-03</th>\n",
       "      <td>1020.0</td>\n",
       "      <td>2020.0</td>\n",
       "      <td>3020.0</td>\n",
       "      <td>4020.0</td>\n",
       "      <td>1020.0</td>\n",
       "      <td>1020.0</td>\n",
       "    </tr>\n",
       "    <tr>\n",
       "      <th>2018-12-04</th>\n",
       "      <td>NaN</td>\n",
       "      <td>NaN</td>\n",
       "      <td>NaN</td>\n",
       "      <td>NaN</td>\n",
       "      <td>NaN</td>\n",
       "      <td>1030.0</td>\n",
       "    </tr>\n",
       "    <tr>\n",
       "      <th>2018-12-06</th>\n",
       "      <td>1050.0</td>\n",
       "      <td>2050.0</td>\n",
       "      <td>3050.0</td>\n",
       "      <td>4050.0</td>\n",
       "      <td>1050.0</td>\n",
       "      <td>1050.0</td>\n",
       "    </tr>\n",
       "    <tr>\n",
       "      <th>2018-12-07</th>\n",
       "      <td>1060.0</td>\n",
       "      <td>2060.0</td>\n",
       "      <td>3060.0</td>\n",
       "      <td>4060.0</td>\n",
       "      <td>1060.0</td>\n",
       "      <td>1060.0</td>\n",
       "    </tr>\n",
       "  </tbody>\n",
       "</table>\n",
       "</div>"
      ],
      "text/plain": [
       "               A전자     B화학     C금융     D엔터    E텔레콤    F소프트\n",
       "2018-12-01  1000.0  2000.0  3000.0  4000.0  1000.0  1000.0\n",
       "2018-12-02  1010.0  2010.0  3010.0  4010.0  1010.0  1010.0\n",
       "2018-12-03  1020.0  2020.0  3020.0  4020.0  1020.0  1020.0\n",
       "2018-12-04     NaN     NaN     NaN     NaN     NaN  1030.0\n",
       "2018-12-06  1050.0  2050.0  3050.0  4050.0  1050.0  1050.0\n",
       "2018-12-07  1060.0  2060.0  3060.0  4060.0  1060.0  1060.0"
      ]
     },
     "execution_count": 64,
     "metadata": {},
     "output_type": "execute_result"
    }
   ],
   "source": [
    "# 데이터프레임.sort_index(axis=0, ascending=True) => 인덱스 정렬\n",
    "# ascending --> True = 오름차순, False = 내림차순, 생략가능\n",
    "df2 = df2.sort_index(axis=0)\n",
    "df2"
   ]
  },
  {
   "cell_type": "code",
   "execution_count": 65,
   "metadata": {},
   "outputs": [
    {
     "data": {
      "text/html": [
       "<div>\n",
       "<style scoped>\n",
       "    .dataframe tbody tr th:only-of-type {\n",
       "        vertical-align: middle;\n",
       "    }\n",
       "\n",
       "    .dataframe tbody tr th {\n",
       "        vertical-align: top;\n",
       "    }\n",
       "\n",
       "    .dataframe thead th {\n",
       "        text-align: right;\n",
       "    }\n",
       "</style>\n",
       "<table border=\"1\" class=\"dataframe\">\n",
       "  <thead>\n",
       "    <tr style=\"text-align: right;\">\n",
       "      <th></th>\n",
       "      <th>A전자</th>\n",
       "      <th>B화학</th>\n",
       "      <th>C금융</th>\n",
       "      <th>D엔터</th>\n",
       "      <th>E텔레콤</th>\n",
       "      <th>F소프트</th>\n",
       "    </tr>\n",
       "  </thead>\n",
       "  <tbody>\n",
       "    <tr>\n",
       "      <th>2018-12-01</th>\n",
       "      <td>1000.0</td>\n",
       "      <td>2000.0</td>\n",
       "      <td>3000.0</td>\n",
       "      <td>4000.0</td>\n",
       "      <td>1000.0</td>\n",
       "      <td>1000.0</td>\n",
       "    </tr>\n",
       "    <tr>\n",
       "      <th>2018-12-02</th>\n",
       "      <td>1010.0</td>\n",
       "      <td>2010.0</td>\n",
       "      <td>3010.0</td>\n",
       "      <td>4010.0</td>\n",
       "      <td>1010.0</td>\n",
       "      <td>1010.0</td>\n",
       "    </tr>\n",
       "    <tr>\n",
       "      <th>2018-12-03</th>\n",
       "      <td>1020.0</td>\n",
       "      <td>2020.0</td>\n",
       "      <td>3020.0</td>\n",
       "      <td>4020.0</td>\n",
       "      <td>1020.0</td>\n",
       "      <td>1020.0</td>\n",
       "    </tr>\n",
       "    <tr>\n",
       "      <th>2018-12-04</th>\n",
       "      <td>NaN</td>\n",
       "      <td>NaN</td>\n",
       "      <td>NaN</td>\n",
       "      <td>NaN</td>\n",
       "      <td>NaN</td>\n",
       "      <td>1030.0</td>\n",
       "    </tr>\n",
       "    <tr>\n",
       "      <th>2018-12-07</th>\n",
       "      <td>1060.0</td>\n",
       "      <td>2060.0</td>\n",
       "      <td>3060.0</td>\n",
       "      <td>4060.0</td>\n",
       "      <td>1060.0</td>\n",
       "      <td>1060.0</td>\n",
       "    </tr>\n",
       "  </tbody>\n",
       "</table>\n",
       "</div>"
      ],
      "text/plain": [
       "               A전자     B화학     C금융     D엔터    E텔레콤    F소프트\n",
       "2018-12-01  1000.0  2000.0  3000.0  4000.0  1000.0  1000.0\n",
       "2018-12-02  1010.0  2010.0  3010.0  4010.0  1010.0  1010.0\n",
       "2018-12-03  1020.0  2020.0  3020.0  4020.0  1020.0  1020.0\n",
       "2018-12-04     NaN     NaN     NaN     NaN     NaN  1030.0\n",
       "2018-12-07  1060.0  2060.0  3060.0  4060.0  1060.0  1060.0"
      ]
     },
     "execution_count": 65,
     "metadata": {},
     "output_type": "execute_result"
    }
   ],
   "source": [
    "# 데이터프레임.drop(label, axis=0) => 데이터프레임에서 행 또는 열 삭제\n",
    "# 여기서 인덱스 값의 형태는 datetime이므로 pd.to_datetime()으로 지정하여야 함\n",
    "df2.drop(pd.to_datetime('2018-12-06'))"
   ]
  },
  {
   "cell_type": "code",
   "execution_count": 68,
   "metadata": {},
   "outputs": [
    {
     "data": {
      "text/html": [
       "<div>\n",
       "<style scoped>\n",
       "    .dataframe tbody tr th:only-of-type {\n",
       "        vertical-align: middle;\n",
       "    }\n",
       "\n",
       "    .dataframe tbody tr th {\n",
       "        vertical-align: top;\n",
       "    }\n",
       "\n",
       "    .dataframe thead th {\n",
       "        text-align: right;\n",
       "    }\n",
       "</style>\n",
       "<table border=\"1\" class=\"dataframe\">\n",
       "  <thead>\n",
       "    <tr style=\"text-align: right;\">\n",
       "      <th></th>\n",
       "      <th>A전자</th>\n",
       "      <th>B화학</th>\n",
       "      <th>C금융</th>\n",
       "      <th>D엔터</th>\n",
       "      <th>E텔레콤</th>\n",
       "      <th>F소프트</th>\n",
       "    </tr>\n",
       "  </thead>\n",
       "  <tbody>\n",
       "    <tr>\n",
       "      <th>2018-12-01</th>\n",
       "      <td>1000.0</td>\n",
       "      <td>2000.0</td>\n",
       "      <td>3000.0</td>\n",
       "      <td>4000.0</td>\n",
       "      <td>1000.0</td>\n",
       "      <td>1000.0</td>\n",
       "    </tr>\n",
       "    <tr>\n",
       "      <th>2018-12-03</th>\n",
       "      <td>1020.0</td>\n",
       "      <td>2020.0</td>\n",
       "      <td>3020.0</td>\n",
       "      <td>4020.0</td>\n",
       "      <td>1020.0</td>\n",
       "      <td>1020.0</td>\n",
       "    </tr>\n",
       "    <tr>\n",
       "      <th>2018-12-04</th>\n",
       "      <td>NaN</td>\n",
       "      <td>NaN</td>\n",
       "      <td>NaN</td>\n",
       "      <td>NaN</td>\n",
       "      <td>NaN</td>\n",
       "      <td>1030.0</td>\n",
       "    </tr>\n",
       "    <tr>\n",
       "      <th>2018-12-07</th>\n",
       "      <td>1060.0</td>\n",
       "      <td>2060.0</td>\n",
       "      <td>3060.0</td>\n",
       "      <td>4060.0</td>\n",
       "      <td>1060.0</td>\n",
       "      <td>1060.0</td>\n",
       "    </tr>\n",
       "  </tbody>\n",
       "</table>\n",
       "</div>"
      ],
      "text/plain": [
       "               A전자     B화학     C금융     D엔터    E텔레콤    F소프트\n",
       "2018-12-01  1000.0  2000.0  3000.0  4000.0  1000.0  1000.0\n",
       "2018-12-03  1020.0  2020.0  3020.0  4020.0  1020.0  1020.0\n",
       "2018-12-04     NaN     NaN     NaN     NaN     NaN  1030.0\n",
       "2018-12-07  1060.0  2060.0  3060.0  4060.0  1060.0  1060.0"
      ]
     },
     "execution_count": 68,
     "metadata": {},
     "output_type": "execute_result"
    }
   ],
   "source": [
    "# 여러 행 삭제\n",
    "df2.drop([pd.to_datetime('2018-12-02'),pd.to_datetime('2018-12-06')])"
   ]
  },
  {
   "cell_type": "code",
   "execution_count": 69,
   "metadata": {},
   "outputs": [
    {
     "data": {
      "text/html": [
       "<div>\n",
       "<style scoped>\n",
       "    .dataframe tbody tr th:only-of-type {\n",
       "        vertical-align: middle;\n",
       "    }\n",
       "\n",
       "    .dataframe tbody tr th {\n",
       "        vertical-align: top;\n",
       "    }\n",
       "\n",
       "    .dataframe thead th {\n",
       "        text-align: right;\n",
       "    }\n",
       "</style>\n",
       "<table border=\"1\" class=\"dataframe\">\n",
       "  <thead>\n",
       "    <tr style=\"text-align: right;\">\n",
       "      <th></th>\n",
       "      <th>A전자</th>\n",
       "      <th>B화학</th>\n",
       "      <th>C금융</th>\n",
       "      <th>E텔레콤</th>\n",
       "      <th>F소프트</th>\n",
       "    </tr>\n",
       "  </thead>\n",
       "  <tbody>\n",
       "    <tr>\n",
       "      <th>2018-12-01</th>\n",
       "      <td>1000.0</td>\n",
       "      <td>2000.0</td>\n",
       "      <td>3000.0</td>\n",
       "      <td>1000.0</td>\n",
       "      <td>1000.0</td>\n",
       "    </tr>\n",
       "    <tr>\n",
       "      <th>2018-12-02</th>\n",
       "      <td>1010.0</td>\n",
       "      <td>2010.0</td>\n",
       "      <td>3010.0</td>\n",
       "      <td>1010.0</td>\n",
       "      <td>1010.0</td>\n",
       "    </tr>\n",
       "    <tr>\n",
       "      <th>2018-12-03</th>\n",
       "      <td>1020.0</td>\n",
       "      <td>2020.0</td>\n",
       "      <td>3020.0</td>\n",
       "      <td>1020.0</td>\n",
       "      <td>1020.0</td>\n",
       "    </tr>\n",
       "    <tr>\n",
       "      <th>2018-12-04</th>\n",
       "      <td>NaN</td>\n",
       "      <td>NaN</td>\n",
       "      <td>NaN</td>\n",
       "      <td>NaN</td>\n",
       "      <td>1030.0</td>\n",
       "    </tr>\n",
       "    <tr>\n",
       "      <th>2018-12-06</th>\n",
       "      <td>1050.0</td>\n",
       "      <td>2050.0</td>\n",
       "      <td>3050.0</td>\n",
       "      <td>1050.0</td>\n",
       "      <td>1050.0</td>\n",
       "    </tr>\n",
       "    <tr>\n",
       "      <th>2018-12-07</th>\n",
       "      <td>1060.0</td>\n",
       "      <td>2060.0</td>\n",
       "      <td>3060.0</td>\n",
       "      <td>1060.0</td>\n",
       "      <td>1060.0</td>\n",
       "    </tr>\n",
       "  </tbody>\n",
       "</table>\n",
       "</div>"
      ],
      "text/plain": [
       "               A전자     B화학     C금융    E텔레콤    F소프트\n",
       "2018-12-01  1000.0  2000.0  3000.0  1000.0  1000.0\n",
       "2018-12-02  1010.0  2010.0  3010.0  1010.0  1010.0\n",
       "2018-12-03  1020.0  2020.0  3020.0  1020.0  1020.0\n",
       "2018-12-04     NaN     NaN     NaN     NaN  1030.0\n",
       "2018-12-06  1050.0  2050.0  3050.0  1050.0  1050.0\n",
       "2018-12-07  1060.0  2060.0  3060.0  1060.0  1060.0"
      ]
     },
     "execution_count": 69,
     "metadata": {},
     "output_type": "execute_result"
    }
   ],
   "source": [
    "df2.drop('D엔터',axis=1) # 열 삭제"
   ]
  },
  {
   "cell_type": "code",
   "execution_count": 70,
   "metadata": {},
   "outputs": [
    {
     "data": {
      "text/html": [
       "<div>\n",
       "<style scoped>\n",
       "    .dataframe tbody tr th:only-of-type {\n",
       "        vertical-align: middle;\n",
       "    }\n",
       "\n",
       "    .dataframe tbody tr th {\n",
       "        vertical-align: top;\n",
       "    }\n",
       "\n",
       "    .dataframe thead th {\n",
       "        text-align: right;\n",
       "    }\n",
       "</style>\n",
       "<table border=\"1\" class=\"dataframe\">\n",
       "  <thead>\n",
       "    <tr style=\"text-align: right;\">\n",
       "      <th></th>\n",
       "      <th>A전자</th>\n",
       "      <th>B화학</th>\n",
       "      <th>D엔터</th>\n",
       "      <th>F소프트</th>\n",
       "    </tr>\n",
       "  </thead>\n",
       "  <tbody>\n",
       "    <tr>\n",
       "      <th>2018-12-01</th>\n",
       "      <td>1000.0</td>\n",
       "      <td>2000.0</td>\n",
       "      <td>4000.0</td>\n",
       "      <td>1000.0</td>\n",
       "    </tr>\n",
       "    <tr>\n",
       "      <th>2018-12-02</th>\n",
       "      <td>1010.0</td>\n",
       "      <td>2010.0</td>\n",
       "      <td>4010.0</td>\n",
       "      <td>1010.0</td>\n",
       "    </tr>\n",
       "    <tr>\n",
       "      <th>2018-12-03</th>\n",
       "      <td>1020.0</td>\n",
       "      <td>2020.0</td>\n",
       "      <td>4020.0</td>\n",
       "      <td>1020.0</td>\n",
       "    </tr>\n",
       "    <tr>\n",
       "      <th>2018-12-04</th>\n",
       "      <td>NaN</td>\n",
       "      <td>NaN</td>\n",
       "      <td>NaN</td>\n",
       "      <td>1030.0</td>\n",
       "    </tr>\n",
       "    <tr>\n",
       "      <th>2018-12-06</th>\n",
       "      <td>1050.0</td>\n",
       "      <td>2050.0</td>\n",
       "      <td>4050.0</td>\n",
       "      <td>1050.0</td>\n",
       "    </tr>\n",
       "    <tr>\n",
       "      <th>2018-12-07</th>\n",
       "      <td>1060.0</td>\n",
       "      <td>2060.0</td>\n",
       "      <td>4060.0</td>\n",
       "      <td>1060.0</td>\n",
       "    </tr>\n",
       "  </tbody>\n",
       "</table>\n",
       "</div>"
      ],
      "text/plain": [
       "               A전자     B화학     D엔터    F소프트\n",
       "2018-12-01  1000.0  2000.0  4000.0  1000.0\n",
       "2018-12-02  1010.0  2010.0  4010.0  1010.0\n",
       "2018-12-03  1020.0  2020.0  4020.0  1020.0\n",
       "2018-12-04     NaN     NaN     NaN  1030.0\n",
       "2018-12-06  1050.0  2050.0  4050.0  1050.0\n",
       "2018-12-07  1060.0  2060.0  4060.0  1060.0"
      ]
     },
     "execution_count": 70,
     "metadata": {},
     "output_type": "execute_result"
    }
   ],
   "source": [
    "df2.drop(['C금융','E텔레콤'], axis=1)"
   ]
  },
  {
   "cell_type": "code",
   "execution_count": 71,
   "metadata": {},
   "outputs": [
    {
     "data": {
      "text/html": [
       "<div>\n",
       "<style scoped>\n",
       "    .dataframe tbody tr th:only-of-type {\n",
       "        vertical-align: middle;\n",
       "    }\n",
       "\n",
       "    .dataframe tbody tr th {\n",
       "        vertical-align: top;\n",
       "    }\n",
       "\n",
       "    .dataframe thead th {\n",
       "        text-align: right;\n",
       "    }\n",
       "</style>\n",
       "<table border=\"1\" class=\"dataframe\">\n",
       "  <thead>\n",
       "    <tr style=\"text-align: right;\">\n",
       "      <th></th>\n",
       "      <th>A전자</th>\n",
       "      <th>B화학</th>\n",
       "      <th>C금융</th>\n",
       "      <th>D엔터</th>\n",
       "      <th>E텔레콤</th>\n",
       "      <th>F소프트</th>\n",
       "    </tr>\n",
       "  </thead>\n",
       "  <tbody>\n",
       "    <tr>\n",
       "      <th>2018-12-01</th>\n",
       "      <td>1000.0</td>\n",
       "      <td>2000.0</td>\n",
       "      <td>3000.0</td>\n",
       "      <td>4000.0</td>\n",
       "      <td>1000.0</td>\n",
       "      <td>1000.0</td>\n",
       "    </tr>\n",
       "    <tr>\n",
       "      <th>2018-12-02</th>\n",
       "      <td>1010.0</td>\n",
       "      <td>2010.0</td>\n",
       "      <td>3010.0</td>\n",
       "      <td>4010.0</td>\n",
       "      <td>1010.0</td>\n",
       "      <td>1010.0</td>\n",
       "    </tr>\n",
       "    <tr>\n",
       "      <th>2018-12-03</th>\n",
       "      <td>1020.0</td>\n",
       "      <td>2020.0</td>\n",
       "      <td>3020.0</td>\n",
       "      <td>4020.0</td>\n",
       "      <td>1020.0</td>\n",
       "      <td>1020.0</td>\n",
       "    </tr>\n",
       "    <tr>\n",
       "      <th>2018-12-06</th>\n",
       "      <td>1050.0</td>\n",
       "      <td>2050.0</td>\n",
       "      <td>3050.0</td>\n",
       "      <td>4050.0</td>\n",
       "      <td>1050.0</td>\n",
       "      <td>1050.0</td>\n",
       "    </tr>\n",
       "    <tr>\n",
       "      <th>2018-12-07</th>\n",
       "      <td>1060.0</td>\n",
       "      <td>2060.0</td>\n",
       "      <td>3060.0</td>\n",
       "      <td>4060.0</td>\n",
       "      <td>1060.0</td>\n",
       "      <td>1060.0</td>\n",
       "    </tr>\n",
       "  </tbody>\n",
       "</table>\n",
       "</div>"
      ],
      "text/plain": [
       "               A전자     B화학     C금융     D엔터    E텔레콤    F소프트\n",
       "2018-12-01  1000.0  2000.0  3000.0  4000.0  1000.0  1000.0\n",
       "2018-12-02  1010.0  2010.0  3010.0  4010.0  1010.0  1010.0\n",
       "2018-12-03  1020.0  2020.0  3020.0  4020.0  1020.0  1020.0\n",
       "2018-12-06  1050.0  2050.0  3050.0  4050.0  1050.0  1050.0\n",
       "2018-12-07  1060.0  2060.0  3060.0  4060.0  1060.0  1060.0"
      ]
     },
     "execution_count": 71,
     "metadata": {},
     "output_type": "execute_result"
    }
   ],
   "source": [
    "# 보간법 --> 구멍 메우기\n",
    "# 데이터프레임.dropna() => NaN이 포함된 행 삭제\n",
    "df2.dropna()"
   ]
  },
  {
   "cell_type": "code",
   "execution_count": 72,
   "metadata": {},
   "outputs": [
    {
     "data": {
      "text/html": [
       "<div>\n",
       "<style scoped>\n",
       "    .dataframe tbody tr th:only-of-type {\n",
       "        vertical-align: middle;\n",
       "    }\n",
       "\n",
       "    .dataframe tbody tr th {\n",
       "        vertical-align: top;\n",
       "    }\n",
       "\n",
       "    .dataframe thead th {\n",
       "        text-align: right;\n",
       "    }\n",
       "</style>\n",
       "<table border=\"1\" class=\"dataframe\">\n",
       "  <thead>\n",
       "    <tr style=\"text-align: right;\">\n",
       "      <th></th>\n",
       "      <th>A전자</th>\n",
       "      <th>B화학</th>\n",
       "      <th>C금융</th>\n",
       "      <th>D엔터</th>\n",
       "      <th>E텔레콤</th>\n",
       "      <th>F소프트</th>\n",
       "    </tr>\n",
       "  </thead>\n",
       "  <tbody>\n",
       "    <tr>\n",
       "      <th>2018-12-01</th>\n",
       "      <td>1000.0</td>\n",
       "      <td>2000.0</td>\n",
       "      <td>3000.0</td>\n",
       "      <td>4000.0</td>\n",
       "      <td>1000.0</td>\n",
       "      <td>1000.0</td>\n",
       "    </tr>\n",
       "    <tr>\n",
       "      <th>2018-12-02</th>\n",
       "      <td>1010.0</td>\n",
       "      <td>2010.0</td>\n",
       "      <td>3010.0</td>\n",
       "      <td>4010.0</td>\n",
       "      <td>1010.0</td>\n",
       "      <td>1010.0</td>\n",
       "    </tr>\n",
       "    <tr>\n",
       "      <th>2018-12-03</th>\n",
       "      <td>1020.0</td>\n",
       "      <td>2020.0</td>\n",
       "      <td>3020.0</td>\n",
       "      <td>4020.0</td>\n",
       "      <td>1020.0</td>\n",
       "      <td>1020.0</td>\n",
       "    </tr>\n",
       "    <tr>\n",
       "      <th>2018-12-04</th>\n",
       "      <td>0.0</td>\n",
       "      <td>0.0</td>\n",
       "      <td>0.0</td>\n",
       "      <td>0.0</td>\n",
       "      <td>0.0</td>\n",
       "      <td>1030.0</td>\n",
       "    </tr>\n",
       "    <tr>\n",
       "      <th>2018-12-06</th>\n",
       "      <td>1050.0</td>\n",
       "      <td>2050.0</td>\n",
       "      <td>3050.0</td>\n",
       "      <td>4050.0</td>\n",
       "      <td>1050.0</td>\n",
       "      <td>1050.0</td>\n",
       "    </tr>\n",
       "    <tr>\n",
       "      <th>2018-12-07</th>\n",
       "      <td>1060.0</td>\n",
       "      <td>2060.0</td>\n",
       "      <td>3060.0</td>\n",
       "      <td>4060.0</td>\n",
       "      <td>1060.0</td>\n",
       "      <td>1060.0</td>\n",
       "    </tr>\n",
       "  </tbody>\n",
       "</table>\n",
       "</div>"
      ],
      "text/plain": [
       "               A전자     B화학     C금융     D엔터    E텔레콤    F소프트\n",
       "2018-12-01  1000.0  2000.0  3000.0  4000.0  1000.0  1000.0\n",
       "2018-12-02  1010.0  2010.0  3010.0  4010.0  1010.0  1010.0\n",
       "2018-12-03  1020.0  2020.0  3020.0  4020.0  1020.0  1020.0\n",
       "2018-12-04     0.0     0.0     0.0     0.0     0.0  1030.0\n",
       "2018-12-06  1050.0  2050.0  3050.0  4050.0  1050.0  1050.0\n",
       "2018-12-07  1060.0  2060.0  3060.0  4060.0  1060.0  1060.0"
      ]
     },
     "execution_count": 72,
     "metadata": {},
     "output_type": "execute_result"
    }
   ],
   "source": [
    "# 데이터프레임.fillna(대체값 또는 방법) => NaN을 다른 값으로 대체\n",
    "df2.fillna(0)"
   ]
  },
  {
   "cell_type": "code",
   "execution_count": 73,
   "metadata": {},
   "outputs": [
    {
     "data": {
      "text/html": [
       "<div>\n",
       "<style scoped>\n",
       "    .dataframe tbody tr th:only-of-type {\n",
       "        vertical-align: middle;\n",
       "    }\n",
       "\n",
       "    .dataframe tbody tr th {\n",
       "        vertical-align: top;\n",
       "    }\n",
       "\n",
       "    .dataframe thead th {\n",
       "        text-align: right;\n",
       "    }\n",
       "</style>\n",
       "<table border=\"1\" class=\"dataframe\">\n",
       "  <thead>\n",
       "    <tr style=\"text-align: right;\">\n",
       "      <th></th>\n",
       "      <th>A전자</th>\n",
       "      <th>B화학</th>\n",
       "      <th>C금융</th>\n",
       "      <th>D엔터</th>\n",
       "      <th>E텔레콤</th>\n",
       "      <th>F소프트</th>\n",
       "    </tr>\n",
       "  </thead>\n",
       "  <tbody>\n",
       "    <tr>\n",
       "      <th>2018-12-01</th>\n",
       "      <td>1000.0</td>\n",
       "      <td>2000.0</td>\n",
       "      <td>3000.0</td>\n",
       "      <td>4000.0</td>\n",
       "      <td>1000.0</td>\n",
       "      <td>1000.0</td>\n",
       "    </tr>\n",
       "    <tr>\n",
       "      <th>2018-12-02</th>\n",
       "      <td>1010.0</td>\n",
       "      <td>2010.0</td>\n",
       "      <td>3010.0</td>\n",
       "      <td>4010.0</td>\n",
       "      <td>1010.0</td>\n",
       "      <td>1010.0</td>\n",
       "    </tr>\n",
       "    <tr>\n",
       "      <th>2018-12-03</th>\n",
       "      <td>1020.0</td>\n",
       "      <td>2020.0</td>\n",
       "      <td>3020.0</td>\n",
       "      <td>4020.0</td>\n",
       "      <td>1020.0</td>\n",
       "      <td>1020.0</td>\n",
       "    </tr>\n",
       "    <tr>\n",
       "      <th>2018-12-04</th>\n",
       "      <td>1020.0</td>\n",
       "      <td>2020.0</td>\n",
       "      <td>3020.0</td>\n",
       "      <td>4020.0</td>\n",
       "      <td>1020.0</td>\n",
       "      <td>1030.0</td>\n",
       "    </tr>\n",
       "    <tr>\n",
       "      <th>2018-12-06</th>\n",
       "      <td>1050.0</td>\n",
       "      <td>2050.0</td>\n",
       "      <td>3050.0</td>\n",
       "      <td>4050.0</td>\n",
       "      <td>1050.0</td>\n",
       "      <td>1050.0</td>\n",
       "    </tr>\n",
       "    <tr>\n",
       "      <th>2018-12-07</th>\n",
       "      <td>1060.0</td>\n",
       "      <td>2060.0</td>\n",
       "      <td>3060.0</td>\n",
       "      <td>4060.0</td>\n",
       "      <td>1060.0</td>\n",
       "      <td>1060.0</td>\n",
       "    </tr>\n",
       "  </tbody>\n",
       "</table>\n",
       "</div>"
      ],
      "text/plain": [
       "               A전자     B화학     C금융     D엔터    E텔레콤    F소프트\n",
       "2018-12-01  1000.0  2000.0  3000.0  4000.0  1000.0  1000.0\n",
       "2018-12-02  1010.0  2010.0  3010.0  4010.0  1010.0  1010.0\n",
       "2018-12-03  1020.0  2020.0  3020.0  4020.0  1020.0  1020.0\n",
       "2018-12-04  1020.0  2020.0  3020.0  4020.0  1020.0  1030.0\n",
       "2018-12-06  1050.0  2050.0  3050.0  4050.0  1050.0  1050.0\n",
       "2018-12-07  1060.0  2060.0  3060.0  4060.0  1060.0  1060.0"
      ]
     },
     "execution_count": 73,
     "metadata": {},
     "output_type": "execute_result"
    }
   ],
   "source": [
    "df2.fillna(method='ffill') # NaN을 앞의 값으로 채움 (forward fill)"
   ]
  },
  {
   "cell_type": "code",
   "execution_count": 74,
   "metadata": {},
   "outputs": [
    {
     "data": {
      "text/html": [
       "<div>\n",
       "<style scoped>\n",
       "    .dataframe tbody tr th:only-of-type {\n",
       "        vertical-align: middle;\n",
       "    }\n",
       "\n",
       "    .dataframe tbody tr th {\n",
       "        vertical-align: top;\n",
       "    }\n",
       "\n",
       "    .dataframe thead th {\n",
       "        text-align: right;\n",
       "    }\n",
       "</style>\n",
       "<table border=\"1\" class=\"dataframe\">\n",
       "  <thead>\n",
       "    <tr style=\"text-align: right;\">\n",
       "      <th></th>\n",
       "      <th>A전자</th>\n",
       "      <th>B화학</th>\n",
       "      <th>C금융</th>\n",
       "      <th>D엔터</th>\n",
       "      <th>E텔레콤</th>\n",
       "      <th>F소프트</th>\n",
       "    </tr>\n",
       "  </thead>\n",
       "  <tbody>\n",
       "    <tr>\n",
       "      <th>2018-12-01</th>\n",
       "      <td>1000.0</td>\n",
       "      <td>2000.0</td>\n",
       "      <td>3000.0</td>\n",
       "      <td>4000.0</td>\n",
       "      <td>1000.0</td>\n",
       "      <td>1000.0</td>\n",
       "    </tr>\n",
       "    <tr>\n",
       "      <th>2018-12-02</th>\n",
       "      <td>1010.0</td>\n",
       "      <td>2010.0</td>\n",
       "      <td>3010.0</td>\n",
       "      <td>4010.0</td>\n",
       "      <td>1010.0</td>\n",
       "      <td>1010.0</td>\n",
       "    </tr>\n",
       "    <tr>\n",
       "      <th>2018-12-03</th>\n",
       "      <td>1020.0</td>\n",
       "      <td>2020.0</td>\n",
       "      <td>3020.0</td>\n",
       "      <td>4020.0</td>\n",
       "      <td>1020.0</td>\n",
       "      <td>1020.0</td>\n",
       "    </tr>\n",
       "    <tr>\n",
       "      <th>2018-12-04</th>\n",
       "      <td>1050.0</td>\n",
       "      <td>2050.0</td>\n",
       "      <td>3050.0</td>\n",
       "      <td>4050.0</td>\n",
       "      <td>1050.0</td>\n",
       "      <td>1030.0</td>\n",
       "    </tr>\n",
       "    <tr>\n",
       "      <th>2018-12-06</th>\n",
       "      <td>1050.0</td>\n",
       "      <td>2050.0</td>\n",
       "      <td>3050.0</td>\n",
       "      <td>4050.0</td>\n",
       "      <td>1050.0</td>\n",
       "      <td>1050.0</td>\n",
       "    </tr>\n",
       "    <tr>\n",
       "      <th>2018-12-07</th>\n",
       "      <td>1060.0</td>\n",
       "      <td>2060.0</td>\n",
       "      <td>3060.0</td>\n",
       "      <td>4060.0</td>\n",
       "      <td>1060.0</td>\n",
       "      <td>1060.0</td>\n",
       "    </tr>\n",
       "  </tbody>\n",
       "</table>\n",
       "</div>"
      ],
      "text/plain": [
       "               A전자     B화학     C금융     D엔터    E텔레콤    F소프트\n",
       "2018-12-01  1000.0  2000.0  3000.0  4000.0  1000.0  1000.0\n",
       "2018-12-02  1010.0  2010.0  3010.0  4010.0  1010.0  1010.0\n",
       "2018-12-03  1020.0  2020.0  3020.0  4020.0  1020.0  1020.0\n",
       "2018-12-04  1050.0  2050.0  3050.0  4050.0  1050.0  1030.0\n",
       "2018-12-06  1050.0  2050.0  3050.0  4050.0  1050.0  1050.0\n",
       "2018-12-07  1060.0  2060.0  3060.0  4060.0  1060.0  1060.0"
      ]
     },
     "execution_count": 74,
     "metadata": {},
     "output_type": "execute_result"
    }
   ],
   "source": [
    "df2.fillna(method='bfill') # NaN을 뒤의 값으로 채움 (backward fill)"
   ]
  },
  {
   "cell_type": "code",
   "execution_count": null,
   "metadata": {},
   "outputs": [],
   "source": [
    "# 이와 같은 기술을 활용하여 모델링을 해본다"
   ]
  }
 ],
 "metadata": {
  "kernelspec": {
   "display_name": "Python 3",
   "language": "python",
   "name": "python3"
  },
  "language_info": {
   "codemirror_mode": {
    "name": "ipython",
    "version": 3
   },
   "file_extension": ".py",
   "mimetype": "text/x-python",
   "name": "python",
   "nbconvert_exporter": "python",
   "pygments_lexer": "ipython3",
   "version": "3.8.3"
  }
 },
 "nbformat": 4,
 "nbformat_minor": 4
}
