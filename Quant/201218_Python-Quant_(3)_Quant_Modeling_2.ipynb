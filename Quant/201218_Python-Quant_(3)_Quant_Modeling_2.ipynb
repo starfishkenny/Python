{
 "cells": [
  {
   "cell_type": "markdown",
   "metadata": {},
   "source": [
    "#### 해외지수 수집하기 (JSON 파일 크롤링)\n",
    "  + 네이버금융 기준 국내증시와 해외증시 페이지 구조가 다름\n",
    "  + 자바스크립트: 웹사이트 전체 틀은 유지하면서 안 보이는 구석에서 데이터를 불러오고 일부 데이터를 바꿔주는 기법을 구사할 때 사용\n",
    "    - JSON\n",
    "  + 검사 -> Network -> 호출되는 주소 Copy->Copy link address"
   ]
  },
  {
   "cell_type": "markdown",
   "metadata": {},
   "source": [
    "+ 구조: https://finance.naver.com/world/worldDayListJson.nhn?symbol=SPI@SPX&fdtc=0&page=1\n",
    "+ symbol 부분과 page 부분"
   ]
  },
  {
   "cell_type": "code",
   "execution_count": 1,
   "metadata": {},
   "outputs": [],
   "source": [
    "import pandas as pd\n",
    "from urllib.request import urlopen\n",
    "import json"
   ]
  },
  {
   "cell_type": "code",
   "execution_count": 2,
   "metadata": {},
   "outputs": [],
   "source": [
    "symbol = 'SPI@SPX' # S&P500\n",
    "page = 1"
   ]
  },
  {
   "cell_type": "code",
   "execution_count": 3,
   "metadata": {},
   "outputs": [],
   "source": [
    "url = 'https://finance.naver.com/world/worldDayListJson.nhn?symbol=' \\\n",
    "+ symbol + '&fdtc=0&page=' + str(page)\n",
    "raw = urlopen(url)\n",
    "data = json.load(raw)"
   ]
  },
  {
   "cell_type": "code",
   "execution_count": 4,
   "metadata": {},
   "outputs": [
    {
     "data": {
      "text/plain": [
       "{'symb': 'SPI@SPX',\n",
       " 'xymd': '20201217',\n",
       " 'open': 3713.65,\n",
       " 'high': 3725.12,\n",
       " 'low': 3710.87,\n",
       " 'clos': 3722.48,\n",
       " 'diff': 21.31,\n",
       " 'rate': 0.58,\n",
       " 'gvol': 2195077600}"
      ]
     },
     "execution_count": 4,
     "metadata": {},
     "output_type": "execute_result"
    }
   ],
   "source": [
    "data[0] # symb: 종목 / xymd: 날짜 / clos: 종가"
   ]
  },
  {
   "cell_type": "code",
   "execution_count": 5,
   "metadata": {},
   "outputs": [
    {
     "data": {
      "text/plain": [
       "'SPI@SPX'"
      ]
     },
     "execution_count": 5,
     "metadata": {},
     "output_type": "execute_result"
    }
   ],
   "source": [
    "data[0]['symb']"
   ]
  },
  {
   "cell_type": "code",
   "execution_count": 6,
   "metadata": {},
   "outputs": [
    {
     "data": {
      "text/plain": [
       "'20201217'"
      ]
     },
     "execution_count": 6,
     "metadata": {},
     "output_type": "execute_result"
    }
   ],
   "source": [
    "data[0]['xymd']"
   ]
  },
  {
   "cell_type": "code",
   "execution_count": 7,
   "metadata": {},
   "outputs": [
    {
     "data": {
      "text/plain": [
       "3722.48"
      ]
     },
     "execution_count": 7,
     "metadata": {},
     "output_type": "execute_result"
    }
   ],
   "source": [
    "data[0]['clos']"
   ]
  },
  {
   "cell_type": "code",
   "execution_count": 8,
   "metadata": {},
   "outputs": [
    {
     "name": "stdout",
     "output_type": "stream",
     "text": [
      "{datetime.date(2020, 12, 17): 3722.48, datetime.date(2020, 12, 16): 3701.17, datetime.date(2020, 12, 15): 3694.62, datetime.date(2020, 12, 14): 3647.49, datetime.date(2020, 12, 11): 3663.46, datetime.date(2020, 12, 10): 3668.1, datetime.date(2020, 12, 9): 3672.82, datetime.date(2020, 12, 8): 3702.25, datetime.date(2020, 12, 7): 3691.96, datetime.date(2020, 12, 4): 3699.12}\n"
     ]
    }
   ],
   "source": [
    "d = dict() # 빈 딕셔너리\n",
    "for n in range(len(data)):\n",
    "    date = pd.to_datetime(data[n]['xymd']).date()\n",
    "    price = float(data[n]['clos'])\n",
    "    d[date] = price # {날짜: 종가} 형태로 딕셔너리에 저장\n",
    "print(d)"
   ]
  },
  {
   "cell_type": "code",
   "execution_count": 9,
   "metadata": {},
   "outputs": [],
   "source": [
    "# 함수화\n",
    "\n",
    "def read_json(d, symbol, page=1): \n",
    "    url = 'https://finance.naver.com/world/worldDayListJson.nhn?symbol=' \\\n",
    "    + symbol + '&fdtc=0&page=' + str(page)\n",
    "    raw = urlopen(url)\n",
    "    data = json.load(raw)\n",
    "    \n",
    "    for n in range(len(data)):\n",
    "        date = pd.to_datetime(data[n]['xymd']).date()\n",
    "        price = float(data[n]['clos'])\n",
    "        d[date] = price\n",
    "        \n",
    "    if len(data) == 10:  # 다음 페이지를 불러올지 말지 결정    \n",
    "        page += 1\n",
    "        read_json(d, symbol, page)\n",
    "        \n",
    "    return(d)"
   ]
  },
  {
   "cell_type": "code",
   "execution_count": 10,
   "metadata": {},
   "outputs": [
    {
     "name": "stderr",
     "output_type": "stream",
     "text": [
      "<ipython-input-10-a5426966decc>:1: DeprecationWarning: The default dtype for empty Series will be 'object' instead of 'float64' in a future version. Specify a dtype explicitly to silence this warning.\n",
      "  historical_index = pd.Series()\n"
     ]
    }
   ],
   "source": [
    "historical_index = pd.Series()\n",
    "historical_index = read_json(historical_index, symbol, page)"
   ]
  },
  {
   "cell_type": "code",
   "execution_count": 11,
   "metadata": {},
   "outputs": [
    {
     "data": {
      "text/plain": [
       "2020-12-17    3722.48\n",
       "2020-12-16    3701.17\n",
       "2020-12-15    3694.62\n",
       "dtype: float64"
      ]
     },
     "execution_count": 11,
     "metadata": {},
     "output_type": "execute_result"
    }
   ],
   "source": [
    "historical_index.head(3)"
   ]
  },
  {
   "cell_type": "code",
   "execution_count": 12,
   "metadata": {},
   "outputs": [
    {
     "data": {
      "text/plain": [
       "2002-01-04    1172.51\n",
       "2002-01-03    1165.27\n",
       "2002-01-02    1154.67\n",
       "dtype: float64"
      ]
     },
     "execution_count": 12,
     "metadata": {},
     "output_type": "execute_result"
    }
   ],
   "source": [
    "historical_index.tail(3)"
   ]
  },
  {
   "cell_type": "code",
   "execution_count": 13,
   "metadata": {},
   "outputs": [],
   "source": [
    "# 여러 종목 수집\n",
    "indices = {\n",
    "    'SPI@SPX': 'S&P500',\n",
    "    'NAS@NDX': 'NASDAQ100',\n",
    "    'NII@NI225': 'NIKKEI225'\n",
    "}"
   ]
  },
  {
   "cell_type": "code",
   "execution_count": 14,
   "metadata": {},
   "outputs": [
    {
     "name": "stdout",
     "output_type": "stream",
     "text": [
      "SPI@SPX S&P500\n",
      "NAS@NDX NASDAQ100\n",
      "NII@NI225 NIKKEI225\n"
     ]
    }
   ],
   "source": [
    "historical_indices = dict()\n",
    "for key, value in indices.items():\n",
    "    print(key, value)\n",
    "    s = dict()\n",
    "    s = read_json(s, key, 1)\n",
    "    historical_indices[value] = s\n",
    "prices_df = pd.DataFrame(historical_indices)"
   ]
  },
  {
   "cell_type": "code",
   "execution_count": 15,
   "metadata": {},
   "outputs": [
    {
     "data": {
      "text/html": [
       "<div>\n",
       "<style scoped>\n",
       "    .dataframe tbody tr th:only-of-type {\n",
       "        vertical-align: middle;\n",
       "    }\n",
       "\n",
       "    .dataframe tbody tr th {\n",
       "        vertical-align: top;\n",
       "    }\n",
       "\n",
       "    .dataframe thead th {\n",
       "        text-align: right;\n",
       "    }\n",
       "</style>\n",
       "<table border=\"1\" class=\"dataframe\">\n",
       "  <thead>\n",
       "    <tr style=\"text-align: right;\">\n",
       "      <th></th>\n",
       "      <th>S&amp;P500</th>\n",
       "      <th>NASDAQ100</th>\n",
       "      <th>NIKKEI225</th>\n",
       "    </tr>\n",
       "  </thead>\n",
       "  <tbody>\n",
       "    <tr>\n",
       "      <th>2020-12-17</th>\n",
       "      <td>3722.48</td>\n",
       "      <td>12752.06</td>\n",
       "      <td>26806.67</td>\n",
       "    </tr>\n",
       "    <tr>\n",
       "      <th>2020-12-16</th>\n",
       "      <td>3701.17</td>\n",
       "      <td>12668.16</td>\n",
       "      <td>26757.40</td>\n",
       "    </tr>\n",
       "    <tr>\n",
       "      <th>2020-12-15</th>\n",
       "      <td>3694.62</td>\n",
       "      <td>12595.92</td>\n",
       "      <td>26687.84</td>\n",
       "    </tr>\n",
       "  </tbody>\n",
       "</table>\n",
       "</div>"
      ],
      "text/plain": [
       "             S&P500  NASDAQ100  NIKKEI225\n",
       "2020-12-17  3722.48   12752.06   26806.67\n",
       "2020-12-16  3701.17   12668.16   26757.40\n",
       "2020-12-15  3694.62   12595.92   26687.84"
      ]
     },
     "execution_count": 15,
     "metadata": {},
     "output_type": "execute_result"
    }
   ],
   "source": [
    "prices_df.head(3)"
   ]
  },
  {
   "cell_type": "code",
   "execution_count": 16,
   "metadata": {},
   "outputs": [],
   "source": [
    "# 날짜 지정 --> 날짜가 지정되지 않으면 오늘 날짜를 기준으로 데이터를 수집하도록 처리하기 위함\n",
    "def date_format(d=''):\n",
    "    if d != '':\n",
    "        this_date = pd.to_datetime(d).date()\n",
    "    else:\n",
    "        this_date = pd.Timestamp.today().date()\n",
    "    return (this_date)"
   ]
  },
  {
   "cell_type": "code",
   "execution_count": 17,
   "metadata": {},
   "outputs": [],
   "source": [
    "# 날짜 지정까지 추가한 전체 함수\n",
    "def index_global(d, symbol, start_date='', end_date='', page=1):\n",
    "\n",
    "    end_date = date_format(end_date)\n",
    "    if start_date == '':\n",
    "        start_date = end_date - pd.DateOffset(months=1)\n",
    "    start_date = date_format(start_date)\n",
    "        \n",
    "    url = 'https://finance.naver.com/world/worldDayListJson.nhn?symbol=' \\\n",
    "    + symbol + '&fdtc=0&page=' + str(page)\n",
    "    raw = urlopen(url)\n",
    "    data = json.load(raw)\n",
    "    \n",
    "    if len(data) > 0:\n",
    "        \n",
    "        for n in range(len(data)):\n",
    "            date = pd.to_datetime(data[n]['xymd']).date()\n",
    "\n",
    "            if date <= end_date and date >= start_date:   \n",
    "                \n",
    "                price = float(data[n]['clos'])\n",
    "                d[date] = price\n",
    "                \n",
    "            elif date < start_date:   \n",
    "                \n",
    "                return (d)              \n",
    "\n",
    "        if len(data) == 10:\n",
    "            \n",
    "            page += 1\n",
    "            index_global(d, symbol, start_date, end_date, page)\n",
    "        \n",
    "    return (d)"
   ]
  },
  {
   "cell_type": "code",
   "execution_count": 18,
   "metadata": {},
   "outputs": [],
   "source": [
    "# 실행\n",
    "historical_indices = dict()\n",
    "start_date = '2020-12-01'\n",
    "end_date = '2020-12-15'\n",
    "for key, value in indices.items(): \n",
    "    s = dict()\n",
    "    s = index_global(s, key, start_date, end_date)\n",
    "    historical_indices[value] = s    \n",
    "prices_df = pd.DataFrame(historical_indices)"
   ]
  },
  {
   "cell_type": "code",
   "execution_count": 19,
   "metadata": {
    "scrolled": true
   },
   "outputs": [
    {
     "data": {
      "text/html": [
       "<div>\n",
       "<style scoped>\n",
       "    .dataframe tbody tr th:only-of-type {\n",
       "        vertical-align: middle;\n",
       "    }\n",
       "\n",
       "    .dataframe tbody tr th {\n",
       "        vertical-align: top;\n",
       "    }\n",
       "\n",
       "    .dataframe thead th {\n",
       "        text-align: right;\n",
       "    }\n",
       "</style>\n",
       "<table border=\"1\" class=\"dataframe\">\n",
       "  <thead>\n",
       "    <tr style=\"text-align: right;\">\n",
       "      <th></th>\n",
       "      <th>S&amp;P500</th>\n",
       "      <th>NASDAQ100</th>\n",
       "      <th>NIKKEI225</th>\n",
       "    </tr>\n",
       "  </thead>\n",
       "  <tbody>\n",
       "    <tr>\n",
       "      <th>2020-12-15</th>\n",
       "      <td>3694.62</td>\n",
       "      <td>12595.92</td>\n",
       "      <td>26687.84</td>\n",
       "    </tr>\n",
       "    <tr>\n",
       "      <th>2020-12-14</th>\n",
       "      <td>3647.49</td>\n",
       "      <td>12462.21</td>\n",
       "      <td>26732.44</td>\n",
       "    </tr>\n",
       "    <tr>\n",
       "      <th>2020-12-11</th>\n",
       "      <td>3663.46</td>\n",
       "      <td>12375.41</td>\n",
       "      <td>26652.52</td>\n",
       "    </tr>\n",
       "    <tr>\n",
       "      <th>2020-12-10</th>\n",
       "      <td>3668.10</td>\n",
       "      <td>12401.74</td>\n",
       "      <td>26756.24</td>\n",
       "    </tr>\n",
       "    <tr>\n",
       "      <th>2020-12-09</th>\n",
       "      <td>3672.82</td>\n",
       "      <td>12364.64</td>\n",
       "      <td>26817.94</td>\n",
       "    </tr>\n",
       "    <tr>\n",
       "      <th>2020-12-08</th>\n",
       "      <td>3702.25</td>\n",
       "      <td>12635.72</td>\n",
       "      <td>26467.08</td>\n",
       "    </tr>\n",
       "    <tr>\n",
       "      <th>2020-12-07</th>\n",
       "      <td>3691.96</td>\n",
       "      <td>12596.47</td>\n",
       "      <td>26547.44</td>\n",
       "    </tr>\n",
       "    <tr>\n",
       "      <th>2020-12-04</th>\n",
       "      <td>3699.12</td>\n",
       "      <td>12528.48</td>\n",
       "      <td>NaN</td>\n",
       "    </tr>\n",
       "    <tr>\n",
       "      <th>2020-12-03</th>\n",
       "      <td>3666.72</td>\n",
       "      <td>12467.13</td>\n",
       "      <td>NaN</td>\n",
       "    </tr>\n",
       "    <tr>\n",
       "      <th>2020-12-02</th>\n",
       "      <td>3669.01</td>\n",
       "      <td>12456.41</td>\n",
       "      <td>NaN</td>\n",
       "    </tr>\n",
       "    <tr>\n",
       "      <th>2020-12-01</th>\n",
       "      <td>3662.45</td>\n",
       "      <td>12455.33</td>\n",
       "      <td>NaN</td>\n",
       "    </tr>\n",
       "  </tbody>\n",
       "</table>\n",
       "</div>"
      ],
      "text/plain": [
       "             S&P500  NASDAQ100  NIKKEI225\n",
       "2020-12-15  3694.62   12595.92   26687.84\n",
       "2020-12-14  3647.49   12462.21   26732.44\n",
       "2020-12-11  3663.46   12375.41   26652.52\n",
       "2020-12-10  3668.10   12401.74   26756.24\n",
       "2020-12-09  3672.82   12364.64   26817.94\n",
       "2020-12-08  3702.25   12635.72   26467.08\n",
       "2020-12-07  3691.96   12596.47   26547.44\n",
       "2020-12-04  3699.12   12528.48        NaN\n",
       "2020-12-03  3666.72   12467.13        NaN\n",
       "2020-12-02  3669.01   12456.41        NaN\n",
       "2020-12-01  3662.45   12455.33        NaN"
      ]
     },
     "execution_count": 19,
     "metadata": {},
     "output_type": "execute_result"
    }
   ],
   "source": [
    "prices_df"
   ]
  },
  {
   "cell_type": "markdown",
   "metadata": {},
   "source": [
    "#### 발생하는 문제점\n",
    "  + S&P500과 NASDAQ100은 정상적으로 수집이 됨\n",
    "  + 하지만 NIKKEI225는 1페이지 이후로 넘어가면 수집이 안됨\n",
    "    - 해결방안 찾는 중..."
   ]
  },
  {
   "cell_type": "code",
   "execution_count": null,
   "metadata": {},
   "outputs": [],
   "source": []
  }
 ],
 "metadata": {
  "kernelspec": {
   "display_name": "Python 3",
   "language": "python",
   "name": "python3"
  },
  "language_info": {
   "codemirror_mode": {
    "name": "ipython",
    "version": 3
   },
   "file_extension": ".py",
   "mimetype": "text/x-python",
   "name": "python",
   "nbconvert_exporter": "python",
   "pygments_lexer": "ipython3",
   "version": "3.8.3"
  }
 },
 "nbformat": 4,
 "nbformat_minor": 4
}
