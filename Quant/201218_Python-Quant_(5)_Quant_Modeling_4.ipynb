{
 "cells": [
  {
   "cell_type": "markdown",
   "metadata": {},
   "source": [
    "### K10지수 산출\n",
    "  + 엑셀로 실습했던 내용을 파이썬으로 구현\n",
    "  + 네이버에서 데이터 스크레이핑 진행\n",
    "  + 'http://companyinfo.stock.naver.com/v1/company/c1010001.aspx?cmp_cd=005930' 활용\n"
   ]
  },
  {
   "cell_type": "code",
   "execution_count": 1,
   "metadata": {},
   "outputs": [],
   "source": [
    "# 패키지 불러오기\n",
    "import sys\n",
    "import os\n",
    "import pandas as pd\n",
    "import numpy as np\n",
    "import json\n",
    "from bs4 import BeautifulSoup\n",
    "from urllib.request import urlopen\n",
    "import datetime as dt\n",
    "from sklearn.linear_model import LinearRegression\n",
    "import matplotlib as mpl\n",
    "import matplotlib.pyplot as plt\n",
    "import matplotlib.font_manager as fm\n",
    "fname = fm.FontProperties(fname='D:/data_starfish/jupyter/malgun.ttf').get_name()\n",
    "from IPython.display import Image\n",
    "mpl.rc('font',family=fname)\n",
    "import matplotlib.gridspec as gridspec\n",
    "from jupyterthemes import jtplot\n",
    "jtplot.style(theme='onedork')\n",
    "%matplotlib inline\n",
    "import platform\n",
    "platform.system()\n",
    "# 운영체제별 한글 폰트 설정\n",
    "if platform.system() == 'Darwin': # Mac 환경 폰트 설정\n",
    "    plt.rc('font', family='AppleGothic')\n",
    "elif platform.system() == 'Windows': # Windows 환경 폰트 설정\n",
    "    plt.rc('font', family='Malgun Gothic')\n",
    "plt.rc('axes', unicode_minus=False) # 마이너스 폰트 설정\n",
    "# 글씨 선명하게 출력하는 설정\n",
    "%config InlineBackend.figure_format = 'retina'"
   ]
  },
  {
   "cell_type": "code",
   "execution_count": 2,
   "metadata": {},
   "outputs": [],
   "source": [
    "url_float = 'http://companyinfo.stock.naver.com/v1/company/c1010001.aspx?cmp_cd=005930'\n",
    "source = urlopen(url_float).read()\n",
    "soup = BeautifulSoup(source, 'lxml')"
   ]
  },
  {
   "cell_type": "code",
   "execution_count": 3,
   "metadata": {},
   "outputs": [
    {
     "data": {
      "text/plain": [
       "'5,969,782,550주 / 74.62%'"
      ]
     },
     "execution_count": 3,
     "metadata": {},
     "output_type": "execute_result"
    }
   ],
   "source": [
    "# XPath => //*[@id=\"cTB11\"]/tbody/tr[7]/td\n",
    "temp = soup.find(id=\"cTB11\").find_all('tr')[6].td.text\n",
    "temp = temp.replace('\\r','')\n",
    "temp = temp.replace('\\n','')\n",
    "temp = temp.replace('\\t','')\n",
    "temp"
   ]
  },
  {
   "cell_type": "code",
   "execution_count": 4,
   "metadata": {},
   "outputs": [
    {
     "data": {
      "text/plain": [
       "['5,969,782,550주 ', ' 74.62%']"
      ]
     },
     "execution_count": 4,
     "metadata": {},
     "output_type": "execute_result"
    }
   ],
   "source": [
    "# 정규표현식\n",
    "import re\n",
    "temp = re.split('/', temp)\n",
    "temp"
   ]
  },
  {
   "cell_type": "code",
   "execution_count": 5,
   "metadata": {},
   "outputs": [
    {
     "data": {
      "text/plain": [
       "'5,969,782,550주 '"
      ]
     },
     "execution_count": 5,
     "metadata": {},
     "output_type": "execute_result"
    }
   ],
   "source": [
    "temp[0]"
   ]
  },
  {
   "cell_type": "code",
   "execution_count": 6,
   "metadata": {},
   "outputs": [
    {
     "data": {
      "text/plain": [
       "' 74.62%'"
      ]
     },
     "execution_count": 6,
     "metadata": {},
     "output_type": "execute_result"
    }
   ],
   "source": [
    "temp[1]"
   ]
  },
  {
   "cell_type": "code",
   "execution_count": 7,
   "metadata": {},
   "outputs": [
    {
     "data": {
      "text/plain": [
       "5969782550"
      ]
     },
     "execution_count": 7,
     "metadata": {},
     "output_type": "execute_result"
    }
   ],
   "source": [
    "# 상장주식수는 outstanding, 유동비율은 floating 변수에 저장\n",
    "# outstanding => int , floating => float 형태로 저장\n",
    "outstanding = temp[0].replace(',','')\n",
    "outstanding = outstanding.replace('주','')\n",
    "outstanding = outstanding.replace(' ','')\n",
    "outstanding = int(outstanding)\n",
    "outstanding"
   ]
  },
  {
   "cell_type": "code",
   "execution_count": 8,
   "metadata": {},
   "outputs": [
    {
     "data": {
      "text/plain": [
       "74.62"
      ]
     },
     "execution_count": 8,
     "metadata": {},
     "output_type": "execute_result"
    }
   ],
   "source": [
    "# %기호는 지워줌\n",
    "floating = temp[1].replace(' ','')\n",
    "floating = floating.replace('%','')\n",
    "floating = float(floating)\n",
    "floating"
   ]
  },
  {
   "cell_type": "code",
   "execution_count": 9,
   "metadata": {},
   "outputs": [],
   "source": [
    "# 함수화\n",
    "\n",
    "def stock_info(stock_cd):\n",
    "    url_float = 'http://companyinfo.stock.naver.com/v1/company/c1010001.aspx?cmp_cd=' + stock_cd\n",
    "    source = urlopen(url_float).read()\n",
    "    soup = BeautifulSoup(source, 'lxml')\n",
    "    \n",
    "    temp = soup.find(id=\"cTB11\").find_all('tr')[6].td.text\n",
    "    temp = temp.replace('\\r','')\n",
    "    temp = temp.replace('\\n','')\n",
    "    temp = temp.replace('\\t','')\n",
    "    \n",
    "    temp = re.split('/', temp)\n",
    "    \n",
    "    outstanding = temp[0].replace(',','')\n",
    "    outstanding = outstanding.replace('주','')\n",
    "    outstanding = outstanding.replace(' ','')\n",
    "    outstanding = int(outstanding)\n",
    "    \n",
    "    floating = temp[1].replace(' ','')\n",
    "    floating = floating.replace('%','')\n",
    "    floating = float(floating)\n",
    "    \n",
    "    name = soup.find(id=\"pArea\").find('div').find('div').find('tr').find('td').find('span').text\n",
    "    \n",
    "    k10_outstanding[stock_cd] = outstanding\n",
    "    k10_floating[stock_cd] = floating\n",
    "    k10_name[stock_cd] = name"
   ]
  },
  {
   "cell_type": "code",
   "execution_count": 10,
   "metadata": {},
   "outputs": [],
   "source": [
    "# k10 지수 구성종목\n",
    "'''\n",
    "한국거래소 시가총액 상위 10종목 (2020년 12월 기준)\n",
    "005930 삼성전자\n",
    "000660 SK하이닉스\n",
    "051910 LG화학\n",
    "005935 삼성전자(우)\n",
    "207940 삼성바이오로직스\n",
    "068270 셀트리온\n",
    "035420 NAVER\n",
    "005380 현대차\n",
    "006400 삼성SDI\n",
    "035720 카카오\n",
    "'''\n",
    "\n",
    "k10_component = ['005930','000660','051910','005935',\n",
    "                 '207940','068270','035420','005380',\n",
    "                 '006400','035720']"
   ]
  },
  {
   "cell_type": "code",
   "execution_count": 11,
   "metadata": {},
   "outputs": [],
   "source": [
    "k10_outstanding = dict()\n",
    "k10_floating = dict()\n",
    "k10_name = dict()\n",
    "for stock_cd in k10_component:\n",
    "    stock_info(stock_cd)"
   ]
  },
  {
   "cell_type": "code",
   "execution_count": 12,
   "metadata": {},
   "outputs": [
    {
     "data": {
      "text/plain": [
       "{'005930': 5969782550,\n",
       " '000660': 728002365,\n",
       " '051910': 70592343,\n",
       " '005935': 5969782550,\n",
       " '207940': 66165000,\n",
       " '068270': 134997805,\n",
       " '035420': 164263395,\n",
       " '005380': 213668187,\n",
       " '006400': 68764530,\n",
       " '035720': 88310279}"
      ]
     },
     "execution_count": 12,
     "metadata": {},
     "output_type": "execute_result"
    }
   ],
   "source": [
    "k10_outstanding"
   ]
  },
  {
   "cell_type": "code",
   "execution_count": 13,
   "metadata": {},
   "outputs": [
    {
     "data": {
      "text/plain": [
       "{'005930': 74.62,\n",
       " '000660': 73.74,\n",
       " '051910': 64.29,\n",
       " '005935': 74.62,\n",
       " '207940': 24.75,\n",
       " '068270': 75.71,\n",
       " '035420': 78.18,\n",
       " '005380': 64.1,\n",
       " '006400': 73.24,\n",
       " '035720': 71.63}"
      ]
     },
     "execution_count": 13,
     "metadata": {},
     "output_type": "execute_result"
    }
   ],
   "source": [
    "k10_floating"
   ]
  },
  {
   "cell_type": "markdown",
   "metadata": {},
   "source": [
    "----"
   ]
  },
  {
   "cell_type": "markdown",
   "metadata": {},
   "source": [
    "#### 종가 구하기"
   ]
  },
  {
   "cell_type": "code",
   "execution_count": 14,
   "metadata": {},
   "outputs": [],
   "source": [
    "# 우선 이전에 정의한 date_format 함수 재정의\n",
    "def date_format(d):\n",
    "    d = str(d).replace('-','.')\n",
    "    yyyy = int(d.split('.')[0])\n",
    "    mm = int(d.split('.')[1])\n",
    "    dd = int(d.split('.')[2])\n",
    "    \n",
    "    this_date = dt.date(yyyy, mm, dd)\n",
    "    return this_date\n",
    "\n",
    "def date_format(d=''):\n",
    "    if d != '':\n",
    "        this_date = pd.to_datetime(d).date()\n",
    "    else:\n",
    "        this_date = pd.Timestamp.today().date()\n",
    "    return (this_date)"
   ]
  },
  {
   "cell_type": "code",
   "execution_count": 15,
   "metadata": {},
   "outputs": [],
   "source": [
    "# 과거 주가(종가) 구하기\n",
    "# 기존에 작성했던 코드를 변형해서 사용 (페이지 구조가 비슷하므로)\n",
    "\n",
    "def historical_stock_naver(index_cd, start_date='', end_date='', page_n=1, last_page=0):\n",
    "    \n",
    "    if start_date:   \n",
    "        start_date = date_format(start_date)   \n",
    "    else:    \n",
    "        start_date = dt.date.today() \n",
    "    if end_date:   \n",
    "        end_date = date_format(end_date)   \n",
    "    else:   \n",
    "        end_date = dt.date.today()  \n",
    "        \n",
    "        \n",
    "    naver_stock = \\\n",
    "    'https://finance.naver.com/item/sise_day.nhn?code=' \\\n",
    "    + stock_cd + '&page=' + str(page_n)\n",
    "    \n",
    "    source = urlopen(naver_stock).read()\n",
    "    source = BeautifulSoup(source, 'lxml')   \n",
    "    \n",
    "    dates = source.find_all('span', class_='tah p10 gray03')  \n",
    "    prices = source.find_all('td', class_='num')\n",
    "    \n",
    "    for n in range(len(dates)):\n",
    "        \n",
    "        if len(dates) > 0:\n",
    "            \n",
    "            this_date = dates[n].text\n",
    "            this_date= date_format(this_date)\n",
    "            \n",
    "            if this_date <= end_date and this_date >= start_date:   \n",
    "\n",
    "                this_close = prices[n*6].text\n",
    "                this_close = this_close.replace(',', '')\n",
    "                this_close = float(this_close)\n",
    "\n",
    "                historical_prices[this_date] = this_close\n",
    "                \n",
    "            elif this_date < start_date:   \n",
    "\n",
    "                return historical_prices              \n",
    "            \n",
    "    # 페이지 네비게이션\n",
    "    if last_page == 0:\n",
    "        last_page = source.find_all('table')[1].find('td', class_='pgRR').find('a')['href']\n",
    "        last_page = last_page.split('&')[1]\n",
    "        last_page = last_page.split('=')[1]\n",
    "        last_page = int(last_page) \n",
    "        \n",
    "    # 다음 페이지 호출\n",
    "    if page_n < last_page:   \n",
    "        page_n = page_n + 1   \n",
    "        historical_stock_naver(index_cd, start_date, end_date, page_n, last_page)   \n",
    "        \n",
    "    return historical_prices"
   ]
  },
  {
   "cell_type": "code",
   "execution_count": 16,
   "metadata": {},
   "outputs": [],
   "source": [
    "k10_historical_prices = dict()\n",
    "\n",
    "for stock_cd in k10_component:\n",
    "    \n",
    "    historical_prices = dict()\n",
    "    start_date = '2020-1-1'\n",
    "    end_date = '2020-12-15'\n",
    "    historical_stock_naver(stock_cd, start_date, end_date)\n",
    "    \n",
    "    k10_historical_prices[stock_cd] = historical_prices"
   ]
  },
  {
   "cell_type": "code",
   "execution_count": 17,
   "metadata": {},
   "outputs": [],
   "source": [
    "# 데이터프레임으로 변환\n",
    "\n",
    "k10_historical_price = pd.DataFrame(k10_historical_prices)\n",
    "k10_historical_price.sort_index(axis=1, inplace=True)"
   ]
  },
  {
   "cell_type": "code",
   "execution_count": 18,
   "metadata": {},
   "outputs": [
    {
     "data": {
      "text/html": [
       "<div>\n",
       "<style scoped>\n",
       "    .dataframe tbody tr th:only-of-type {\n",
       "        vertical-align: middle;\n",
       "    }\n",
       "\n",
       "    .dataframe tbody tr th {\n",
       "        vertical-align: top;\n",
       "    }\n",
       "\n",
       "    .dataframe thead th {\n",
       "        text-align: right;\n",
       "    }\n",
       "</style>\n",
       "<table border=\"1\" class=\"dataframe\">\n",
       "  <thead>\n",
       "    <tr style=\"text-align: right;\">\n",
       "      <th></th>\n",
       "      <th>000660</th>\n",
       "      <th>005380</th>\n",
       "      <th>005930</th>\n",
       "      <th>005935</th>\n",
       "      <th>006400</th>\n",
       "      <th>035420</th>\n",
       "      <th>035720</th>\n",
       "      <th>051910</th>\n",
       "      <th>068270</th>\n",
       "      <th>207940</th>\n",
       "    </tr>\n",
       "  </thead>\n",
       "  <tbody>\n",
       "    <tr>\n",
       "      <th>2020-12-15</th>\n",
       "      <td>117500.0</td>\n",
       "      <td>188500.0</td>\n",
       "      <td>73800.0</td>\n",
       "      <td>69500.0</td>\n",
       "      <td>552000.0</td>\n",
       "      <td>283000.0</td>\n",
       "      <td>371000.0</td>\n",
       "      <td>801000.0</td>\n",
       "      <td>360000.0</td>\n",
       "      <td>800000.0</td>\n",
       "    </tr>\n",
       "    <tr>\n",
       "      <th>2020-12-14</th>\n",
       "      <td>117000.0</td>\n",
       "      <td>189000.0</td>\n",
       "      <td>73800.0</td>\n",
       "      <td>69900.0</td>\n",
       "      <td>549000.0</td>\n",
       "      <td>286000.0</td>\n",
       "      <td>373500.0</td>\n",
       "      <td>793000.0</td>\n",
       "      <td>357500.0</td>\n",
       "      <td>812000.0</td>\n",
       "    </tr>\n",
       "    <tr>\n",
       "      <th>2020-12-11</th>\n",
       "      <td>115500.0</td>\n",
       "      <td>190000.0</td>\n",
       "      <td>73400.0</td>\n",
       "      <td>69300.0</td>\n",
       "      <td>556000.0</td>\n",
       "      <td>290000.0</td>\n",
       "      <td>374500.0</td>\n",
       "      <td>808000.0</td>\n",
       "      <td>361000.0</td>\n",
       "      <td>820000.0</td>\n",
       "    </tr>\n",
       "  </tbody>\n",
       "</table>\n",
       "</div>"
      ],
      "text/plain": [
       "              000660    005380   005930   005935    006400    035420  \\\n",
       "2020-12-15  117500.0  188500.0  73800.0  69500.0  552000.0  283000.0   \n",
       "2020-12-14  117000.0  189000.0  73800.0  69900.0  549000.0  286000.0   \n",
       "2020-12-11  115500.0  190000.0  73400.0  69300.0  556000.0  290000.0   \n",
       "\n",
       "              035720    051910    068270    207940  \n",
       "2020-12-15  371000.0  801000.0  360000.0  800000.0  \n",
       "2020-12-14  373500.0  793000.0  357500.0  812000.0  \n",
       "2020-12-11  374500.0  808000.0  361000.0  820000.0  "
      ]
     },
     "execution_count": 18,
     "metadata": {},
     "output_type": "execute_result"
    }
   ],
   "source": [
    "k10_historical_price = k10_historical_price.fillna(method='bfill')\n",
    "if k10_historical_price.isnull().values.any():\n",
    "    k10_historical_price = k10_historical_price.fillna(method='ffill')\n",
    "    \n",
    "k10_historical_price.head(3)"
   ]
  },
  {
   "cell_type": "markdown",
   "metadata": {},
   "source": [
    "#### 고려해야할 점1\n",
    "  + 삼성전자의 경우 2018년 5월 4일부로 1/50 액면분할 실시\n",
    "  + 따라서 2018/5/4 이전의 주가를 50으로 나눈 수정주가를 활용해야함 (이 기간을 포함하는 데이터를 활용한다면)"
   ]
  },
  {
   "cell_type": "code",
   "execution_count": 19,
   "metadata": {},
   "outputs": [],
   "source": [
    "# 데이터프레임화\n",
    "temp = {'Outstanding': k10_outstanding,\n",
    "       'Floating': k10_floating,\n",
    "       'Price': k10_historical_price.iloc[0],\n",
    "       'Name': k10_name}\n",
    "k10_info = pd.DataFrame(temp)"
   ]
  },
  {
   "cell_type": "markdown",
   "metadata": {},
   "source": [
    "#### 고려해야할 점2\n",
    "  + 일반적으로 시가총액(market capitalization)은 '주식 X 상장주식 수'를 뜻함\n",
    "  + 하지만, 지수를 만들 때는 유동비율을 반영한 시가총액(market capitalization with floating ratio)을 활용함\n",
    "  + 그러므로 시가총액 => Market Cap, 유동시가총액 => f Market Cap에 따로 저장해본다"
   ]
  },
  {
   "cell_type": "code",
   "execution_count": 20,
   "metadata": {},
   "outputs": [
    {
     "data": {
      "text/html": [
       "<div>\n",
       "<style scoped>\n",
       "    .dataframe tbody tr th:only-of-type {\n",
       "        vertical-align: middle;\n",
       "    }\n",
       "\n",
       "    .dataframe tbody tr th {\n",
       "        vertical-align: top;\n",
       "    }\n",
       "\n",
       "    .dataframe thead th {\n",
       "        text-align: right;\n",
       "    }\n",
       "</style>\n",
       "<table border=\"1\" class=\"dataframe\">\n",
       "  <thead>\n",
       "    <tr style=\"text-align: right;\">\n",
       "      <th></th>\n",
       "      <th>Outstanding</th>\n",
       "      <th>Floating</th>\n",
       "      <th>Price</th>\n",
       "      <th>Name</th>\n",
       "      <th>Market Cap</th>\n",
       "      <th>f Market Cap</th>\n",
       "    </tr>\n",
       "  </thead>\n",
       "  <tbody>\n",
       "    <tr>\n",
       "      <th>000660</th>\n",
       "      <td>728002365</td>\n",
       "      <td>73.74</td>\n",
       "      <td>117500.0</td>\n",
       "      <td>SK하이닉스</td>\n",
       "      <td>8.554028e+11</td>\n",
       "      <td>6.307740e+13</td>\n",
       "    </tr>\n",
       "    <tr>\n",
       "      <th>005380</th>\n",
       "      <td>213668187</td>\n",
       "      <td>64.10</td>\n",
       "      <td>188500.0</td>\n",
       "      <td>현대차</td>\n",
       "      <td>4.027645e+11</td>\n",
       "      <td>2.581721e+13</td>\n",
       "    </tr>\n",
       "    <tr>\n",
       "      <th>005930</th>\n",
       "      <td>5969782550</td>\n",
       "      <td>74.62</td>\n",
       "      <td>73800.0</td>\n",
       "      <td>삼성전자</td>\n",
       "      <td>4.405700e+12</td>\n",
       "      <td>3.287533e+14</td>\n",
       "    </tr>\n",
       "  </tbody>\n",
       "</table>\n",
       "</div>"
      ],
      "text/plain": [
       "        Outstanding  Floating     Price    Name    Market Cap  f Market Cap\n",
       "000660    728002365     73.74  117500.0  SK하이닉스  8.554028e+11  6.307740e+13\n",
       "005380    213668187     64.10  188500.0     현대차  4.027645e+11  2.581721e+13\n",
       "005930   5969782550     74.62   73800.0    삼성전자  4.405700e+12  3.287533e+14"
      ]
     },
     "execution_count": 20,
     "metadata": {},
     "output_type": "execute_result"
    }
   ],
   "source": [
    "k10_info['Market Cap'] = k10_info['Outstanding'] *\\\n",
    "k10_info['Price'] * 0.01\n",
    "\n",
    "k10_info['f Market Cap'] = k10_info['Outstanding'] *\\\n",
    "k10_info['Floating'] * k10_info['Price'] * 0.01\n",
    "\n",
    "k10_info.head(3)"
   ]
  },
  {
   "cell_type": "code",
   "execution_count": 21,
   "metadata": {},
   "outputs": [
    {
     "data": {
      "text/html": [
       "<div>\n",
       "<style scoped>\n",
       "    .dataframe tbody tr th:only-of-type {\n",
       "        vertical-align: middle;\n",
       "    }\n",
       "\n",
       "    .dataframe tbody tr th {\n",
       "        vertical-align: top;\n",
       "    }\n",
       "\n",
       "    .dataframe thead th {\n",
       "        text-align: right;\n",
       "    }\n",
       "</style>\n",
       "<table border=\"1\" class=\"dataframe\">\n",
       "  <thead>\n",
       "    <tr style=\"text-align: right;\">\n",
       "      <th></th>\n",
       "      <th>000660</th>\n",
       "      <th>005380</th>\n",
       "      <th>005930</th>\n",
       "      <th>005935</th>\n",
       "      <th>006400</th>\n",
       "      <th>035420</th>\n",
       "      <th>035720</th>\n",
       "      <th>051910</th>\n",
       "      <th>068270</th>\n",
       "      <th>207940</th>\n",
       "    </tr>\n",
       "  </thead>\n",
       "  <tbody>\n",
       "    <tr>\n",
       "      <th>2020-12-15</th>\n",
       "      <td>6.307740e+13</td>\n",
       "      <td>2.581721e+13</td>\n",
       "      <td>3.287533e+14</td>\n",
       "      <td>3.095983e+14</td>\n",
       "      <td>2.780045e+13</td>\n",
       "      <td>3.634318e+13</td>\n",
       "      <td>2.346822e+13</td>\n",
       "      <td>3.635244e+13</td>\n",
       "      <td>3.679446e+13</td>\n",
       "      <td>1.310067e+13</td>\n",
       "    </tr>\n",
       "    <tr>\n",
       "      <th>2020-12-14</th>\n",
       "      <td>6.280899e+13</td>\n",
       "      <td>2.588569e+13</td>\n",
       "      <td>3.287533e+14</td>\n",
       "      <td>3.113802e+14</td>\n",
       "      <td>2.764936e+13</td>\n",
       "      <td>3.672844e+13</td>\n",
       "      <td>2.362636e+13</td>\n",
       "      <td>3.598937e+13</td>\n",
       "      <td>3.653894e+13</td>\n",
       "      <td>1.329718e+13</td>\n",
       "    </tr>\n",
       "    <tr>\n",
       "      <th>2020-12-11</th>\n",
       "      <td>6.200374e+13</td>\n",
       "      <td>2.602265e+13</td>\n",
       "      <td>3.269714e+14</td>\n",
       "      <td>3.087074e+14</td>\n",
       "      <td>2.800191e+13</td>\n",
       "      <td>3.724213e+13</td>\n",
       "      <td>2.368962e+13</td>\n",
       "      <td>3.667012e+13</td>\n",
       "      <td>3.689667e+13</td>\n",
       "      <td>1.342819e+13</td>\n",
       "    </tr>\n",
       "    <tr>\n",
       "      <th>2020-12-10</th>\n",
       "      <td>6.254057e+13</td>\n",
       "      <td>2.622809e+13</td>\n",
       "      <td>3.247441e+14</td>\n",
       "      <td>3.020254e+14</td>\n",
       "      <td>2.820336e+13</td>\n",
       "      <td>3.672844e+13</td>\n",
       "      <td>2.343659e+13</td>\n",
       "      <td>3.707858e+13</td>\n",
       "      <td>3.679446e+13</td>\n",
       "      <td>1.341181e+13</td>\n",
       "    </tr>\n",
       "    <tr>\n",
       "      <th>2020-12-09</th>\n",
       "      <td>6.468789e+13</td>\n",
       "      <td>2.622809e+13</td>\n",
       "      <td>3.291988e+14</td>\n",
       "      <td>2.980162e+14</td>\n",
       "      <td>2.850554e+13</td>\n",
       "      <td>3.698528e+13</td>\n",
       "      <td>2.372124e+13</td>\n",
       "      <td>3.794087e+13</td>\n",
       "      <td>3.613012e+13</td>\n",
       "      <td>1.346094e+13</td>\n",
       "    </tr>\n",
       "  </tbody>\n",
       "</table>\n",
       "</div>"
      ],
      "text/plain": [
       "                  000660        005380        005930        005935  \\\n",
       "2020-12-15  6.307740e+13  2.581721e+13  3.287533e+14  3.095983e+14   \n",
       "2020-12-14  6.280899e+13  2.588569e+13  3.287533e+14  3.113802e+14   \n",
       "2020-12-11  6.200374e+13  2.602265e+13  3.269714e+14  3.087074e+14   \n",
       "2020-12-10  6.254057e+13  2.622809e+13  3.247441e+14  3.020254e+14   \n",
       "2020-12-09  6.468789e+13  2.622809e+13  3.291988e+14  2.980162e+14   \n",
       "\n",
       "                  006400        035420        035720        051910  \\\n",
       "2020-12-15  2.780045e+13  3.634318e+13  2.346822e+13  3.635244e+13   \n",
       "2020-12-14  2.764936e+13  3.672844e+13  2.362636e+13  3.598937e+13   \n",
       "2020-12-11  2.800191e+13  3.724213e+13  2.368962e+13  3.667012e+13   \n",
       "2020-12-10  2.820336e+13  3.672844e+13  2.343659e+13  3.707858e+13   \n",
       "2020-12-09  2.850554e+13  3.698528e+13  2.372124e+13  3.794087e+13   \n",
       "\n",
       "                  068270        207940  \n",
       "2020-12-15  3.679446e+13  1.310067e+13  \n",
       "2020-12-14  3.653894e+13  1.329718e+13  \n",
       "2020-12-11  3.689667e+13  1.342819e+13  \n",
       "2020-12-10  3.679446e+13  1.341181e+13  \n",
       "2020-12-09  3.613012e+13  1.346094e+13  "
      ]
     },
     "execution_count": 21,
     "metadata": {},
     "output_type": "execute_result"
    }
   ],
   "source": [
    "# 날짜별로 시가총액 게산\n",
    "k10_historical_mc = k10_historical_price * k10_info['Outstanding'] *\\\n",
    "k10_info['Floating'] * 0.01\n",
    "k10_historical_mc.head(5)"
   ]
  },
  {
   "cell_type": "code",
   "execution_count": 22,
   "metadata": {},
   "outputs": [
    {
     "data": {
      "text/plain": [
       "2020-12-15    9.011056e+14\n",
       "2020-12-14    9.026578e+14\n",
       "2020-12-11    8.996338e+14\n",
       "2020-12-10    8.911914e+14\n",
       "2020-12-09    8.948749e+14\n",
       "                  ...     \n",
       "2020-01-08    6.118841e+14\n",
       "2020-01-07    6.060644e+14\n",
       "2020-01-06    6.002194e+14\n",
       "2020-01-03    6.008608e+14\n",
       "2020-01-02    6.004606e+14\n",
       "Length: 238, dtype: float64"
      ]
     },
     "execution_count": 22,
     "metadata": {},
     "output_type": "execute_result"
    }
   ],
   "source": [
    "# 지수 구성종목 각각의 시가총액을 더해서 K10 지수의 일자별 시가총액을 구함\n",
    "'''\n",
    "<데이터프레임>.sum()은 각 열의 합 (세로 방향)\n",
    "<데이터프레임>.sum(axis=1)은 각 행의 합 (가로 방향)\n",
    "'''\n",
    "k10_historical_mc.sum(axis=1)"
   ]
  },
  {
   "cell_type": "code",
   "execution_count": 23,
   "metadata": {},
   "outputs": [
    {
     "data": {
      "text/html": [
       "<div>\n",
       "<style scoped>\n",
       "    .dataframe tbody tr th:only-of-type {\n",
       "        vertical-align: middle;\n",
       "    }\n",
       "\n",
       "    .dataframe tbody tr th {\n",
       "        vertical-align: top;\n",
       "    }\n",
       "\n",
       "    .dataframe thead th {\n",
       "        text-align: right;\n",
       "    }\n",
       "</style>\n",
       "<table border=\"1\" class=\"dataframe\">\n",
       "  <thead>\n",
       "    <tr style=\"text-align: right;\">\n",
       "      <th></th>\n",
       "      <th>K10 Market Cap</th>\n",
       "    </tr>\n",
       "  </thead>\n",
       "  <tbody>\n",
       "    <tr>\n",
       "      <th>2020-12-15</th>\n",
       "      <td>9.011056e+14</td>\n",
       "    </tr>\n",
       "    <tr>\n",
       "      <th>2020-12-14</th>\n",
       "      <td>9.026578e+14</td>\n",
       "    </tr>\n",
       "    <tr>\n",
       "      <th>2020-12-11</th>\n",
       "      <td>8.996338e+14</td>\n",
       "    </tr>\n",
       "  </tbody>\n",
       "</table>\n",
       "</div>"
      ],
      "text/plain": [
       "            K10 Market Cap\n",
       "2020-12-15    9.011056e+14\n",
       "2020-12-14    9.026578e+14\n",
       "2020-12-11    8.996338e+14"
      ]
     },
     "execution_count": 23,
     "metadata": {},
     "output_type": "execute_result"
    }
   ],
   "source": [
    "# 데이터프레임화\n",
    "k10 = pd.DataFrame()\n",
    "k10['K10 Market Cap'] = k10_historical_mc.sum(axis=1)\n",
    "k10.head(3)"
   ]
  },
  {
   "cell_type": "code",
   "execution_count": 24,
   "metadata": {},
   "outputs": [
    {
     "data": {
      "text/html": [
       "<div>\n",
       "<style scoped>\n",
       "    .dataframe tbody tr th:only-of-type {\n",
       "        vertical-align: middle;\n",
       "    }\n",
       "\n",
       "    .dataframe tbody tr th {\n",
       "        vertical-align: top;\n",
       "    }\n",
       "\n",
       "    .dataframe thead th {\n",
       "        text-align: right;\n",
       "    }\n",
       "</style>\n",
       "<table border=\"1\" class=\"dataframe\">\n",
       "  <thead>\n",
       "    <tr style=\"text-align: right;\">\n",
       "      <th></th>\n",
       "      <th>K10 Market Cap</th>\n",
       "      <th>K10</th>\n",
       "    </tr>\n",
       "  </thead>\n",
       "  <tbody>\n",
       "    <tr>\n",
       "      <th>2020-12-15</th>\n",
       "      <td>9.011056e+14</td>\n",
       "      <td>150.069075</td>\n",
       "    </tr>\n",
       "    <tr>\n",
       "      <th>2020-12-14</th>\n",
       "      <td>9.026578e+14</td>\n",
       "      <td>150.327570</td>\n",
       "    </tr>\n",
       "    <tr>\n",
       "      <th>2020-12-11</th>\n",
       "      <td>8.996338e+14</td>\n",
       "      <td>149.823963</td>\n",
       "    </tr>\n",
       "  </tbody>\n",
       "</table>\n",
       "</div>"
      ],
      "text/plain": [
       "            K10 Market Cap         K10\n",
       "2020-12-15    9.011056e+14  150.069075\n",
       "2020-12-14    9.026578e+14  150.327570\n",
       "2020-12-11    8.996338e+14  149.823963"
      ]
     },
     "execution_count": 24,
     "metadata": {},
     "output_type": "execute_result"
    }
   ],
   "source": [
    "# 지수 산출\n",
    "k10['K10'] = k10['K10 Market Cap'] / k10['K10 Market Cap'].loc[dt.date(2020, 1, 2)] * 100\n",
    "k10.head(3)"
   ]
  },
  {
   "cell_type": "code",
   "execution_count": 25,
   "metadata": {},
   "outputs": [
    {
     "data": {
      "image/png": "[encoded data removed]",
      "text/plain": [
       "<Figure size 720x360 with 1 Axes>"
      ]
     },
     "metadata": {
      "image/png": {
       "height": 304,
       "width": 621
      },
      "needs_background": "dark"
     },
     "output_type": "display_data"
    }
   ],
   "source": [
    "# 그래프 그리기\n",
    "plt.figure(figsize=(10,5))\n",
    "plt.plot(k10['K10'])\n",
    "plt.legend(['K10'], loc=0)\n",
    "plt.grid(True, color='0.7', linestyle=':', linewidth=1)"
   ]
  },
  {
   "cell_type": "code",
   "execution_count": 26,
   "metadata": {},
   "outputs": [],
   "source": [
    "# KOSPI200과 비교\n",
    "def historical_index_naver(index_cd, start_date='', end_date='', page_n=1, last_page=0):\n",
    "    \n",
    "    if start_date:   \n",
    "        start_date = date_format(start_date)   \n",
    "    else:    \n",
    "        start_date = dt.date.today() \n",
    "    if end_date:   \n",
    "        end_date = date_format(end_date)   \n",
    "    else:   \n",
    "        end_date = dt.date.today()  \n",
    "        \n",
    "        \n",
    "    naver_index = \\\n",
    "    'http://finance.naver.com/sise/sise_index_day.nhn?code=' \\\n",
    "    + index_cd + '&page=' + str(page_n)\n",
    "    \n",
    "    # 지정한 페이지에서 코드 읽기\n",
    "    source = urlopen(naver_index).read()\n",
    "    # 뷰티풀 스프로 태그별로 코드 분류\n",
    "    source = BeautifulSoup(source, 'lxml')   \n",
    "    \n",
    "    # <td class=\"date\">태그에서 날짜 수집   \n",
    "    dates = source.find_all('td', class_='date')  \n",
    "    # <td class=\"number_1\">태그에서 지수 수집\n",
    "    prices = source.find_all('td', class_='number_1')  \n",
    "    \n",
    "    for n in range(len(dates)):\n",
    "    \n",
    "        if dates[n].text.split('.')[0].isdigit():\n",
    "            \n",
    "            # 날짜 처리\n",
    "            this_date = dates[n].text\n",
    "            this_date= date_format(this_date)\n",
    "            \n",
    "            if this_date <= end_date and this_date >= start_date:   \n",
    "            # start_date와 end_date 사이에서 데이터 저장\n",
    "                # 종가 처리\n",
    "                this_close = prices[n*4].text   # 0,4,8...\n",
    "                this_close = this_close.replace(',', '')\n",
    "                this_close = float(this_close)\n",
    "\n",
    "                # 딕셔너리에 저장\n",
    "                historical_prices[this_date] = this_close\n",
    "                \n",
    "            elif this_date < start_date:   \n",
    "            # start_date 이전이면 함수 종료\n",
    "                return historical_prices              \n",
    "            \n",
    "    # 페이지 네비게이션\n",
    "    if last_page == 0:\n",
    "        last_page = source.find('td', class_='pgRR').find('a')['href']\n",
    "        # 마지막페이지 주소 추출\n",
    "        last_page = last_page.split('&')[1]\n",
    "        last_page = last_page.split('=')[1]\n",
    "        last_page = int(last_page) \n",
    "        \n",
    "    # 다음 페이지 호출\n",
    "    if page_n < last_page:   \n",
    "        page_n = page_n + 1   \n",
    "        historical_index_naver(index_cd, start_date, end_date, page_n, last_page)   \n",
    "        \n",
    "    return historical_prices"
   ]
  },
  {
   "cell_type": "code",
   "execution_count": 27,
   "metadata": {},
   "outputs": [
    {
     "data": {
      "text/plain": [
       "{datetime.date(2020, 12, 15): 370.88,\n",
       " datetime.date(2020, 12, 14): 371.56,\n",
       " datetime.date(2020, 12, 11): 372.24,\n",
       " datetime.date(2020, 12, 10): 369.37,\n",
       " datetime.date(2020, 12, 9): 371.47,\n",
       " datetime.date(2020, 12, 8): 363.45,\n",
       " datetime.date(2020, 12, 7): 369.86,\n",
       " datetime.date(2020, 12, 4): 367.63,\n",
       " datetime.date(2020, 12, 3): 361.66,\n",
       " datetime.date(2020, 12, 2): 358.66,\n",
       " datetime.date(2020, 12, 1): 352.4,\n",
       " datetime.date(2020, 11, 30): 346.05,\n",
       " datetime.date(2020, 11, 27): 352.73,\n",
       " datetime.date(2020, 11, 26): 352.12,\n",
       " datetime.date(2020, 11, 25): 348.3,\n",
       " datetime.date(2020, 11, 24): 350.28,\n",
       " datetime.date(2020, 11, 23): 348.46,\n",
       " datetime.date(2020, 11, 20): 340.62,\n",
       " datetime.date(2020, 11, 19): 340.16,\n",
       " datetime.date(2020, 11, 18): 339.96,\n",
       " datetime.date(2020, 11, 17): 339.85,\n",
       " datetime.date(2020, 11, 16): 340.63,\n",
       " datetime.date(2020, 11, 13): 333.03,\n",
       " datetime.date(2020, 11, 12): 329.72,\n",
       " datetime.date(2020, 11, 11): 331.12,\n",
       " datetime.date(2020, 11, 10): 326.13,\n",
       " datetime.date(2020, 11, 9): 325.83,\n",
       " datetime.date(2020, 11, 6): 322.1,\n",
       " datetime.date(2020, 11, 5): 321.51,\n",
       " datetime.date(2020, 11, 4): 313.83,\n",
       " datetime.date(2020, 11, 3): 312.07,\n",
       " datetime.date(2020, 11, 2): 305.95,\n",
       " datetime.date(2020, 10, 30): 301.6,\n",
       " datetime.date(2020, 10, 29): 309.94,\n",
       " datetime.date(2020, 10, 28): 313.17,\n",
       " datetime.date(2020, 10, 27): 311.8,\n",
       " datetime.date(2020, 10, 26): 313.53,\n",
       " datetime.date(2020, 10, 23): 314.79,\n",
       " datetime.date(2020, 10, 22): 313.77,\n",
       " datetime.date(2020, 10, 21): 315.76,\n",
       " datetime.date(2020, 10, 20): 314.71,\n",
       " datetime.date(2020, 10, 19): 312.59,\n",
       " datetime.date(2020, 10, 16): 311.83,\n",
       " datetime.date(2020, 10, 15): 313.92,\n",
       " datetime.date(2020, 10, 14): 316.57,\n",
       " datetime.date(2020, 10, 13): 319.58,\n",
       " datetime.date(2020, 10, 12): 319.15,\n",
       " datetime.date(2020, 10, 8): 317.47,\n",
       " datetime.date(2020, 10, 7): 317.35,\n",
       " datetime.date(2020, 10, 6): 314.45,\n",
       " datetime.date(2020, 10, 5): 313.51,\n",
       " datetime.date(2020, 9, 29): 309.44,\n",
       " datetime.date(2020, 9, 28): 307.03,\n",
       " datetime.date(2020, 9, 25): 303.57,\n",
       " datetime.date(2020, 9, 24): 302.48,\n",
       " datetime.date(2020, 9, 23): 309.64,\n",
       " datetime.date(2020, 9, 22): 308.82,\n",
       " datetime.date(2020, 9, 21): 315.89,\n",
       " datetime.date(2020, 9, 18): 318.39,\n",
       " datetime.date(2020, 9, 17): 318.0,\n",
       " datetime.date(2020, 9, 16): 322.31,\n",
       " datetime.date(2020, 9, 15): 323.36,\n",
       " datetime.date(2020, 9, 14): 320.98,\n",
       " datetime.date(2020, 9, 11): 316.45,\n",
       " datetime.date(2020, 9, 10): 316.53,\n",
       " datetime.date(2020, 9, 9): 313.77,\n",
       " datetime.date(2020, 9, 8): 317.38,\n",
       " datetime.date(2020, 9, 7): 313.67,\n",
       " datetime.date(2020, 9, 4): 312.03,\n",
       " datetime.date(2020, 9, 3): 316.43,\n",
       " datetime.date(2020, 9, 2): 311.5,\n",
       " datetime.date(2020, 9, 1): 309.81,\n",
       " datetime.date(2020, 8, 31): 307.14,\n",
       " datetime.date(2020, 8, 28): 312.24,\n",
       " datetime.date(2020, 8, 27): 311.38,\n",
       " datetime.date(2020, 8, 26): 314.19,\n",
       " datetime.date(2020, 8, 25): 313.59,\n",
       " datetime.date(2020, 8, 24): 309.33,\n",
       " datetime.date(2020, 8, 21): 306.16,\n",
       " datetime.date(2020, 8, 20): 301.59,\n",
       " datetime.date(2020, 8, 19): 313.54,\n",
       " datetime.date(2020, 8, 18): 312.84,\n",
       " datetime.date(2020, 8, 14): 319.24,\n",
       " datetime.date(2020, 8, 13): 323.33,\n",
       " datetime.date(2020, 8, 12): 322.68,\n",
       " datetime.date(2020, 8, 11): 321.02,\n",
       " datetime.date(2020, 8, 10): 316.77,\n",
       " datetime.date(2020, 8, 7): 312.57,\n",
       " datetime.date(2020, 8, 6): 311.32,\n",
       " datetime.date(2020, 8, 5): 306.64,\n",
       " datetime.date(2020, 8, 4): 303.04,\n",
       " datetime.date(2020, 8, 3): 299.46,\n",
       " datetime.date(2020, 7, 31): 299.32,\n",
       " datetime.date(2020, 7, 30): 301.85,\n",
       " datetime.date(2020, 7, 29): 301.25,\n",
       " datetime.date(2020, 7, 28): 300.13,\n",
       " datetime.date(2020, 7, 27): 293.51,\n",
       " datetime.date(2020, 7, 24): 290.66,\n",
       " datetime.date(2020, 7, 23): 292.37,\n",
       " datetime.date(2020, 7, 22): 294.04,\n",
       " datetime.date(2020, 7, 21): 295.16,\n",
       " datetime.date(2020, 7, 20): 290.81,\n",
       " datetime.date(2020, 7, 17): 291.57,\n",
       " datetime.date(2020, 7, 16): 289.25,\n",
       " datetime.date(2020, 7, 15): 292.27,\n",
       " datetime.date(2020, 7, 14): 289.63,\n",
       " datetime.date(2020, 7, 13): 289.84,\n",
       " datetime.date(2020, 7, 10): 285.06,\n",
       " datetime.date(2020, 7, 9): 287.25,\n",
       " datetime.date(2020, 7, 8): 285.97,\n",
       " datetime.date(2020, 7, 7): 286.77,\n",
       " datetime.date(2020, 7, 6): 290.62,\n",
       " datetime.date(2020, 7, 3): 285.89,\n",
       " datetime.date(2020, 7, 2): 283.86,\n",
       " datetime.date(2020, 7, 1): 280.26,\n",
       " datetime.date(2020, 6, 30): 280.09,\n",
       " datetime.date(2020, 6, 29): 278.04,\n",
       " datetime.date(2020, 6, 26): 283.38,\n",
       " datetime.date(2020, 6, 25): 279.73,\n",
       " datetime.date(2020, 6, 24): 286.7,\n",
       " datetime.date(2020, 6, 23): 281.94,\n",
       " datetime.date(2020, 6, 22): 281.42,\n",
       " datetime.date(2020, 6, 19): 283.37,\n",
       " datetime.date(2020, 6, 18): 281.91,\n",
       " datetime.date(2020, 6, 17): 283.02,\n",
       " datetime.date(2020, 6, 16): 282.59,\n",
       " datetime.date(2020, 6, 15): 267.95,\n",
       " datetime.date(2020, 6, 12): 281.78,\n",
       " datetime.date(2020, 6, 11): 288.62,\n",
       " datetime.date(2020, 6, 10): 291.9,\n",
       " datetime.date(2020, 6, 9): 291.32,\n",
       " datetime.date(2020, 6, 8): 290.77,\n",
       " datetime.date(2020, 6, 5): 290.62,\n",
       " datetime.date(2020, 6, 4): 286.45,\n",
       " datetime.date(2020, 6, 3): 285.91,\n",
       " datetime.date(2020, 6, 2): 276.08,\n",
       " datetime.date(2020, 6, 1): 273.19,\n",
       " datetime.date(2020, 5, 29): 268.32,\n",
       " datetime.date(2020, 5, 28): 268.29,\n",
       " datetime.date(2020, 5, 27): 267.64,\n",
       " datetime.date(2020, 5, 26): 267.31,\n",
       " datetime.date(2020, 5, 25): 262.76,\n",
       " datetime.date(2020, 5, 22): 259.62,\n",
       " datetime.date(2020, 5, 21): 263.74,\n",
       " datetime.date(2020, 5, 20): 262.72,\n",
       " datetime.date(2020, 5, 19): 261.79,\n",
       " datetime.date(2020, 5, 18): 255.44,\n",
       " datetime.date(2020, 5, 15): 253.79,\n",
       " datetime.date(2020, 5, 14): 253.65,\n",
       " datetime.date(2020, 5, 13): 255.85,\n",
       " datetime.date(2020, 5, 12): 253.37,\n",
       " datetime.date(2020, 5, 11): 254.95,\n",
       " datetime.date(2020, 5, 8): 256.62,\n",
       " datetime.date(2020, 5, 7): 254.46,\n",
       " datetime.date(2020, 5, 6): 255.0,\n",
       " datetime.date(2020, 5, 4): 250.6,\n",
       " datetime.date(2020, 4, 29): 258.15,\n",
       " datetime.date(2020, 4, 28): 256.39,\n",
       " datetime.date(2020, 4, 27): 254.84,\n",
       " datetime.date(2020, 4, 24): 250.28,\n",
       " datetime.date(2020, 4, 23): 253.74,\n",
       " datetime.date(2020, 4, 22): 251.88,\n",
       " datetime.date(2020, 4, 21): 249.4,\n",
       " datetime.date(2020, 4, 20): 252.14,\n",
       " datetime.date(2020, 4, 17): 255.02,\n",
       " datetime.date(2020, 4, 16): 247.1,\n",
       " datetime.date(2020, 4, 14): 247.45,\n",
       " datetime.date(2020, 4, 13): 243.4,\n",
       " datetime.date(2020, 4, 10): 248.0,\n",
       " datetime.date(2020, 4, 9): 245.61,\n",
       " datetime.date(2020, 4, 8): 241.89,\n",
       " datetime.date(2020, 4, 7): 244.87,\n",
       " datetime.date(2020, 4, 6): 240.81,\n",
       " datetime.date(2020, 4, 3): 231.7,\n",
       " datetime.date(2020, 4, 2): 231.84,\n",
       " datetime.date(2020, 4, 1): 226.35,\n",
       " datetime.date(2020, 3, 31): 236.82,\n",
       " datetime.date(2020, 3, 30): 232.45,\n",
       " datetime.date(2020, 3, 27): 233.79,\n",
       " datetime.date(2020, 3, 26): 229.34,\n",
       " datetime.date(2020, 3, 25): 232.89,\n",
       " datetime.date(2020, 3, 24): 220.34,\n",
       " datetime.date(2020, 3, 23): 201.87,\n",
       " datetime.date(2020, 3, 20): 213.67,\n",
       " datetime.date(2020, 3, 19): 199.28,\n",
       " datetime.date(2020, 3, 18): 215.83,\n",
       " datetime.date(2020, 3, 17): 226.89,\n",
       " datetime.date(2020, 3, 16): 232.97,\n",
       " datetime.date(2020, 3, 13): 240.65,\n",
       " datetime.date(2020, 3, 12): 247.62,\n",
       " datetime.date(2020, 3, 11): 257.01,\n",
       " datetime.date(2020, 3, 10): 264.67,\n",
       " datetime.date(2020, 3, 9): 263.11,\n",
       " datetime.date(2020, 3, 6): 275.1,\n",
       " datetime.date(2020, 3, 5): 281.38,\n",
       " datetime.date(2020, 3, 4): 278.13,\n",
       " datetime.date(2020, 3, 3): 271.56,\n",
       " datetime.date(2020, 3, 2): 270.37,\n",
       " datetime.date(2020, 2, 28): 268.02,\n",
       " datetime.date(2020, 2, 27): 277.09,\n",
       " datetime.date(2020, 2, 26): 279.94,\n",
       " datetime.date(2020, 2, 25): 284.24,\n",
       " datetime.date(2020, 2, 24): 281.02,\n",
       " datetime.date(2020, 2, 21): 292.42,\n",
       " datetime.date(2020, 2, 20): 296.65,\n",
       " datetime.date(2020, 2, 19): 298.33,\n",
       " datetime.date(2020, 2, 18): 297.74,\n",
       " datetime.date(2020, 2, 17): 302.76,\n",
       " datetime.date(2020, 2, 14): 303.01,\n",
       " datetime.date(2020, 2, 13): 300.93,\n",
       " datetime.date(2020, 2, 12): 301.54,\n",
       " datetime.date(2020, 2, 11): 299.28,\n",
       " datetime.date(2020, 2, 10): 296.24,\n",
       " datetime.date(2020, 2, 7): 298.21,\n",
       " datetime.date(2020, 2, 6): 300.65,\n",
       " datetime.date(2020, 2, 5): 292.02,\n",
       " datetime.date(2020, 2, 4): 290.68,\n",
       " datetime.date(2020, 2, 3): 285.05,\n",
       " datetime.date(2020, 1, 31): 284.53,\n",
       " datetime.date(2020, 1, 30): 288.37,\n",
       " datetime.date(2020, 1, 29): 293.98,\n",
       " datetime.date(2020, 1, 28): 292.77,\n",
       " datetime.date(2020, 1, 23): 302.33,\n",
       " datetime.date(2020, 1, 22): 306.08,\n",
       " datetime.date(2020, 1, 21): 302.11,\n",
       " datetime.date(2020, 1, 20): 305.58,\n",
       " datetime.date(2020, 1, 17): 303.3,\n",
       " datetime.date(2020, 1, 16): 302.78,\n",
       " datetime.date(2020, 1, 15): 299.74,\n",
       " datetime.date(2020, 1, 14): 301.53,\n",
       " datetime.date(2020, 1, 13): 300.13,\n",
       " datetime.date(2020, 1, 10): 297.06,\n",
       " datetime.date(2020, 1, 9): 294.41,\n",
       " datetime.date(2020, 1, 8): 289.42,\n",
       " datetime.date(2020, 1, 7): 291.23,\n",
       " datetime.date(2020, 1, 6): 288.43,\n",
       " datetime.date(2020, 1, 3): 290.74,\n",
       " datetime.date(2020, 1, 2): 290.35}"
      ]
     },
     "execution_count": 27,
     "metadata": {},
     "output_type": "execute_result"
    }
   ],
   "source": [
    "historical_prices = dict()\n",
    "kospi200 = historical_index_naver('KPI200', '2020-1-1', '2020-12-15')\n",
    "kospi200"
   ]
  },
  {
   "cell_type": "code",
   "execution_count": 28,
   "metadata": {},
   "outputs": [
    {
     "data": {
      "text/html": [
       "<div>\n",
       "<style scoped>\n",
       "    .dataframe tbody tr th:only-of-type {\n",
       "        vertical-align: middle;\n",
       "    }\n",
       "\n",
       "    .dataframe tbody tr th {\n",
       "        vertical-align: top;\n",
       "    }\n",
       "\n",
       "    .dataframe thead th {\n",
       "        text-align: right;\n",
       "    }\n",
       "</style>\n",
       "<table border=\"1\" class=\"dataframe\">\n",
       "  <thead>\n",
       "    <tr style=\"text-align: right;\">\n",
       "      <th></th>\n",
       "      <th>K200</th>\n",
       "    </tr>\n",
       "  </thead>\n",
       "  <tbody>\n",
       "    <tr>\n",
       "      <th>2020-01-02</th>\n",
       "      <td>290.35</td>\n",
       "    </tr>\n",
       "    <tr>\n",
       "      <th>2020-01-03</th>\n",
       "      <td>290.74</td>\n",
       "    </tr>\n",
       "    <tr>\n",
       "      <th>2020-01-06</th>\n",
       "      <td>288.43</td>\n",
       "    </tr>\n",
       "  </tbody>\n",
       "</table>\n",
       "</div>"
      ],
      "text/plain": [
       "              K200\n",
       "2020-01-02  290.35\n",
       "2020-01-03  290.74\n",
       "2020-01-06  288.43"
      ]
     },
     "execution_count": 28,
     "metadata": {},
     "output_type": "execute_result"
    }
   ],
   "source": [
    "# 데이터프레임화\n",
    "k200 = pd.DataFrame({'K200': kospi200})\n",
    "k200.head(3)"
   ]
  },
  {
   "cell_type": "code",
   "execution_count": 29,
   "metadata": {},
   "outputs": [
    {
     "data": {
      "image/png": "[encoded data removed]",
      "text/plain": [
       "<Figure size 720x360 with 1 Axes>"
      ]
     },
     "metadata": {
      "image/png": {
       "height": 304,
       "width": 621
      },
      "needs_background": "dark"
     },
     "output_type": "display_data"
    }
   ],
   "source": [
    "plt.figure(figsize=(10,5))\n",
    "plt.plot(k10['K10'] / k10['K10'].loc[dt.date(2020, 1, 2)] * 100)\n",
    "plt.plot(k200['K200'] / k200['K200'].loc[dt.date(2020, 1, 2)] * 100)                     \n",
    "plt.legend(['K10','K200'], loc=0)\n",
    "plt.grid(True, color='0.7', linestyle=':', linewidth=1)\n",
    "\n",
    "# 상위10개 종목이 주식시장 상승을 주도했다는 것을 알 수 있음"
   ]
  },
  {
   "cell_type": "code",
   "execution_count": null,
   "metadata": {},
   "outputs": [],
   "source": []
  }
 ],
 "metadata": {
  "kernelspec": {
   "display_name": "Python 3",
   "language": "python",
   "name": "python3"
  },
  "language_info": {
   "codemirror_mode": {
    "name": "ipython",
    "version": 3
   },
   "file_extension": ".py",
   "mimetype": "text/x-python",
   "name": "python",
   "nbconvert_exporter": "python",
   "pygments_lexer": "ipython3",
   "version": "3.8.3"
  }
 },
 "nbformat": 4,
 "nbformat_minor": 4
}
