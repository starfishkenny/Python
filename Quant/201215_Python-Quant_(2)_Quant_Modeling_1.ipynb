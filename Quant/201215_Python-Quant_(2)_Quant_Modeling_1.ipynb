{
 "cells": [
  {
   "cell_type": "markdown",
   "metadata": {},
   "source": [
    "### 주가데이터를 수집하고, 그래프를 그려보고, 회귀분석까지 진행\n",
    "  + reference: <파이썬을 활용한 금융공학 레시피>, 김용환\n",
    "  + 네이버와 다음의 주가데이터 활용 (다음은 금융데이터 크롤링 X)"
   ]
  },
  {
   "cell_type": "markdown",
   "metadata": {},
   "source": [
    "#### 네이버금융에서 KOSPI200 일별시세 자료로의 접근\n",
    "  + KOSPI200 화면 --> '일별시세'에서 '프레임소스보기' --> 'view-source:' 부분을 제외한 url을 주소창에 입력\n",
    "  + url구조 확인 (https://finance.naver.com/sise/sise_index_day.nhn?code=종목코드&page=페이지번호)"
   ]
  },
  {
   "cell_type": "code",
   "execution_count": 1,
   "metadata": {},
   "outputs": [],
   "source": [
    "index_cd = 'KPI200'\n",
    "page_n = 1\n",
    "naver_index = \\\n",
    "'https://finance.naver.com/sise/sise_index_day.nhn?code=' + index_cd + \\\n",
    "'&page=' + str(page_n)"
   ]
  },
  {
   "cell_type": "code",
   "execution_count": 2,
   "metadata": {},
   "outputs": [
    {
     "data": {
      "text/plain": [
       "b'\\n\\n\\n\\n\\n\\n\\n<html lang=\"ko\">\\n<head>\\n<meta http-equiv=\"Content-Type\" content=\"text/html; charset=euc-kr\">\\n<title>\\xb3\\xd7\\xc0\\xcc\\xb9\\xf6 \\xb1\\xdd\\xc0\\xb6</title>\\n<link rel=\"stylesheet\" type=\"text/css\" href=\"/css/newstock.css?20201217181526\">\\n<link rel=\"stylesheet\" type=\"text/css\" href=\"/css/common.css?20201217181526\">\\n<link rel=\"stylesheet\" type=\"text/css\" href=\"/css/layout.css?20201217181526\">\\n<link rel=\"stylesheet\" type=\"text/css\" href=\"/css/main.css?20201217181526\">\\n<link rel=\"stylesheet\" type=\"text/css\" href=\"/css/newstock2.css?20201217181526\">\\n<link rel=\"stylesheet\" type=\"text/css\" href=\"/css/newstock3.css?20201217181526\">\\n<link rel=\"stylesheet\" type=\"text/css\" href=\"/css/world.css?20201217181526\">\\n</head>\\n<body>\\n<script type=\"text/javascript\" src=\"/js/jindo.min.ns.1.5.3.euckr.js?20201217181526\"></script>\\n<script type=\"text/javascript\" src=\"/js/lcslog.js?20201217181526\"></script>\\n\\t\\t\\t\\t<!-- \\xc0\\xcf\\xba\\xb0\\xbd\\xc3\\xbc\\xbc -->\\n\\t\\t\\t\\t<div class=\"box_type_m\">\\n\\t\\t\\t\\t\\t<h4 class=\"top_tlt\" style=\"text-align:left;\"><em>\\xc0\\xcf\\xba\\xb0</em>\\xbd\\xc3\\xbc\\xbc</h4>\\n\\t\\t\\t\\t\\t<table summary=\"\\xc0\\xcf\\xba\\xb0 \\xbd\\xc3\\xbc\\xbc\\xc7\\xa5:\\xb3\\xaf\\xc2\\xa5\\xbf\\xa1 \\xb5\\xfb\\xb8\\xa5 \\xc3\\xbc\\xb0\\xe1\\xb0\\xa1 \\xc0\\xfc\\xc0\\xcf\\xba\\xf1 \\xb5\\xee\\xb6\\xf4\\xb7\\xfc \\xb0\\xc5\\xb7\\xa1\\xb7\\xae \\xb0\\xc5\\xb7\\xa1\\xb4\\xeb\\xb1\\xdd \\xc1\\xa4\\xba\\xb8\\xb8\\xa6 \\xc1\\xa6\\xb0\\xf8\\xc7\\xd5\\xb4\\xcf\\xb4\\xd9.\" cellpadding=\"0\" cellspacing=\"0\" class=\"type_1\">\\n\\t\\t\\t\\t\\t<caption>\\xc0\\xcf\\xba\\xb0\\xbd\\xc3\\xbc\\xbc</caption>\\n\\t\\t\\t\\t\\t<col width=\"15%\"><col width=\"14%\"><col width=\"18%\"><col width=\"14%\"><col width=\"*\"><col width=\"18%\">\\n\\t\\t\\t\\t\\t\\n\\t\\t\\t\\t\\t\\t\\n\\t\\t\\t\\t\\t\\t\\n\\t\\t\\t\\t\\t\\t<tr>\\n\\t\\t\\t\\t\\t\\t\\t<th>\\xb3\\xaf\\xc2\\xa5</th>\\n\\t\\t\\t\\t\\t\\t\\t<th>\\xc3\\xbc\\xb0\\xe1\\xb0\\xa1</th>\\n\\t\\t\\t\\t\\t\\t\\t<th>\\xc0\\xfc\\xc0\\xcf\\xba\\xf1</th>\\n\\t\\t\\t\\t\\t\\t\\t<th>\\xb5\\xee\\xb6\\xf4\\xb7\\xfc</th>\\n\\t\\t\\t\\t\\t\\t\\t<th>\\xb0\\xc5\\xb7\\xa1\\xb7\\xae<span class=\"add_txt\">(\\xc3\\xb5\\xc1\\xd6)</span></th>\\n\\t\\t\\t\\t\\t\\t\\t<th>\\xb0\\xc5\\xb7\\xa1\\xb4\\xeb\\xb1\\xdd<span class=\"add_txt\">(\\xb9\\xe9\\xb8\\xb8)</span></th>\\n\\t\\t\\t\\t\\t\\t</tr>\\n\\t\\t\\t\\t\\t\\t\\n\\t\\t\\t\\t\\t\\t\\t\\t\\t\\t\\n\\t\\t\\t\\t\\t<tr><td colspan=\"6\" class=\"blank_07\"></td></tr>\\n\\n\\t\\n\\t\\t\\t\\t\\t<tr>\\n\\t\\t\\t\\t\\t\\t<td class=\"date\">2020.12.18</td>\\n\\t\\t\\t\\t\\t\\t<td class=\"number_1\">371.09</td>\\n\\t\\t\\t\\t\\t\\t<td class=\"rate_down\" style=\"padding-right:35px;\">\\n\\t\\t\\t\\t<img src=\"https://ssl.pstatic.net/imgstock/images/images4/ico_down.gif\" width=\"7\" height=\"6\" style=\"margin-right:4px;\" alt=\"\\xc7\\xcf\\xb6\\xf4\"><span class=\"tah p11 nv01\">\\n\\t\\t\\t\\t0.91\\n\\t\\t\\t\\t</span>\\n\\t\\t\\t</td>\\n\\t\\t\\t\\t\\t\\t<td class=\"number_1\">\\n\\t\\t\\t\\t<span class=\"tah p11 nv01\">\\n\\t\\t\\t\\t-0.24%\\n\\t\\t\\t\\t</span>\\n\\t\\t\\t</td>\\n\\t\\t\\t\\t\\t\\t<td class=\"number_1\" style=\"padding-right:40px;\">145,965</td>\\n\\t\\t\\t\\t\\t\\t<td class=\"number_1\" style=\"padding-right:30px;\">6,078,683</td>\\n\\t\\t\\t\\t\\t</tr>\\n\\t\\t\\n\\t\\t\\t\\n\\t\\t\\t\\t\\n\\t\\t\\t\\t\\t<tr>\\n\\t\\t\\t\\t\\t\\t<td class=\"date\">2020.12.17</td>\\n\\t\\t\\t\\t\\t\\t<td class=\"number_1\">372.00</td>\\n\\t\\t\\t\\t\\t\\t<td class=\"rate_down\" style=\"padding-right:35px;\">\\n\\t\\t\\t\\t<img src=\"https://ssl.pstatic.net/imgstock/images/images4/ico_down.gif\" width=\"7\" height=\"6\" style=\"margin-right:4px;\" alt=\"\\xc7\\xcf\\xb6\\xf4\"><span class=\"tah p11 nv01\">\\n\\t\\t\\t\\t0.53\\n\\t\\t\\t\\t</span>\\n\\t\\t\\t</td>\\n\\t\\t\\t\\t\\t\\t<td class=\"number_1\">\\n\\t\\t\\t\\t<span class=\"tah p11 nv01\">\\n\\t\\t\\t\\t-0.14%\\n\\t\\t\\t\\t</span>\\n\\t\\t\\t</td>\\n\\t\\t\\t\\t\\t\\t<td class=\"number_1\" style=\"padding-right:40px;\">244,579</td>\\n\\t\\t\\t\\t\\t\\t<td class=\"number_1\" style=\"padding-right:30px;\">11,574,244</td>\\n\\t\\t\\t\\t\\t</tr>\\n\\t\\t\\t\\t\\n\\t\\t\\t\\t\\n\\t\\t\\t\\n\\t\\t\\t\\n\\t\\t\\t\\n\\t\\t\\t\\n\\t\\t\\t\\t\\n\\t\\t\\t\\n\\t\\t\\t\\n\\t\\t\\n\\t\\t\\t\\n\\t\\t\\t\\t\\n\\t\\t\\t\\t\\t<tr>\\n\\t\\t\\t\\t\\t\\t<td class=\"date\">2020.12.16</td>\\n\\t\\t\\t\\t\\t\\t<td class=\"number_1\">372.53</td>\\n\\t\\t\\t\\t\\t\\t<td class=\"rate_down\" style=\"padding-right:35px;\">\\n\\t\\t\\t\\t<img src=\"https://ssl.pstatic.net/imgstock/images/images4/ico_up.gif\" width=\"7\" height=\"6\" style=\"margin-right:4px;\" alt=\"\\xbb\\xf3\\xbd\\xc2\"><span class=\"tah p11 red02\">\\n\\t\\t\\t\\t1.65\\n\\t\\t\\t\\t</span>\\n\\t\\t\\t</td>\\n\\t\\t\\t\\t\\t\\t<td class=\"number_1\">\\n\\t\\t\\t\\t<span class=\"tah p11 red01\">\\n\\t\\t\\t\\t+0.44%\\n\\t\\t\\t\\t</span>\\n\\t\\t\\t</td>\\n\\t\\t\\t\\t\\t\\t<td class=\"number_1\" style=\"padding-right:40px;\">188,952</td>\\n\\t\\t\\t\\t\\t\\t<td class=\"number_1\" style=\"padding-right:30px;\">8,941,284</td>\\n\\t\\t\\t\\t\\t</tr>\\n\\t\\t\\t\\t\\n\\t\\t\\t\\t\\n\\t\\t\\t\\n\\t\\t\\t\\n\\t\\t\\t\\n\\t\\t\\t\\n\\t\\t\\t\\t\\n\\t\\t\\t\\t\\t<tr><td colspan=\"6\" class=\"blank_08\"></td></tr>\\n\\t\\t\\t\\t\\t<tr><td colspan=\"6\" class=\"division_line\"></td></tr>\\n\\t\\t\\t\\t\\t<tr><td colspan=\"6\" class=\"blank_08\"></td></tr>\\n\\t\\t\\t\\t\\t<tr>\\n\\t\\t\\t\\t\\n\\t\\t\\t\\n\\t\\t\\t\\n\\t\\t\\n\\t\\t\\t\\n\\t\\t\\t\\t\\n\\t\\t\\t\\t\\t<tr>\\n\\t\\t\\t\\t\\t\\t<td class=\"date\">2020.12.15</td>\\n\\t\\t\\t\\t\\t\\t<td class=\"number_1\">370.88</td>\\n\\t\\t\\t\\t\\t\\t<td class=\"rate_down\" style=\"padding-right:35px;\">\\n\\t\\t\\t\\t<img src=\"https://ssl.pstatic.net/imgstock/images/images4/ico_down.gif\" width=\"7\" height=\"6\" style=\"margin-right:4px;\" alt=\"\\xc7\\xcf\\xb6\\xf4\"><span class=\"tah p11 nv01\">\\n\\t\\t\\t\\t0.68\\n\\t\\t\\t\\t</span>\\n\\t\\t\\t</td>\\n\\t\\t\\t\\t\\t\\t<td class=\"number_1\">\\n\\t\\t\\t\\t<span class=\"tah p11 nv01\">\\n\\t\\t\\t\\t-0.18%\\n\\t\\t\\t\\t</span>\\n\\t\\t\\t</td>\\n\\t\\t\\t\\t\\t\\t<td class=\"number_1\" style=\"padding-right:40px;\">243,331</td>\\n\\t\\t\\t\\t\\t\\t<td class=\"number_1\" style=\"padding-right:30px;\">10,755,575</td>\\n\\t\\t\\t\\t\\t</tr>\\n\\t\\t\\t\\t\\n\\t\\t\\t\\t\\n\\t\\t\\t\\n\\t\\t\\t\\n\\t\\t\\t\\n\\t\\t\\t\\n\\t\\t\\t\\t\\n\\t\\t\\t\\n\\t\\t\\t\\n\\t\\t\\n\\t\\t\\t\\n\\t\\t\\t\\t\\n\\t\\t\\t\\t\\t<tr>\\n\\t\\t\\t\\t\\t\\t<td class=\"date\">2020.12.14</td>\\n\\t\\t\\t\\t\\t\\t<td class=\"number_1\">371.56</td>\\n\\t\\t\\t\\t\\t\\t<td class=\"rate_down\" style=\"padding-right:35px;\">\\n\\t\\t\\t\\t<img src=\"https://ssl.pstatic.net/imgstock/images/images4/ico_down.gif\" width=\"7\" height=\"6\" style=\"margin-right:4px;\" alt=\"\\xc7\\xcf\\xb6\\xf4\"><span class=\"tah p11 nv01\">\\n\\t\\t\\t\\t0.68\\n\\t\\t\\t\\t</span>\\n\\t\\t\\t</td>\\n\\t\\t\\t\\t\\t\\t<td class=\"number_1\">\\n\\t\\t\\t\\t<span class=\"tah p11 nv01\">\\n\\t\\t\\t\\t-0.18%\\n\\t\\t\\t\\t</span>\\n\\t\\t\\t</td>\\n\\t\\t\\t\\t\\t\\t<td class=\"number_1\" style=\"padding-right:40px;\">284,473</td>\\n\\t\\t\\t\\t\\t\\t<td class=\"number_1\" style=\"padding-right:30px;\">12,239,048</td>\\n\\t\\t\\t\\t\\t</tr>\\n\\t\\t\\t\\t\\n\\t\\t\\t\\t\\n\\t\\t\\t\\n\\t\\t\\t\\n\\t\\t\\t\\n\\t\\t\\t\\n\\t\\t\\t\\t\\n\\t\\t\\t\\n\\t\\t\\t\\n\\t\\t\\n\\t\\t\\t\\n\\t\\t\\t\\t\\n\\t\\t\\t\\t\\t<tr>\\n\\t\\t\\t\\t\\t\\t<td class=\"date\">2020.12.11</td>\\n\\t\\t\\t\\t\\t\\t<td class=\"number_1\">372.24</td>\\n\\t\\t\\t\\t\\t\\t<td class=\"rate_down\" style=\"padding-right:35px;\">\\n\\t\\t\\t\\t<img src=\"https://ssl.pstatic.net/imgstock/images/images4/ico_up.gif\" width=\"7\" height=\"6\" style=\"margin-right:4px;\" alt=\"\\xbb\\xf3\\xbd\\xc2\"><span class=\"tah p11 red02\">\\n\\t\\t\\t\\t2.87\\n\\t\\t\\t\\t</span>\\n\\t\\t\\t</td>\\n\\t\\t\\t\\t\\t\\t<td class=\"number_1\">\\n\\t\\t\\t\\t<span class=\"tah p11 red01\">\\n\\t\\t\\t\\t+0.78%\\n\\t\\t\\t\\t</span>\\n\\t\\t\\t</td>\\n\\t\\t\\t\\t\\t\\t<td class=\"number_1\" style=\"padding-right:40px;\">331,020</td>\\n\\t\\t\\t\\t\\t\\t<td class=\"number_1\" style=\"padding-right:30px;\">14,477,293</td>\\n\\t\\t\\t\\t\\t</tr>\\n\\t\\t\\t\\t\\n\\t\\t\\t\\t\\n\\t\\t\\t\\n\\t\\t\\t\\n\\t\\t\\t\\n\\t\\t\\t\\n\\t\\t\\t\\t\\n\\t\\t\\t\\n\\t\\t\\t\\n\\t\\t\\n\\t\\t\\t\\n\\t\\n\\t\\n\\t\\n\\t\\n\\n\\t\\t\\t\\t\\t<tr><td colspan=\"6\" class=\"blank_09\"></td></tr>\\n\\t\\t\\t\\t\\t<tr><td colspan=\"6\" class=\"division_line\"></td></tr>\\n\\t\\t\\t\\t\\t</table>\\n\\t\\t\\t\\t<!--- \\xc6\\xe4\\xc0\\xcc\\xc1\\xf6 \\xb3\\xd7\\xba\\xf1\\xb0\\xd4\\xc0\\xcc\\xbc\\xc7 \\xbd\\xc3\\xc0\\xdb--->\\n\\t\\t\\t\\t<table summary=\"\\xc6\\xe4\\xc0\\xcc\\xc1\\xf6 \\xb3\\xd7\\xba\\xf1\\xb0\\xd4\\xc0\\xcc\\xbc\\xc7 \\xb8\\xae\\xbd\\xba\\xc6\\xae\" class=\"Nnavi\" align=\"center\">\\n\\t\\t\\t\\t<caption>\\xc6\\xe4\\xc0\\xcc\\xc1\\xf6 \\xb3\\xd7\\xba\\xf1\\xb0\\xd4\\xc0\\xcc\\xbc\\xc7</caption>\\n\\t\\t\\t\\t<tr>\\t\\t\\n\\t\\t\\t\\n\\t\\t\\t\\t\\n                \\n                <td class=\"on\">\\n\\t\\t\\t\\t<a href=\"/sise/sise_index_day.nhn?code=KPI200&amp;page=1\"  >1</a>\\n\\t\\t\\t\\t</td>\\n<td>\\n\\t\\t\\t\\t<a href=\"/sise/sise_index_day.nhn?code=KPI200&amp;page=2\"  >2</a>\\n\\t\\t\\t\\t</td>\\n<td>\\n\\t\\t\\t\\t<a href=\"/sise/sise_index_day.nhn?code=KPI200&amp;page=3\"  >3</a>\\n\\t\\t\\t\\t</td>\\n<td>\\n\\t\\t\\t\\t<a href=\"/sise/sise_index_day.nhn?code=KPI200&amp;page=4\"  >4</a>\\n\\t\\t\\t\\t</td>\\n<td>\\n\\t\\t\\t\\t<a href=\"/sise/sise_index_day.nhn?code=KPI200&amp;page=5\"  >5</a>\\n\\t\\t\\t\\t</td>\\n<td>\\n\\t\\t\\t\\t<a href=\"/sise/sise_index_day.nhn?code=KPI200&amp;page=6\"  >6</a>\\n\\t\\t\\t\\t</td>\\n<td>\\n\\t\\t\\t\\t<a href=\"/sise/sise_index_day.nhn?code=KPI200&amp;page=7\"  >7</a>\\n\\t\\t\\t\\t</td>\\n<td>\\n\\t\\t\\t\\t<a href=\"/sise/sise_index_day.nhn?code=KPI200&amp;page=8\"  >8</a>\\n\\t\\t\\t\\t</td>\\n<td>\\n\\t\\t\\t\\t<a href=\"/sise/sise_index_day.nhn?code=KPI200&amp;page=9\"  >9</a>\\n\\t\\t\\t\\t</td>\\n<td>\\n\\t\\t\\t\\t<a href=\"/sise/sise_index_day.nhn?code=KPI200&amp;page=10\"  >10</a>\\n\\t\\t\\t\\t</td>\\n\\n                <td class=\"pgR\">\\n\\t\\t\\t\\t<a href=\"/sise/sise_index_day.nhn?code=KPI200&amp;page=11\"  >\\n\\t\\t\\t\\t\\xb4\\xd9\\xc0\\xbd<img src=\"https://ssl.pstatic.net/static/n/cmn/bu_pgarR.gif\" width=\"3\" height=\"5\" alt=\"\" border=\"0\">\\n\\t\\t\\t\\t</a>\\n\\t\\t\\t\\t</td>\\n\\n                <td class=\"pgRR\">\\n\\t\\t\\t\\t<a href=\"/sise/sise_index_day.nhn?code=KPI200&amp;page=617\"  >\\xb8\\xc7\\xb5\\xda\\n\\t\\t\\t\\t<img src=\"https://ssl.pstatic.net/static/n/cmn/bu_pgarRR.gif\" width=\"8\" height=\"5\" alt=\"\" border=\"0\">\\n\\t\\t\\t\\t</a>\\n\\t\\t\\t\\t</td>\\n\\n            \\n\\t\\t\\t\\t</tr>\\n\\t\\t\\t\\t</table>\\n\\t\\t\\t\\t<!--- \\xc6\\xe4\\xc0\\xcc\\xc1\\xf6 \\xb3\\xd7\\xba\\xf1\\xb0\\xd4\\xc0\\xcc\\xbc\\xc7 \\xb3\\xa1--->\\n\\t\\t\\t\\t</div>\\n\\t\\t\\t\\t<!-- //\\xc0\\xcf\\xba\\xb0\\xbd\\xc3\\xbc\\xbc -->\\n\\t\\t\\t\\t\\n<script type=\"text/javascript\">\\n    ;(function(){\\n        var eventType = \"onpageshow\" in window ? \"pageshow\" : \"load\";\\n        jindo.$Fn(function(){\\n            lcs_do();\\n        }).attach(window, eventType);\\n    })();\\n</script>\\n\\n</body>\\n</html>'"
      ]
     },
     "execution_count": 2,
     "metadata": {},
     "output_type": "execute_result"
    }
   ],
   "source": [
    "# urllib.request의 urlopen\n",
    "from urllib.request import urlopen\n",
    "source = urlopen(naver_index).read()\n",
    "source"
   ]
  },
  {
   "cell_type": "code",
   "execution_count": 3,
   "metadata": {},
   "outputs": [],
   "source": [
    "# BeautifulSoup\n",
    "from bs4 import BeautifulSoup\n",
    "source = BeautifulSoup(source, 'lxml')"
   ]
  },
  {
   "cell_type": "code",
   "execution_count": 4,
   "metadata": {},
   "outputs": [
    {
     "name": "stdout",
     "output_type": "stream",
     "text": [
      "<html lang=\"ko\">\n",
      " <head>\n",
      "  <meta content=\"text/html; charset=utf-8\" http-equiv=\"Content-Type\"/>\n",
      "  <title>\n",
      "   네이버 금융\n",
      "  </title>\n",
      "  <link href=\"/css/newstock.css?20201217181526\" rel=\"stylesheet\" type=\"text/css\"/>\n",
      "  <link href=\"/css/common.css?20201217181526\" rel=\"stylesheet\" type=\"text/css\"/>\n",
      "  <link href=\"/css/layout.css?20201217181526\" rel=\"stylesheet\" type=\"text/css\"/>\n",
      "  <link href=\"/css/main.css?20201217181526\" rel=\"stylesheet\" type=\"text/css\"/>\n",
      "  <link href=\"/css/newstock2.css?20201217181526\" rel=\"stylesheet\" type=\"text/css\"/>\n",
      "  <link href=\"/css/newstock3.css?20201217181526\" rel=\"stylesheet\" type=\"text/css\"/>\n",
      "  <link href=\"/css/world.css?20201217181526\" rel=\"stylesheet\" type=\"text/css\"/>\n",
      " </head>\n",
      " <body>\n",
      "  <script src=\"/js/jindo.min.ns.1.5.3.euckr.js?20201217181526\" type=\"text/javascript\">\n",
      "  </script>\n",
      "  <script src=\"/js/lcslog.js?20201217181526\" type=\"text/javascript\">\n",
      "  </script>\n",
      "  <!-- 일별시세 -->\n",
      "  <div class=\"box_type_m\">\n",
      "   <h4 class=\"top_tlt\" style=\"text-align:left;\">\n",
      "    <em>\n",
      "     일별\n",
      "    </em>\n",
      "    시세\n",
      "   </h4>\n",
      "   <table cellpadding=\"0\" cellspacing=\"0\" class=\"type_1\" summary=\"일별 시세표:날짜에 따른 체결가 전일비 등락률 거래량 거래대금 정보를 제공합니다.\">\n",
      "    <caption>\n",
      "     일별시세\n",
      "    </caption>\n",
      "    <col width=\"15%\"/>\n",
      "    <col width=\"14%\"/>\n",
      "    <col width=\"18%\"/>\n",
      "    <col width=\"14%\"/>\n",
      "    <col width=\"*\"/>\n",
      "    <col width=\"18%\"/>\n",
      "    <tr>\n",
      "     <th>\n",
      "      날짜\n",
      "     </th>\n",
      "     <th>\n",
      "      체결가\n",
      "     </th>\n",
      "     <th>\n",
      "      전일비\n",
      "     </th>\n",
      "     <th>\n",
      "      등락률\n",
      "     </th>\n",
      "     <th>\n",
      "      거래량\n",
      "      <span class=\"add_txt\">\n",
      "       (천주)\n",
      "      </span>\n",
      "     </th>\n",
      "     <th>\n",
      "      거래대금\n",
      "      <span class=\"add_txt\">\n",
      "       (백만)\n",
      "      </span>\n",
      "     </th>\n",
      "    </tr>\n",
      "    <tr>\n",
      "     <td class=\"blank_07\" colspan=\"6\">\n",
      "     </td>\n",
      "    </tr>\n",
      "    <tr>\n",
      "     <td class=\"date\">\n",
      "      2020.12.18\n",
      "     </td>\n",
      "     <td class=\"number_1\">\n",
      "      371.09\n",
      "     </td>\n",
      "     <td class=\"rate_down\" style=\"padding-right:35px;\">\n",
      "      <img alt=\"하락\" height=\"6\" src=\"https://ssl.pstatic.net/imgstock/images/images4/ico_down.gif\" style=\"margin-right:4px;\" width=\"7\"/>\n",
      "      <span class=\"tah p11 nv01\">\n",
      "       0.91\n",
      "      </span>\n",
      "     </td>\n",
      "     <td class=\"number_1\">\n",
      "      <span class=\"tah p11 nv01\">\n",
      "       -0.24%\n",
      "      </span>\n",
      "     </td>\n",
      "     <td class=\"number_1\" style=\"padding-right:40px;\">\n",
      "      145,965\n",
      "     </td>\n",
      "     <td class=\"number_1\" style=\"padding-right:30px;\">\n",
      "      6,078,683\n",
      "     </td>\n",
      "    </tr>\n",
      "    <tr>\n",
      "     <td class=\"date\">\n",
      "      2020.12.17\n",
      "     </td>\n",
      "     <td class=\"number_1\">\n",
      "      372.00\n",
      "     </td>\n",
      "     <td class=\"rate_down\" style=\"padding-right:35px;\">\n",
      "      <img alt=\"하락\" height=\"6\" src=\"https://ssl.pstatic.net/imgstock/images/images4/ico_down.gif\" style=\"margin-right:4px;\" width=\"7\"/>\n",
      "      <span class=\"tah p11 nv01\">\n",
      "       0.53\n",
      "      </span>\n",
      "     </td>\n",
      "     <td class=\"number_1\">\n",
      "      <span class=\"tah p11 nv01\">\n",
      "       -0.14%\n",
      "      </span>\n",
      "     </td>\n",
      "     <td class=\"number_1\" style=\"padding-right:40px;\">\n",
      "      244,579\n",
      "     </td>\n",
      "     <td class=\"number_1\" style=\"padding-right:30px;\">\n",
      "      11,574,244\n",
      "     </td>\n",
      "    </tr>\n",
      "    <tr>\n",
      "     <td class=\"date\">\n",
      "      2020.12.16\n",
      "     </td>\n",
      "     <td class=\"number_1\">\n",
      "      372.53\n",
      "     </td>\n",
      "     <td class=\"rate_down\" style=\"padding-right:35px;\">\n",
      "      <img alt=\"상승\" height=\"6\" src=\"https://ssl.pstatic.net/imgstock/images/images4/ico_up.gif\" style=\"margin-right:4px;\" width=\"7\"/>\n",
      "      <span class=\"tah p11 red02\">\n",
      "       1.65\n",
      "      </span>\n",
      "     </td>\n",
      "     <td class=\"number_1\">\n",
      "      <span class=\"tah p11 red01\">\n",
      "       +0.44%\n",
      "      </span>\n",
      "     </td>\n",
      "     <td class=\"number_1\" style=\"padding-right:40px;\">\n",
      "      188,952\n",
      "     </td>\n",
      "     <td class=\"number_1\" style=\"padding-right:30px;\">\n",
      "      8,941,284\n",
      "     </td>\n",
      "    </tr>\n",
      "    <tr>\n",
      "     <td class=\"blank_08\" colspan=\"6\">\n",
      "     </td>\n",
      "    </tr>\n",
      "    <tr>\n",
      "     <td class=\"division_line\" colspan=\"6\">\n",
      "     </td>\n",
      "    </tr>\n",
      "    <tr>\n",
      "     <td class=\"blank_08\" colspan=\"6\">\n",
      "     </td>\n",
      "    </tr>\n",
      "    <tr>\n",
      "    </tr>\n",
      "    <tr>\n",
      "     <td class=\"date\">\n",
      "      2020.12.15\n",
      "     </td>\n",
      "     <td class=\"number_1\">\n",
      "      370.88\n",
      "     </td>\n",
      "     <td class=\"rate_down\" style=\"padding-right:35px;\">\n",
      "      <img alt=\"하락\" height=\"6\" src=\"https://ssl.pstatic.net/imgstock/images/images4/ico_down.gif\" style=\"margin-right:4px;\" width=\"7\"/>\n",
      "      <span class=\"tah p11 nv01\">\n",
      "       0.68\n",
      "      </span>\n",
      "     </td>\n",
      "     <td class=\"number_1\">\n",
      "      <span class=\"tah p11 nv01\">\n",
      "       -0.18%\n",
      "      </span>\n",
      "     </td>\n",
      "     <td class=\"number_1\" style=\"padding-right:40px;\">\n",
      "      243,331\n",
      "     </td>\n",
      "     <td class=\"number_1\" style=\"padding-right:30px;\">\n",
      "      10,755,575\n",
      "     </td>\n",
      "    </tr>\n",
      "    <tr>\n",
      "     <td class=\"date\">\n",
      "      2020.12.14\n",
      "     </td>\n",
      "     <td class=\"number_1\">\n",
      "      371.56\n",
      "     </td>\n",
      "     <td class=\"rate_down\" style=\"padding-right:35px;\">\n",
      "      <img alt=\"하락\" height=\"6\" src=\"https://ssl.pstatic.net/imgstock/images/images4/ico_down.gif\" style=\"margin-right:4px;\" width=\"7\"/>\n",
      "      <span class=\"tah p11 nv01\">\n",
      "       0.68\n",
      "      </span>\n",
      "     </td>\n",
      "     <td class=\"number_1\">\n",
      "      <span class=\"tah p11 nv01\">\n",
      "       -0.18%\n",
      "      </span>\n",
      "     </td>\n",
      "     <td class=\"number_1\" style=\"padding-right:40px;\">\n",
      "      284,473\n",
      "     </td>\n",
      "     <td class=\"number_1\" style=\"padding-right:30px;\">\n",
      "      12,239,048\n",
      "     </td>\n",
      "    </tr>\n",
      "    <tr>\n",
      "     <td class=\"date\">\n",
      "      2020.12.11\n",
      "     </td>\n",
      "     <td class=\"number_1\">\n",
      "      372.24\n",
      "     </td>\n",
      "     <td class=\"rate_down\" style=\"padding-right:35px;\">\n",
      "      <img alt=\"상승\" height=\"6\" src=\"https://ssl.pstatic.net/imgstock/images/images4/ico_up.gif\" style=\"margin-right:4px;\" width=\"7\"/>\n",
      "      <span class=\"tah p11 red02\">\n",
      "       2.87\n",
      "      </span>\n",
      "     </td>\n",
      "     <td class=\"number_1\">\n",
      "      <span class=\"tah p11 red01\">\n",
      "       +0.78%\n",
      "      </span>\n",
      "     </td>\n",
      "     <td class=\"number_1\" style=\"padding-right:40px;\">\n",
      "      331,020\n",
      "     </td>\n",
      "     <td class=\"number_1\" style=\"padding-right:30px;\">\n",
      "      14,477,293\n",
      "     </td>\n",
      "    </tr>\n",
      "    <tr>\n",
      "     <td class=\"blank_09\" colspan=\"6\">\n",
      "     </td>\n",
      "    </tr>\n",
      "    <tr>\n",
      "     <td class=\"division_line\" colspan=\"6\">\n",
      "     </td>\n",
      "    </tr>\n",
      "   </table>\n",
      "   <!--- 페이지 네비게이션 시작--->\n",
      "   <table align=\"center\" class=\"Nnavi\" summary=\"페이지 네비게이션 리스트\">\n",
      "    <caption>\n",
      "     페이지 네비게이션\n",
      "    </caption>\n",
      "    <tr>\n",
      "     <td class=\"on\">\n",
      "      <a href=\"/sise/sise_index_day.nhn?code=KPI200&amp;page=1\">\n",
      "       1\n",
      "      </a>\n",
      "     </td>\n",
      "     <td>\n",
      "      <a href=\"/sise/sise_index_day.nhn?code=KPI200&amp;page=2\">\n",
      "       2\n",
      "      </a>\n",
      "     </td>\n",
      "     <td>\n",
      "      <a href=\"/sise/sise_index_day.nhn?code=KPI200&amp;page=3\">\n",
      "       3\n",
      "      </a>\n",
      "     </td>\n",
      "     <td>\n",
      "      <a href=\"/sise/sise_index_day.nhn?code=KPI200&amp;page=4\">\n",
      "       4\n",
      "      </a>\n",
      "     </td>\n",
      "     <td>\n",
      "      <a href=\"/sise/sise_index_day.nhn?code=KPI200&amp;page=5\">\n",
      "       5\n",
      "      </a>\n",
      "     </td>\n",
      "     <td>\n",
      "      <a href=\"/sise/sise_index_day.nhn?code=KPI200&amp;page=6\">\n",
      "       6\n",
      "      </a>\n",
      "     </td>\n",
      "     <td>\n",
      "      <a href=\"/sise/sise_index_day.nhn?code=KPI200&amp;page=7\">\n",
      "       7\n",
      "      </a>\n",
      "     </td>\n",
      "     <td>\n",
      "      <a href=\"/sise/sise_index_day.nhn?code=KPI200&amp;page=8\">\n",
      "       8\n",
      "      </a>\n",
      "     </td>\n",
      "     <td>\n",
      "      <a href=\"/sise/sise_index_day.nhn?code=KPI200&amp;page=9\">\n",
      "       9\n",
      "      </a>\n",
      "     </td>\n",
      "     <td>\n",
      "      <a href=\"/sise/sise_index_day.nhn?code=KPI200&amp;page=10\">\n",
      "       10\n",
      "      </a>\n",
      "     </td>\n",
      "     <td class=\"pgR\">\n",
      "      <a href=\"/sise/sise_index_day.nhn?code=KPI200&amp;page=11\">\n",
      "       다음\n",
      "       <img alt=\"\" border=\"0\" height=\"5\" src=\"https://ssl.pstatic.net/static/n/cmn/bu_pgarR.gif\" width=\"3\"/>\n",
      "      </a>\n",
      "     </td>\n",
      "     <td class=\"pgRR\">\n",
      "      <a href=\"/sise/sise_index_day.nhn?code=KPI200&amp;page=617\">\n",
      "       맨뒤\n",
      "       <img alt=\"\" border=\"0\" height=\"5\" src=\"https://ssl.pstatic.net/static/n/cmn/bu_pgarRR.gif\" width=\"8\"/>\n",
      "      </a>\n",
      "     </td>\n",
      "    </tr>\n",
      "   </table>\n",
      "   <!--- 페이지 네비게이션 끝--->\n",
      "  </div>\n",
      "  <!-- //일별시세 -->\n",
      "  <script type=\"text/javascript\">\n",
      "   ;(function(){\n",
      "        var eventType = \"onpageshow\" in window ? \"pageshow\" : \"load\";\n",
      "        jindo.$Fn(function(){\n",
      "            lcs_do();\n",
      "        }).attach(window, eventType);\n",
      "    })();\n",
      "  </script>\n",
      " </body>\n",
      "</html>\n"
     ]
    }
   ],
   "source": [
    "print(source.prettify())"
   ]
  },
  {
   "cell_type": "code",
   "execution_count": 5,
   "metadata": {},
   "outputs": [
    {
     "data": {
      "text/plain": [
       "54"
      ]
     },
     "execution_count": 5,
     "metadata": {},
     "output_type": "execute_result"
    }
   ],
   "source": [
    "# 필요한 자료는 '날짜'와 '체결가(=종가지수)'\n",
    "# 원하는 항목에 마우스 오른쪽 --> 검사\n",
    "# 우리가 필요한 데이터는 모두 <td> 태그에 들어있음을 확인\n",
    "td = source.find_all('td')\n",
    "len(td)"
   ]
  },
  {
   "cell_type": "code",
   "execution_count": 6,
   "metadata": {},
   "outputs": [
    {
     "data": {
      "text/plain": [
       "<td class=\"date\">2020.12.18</td>"
      ]
     },
     "execution_count": 6,
     "metadata": {},
     "output_type": "execute_result"
    }
   ],
   "source": [
    "# XPath (XML Path Language) 활용 --> 데이터를 대량으로 제공하는 사이트에서 원하는 데이터의 위치를 찾아낼 때 편리\n",
    "# Python -> 숫자를 0부터 셈 / XPath -> 숫자를 1부터 셈 ==> 1을 빼줘야함\n",
    "# /html/body/div/table[1]/tbody/tr[3]/td[1]\n",
    "source.find_all('table')[0].find_all('tr')[2].find_all('td')[0]"
   ]
  },
  {
   "cell_type": "code",
   "execution_count": 7,
   "metadata": {},
   "outputs": [
    {
     "data": {
      "text/plain": [
       "'2020.12.18'"
      ]
     },
     "execution_count": 7,
     "metadata": {},
     "output_type": "execute_result"
    }
   ],
   "source": [
    "d = source.find_all('td', class_='date')[0].text\n",
    "d"
   ]
  },
  {
   "cell_type": "code",
   "execution_count": 8,
   "metadata": {},
   "outputs": [
    {
     "data": {
      "text/plain": [
       "datetime.date(2020, 12, 18)"
      ]
     },
     "execution_count": 8,
     "metadata": {},
     "output_type": "execute_result"
    }
   ],
   "source": [
    "# datetime 라이브러리 활용\n",
    "import datetime as dt\n",
    "yyyy = int(d.split('.')[0])\n",
    "mm = int(d.split('.')[1])\n",
    "dd = int(d.split('.')[2])\n",
    "this_date = dt.date(yyyy, mm, dd)\n",
    "this_date"
   ]
  },
  {
   "cell_type": "code",
   "execution_count": 9,
   "metadata": {},
   "outputs": [],
   "source": [
    "# 함수화\n",
    "def date_format(d):\n",
    "    d = str(d).replace('-','.') # 날짜 구분자가 '-'로 되어있을 때 '.'으로 변환\n",
    "    yyyy = int(d.split('.')[0])\n",
    "    mm = int(d.split('.')[1])\n",
    "    dd = int(d.split('.')[2])\n",
    "    \n",
    "    this_date = dt.date(yyyy, mm, dd)\n",
    "    return this_date"
   ]
  },
  {
   "cell_type": "markdown",
   "metadata": {},
   "source": [
    "----"
   ]
  },
  {
   "cell_type": "code",
   "execution_count": 10,
   "metadata": {},
   "outputs": [
    {
     "data": {
      "text/plain": [
       "371.09"
      ]
     },
     "execution_count": 10,
     "metadata": {},
     "output_type": "execute_result"
    }
   ],
   "source": [
    "# 지수 가져오기\n",
    "# XPath -> /html/body/div/table[1]/tbody/tr[3]/td[2]\n",
    "this_close = source.find_all('tr')[2].find_all('td')[1].text\n",
    "this_close = this_close.replace(',','') # 쉼표 제거\n",
    "this_close = float(this_close)\n",
    "this_close"
   ]
  },
  {
   "cell_type": "code",
   "execution_count": 11,
   "metadata": {},
   "outputs": [
    {
     "data": {
      "text/plain": [
       "'371.09'"
      ]
     },
     "execution_count": 11,
     "metadata": {},
     "output_type": "execute_result"
    }
   ],
   "source": [
    "p = source.find_all('td', class_ = 'number_1')[0].text\n",
    "p"
   ]
  },
  {
   "cell_type": "code",
   "execution_count": 12,
   "metadata": {},
   "outputs": [],
   "source": [
    "dates = source.find_all('td', class_='date')\n",
    "prices = source.find_all('td', class_='number_1')"
   ]
  },
  {
   "cell_type": "code",
   "execution_count": 13,
   "metadata": {},
   "outputs": [
    {
     "data": {
      "text/plain": [
       "6"
      ]
     },
     "execution_count": 13,
     "metadata": {},
     "output_type": "execute_result"
    }
   ],
   "source": [
    "len(dates)"
   ]
  },
  {
   "cell_type": "code",
   "execution_count": 14,
   "metadata": {},
   "outputs": [
    {
     "data": {
      "text/plain": [
       "24"
      ]
     },
     "execution_count": 14,
     "metadata": {},
     "output_type": "execute_result"
    }
   ],
   "source": [
    "len(prices) # 체결가, 등략률, 거래량, 거래대금 => 4X6 ==> 첫 번째 값만 필요 (0,4,8...추출)"
   ]
  },
  {
   "cell_type": "code",
   "execution_count": 15,
   "metadata": {},
   "outputs": [
    {
     "name": "stdout",
     "output_type": "stream",
     "text": [
      "2020-12-18 371.09\n",
      "2020-12-17 372.0\n",
      "2020-12-16 372.53\n",
      "2020-12-15 370.88\n",
      "2020-12-14 371.56\n",
      "2020-12-11 372.24\n"
     ]
    }
   ],
   "source": [
    "for n in range(len(dates)):\n",
    "    this_date = dates[n].text\n",
    "    this_date = date_format(this_date)\n",
    "    \n",
    "    this_close = prices[n*4].text # 0,4,8...\n",
    "    this_close = this_close.replace(',','')\n",
    "    this_close = float(this_close)\n",
    "    this_close\n",
    "    \n",
    "    print(this_date, this_close)"
   ]
  },
  {
   "cell_type": "code",
   "execution_count": 16,
   "metadata": {},
   "outputs": [
    {
     "data": {
      "text/plain": [
       "'/sise/sise_index_day.nhn?code=KPI200&page=617'"
      ]
     },
     "execution_count": 16,
     "metadata": {},
     "output_type": "execute_result"
    }
   ],
   "source": [
    "# 페이지 내비게이션\n",
    "# '맨뒤' 검사\n",
    "paging = source.find('td', class_ = 'pgRR').find('a')['href']\n",
    "paging"
   ]
  },
  {
   "cell_type": "code",
   "execution_count": 17,
   "metadata": {},
   "outputs": [
    {
     "data": {
      "text/plain": [
       "'page=617'"
      ]
     },
     "execution_count": 17,
     "metadata": {},
     "output_type": "execute_result"
    }
   ],
   "source": [
    "# 페이지 번호만 추출\n",
    "paging = paging.split('&')[1]\n",
    "paging"
   ]
  },
  {
   "cell_type": "code",
   "execution_count": 18,
   "metadata": {},
   "outputs": [
    {
     "data": {
      "text/plain": [
       "'617'"
      ]
     },
     "execution_count": 18,
     "metadata": {},
     "output_type": "execute_result"
    }
   ],
   "source": [
    "paging = paging.split('=')[1]\n",
    "paging"
   ]
  },
  {
   "cell_type": "code",
   "execution_count": 19,
   "metadata": {},
   "outputs": [],
   "source": [
    "# 페이지번호를 숫자 형식으로 변환\n",
    "last_page = source.find('td', class_='pgRR').find('a')[\"href\"]\n",
    "last_page = last_page.split('&')[1]\n",
    "last_page = last_page.split('=')[1]\n",
    "last_page = int(last_page)"
   ]
  },
  {
   "cell_type": "markdown",
   "metadata": {},
   "source": [
    "#### 데이터 추출 기능의 함수화"
   ]
  },
  {
   "cell_type": "code",
   "execution_count": 20,
   "metadata": {},
   "outputs": [],
   "source": [
    "def historical_index_naver(index_cd, start_date='', end_date='', page_n=1, last_page=0):\n",
    "    \n",
    "    if start_date:   \n",
    "        start_date = date_format(start_date)   \n",
    "    else:    \n",
    "        start_date = dt.date.today() \n",
    "    if end_date:   \n",
    "        end_date = date_format(end_date)   \n",
    "    else:   \n",
    "        end_date = dt.date.today()  \n",
    "        \n",
    "        \n",
    "    naver_index = \\\n",
    "    'http://finance.naver.com/sise/sise_index_day.nhn?code=' \\\n",
    "    + index_cd + '&page=' + str(page_n)\n",
    "    \n",
    "    # 지정한 페이지에서 코드 읽기\n",
    "    source = urlopen(naver_index).read()\n",
    "    # 뷰티풀 스프로 태그별로 코드 분류\n",
    "    source = BeautifulSoup(source, 'lxml')   \n",
    "    \n",
    "    # <td class=\"date\">태그에서 날짜 수집   \n",
    "    dates = source.find_all('td', class_='date')  \n",
    "    # <td class=\"number_1\">태그에서 지수 수집\n",
    "    prices = source.find_all('td', class_='number_1')  \n",
    "    \n",
    "    for n in range(len(dates)):\n",
    "    \n",
    "        if dates[n].text.split('.')[0].isdigit():\n",
    "            \n",
    "            # 날짜 처리\n",
    "            this_date = dates[n].text\n",
    "            this_date= date_format(this_date)\n",
    "            \n",
    "            if this_date <= end_date and this_date >= start_date:   \n",
    "            # start_date와 end_date 사이에서 데이터 저장\n",
    "                # 종가 처리\n",
    "                this_close = prices[n*4].text   # 0,4,8...\n",
    "                this_close = this_close.replace(',', '')\n",
    "                this_close = float(this_close)\n",
    "\n",
    "                # 딕셔너리에 저장\n",
    "                historical_prices[this_date] = this_close\n",
    "                \n",
    "            elif this_date < start_date:   \n",
    "            # start_date 이전이면 함수 종료\n",
    "                return historical_prices              \n",
    "            \n",
    "    # 페이지 네비게이션\n",
    "    if last_page == 0:\n",
    "        last_page = source.find('td', class_='pgRR').find('a')['href']\n",
    "        # 마지막페이지 주소 추출\n",
    "        last_page = last_page.split('&')[1]\n",
    "        last_page = last_page.split('=')[1]\n",
    "        last_page = int(last_page) \n",
    "        \n",
    "    # 다음 페이지 호출\n",
    "    if page_n < last_page:   \n",
    "        page_n = page_n + 1   \n",
    "        historical_index_naver(index_cd, start_date, end_date, page_n, last_page)   \n",
    "        \n",
    "    return historical_prices"
   ]
  },
  {
   "cell_type": "code",
   "execution_count": 21,
   "metadata": {},
   "outputs": [
    {
     "data": {
      "text/plain": [
       "{datetime.date(2020, 12, 17): 372.0,\n",
       " datetime.date(2020, 12, 16): 372.53,\n",
       " datetime.date(2020, 12, 15): 370.88,\n",
       " datetime.date(2020, 12, 14): 371.56,\n",
       " datetime.date(2020, 12, 11): 372.24,\n",
       " datetime.date(2020, 12, 10): 369.37,\n",
       " datetime.date(2020, 12, 9): 371.47,\n",
       " datetime.date(2020, 12, 8): 363.45,\n",
       " datetime.date(2020, 12, 7): 369.86,\n",
       " datetime.date(2020, 12, 4): 367.63,\n",
       " datetime.date(2020, 12, 3): 361.66,\n",
       " datetime.date(2020, 12, 2): 358.66,\n",
       " datetime.date(2020, 12, 1): 352.4}"
      ]
     },
     "execution_count": 21,
     "metadata": {},
     "output_type": "execute_result"
    }
   ],
   "source": [
    "# 실행\n",
    "# KOSPI200\n",
    "index_cd = 'KPI200'\n",
    "historical_prices = dict()\n",
    "\n",
    "historical_index_naver(index_cd, '2020-12-01', '2020-12-17')\n",
    "historical_prices"
   ]
  }
 ],
 "metadata": {
  "kernelspec": {
   "display_name": "Python 3",
   "language": "python",
   "name": "python3"
  },
  "language_info": {
   "codemirror_mode": {
    "name": "ipython",
    "version": 3
   },
   "file_extension": ".py",
   "mimetype": "text/x-python",
   "name": "python",
   "nbconvert_exporter": "python",
   "pygments_lexer": "ipython3",
   "version": "3.8.3"
  }
 },
 "nbformat": 4,
 "nbformat_minor": 4
}
