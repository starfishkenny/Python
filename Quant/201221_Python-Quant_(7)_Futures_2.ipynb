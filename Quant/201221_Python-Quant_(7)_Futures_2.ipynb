{
 "cells": [
  {
   "cell_type": "markdown",
   "metadata": {},
   "source": [
    "### 금융공학 모델링 실습\n",
    "#### KOSPI200 선물 이론가 산출"
   ]
  },
  {
   "cell_type": "code",
   "execution_count": 2,
   "metadata": {},
   "outputs": [],
   "source": [
    "import pandas as pd\n",
    "import numpy as np"
   ]
  },
  {
   "cell_type": "code",
   "execution_count": 8,
   "metadata": {},
   "outputs": [
    {
     "data": {
      "text/html": [
       "<div>\n",
       "<style scoped>\n",
       "    .dataframe tbody tr th:only-of-type {\n",
       "        vertical-align: middle;\n",
       "    }\n",
       "\n",
       "    .dataframe tbody tr th {\n",
       "        vertical-align: top;\n",
       "    }\n",
       "\n",
       "    .dataframe thead th {\n",
       "        text-align: right;\n",
       "    }\n",
       "</style>\n",
       "<table border=\"1\" class=\"dataframe\">\n",
       "  <thead>\n",
       "    <tr style=\"text-align: right;\">\n",
       "      <th></th>\n",
       "      <th>선물가격</th>\n",
       "      <th>지수</th>\n",
       "    </tr>\n",
       "    <tr>\n",
       "      <th>일자</th>\n",
       "      <th></th>\n",
       "      <th></th>\n",
       "    </tr>\n",
       "  </thead>\n",
       "  <tbody>\n",
       "    <tr>\n",
       "      <th>2017/09/01</th>\n",
       "      <td>308.40</td>\n",
       "      <td>307.78</td>\n",
       "    </tr>\n",
       "    <tr>\n",
       "      <th>2017/09/04</th>\n",
       "      <td>305.60</td>\n",
       "      <td>304.19</td>\n",
       "    </tr>\n",
       "    <tr>\n",
       "      <th>2017/09/05</th>\n",
       "      <td>304.85</td>\n",
       "      <td>304.06</td>\n",
       "    </tr>\n",
       "    <tr>\n",
       "      <th>2017/09/06</th>\n",
       "      <td>304.30</td>\n",
       "      <td>303.18</td>\n",
       "    </tr>\n",
       "    <tr>\n",
       "      <th>2017/09/07</th>\n",
       "      <td>308.10</td>\n",
       "      <td>306.97</td>\n",
       "    </tr>\n",
       "  </tbody>\n",
       "</table>\n",
       "</div>"
      ],
      "text/plain": [
       "              선물가격      지수\n",
       "일자                        \n",
       "2017/09/01  308.40  307.78\n",
       "2017/09/04  305.60  304.19\n",
       "2017/09/05  304.85  304.06\n",
       "2017/09/06  304.30  303.18\n",
       "2017/09/07  308.10  306.97"
      ]
     },
     "execution_count": 8,
     "metadata": {},
     "output_type": "execute_result"
    }
   ],
   "source": [
    "# pd.read_excel(엑셀 파일명, 시트명, index_col=칼럼명)\n",
    "# 시트명 생략가능, 생략하면 1번 시트 / 칼럼명 생략가능, 생략하면 0,1,2..로 인덱싱\n",
    "# 엑셀파일이 파이썬 노트북 파일과 다른 폴더에 있다면 경로명 붙이기\n",
    "df = pd.read_excel('C:/Users/starfish/Desktop/파이썬-금융공학/09.2 KOSPI200 F 201712.xlsx', index_col = '일자')\n",
    "df.head()"
   ]
  },
  {
   "cell_type": "code",
   "execution_count": 13,
   "metadata": {},
   "outputs": [
    {
     "data": {
      "text/html": [
       "<div>\n",
       "<style scoped>\n",
       "    .dataframe tbody tr th:only-of-type {\n",
       "        vertical-align: middle;\n",
       "    }\n",
       "\n",
       "    .dataframe tbody tr th {\n",
       "        vertical-align: top;\n",
       "    }\n",
       "\n",
       "    .dataframe thead th {\n",
       "        text-align: right;\n",
       "    }\n",
       "</style>\n",
       "<table border=\"1\" class=\"dataframe\">\n",
       "  <thead>\n",
       "    <tr style=\"text-align: right;\">\n",
       "      <th></th>\n",
       "      <th>선물가격</th>\n",
       "      <th>지수</th>\n",
       "    </tr>\n",
       "    <tr>\n",
       "      <th>일자</th>\n",
       "      <th></th>\n",
       "      <th></th>\n",
       "    </tr>\n",
       "  </thead>\n",
       "  <tbody>\n",
       "    <tr>\n",
       "      <th>2017-12-08</th>\n",
       "      <td>324.75</td>\n",
       "      <td>324.68</td>\n",
       "    </tr>\n",
       "    <tr>\n",
       "      <th>2017-12-11</th>\n",
       "      <td>324.85</td>\n",
       "      <td>325.09</td>\n",
       "    </tr>\n",
       "    <tr>\n",
       "      <th>2017-12-12</th>\n",
       "      <td>323.80</td>\n",
       "      <td>324.07</td>\n",
       "    </tr>\n",
       "    <tr>\n",
       "      <th>2017-12-13</th>\n",
       "      <td>326.20</td>\n",
       "      <td>326.18</td>\n",
       "    </tr>\n",
       "    <tr>\n",
       "      <th>2017-12-14</th>\n",
       "      <td>327.65</td>\n",
       "      <td>324.74</td>\n",
       "    </tr>\n",
       "  </tbody>\n",
       "</table>\n",
       "</div>"
      ],
      "text/plain": [
       "              선물가격      지수\n",
       "일자                        \n",
       "2017-12-08  324.75  324.68\n",
       "2017-12-11  324.85  325.09\n",
       "2017-12-12  323.80  324.07\n",
       "2017-12-13  326.20  326.18\n",
       "2017-12-14  327.65  324.74"
      ]
     },
     "execution_count": 13,
     "metadata": {},
     "output_type": "execute_result"
    }
   ],
   "source": [
    "df.tail()"
   ]
  },
  {
   "cell_type": "code",
   "execution_count": 9,
   "metadata": {},
   "outputs": [
    {
     "data": {
      "text/plain": [
       "pandas.core.indexes.base.Index"
      ]
     },
     "execution_count": 9,
     "metadata": {},
     "output_type": "execute_result"
    }
   ],
   "source": [
    "# 인덱스의 데이터 타입을 확인\n",
    "type(df.index)"
   ]
  },
  {
   "cell_type": "code",
   "execution_count": 10,
   "metadata": {},
   "outputs": [],
   "source": [
    "# 날짜 형식으로 바꿔줘야함\n",
    "df.index = pd.to_datetime(df.index)"
   ]
  },
  {
   "cell_type": "code",
   "execution_count": 11,
   "metadata": {},
   "outputs": [
    {
     "data": {
      "text/plain": [
       "pandas.core.indexes.datetimes.DatetimeIndex"
      ]
     },
     "execution_count": 11,
     "metadata": {},
     "output_type": "execute_result"
    }
   ],
   "source": [
    "type(df.index)"
   ]
  },
  {
   "cell_type": "markdown",
   "metadata": {},
   "source": [
    "##### 선물 이론가 산출\n",
    "  + 앞서 정리한 산출 이론가 공식을 활용 (연속복리이자율)\n",
    "  + 금융공학에서 1년을 보통 250일 정도로 계산, 여기서는 계산 편의를 위해 252일로 계산\n",
    "    - 잔존만기: (최종거래일-기준일)/252\n",
    "    - 이를 파이썬에서 계산하기 위해선 np.busday_count(날짜1,날짜2)를 활용함\n",
    "    - 결과적으로... __np.busday_count(t0.date(),T.date())/252__"
   ]
  },
  {
   "cell_type": "code",
   "execution_count": 12,
   "metadata": {},
   "outputs": [],
   "source": [
    "def futures_price(S, r, d ,T, t0):\n",
    "    t = np.busday_count(t0.date(),T.date()) / 252\n",
    "    F = S * np.exp((r-d)*t)\n",
    "    return F"
   ]
  },
  {
   "cell_type": "code",
   "execution_count": 15,
   "metadata": {},
   "outputs": [],
   "source": [
    "T = pd.to_datetime('2017-12-14') # 최종거래일\n",
    "r = 0.0225 # 이자율 = 2.25%\n",
    "d = 0.015 # 배당률 = 1.5%\n",
    "for n in (df.index):\n",
    "    t0 = n\n",
    "    S = df.loc[n,'지수']\n",
    "    F = futures_price(S, r, d ,T, t0)\n",
    "    f = '{:,.2f}'.format(F) # 이론가 숫자 포매팅\n",
    "    # = 정수부분은 천의 자리마다 쉼표 추가, 소수점 아래는 두 자리까지만 표시\n",
    "    df.loc[n,'이론가1'] = f # '이론가1' 칼럼에 값 추가"
   ]
  },
  {
   "cell_type": "markdown",
   "metadata": {},
   "source": [
    "##### 보급형 공식을 이용한 선물 이론가 계산\n",
    "  + 앞서 정리한 산출 이론가 공식을 활용 (단순 이자율)\n",
    "  + 이와 함께 1년 = 365일로 게산"
   ]
  },
  {
   "cell_type": "code",
   "execution_count": 16,
   "metadata": {},
   "outputs": [],
   "source": [
    "def S_futures_price(S, r, d ,T, t0):\n",
    "    t = (T-t0).days / 365 # 잔존만기 계산 (주말까지 포함)\n",
    "    F = S * (1+(r-d)*t)\n",
    "    return F"
   ]
  },
  {
   "cell_type": "code",
   "execution_count": 17,
   "metadata": {},
   "outputs": [],
   "source": [
    "T = pd.to_datetime('2017-12-14')\n",
    "r = 0.0225\n",
    "d = 0.015\n",
    "for n in (df.index):\n",
    "    t0 = n\n",
    "    S = df.loc[n,'지수']\n",
    "    F = S_futures_price(S, r, d ,T, t0)\n",
    "    f = f = '{:,.2f}'.format(F)\n",
    "    df.loc[n,'이론가2'] = f"
   ]
  },
  {
   "cell_type": "code",
   "execution_count": 18,
   "metadata": {},
   "outputs": [
    {
     "data": {
      "text/html": [
       "<div>\n",
       "<style scoped>\n",
       "    .dataframe tbody tr th:only-of-type {\n",
       "        vertical-align: middle;\n",
       "    }\n",
       "\n",
       "    .dataframe tbody tr th {\n",
       "        vertical-align: top;\n",
       "    }\n",
       "\n",
       "    .dataframe thead th {\n",
       "        text-align: right;\n",
       "    }\n",
       "</style>\n",
       "<table border=\"1\" class=\"dataframe\">\n",
       "  <thead>\n",
       "    <tr style=\"text-align: right;\">\n",
       "      <th></th>\n",
       "      <th>선물가격</th>\n",
       "      <th>지수</th>\n",
       "      <th>이론가1</th>\n",
       "      <th>이론가2</th>\n",
       "    </tr>\n",
       "    <tr>\n",
       "      <th>일자</th>\n",
       "      <th></th>\n",
       "      <th></th>\n",
       "      <th></th>\n",
       "      <th></th>\n",
       "    </tr>\n",
       "  </thead>\n",
       "  <tbody>\n",
       "    <tr>\n",
       "      <th>2017-09-01</th>\n",
       "      <td>308.40</td>\n",
       "      <td>307.78</td>\n",
       "      <td>308.46</td>\n",
       "      <td>308.44</td>\n",
       "    </tr>\n",
       "    <tr>\n",
       "      <th>2017-09-04</th>\n",
       "      <td>305.60</td>\n",
       "      <td>304.19</td>\n",
       "      <td>304.85</td>\n",
       "      <td>304.82</td>\n",
       "    </tr>\n",
       "    <tr>\n",
       "      <th>2017-09-05</th>\n",
       "      <td>304.85</td>\n",
       "      <td>304.06</td>\n",
       "      <td>304.71</td>\n",
       "      <td>304.68</td>\n",
       "    </tr>\n",
       "    <tr>\n",
       "      <th>2017-09-06</th>\n",
       "      <td>304.30</td>\n",
       "      <td>303.18</td>\n",
       "      <td>303.82</td>\n",
       "      <td>303.80</td>\n",
       "    </tr>\n",
       "    <tr>\n",
       "      <th>2017-09-07</th>\n",
       "      <td>308.10</td>\n",
       "      <td>306.97</td>\n",
       "      <td>307.61</td>\n",
       "      <td>307.59</td>\n",
       "    </tr>\n",
       "  </tbody>\n",
       "</table>\n",
       "</div>"
      ],
      "text/plain": [
       "              선물가격      지수    이론가1    이론가2\n",
       "일자                                        \n",
       "2017-09-01  308.40  307.78  308.46  308.44\n",
       "2017-09-04  305.60  304.19  304.85  304.82\n",
       "2017-09-05  304.85  304.06  304.71  304.68\n",
       "2017-09-06  304.30  303.18  303.82  303.80\n",
       "2017-09-07  308.10  306.97  307.61  307.59"
      ]
     },
     "execution_count": 18,
     "metadata": {},
     "output_type": "execute_result"
    }
   ],
   "source": [
    "df.head()"
   ]
  }
 ],
 "metadata": {
  "kernelspec": {
   "display_name": "Python 3",
   "language": "python",
   "name": "python3"
  },
  "language_info": {
   "codemirror_mode": {
    "name": "ipython",
    "version": 3
   },
   "file_extension": ".py",
   "mimetype": "text/x-python",
   "name": "python",
   "nbconvert_exporter": "python",
   "pygments_lexer": "ipython3",
   "version": "3.8.3"
  }
 },
 "nbformat": 4,
 "nbformat_minor": 4
}
