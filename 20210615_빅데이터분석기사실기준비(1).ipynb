{
 "cells": [
  {
   "cell_type": "markdown",
   "id": "overall-variable",
   "metadata": {},
   "source": [
    "### 빅데이터분석기사 실기 준비\n",
    "#### KOOC 컨텐츠를 활용한 시험 준비 계획\n",
    "*  파이썬으로 배우는 프로그래밍 기초 (김문주 교수님)\n",
    "*  인공지능 코딩을 위한 실용 파이썬 (권영선 교수님)\n",
    "*  뭔가 이번 시험은 맛보기로 봐야할 듯,,, "
   ]
  },
  {
   "cell_type": "code",
   "execution_count": null,
   "id": "whole-replica",
   "metadata": {},
   "outputs": [],
   "source": []
  }
 ],
 "metadata": {
  "kernelspec": {
   "display_name": "Python 3",
   "language": "python",
   "name": "python3"
  },
  "language_info": {
   "codemirror_mode": {
    "name": "ipython",
    "version": 3
   },
   "file_extension": ".py",
   "mimetype": "text/x-python",
   "name": "python",
   "nbconvert_exporter": "python",
   "pygments_lexer": "ipython3",
   "version": "3.8.8"
  }
 },
 "nbformat": 4,
 "nbformat_minor": 5
}
