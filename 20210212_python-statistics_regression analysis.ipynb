{
 "cells": [
  {
   "cell_type": "markdown",
   "metadata": {},
   "source": [
    "## 12. 회귀분석\n",
    "### - 단순회귀모형\n",
    "### - 중회귀모형\n",
    "### - 모형의 선택\n",
    "### - 모형의 타당성"
   ]
  },
  {
   "cell_type": "markdown",
   "metadata": {},
   "source": [
    "* 회귀분석에 의해 변수 사이의 인과관계가 명확해지고 한 변수가 다른 변수에 끼치는 영향을 추정할 수 있음\n",
    "* 모형 $\\rightarrow$ 현실 세계에서 발생하는 복잡한 현상의 특징을 잘 포착하여 단순화한 것\n",
    "* 회귀분석의 목적 $\\rightarrow$ 복잡한 현상을 사람이 이해할 수 있을 정도의 간단한 구조로 충분히 설명할 수 있는 모형을 찾는 것이 목적"
   ]
  },
  {
   "cell_type": "code",
   "execution_count": 1,
   "metadata": {},
   "outputs": [],
   "source": [
    "# 기존에 사용했던 라이브러리에 statsmodels를 추가\n",
    "import numpy as np\n",
    "import pandas as pd\n",
    "import matplotlib.pyplot as plt\n",
    "from scipy import stats\n",
    "import statsmodels.formula.api as smf\n",
    "\n",
    "%precision 3\n",
    "%matplotlib inline"
   ]
  },
  {
   "cell_type": "code",
   "execution_count": 2,
   "metadata": {},
   "outputs": [
    {
     "name": "stdout",
     "output_type": "stream",
     "text": [
      "20\n"
     ]
    },
    {
     "data": {
      "text/html": [
       "<div>\n",
       "<style scoped>\n",
       "    .dataframe tbody tr th:only-of-type {\n",
       "        vertical-align: middle;\n",
       "    }\n",
       "\n",
       "    .dataframe tbody tr th {\n",
       "        vertical-align: top;\n",
       "    }\n",
       "\n",
       "    .dataframe thead th {\n",
       "        text-align: right;\n",
       "    }\n",
       "</style>\n",
       "<table border=\"1\" class=\"dataframe\">\n",
       "  <thead>\n",
       "    <tr style=\"text-align: right;\">\n",
       "      <th></th>\n",
       "      <th>quiz</th>\n",
       "      <th>final_test</th>\n",
       "      <th>sleep_time</th>\n",
       "      <th>school_method</th>\n",
       "    </tr>\n",
       "  </thead>\n",
       "  <tbody>\n",
       "    <tr>\n",
       "      <th>0</th>\n",
       "      <td>4.2</td>\n",
       "      <td>67</td>\n",
       "      <td>7.2</td>\n",
       "      <td>bus</td>\n",
       "    </tr>\n",
       "    <tr>\n",
       "      <th>1</th>\n",
       "      <td>7.2</td>\n",
       "      <td>71</td>\n",
       "      <td>7.9</td>\n",
       "      <td>bicycle</td>\n",
       "    </tr>\n",
       "    <tr>\n",
       "      <th>2</th>\n",
       "      <td>0.0</td>\n",
       "      <td>19</td>\n",
       "      <td>5.3</td>\n",
       "      <td>bus</td>\n",
       "    </tr>\n",
       "    <tr>\n",
       "      <th>3</th>\n",
       "      <td>3.0</td>\n",
       "      <td>35</td>\n",
       "      <td>6.8</td>\n",
       "      <td>walk</td>\n",
       "    </tr>\n",
       "    <tr>\n",
       "      <th>4</th>\n",
       "      <td>1.5</td>\n",
       "      <td>35</td>\n",
       "      <td>7.5</td>\n",
       "      <td>walk</td>\n",
       "    </tr>\n",
       "  </tbody>\n",
       "</table>\n",
       "</div>"
      ],
      "text/plain": [
       "   quiz  final_test  sleep_time school_method\n",
       "0   4.2          67         7.2           bus\n",
       "1   7.2          71         7.9       bicycle\n",
       "2   0.0          19         5.3           bus\n",
       "3   3.0          35         6.8          walk\n",
       "4   1.5          35         7.5          walk"
      ]
     },
     "execution_count": 2,
     "metadata": {},
     "output_type": "execute_result"
    }
   ],
   "source": [
    "# 시용할 데이터 불러오기\n",
    "df = pd.read_csv(r'E:\\jupyter\\누구나 파이썬 통계분석\\ch12_scores_reg.csv')\n",
    "n = len(df)\n",
    "print(n)\n",
    "df.head()"
   ]
  },
  {
   "cell_type": "markdown",
   "metadata": {},
   "source": [
    "#### 1. 단순회귀모형\n",
    "* 회귀분석(regression analysis) $\\rightarrow$ 인과관계가 의심되는 복수의 변수를 사용하여 어느 변수로부터 다른 변수의 값을 예측하는 기법\n",
    "  - 원인이 되는 변수 $\\rightarrow$ 설명변수(explanatory variable) (= 독립변수; independent variable)\n",
    "  - 결과가 되는 변수 $\\rightarrow$ 반응변수(response variable) (= 종속변수; dependent variable)\n",
    "* 단순회귀모형(simple regression model) $\\rightarrow$ 설명변수와 반응변수가 1개씩인 가장 단순한 모델\n",
    "* 회귀분석에서의 가설\n",
    "  - $y = {\\beta_0} + {\\beta_1{x}}$를 가정\n",
    "  - 그러나 데이터는 직선과 완전히 일치하지는 않음\n",
    "  - 기본적인 관계는 직선상에 있다고 생각하고, 다른 요인에 관해서는 예측할 수 없는 확률적인 것이라고 생각\n",
    "  - 예측할 수 없는 부분을 오차항(error term)이라고 함 $\\rightarrow$ $\\epsilon_i$\n",
    "  - 다시... $Y_i = {\\beta_0} + {\\beta_1{x}} + \\epsilon_i$  $(i=1,2,\\dots,n)$\n",
    "  - 회귀분석에서는 추가적으로 두 가지를 가정\n",
    "    + 설명변수가 확률변수는 아니다\n",
    "    + $\\epsilon_i$는 서로 독립이고 $N(0,\\sigma^2)$을 따른다\n",
    "  - 위 가정에 의해 확률변수 $Y_i$는 서로 독립이고 $N({\\beta_0} + {\\beta_1}{x_i}, \\sigma^2$을 따르는 것을 알 수 있음\n",
    "  - 회귀분석은 이러한 가정을 기초로 표본인 $(x_1,Y_1),(x_2,Y_2),\\dots,(x_n,Y_n)$으로부터 모수 $\\beta_0$과 $\\beta_1$을 추정함\n",
    "  - 회귀직선(regression line): $\\beta_0$과 $\\beta_1$의 추정값 $\\hat{\\beta_0}$과 $\\hat{\\beta_1}$에 의해 생성되는 직선 $\\rightarrow$ $y = \\hat{\\beta_0} + \\hat{\\beta_1}{x}$ \n",
    "  - $\\hat{\\beta_0}$과 $\\hat{\\beta_1}$은 회귀계수(regression coefficient)라고 함\n",
    "* statsmodels에 의한 회귀분석\n",
    "  - smf.ols 함수를 활용하여 설명변수와 반응변수의 관계를 나타낸 문자열과 DataFrame을 전달하고, 추가로 fit 메서드를 호출하여 실행할 수 있음\n",
    "    + OLS = 최소제곱법(Ordinary Least Squares)\n",
    "* 회귀계수\n",
    "  - 점추정\n",
    "  - 추정값이 생성한 직선 $y = \\hat{\\beta_0} + \\hat{\\beta_1}{x}$, 즉 회귀직선은 데이터 $(x_1,y_1),(x_2,y_2),\\dots,(x_n,y_n)$에 가장 잘 들어맞는 직선\n",
    "  - '데이터에 가장 잘 들어맞는 직선' $\\rightarrow$ $x_i$로부터 예측된 모형의 예측값(predicted value) $\\hat{y_i} = \\hat{\\beta_0} + \\hat{\\beta_1}x_i$와 실제의 데이터 $y_i$의 차이가 가장 작은 직선\n",
    "  - 엄밀하게는 $y_i - \\hat{y_i}$의 차이를 잔차(residual), 그 제곱합인 잔차제곱합(residual sum of squares; RSS) $\\sum_i^n{\\hat{\\epsilon^2}}$이 더욱 작은 직선으로서 정의\n",
    "  - 잔차제곱합을 최소화하는 $\\hat{\\beta_0}$과 $\\hat{\\beta_1}$을 구하는 방법을 최소제곱법이라고 함\n",
    "  - 최소제곱법으로 구한 $\\hat{\\beta_0}$과 $\\hat{\\beta_1}$은 $\\beta_0$과 $\\beta_1$의 불편일치추정량이 됨"
   ]
  },
  {
   "cell_type": "code",
   "execution_count": 3,
   "metadata": {},
   "outputs": [],
   "source": [
    "# 쪽지시험의 평균 점수: 설명변수, 기말고사 점수: 반응변수\n",
    "x = np.array(df['quiz'])\n",
    "y = np.array(df['final_test'])\n",
    "p = 1"
   ]
  },
  {
   "cell_type": "code",
   "execution_count": 4,
   "metadata": {},
   "outputs": [
    {
     "data": {
      "image/png": "[encoded data removed]",
      "text/plain": [
       "<Figure size 720x432 with 1 Axes>"
      ]
     },
     "metadata": {
      "needs_background": "light"
     },
     "output_type": "display_data"
    }
   ],
   "source": [
    "# 산점도와 회귀직선 그리기\n",
    "poly_fit = np.polyfit(x,y,1)\n",
    "poly_1d = np.poly1d(poly_fit)\n",
    "xs = np.linspace(x.min(), x.max())\n",
    "ys = poly_1d(xs)\n",
    "\n",
    "fig = plt.figure(figsize=(10,6))\n",
    "ax = fig.add_subplot(111)\n",
    "ax.set_xlabel('quiz')\n",
    "ax.set_ylabel('final test')\n",
    "ax.plot(xs, ys, color='gray', label=f'{poly_fit[1]:.2f}+{poly_fit[0]:.2f}x')\n",
    "ax.scatter(x,y)\n",
    "ax.legend()\n",
    "\n",
    "plt.show()"
   ]
  },
  {
   "cell_type": "code",
   "execution_count": 5,
   "metadata": {},
   "outputs": [
    {
     "data": {
      "text/html": [
       "<table class=\"simpletable\">\n",
       "<caption>OLS Regression Results</caption>\n",
       "<tr>\n",
       "  <th>Dep. Variable:</th>       <td>final_test</td>    <th>  R-squared:         </th> <td>   0.676</td>\n",
       "</tr>\n",
       "<tr>\n",
       "  <th>Model:</th>                   <td>OLS</td>       <th>  Adj. R-squared:    </th> <td>   0.658</td>\n",
       "</tr>\n",
       "<tr>\n",
       "  <th>Method:</th>             <td>Least Squares</td>  <th>  F-statistic:       </th> <td>   37.61</td>\n",
       "</tr>\n",
       "<tr>\n",
       "  <th>Date:</th>             <td>Sat, 13 Feb 2021</td> <th>  Prob (F-statistic):</th> <td>8.59e-06</td>\n",
       "</tr>\n",
       "<tr>\n",
       "  <th>Time:</th>                 <td>23:43:13</td>     <th>  Log-Likelihood:    </th> <td> -76.325</td>\n",
       "</tr>\n",
       "<tr>\n",
       "  <th>No. Observations:</th>      <td>    20</td>      <th>  AIC:               </th> <td>   156.7</td>\n",
       "</tr>\n",
       "<tr>\n",
       "  <th>Df Residuals:</th>          <td>    18</td>      <th>  BIC:               </th> <td>   158.6</td>\n",
       "</tr>\n",
       "<tr>\n",
       "  <th>Df Model:</th>              <td>     1</td>      <th>                     </th>     <td> </td>   \n",
       "</tr>\n",
       "<tr>\n",
       "  <th>Covariance Type:</th>      <td>nonrobust</td>    <th>                     </th>     <td> </td>   \n",
       "</tr>\n",
       "</table>\n",
       "<table class=\"simpletable\">\n",
       "<tr>\n",
       "      <td></td>         <th>coef</th>     <th>std err</th>      <th>t</th>      <th>P>|t|</th>  <th>[0.025</th>    <th>0.975]</th>  \n",
       "</tr>\n",
       "<tr>\n",
       "  <th>Intercept</th> <td>   23.6995</td> <td>    4.714</td> <td>    5.028</td> <td> 0.000</td> <td>   13.796</td> <td>   33.603</td>\n",
       "</tr>\n",
       "<tr>\n",
       "  <th>quiz</th>      <td>    6.5537</td> <td>    1.069</td> <td>    6.133</td> <td> 0.000</td> <td>    4.309</td> <td>    8.799</td>\n",
       "</tr>\n",
       "</table>\n",
       "<table class=\"simpletable\">\n",
       "<tr>\n",
       "  <th>Omnibus:</th>       <td> 2.139</td> <th>  Durbin-Watson:     </th> <td>   1.478</td>\n",
       "</tr>\n",
       "<tr>\n",
       "  <th>Prob(Omnibus):</th> <td> 0.343</td> <th>  Jarque-Bera (JB):  </th> <td>   1.773</td>\n",
       "</tr>\n",
       "<tr>\n",
       "  <th>Skew:</th>          <td> 0.670</td> <th>  Prob(JB):          </th> <td>   0.412</td>\n",
       "</tr>\n",
       "<tr>\n",
       "  <th>Kurtosis:</th>      <td> 2.422</td> <th>  Cond. No.          </th> <td>    8.32</td>\n",
       "</tr>\n",
       "</table><br/><br/>Notes:<br/>[1] Standard Errors assume that the covariance matrix of the errors is correctly specified."
      ],
      "text/plain": [
       "<class 'statsmodels.iolib.summary.Summary'>\n",
       "\"\"\"\n",
       "                            OLS Regression Results                            \n",
       "==============================================================================\n",
       "Dep. Variable:             final_test   R-squared:                       0.676\n",
       "Model:                            OLS   Adj. R-squared:                  0.658\n",
       "Method:                 Least Squares   F-statistic:                     37.61\n",
       "Date:                Sat, 13 Feb 2021   Prob (F-statistic):           8.59e-06\n",
       "Time:                        23:43:13   Log-Likelihood:                -76.325\n",
       "No. Observations:                  20   AIC:                             156.7\n",
       "Df Residuals:                      18   BIC:                             158.6\n",
       "Df Model:                           1                                         \n",
       "Covariance Type:            nonrobust                                         \n",
       "==============================================================================\n",
       "                 coef    std err          t      P>|t|      [0.025      0.975]\n",
       "------------------------------------------------------------------------------\n",
       "Intercept     23.6995      4.714      5.028      0.000      13.796      33.603\n",
       "quiz           6.5537      1.069      6.133      0.000       4.309       8.799\n",
       "==============================================================================\n",
       "Omnibus:                        2.139   Durbin-Watson:                   1.478\n",
       "Prob(Omnibus):                  0.343   Jarque-Bera (JB):                1.773\n",
       "Skew:                           0.670   Prob(JB):                        0.412\n",
       "Kurtosis:                       2.422   Cond. No.                         8.32\n",
       "==============================================================================\n",
       "\n",
       "Notes:\n",
       "[1] Standard Errors assume that the covariance matrix of the errors is correctly specified.\n",
       "\"\"\""
      ]
     },
     "execution_count": 5,
     "metadata": {},
     "output_type": "execute_result"
    }
   ],
   "source": [
    "# OLS\n",
    "formula = 'final_test ~ quiz'\n",
    "result = smf.ols(formula, df).fit()\n",
    "result.summary()"
   ]
  },
  {
   "cell_type": "markdown",
   "metadata": {},
   "source": [
    "* 각 행은 다음에 관한 분석 결과\n",
    "  - Intercept: 절편 $\\beta_0$\n",
    "  - quiz: 기울기 $\\beta_1$\n",
    "* 각 열은 다음을 나타냄\n",
    "  - coef: 회귀계수의 추정값\n",
    "  - std err: 추정값의 표준차\n",
    "  - t: 회귀계수에 관한 t검정통계량\n",
    "  - P>$\\left\\lvert{t}\\right\\rvert$: 검정통계량의 p값\n",
    "  - [0.025와 0.975]: 회귀계수의 95% 신뢰구간"
   ]
  },
  {
   "cell_type": "code",
   "execution_count": 6,
   "metadata": {},
   "outputs": [
    {
     "data": {
      "text/plain": [
       "array([[1. , 4.2],\n",
       "       [1. , 7.2],\n",
       "       [1. , 0. ],\n",
       "       [1. , 3. ],\n",
       "       [1. , 1.5],\n",
       "       [1. , 0.9],\n",
       "       [1. , 1.9],\n",
       "       [1. , 3.5],\n",
       "       [1. , 4. ],\n",
       "       [1. , 5.4],\n",
       "       [1. , 4.2],\n",
       "       [1. , 6.9],\n",
       "       [1. , 2. ],\n",
       "       [1. , 8.8],\n",
       "       [1. , 0.3],\n",
       "       [1. , 6.7],\n",
       "       [1. , 4.2],\n",
       "       [1. , 5.6],\n",
       "       [1. , 1.4],\n",
       "       [1. , 2. ]])"
      ]
     },
     "execution_count": 6,
     "metadata": {},
     "output_type": "execute_result"
    }
   ],
   "source": [
    "# 최소제곱법으로 추정량 구하기\n",
    "# 선형대수학이나 편미분에 관한 지식이 필요한 부분\n",
    "# 하지만 Numpy로 간단하게 구현\n",
    "X = np.array([np.ones_like(x),x]).T\n",
    "X"
   ]
  },
  {
   "cell_type": "code",
   "execution_count": 7,
   "metadata": {},
   "outputs": [
    {
     "name": "stderr",
     "output_type": "stream",
     "text": [
      "<ipython-input-7-5a011dc8d4d5>:4: FutureWarning: `rcond` parameter will change to the default of machine precision times ``max(M, N)`` where M and N are the input matrix dimensions.\n",
      "To use the future default and silence this warning we advise to pass `rcond=None`, to keep using the old, explicitly pass `rcond=-1`.\n",
      "  beta0_hat, beta1_hat = np.linalg.lstsq(X,y)[0]\n"
     ]
    },
    {
     "data": {
      "text/plain": [
       "(23.699495346731226, 6.553732606043085)"
      ]
     },
     "execution_count": 7,
     "metadata": {},
     "output_type": "execute_result"
    }
   ],
   "source": [
    "# 최소제곱법 -> np.linalg.lstsq\n",
    "# 첫 번째 인수가 설명변수인 X, 두 번째 인수가 반응변수인 y\n",
    "# 첫 번째 반환값이 구하려는 추정량\n",
    "beta0_hat, beta1_hat = np.linalg.lstsq(X,y)[0]\n",
    "beta0_hat, beta1_hat"
   ]
  },
  {
   "cell_type": "code",
   "execution_count": 8,
   "metadata": {},
   "outputs": [],
   "source": [
    "y_hat = beta0_hat + beta1_hat * x\n",
    "eps_hat = y - y_hat"
   ]
  },
  {
   "cell_type": "markdown",
   "metadata": {},
   "source": [
    "#### 2.중회귀모형"
   ]
  },
  {
   "cell_type": "markdown",
   "metadata": {},
   "source": [
    "#### 3. 모형의 선택"
   ]
  },
  {
   "cell_type": "markdown",
   "metadata": {},
   "source": [
    "#### 4. 모형의 타당성"
   ]
  }
 ],
 "metadata": {
  "kernelspec": {
   "display_name": "Python 3",
   "language": "python",
   "name": "python3"
  },
  "language_info": {
   "codemirror_mode": {
    "name": "ipython",
    "version": 3
   },
   "file_extension": ".py",
   "mimetype": "text/x-python",
   "name": "python",
   "nbconvert_exporter": "python",
   "pygments_lexer": "ipython3",
   "version": "3.8.5"
  }
 },
 "nbformat": 4,
 "nbformat_minor": 4
}
