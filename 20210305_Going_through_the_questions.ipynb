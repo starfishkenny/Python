{
 "cells": [
  {
   "cell_type": "markdown",
   "metadata": {},
   "source": [
    "### 기출문제 따라하기"
   ]
  },
  {
   "cell_type": "markdown",
   "metadata": {},
   "source": [
    "#### 티셔츠 주문 수량 구하는 함수 작성하기\n",
    "* 문제 분석\n",
    "* 필요한 기능(문법)적 요소 추리기\n",
    "* 코드 작성"
   ]
  },
  {
   "cell_type": "code",
   "execution_count": null,
   "metadata": {},
   "outputs": [],
   "source": [
    "# 매개변수 이해\n",
    "'''\n",
    "def solution(shirt_size):\n",
    "    answer = []\n",
    "    return answer\n",
    "'''\n",
    "\n",
    "'''\n",
    "shirt_size = ['XS','S','M','L','XL','XXL']\n",
    "solution(shirt_size)\n",
    "'''\n",
    "\n",
    "'''\n",
    "for size in shirt_size:\n",
    "    if size == 'XS':\n",
    "        count_of_xs +=1\n",
    "'''"
   ]
  },
  {
   "cell_type": "code",
   "execution_count": null,
   "metadata": {},
   "outputs": [],
   "source": [
    "# 반환의 이해\n",
    "'''\n",
    "def solution(shirt_size):\n",
    "answer = []\n",
    "answer.append(요소)\n",
    "return answer\n",
    "'''\n",
    "\n",
    "# \"가장 작은 사이즈부터 순서대로 리스트에 담아라\"\n",
    "# answer[0] -> XS개수, ... answer[5] -> XXL개수"
   ]
  },
  {
   "cell_type": "code",
   "execution_count": 1,
   "metadata": {},
   "outputs": [],
   "source": [
    "# 코드 작성\n",
    "# 길이 6인 정수 리스트 생성\n",
    "answer = [0,0,0,0,0,0]\n",
    "# answer = [0 for _ in range(6)]도 가능"
   ]
  },
  {
   "cell_type": "code",
   "execution_count": 2,
   "metadata": {},
   "outputs": [],
   "source": [
    "# for과 range함수 활용하여 표현\n",
    "answer = []\n",
    "for _ in range(6): # _ 은 for 실행에서 별도의 변수를 사용하지 않느다는 표현\n",
    "    answer.append(0)\n",
    "    \n",
    "# [i for i in range(6)]로 작성하면...\n",
    "# [0,0,0,0,0,0]가 아닌 [0,1,2,3,4,5]로 생성됨"
   ]
  },
  {
   "cell_type": "code",
   "execution_count": 3,
   "metadata": {},
   "outputs": [
    {
     "ename": "SyntaxError",
     "evalue": "EOF while scanning triple-quoted string literal (<ipython-input-3-f48e427384e2>, line 7)",
     "output_type": "error",
     "traceback": [
      "\u001b[1;36m  File \u001b[1;32m\"<ipython-input-3-f48e427384e2>\"\u001b[1;36m, line \u001b[1;32m7\u001b[0m\n\u001b[1;33m    return answer\u001b[0m\n\u001b[1;37m                 \n^\u001b[0m\n\u001b[1;31mSyntaxError\u001b[0m\u001b[1;31m:\u001b[0m EOF while scanning triple-quoted string literal\n"
     ]
    }
   ],
   "source": [
    "'''\n",
    "def solution(shirt_size):\n",
    "    answer = [0 for _ in range(6)]\n",
    "    for size in shirt_size:\n",
    "        if size == \"XS\":\n",
    "            answer[0] += 1 # 가장 작은 사이즈의 개수를 answer[0]에 추가\n",
    "    return answer\n",
    "'''"
   ]
  },
  {
   "cell_type": "code",
   "execution_count": 6,
   "metadata": {},
   "outputs": [],
   "source": [
    "# 정답코드\n",
    "\n",
    "shirt_size = [\"XS\",\"S\",\"XXL\",\"L\",\"L\",\"XS\",\"XL\"]\n",
    "\n",
    "def solution(shirt_size):\n",
    "    size_counter = [0 for _ in range(6)]\n",
    "    for ss in shirt_size:\n",
    "        if ss == \"XS\":\n",
    "            size_counter[0] += 1\n",
    "        elif ss == \"S\":\n",
    "            size_counter[1] += 1\n",
    "        elif ss == \"M\":\n",
    "            size_counter[2] += 1\n",
    "        elif ss == \"L\":\n",
    "            size_counter[3] += 1\n",
    "        elif ss == \"XL\":\n",
    "            size_counter[4] += 1\n",
    "        elif ss == \"XXL\":\n",
    "            size_counter[5] += 1\n",
    "    return size_counter"
   ]
  },
  {
   "cell_type": "code",
   "execution_count": 7,
   "metadata": {},
   "outputs": [
    {
     "data": {
      "text/plain": [
       "[2, 1, 0, 2, 1, 1]"
      ]
     },
     "execution_count": 7,
     "metadata": {},
     "output_type": "execute_result"
    }
   ],
   "source": [
    "solution(shirt_size)"
   ]
  },
  {
   "cell_type": "markdown",
   "metadata": {},
   "source": [
    "#### 상품 구매 금액을 구하는 함수 완성하기"
   ]
  },
  {
   "cell_type": "code",
   "execution_count": null,
   "metadata": {},
   "outputs": [],
   "source": []
  }
 ],
 "metadata": {
  "kernelspec": {
   "display_name": "Python 3",
   "language": "python",
   "name": "python3"
  },
  "language_info": {
   "codemirror_mode": {
    "name": "ipython",
    "version": 3
   },
   "file_extension": ".py",
   "mimetype": "text/x-python",
   "name": "python",
   "nbconvert_exporter": "python",
   "pygments_lexer": "ipython3",
   "version": "3.8.5"
  }
 },
 "nbformat": 4,
 "nbformat_minor": 4
}
