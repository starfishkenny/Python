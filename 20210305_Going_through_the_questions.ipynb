{
 "cells": [
  {
   "cell_type": "markdown",
   "metadata": {},
   "source": [
    "### 기출문제 따라하기"
   ]
  },
  {
   "cell_type": "markdown",
   "metadata": {},
   "source": [
    "#### 티셔츠 주문 수량 구하는 함수 작성하기\n",
    "* 문제 분석\n",
    "* 필요한 기능(문법)적 요소 추리기\n",
    "* 코드 작성"
   ]
  },
  {
   "cell_type": "code",
   "execution_count": null,
   "metadata": {},
   "outputs": [],
   "source": [
    "# 매개변수 이해\n",
    "'''\n",
    "def solution(shirt_size):\n",
    "    answer = []\n",
    "    return answer\n",
    "'''\n",
    "\n",
    "'''\n",
    "shirt_size = ['XS','S','M','L','XL','XXL']\n",
    "solution(shirt_size)\n",
    "'''\n",
    "\n",
    "'''\n",
    "for size in shirt_size:\n",
    "    if size == 'XS':\n",
    "        count_of_xs +=1\n",
    "'''"
   ]
  },
  {
   "cell_type": "code",
   "execution_count": null,
   "metadata": {},
   "outputs": [],
   "source": [
    "# 반환의 이해\n",
    "'''\n",
    "def solution(shirt_size):\n",
    "answer = []\n",
    "answer.append(요소)\n",
    "return answer\n",
    "'''\n",
    "\n",
    "# \"가장 작은 사이즈부터 순서대로 리스트에 담아라\"\n",
    "# answer[0] -> XS개수, ... answer[5] -> XXL개수"
   ]
  },
  {
   "cell_type": "code",
   "execution_count": 1,
   "metadata": {},
   "outputs": [],
   "source": [
    "# 코드 작성\n",
    "# 길이 6인 정수 리스트 생성\n",
    "answer = [0,0,0,0,0,0]\n",
    "# answer = [0 for _ in range(6)]도 가능"
   ]
  },
  {
   "cell_type": "code",
   "execution_count": 2,
   "metadata": {},
   "outputs": [],
   "source": [
    "# for과 range함수 활용하여 표현\n",
    "answer = []\n",
    "for _ in range(6): # _ 은 for 실행에서 별도의 변수를 사용하지 않느다는 표현\n",
    "    answer.append(0)\n",
    "    \n",
    "# [i for i in range(6)]로 작성하면...\n",
    "# [0,0,0,0,0,0]가 아닌 [0,1,2,3,4,5]로 생성됨"
   ]
  },
  {
   "cell_type": "code",
   "execution_count": 3,
   "metadata": {},
   "outputs": [
    {
     "ename": "SyntaxError",
     "evalue": "EOF while scanning triple-quoted string literal (<ipython-input-3-f48e427384e2>, line 7)",
     "output_type": "error",
     "traceback": [
      "\u001b[1;36m  File \u001b[1;32m\"<ipython-input-3-f48e427384e2>\"\u001b[1;36m, line \u001b[1;32m7\u001b[0m\n\u001b[1;33m    return answer\u001b[0m\n\u001b[1;37m                 \n^\u001b[0m\n\u001b[1;31mSyntaxError\u001b[0m\u001b[1;31m:\u001b[0m EOF while scanning triple-quoted string literal\n"
     ]
    }
   ],
   "source": [
    "'''\n",
    "def solution(shirt_size):\n",
    "    answer = [0 for _ in range(6)]\n",
    "    for size in shirt_size:\n",
    "        if size == \"XS\":\n",
    "            answer[0] += 1 # 가장 작은 사이즈의 개수를 answer[0]에 추가\n",
    "    return answer\n",
    "'''"
   ]
  },
  {
   "cell_type": "code",
   "execution_count": 6,
   "metadata": {},
   "outputs": [],
   "source": [
    "# 정답코드\n",
    "\n",
    "shirt_size = [\"XS\",\"S\",\"XXL\",\"L\",\"L\",\"XS\",\"XL\"]\n",
    "\n",
    "def solution(shirt_size):\n",
    "    size_counter = [0 for _ in range(6)]\n",
    "    for ss in shirt_size:\n",
    "        if ss == \"XS\":\n",
    "            size_counter[0] += 1\n",
    "        elif ss == \"S\":\n",
    "            size_counter[1] += 1\n",
    "        elif ss == \"M\":\n",
    "            size_counter[2] += 1\n",
    "        elif ss == \"L\":\n",
    "            size_counter[3] += 1\n",
    "        elif ss == \"XL\":\n",
    "            size_counter[4] += 1\n",
    "        elif ss == \"XXL\":\n",
    "            size_counter[5] += 1\n",
    "    return size_counter"
   ]
  },
  {
   "cell_type": "code",
   "execution_count": 7,
   "metadata": {},
   "outputs": [
    {
     "data": {
      "text/plain": [
       "[2, 1, 0, 2, 1, 1]"
      ]
     },
     "execution_count": 7,
     "metadata": {},
     "output_type": "execute_result"
    }
   ],
   "source": [
    "solution(shirt_size)"
   ]
  },
  {
   "cell_type": "markdown",
   "metadata": {},
   "source": [
    "#### 상품 구매 금액을 구하는 함수 완성하기"
   ]
  },
  {
   "cell_type": "code",
   "execution_count": 1,
   "metadata": {},
   "outputs": [
    {
     "data": {
      "text/plain": [
       "'\\ndef solution(price,grade)\\n'"
      ]
     },
     "execution_count": 1,
     "metadata": {},
     "output_type": "execute_result"
    }
   ],
   "source": [
    "'''\n",
    "def solution(price,grade)\n",
    "'''"
   ]
  },
  {
   "cell_type": "code",
   "execution_count": 2,
   "metadata": {},
   "outputs": [
    {
     "data": {
      "text/plain": [
       "'\\nprice = 10000\\nanswer = price * 0.95\\nreturn answer\\n'"
      ]
     },
     "execution_count": 2,
     "metadata": {},
     "output_type": "execute_result"
    }
   ],
   "source": [
    "# S등급 회원의 할인율 5%\n",
    "'''\n",
    "price = 10000\n",
    "answer = price * 0.95\n",
    "return answer\n",
    "'''"
   ]
  },
  {
   "cell_type": "markdown",
   "metadata": {},
   "source": [
    "* \"가격\"은 정수로 표현하는 경우가 일반적이고 시험 문제에서 명시하지 않는다면 정수로 생각하여 int() 함수를 사용할 수 있음"
   ]
  },
  {
   "cell_type": "code",
   "execution_count": 3,
   "metadata": {},
   "outputs": [],
   "source": [
    "# 코드 작성\n",
    "\n",
    "def solution(price,grade):\n",
    "    answer = 0\n",
    "    if grade == \"S\":\n",
    "        answer = int(price * 0.95)\n",
    "    if grade == \"G\":\n",
    "        answer = int(price * 0.9)\n",
    "    if grade == \"V\":\n",
    "        answer = int(price * 0.85)\n",
    "    return answer"
   ]
  },
  {
   "cell_type": "markdown",
   "metadata": {},
   "source": [
    "#### 두 날짜 사이의 일 수를 구하는 함수 빈칸 채우기"
   ]
  },
  {
   "cell_type": "code",
   "execution_count": 8,
   "metadata": {},
   "outputs": [
    {
     "data": {
      "text/plain": [
       "'\\ndef func_a(month,day):\\n    month_list = [31,28,31,30,31,30,31,31,30,31,30,31]\\n    total = 0\\n    for i in ____:\\n        total += ____\\n    total += ____\\n    return total -1\\n\\ndef solution(start_month,start_day,end_month,end_day):\\n    start_total = func_a(start_month,start_day)\\n    end_total = func_a(end_month,end_day)\\n    return int(end_total - start_total)\\n'"
      ]
     },
     "execution_count": 8,
     "metadata": {},
     "output_type": "execute_result"
    }
   ],
   "source": [
    "'''\n",
    "def func_a(month,day):\n",
    "    month_list = [31,28,31,30,31,30,31,31,30,31,30,31]\n",
    "    total = 0\n",
    "    for i in ____:\n",
    "        total += ____\n",
    "    total += ____\n",
    "    return total -1\n",
    "\n",
    "def solution(start_month,start_day,end_month,end_day):\n",
    "    start_total = func_a(start_month,start_day)\n",
    "    end_total = func_a(end_month,end_day)\n",
    "    return int(end_total - start_total)\n",
    "'''"
   ]
  },
  {
   "cell_type": "code",
   "execution_count": 9,
   "metadata": {},
   "outputs": [],
   "source": [
    "# 코드 작성하기\n",
    "\n",
    "def func_a(month,day):\n",
    "    month_list = [31,28,31,30,31,30,31,31,30,31,30,31]\n",
    "    total = 0\n",
    "    for i in range(month-1):\n",
    "        total += month_list[i]\n",
    "    total += day\n",
    "    return total -1\n",
    "\n",
    "def solution(start_month,start_day,end_month,end_day):\n",
    "    start_total = func_a(start_month,start_day)\n",
    "    end_total = func_a(end_month,end_day)\n",
    "    return int(end_total - start_total)"
   ]
  },
  {
   "cell_type": "markdown",
   "metadata": {},
   "source": [
    "#### 빈도(출현 횟수)를 구하는 함수의 빈칸 채우기"
   ]
  },
  {
   "cell_type": "code",
   "execution_count": 2,
   "metadata": {},
   "outputs": [
    {
     "data": {
      "text/plain": [
       "'\\ndef returnlist():\\n    num_list = []\\n    return num_list\\n'"
      ]
     },
     "execution_count": 2,
     "metadata": {},
     "output_type": "execute_result"
    }
   ],
   "source": [
    "'''\n",
    "def returnlist():\n",
    "    num_list = []\n",
    "    return num_list\n",
    "'''"
   ]
  },
  {
   "cell_type": "code",
   "execution_count": 3,
   "metadata": {},
   "outputs": [
    {
     "data": {
      "text/plain": [
       "'\\ncounter = []\\nfor _ in range(1001):\\n    counter.append(0)\\n'"
      ]
     },
     "execution_count": 3,
     "metadata": {},
     "output_type": "execute_result"
    }
   ],
   "source": [
    "'''\n",
    "counter = []\n",
    "for _ in range(1001): # 1000개의 요소가 있어야 하므로 range(1001)이 되어야 함\n",
    "    counter.append(0)\n",
    "'''"
   ]
  },
  {
   "cell_type": "code",
   "execution_count": 4,
   "metadata": {},
   "outputs": [
    {
     "data": {
      "text/plain": [
       "'\\ncounter = [0 for _ in range(1001)]\\n'"
      ]
     },
     "execution_count": 4,
     "metadata": {},
     "output_type": "execute_result"
    }
   ],
   "source": [
    "'''\n",
    "counter = [0 for _ in range(1001)]\n",
    "'''"
   ]
  },
  {
   "cell_type": "code",
   "execution_count": 5,
   "metadata": {},
   "outputs": [
    {
     "data": {
      "text/plain": [
       "'\\ndef func_a(arr):\\n    counter = [0 for _ in range(1001)]\\n    for x in arr:\\n        counter[x] += 1 # counter[x]를 1씩 증가\\n    return counter\\n'"
      ]
     },
     "execution_count": 5,
     "metadata": {},
     "output_type": "execute_result"
    }
   ],
   "source": [
    "'''\n",
    "def func_a(arr):\n",
    "    counter = [0 for _ in range(1001)]\n",
    "    for x in arr:\n",
    "        counter[x] += 1 # counter[x]를 1씩 증가\n",
    "    return counter\n",
    "'''"
   ]
  },
  {
   "cell_type": "code",
   "execution_count": 6,
   "metadata": {},
   "outputs": [
    {
     "data": {
      "text/plain": [
       "'\\n# 리스트 속 최대값을 반환하는 함수\\n\\ndef maxInList(arr):\\n    max = 0\\n    for x in arr:\\n        if max < x: # x의 값이 더 크면 이것이 최대값\\n            max = x\\n    return max\\n    \\n# 리스트 속 최소값을 반환하는 함수\\n\\ndef minInList(arr):\\n    min = 0\\n    for x in arr:\\n        if x != 0 and min > x: # 등장하지 않았다면 0이 되겠지만 \"가장 적게 등장\"이라는 것은 적어도 1번은 나온 것을 말함\\n            min = x\\n    return min\\n'"
      ]
     },
     "execution_count": 6,
     "metadata": {},
     "output_type": "execute_result"
    }
   ],
   "source": [
    "'''\n",
    "# 리스트 속 최대값을 반환하는 함수\n",
    "\n",
    "def maxInList(arr):\n",
    "    max = 0\n",
    "    for x in arr:\n",
    "        if max < x: # x의 값이 더 크면 이것이 최대값\n",
    "            max = x\n",
    "    return max\n",
    "    \n",
    "# 리스트 속 최소값을 반환하는 함수\n",
    "\n",
    "def minInList(arr):\n",
    "    min = 0\n",
    "    for x in arr:\n",
    "        if x != 0 and min > x: # 등장하지 않았다면 0이 되겠지만 \"가장 적게 등장\"이라는 것은 적어도 1번은 나온 것을 말함\n",
    "            min = x\n",
    "    return min\n",
    "'''"
   ]
  },
  {
   "cell_type": "code",
   "execution_count": 7,
   "metadata": {},
   "outputs": [
    {
     "data": {
      "text/plain": [
       "'\\n# 가장 많이 등장하는 수가 가장 적게 등장하는 수보다 몇 배 더 많은지 구하기\\nmax // min\\n'"
      ]
     },
     "execution_count": 7,
     "metadata": {},
     "output_type": "execute_result"
    }
   ],
   "source": [
    "'''\n",
    "# 가장 많이 등장하는 수가 가장 적게 등장하는 수보다 몇 배 더 많은지 구하기\n",
    "max // min\n",
    "'''"
   ]
  },
  {
   "cell_type": "code",
   "execution_count": 8,
   "metadata": {},
   "outputs": [],
   "source": [
    "# 코드 작성\n",
    "\n",
    "def func_a(arr):\n",
    "    counter = [0 for _ in range(1001)]\n",
    "    for x in arr:\n",
    "        counter[x] += 1\n",
    "    return counter\n",
    "\n",
    "def func_b(arr):\n",
    "    ret = 0\n",
    "    for x in arr:\n",
    "        if ret < x:\n",
    "            ret = x\n",
    "    return ret\n",
    "\n",
    "def func_c(arr):\n",
    "    INF = 1001\n",
    "    ret = INF\n",
    "    for x in arr:\n",
    "        if x != 0 and ret > x:\n",
    "            ret = x\n",
    "    return ret\n",
    "\n",
    "def solution(arr):\n",
    "    counter = func_a(arr) # 자연수의 개수를 세는 함수\n",
    "    max_cnt = func_b(counter) # 최대값을 구하는 함수 (자연수의 개수를 저장한 리스트인 counter를 전달)\n",
    "    min_cnt = func_c(counter) # 최소값을 구하는 함수\n",
    "    return max_cnt // min_cnt # 가장 많이 등장하는 수가 가장 적게 등장하는 수보다 몇 배 더 많은지"
   ]
  },
  {
   "cell_type": "markdown",
   "metadata": {},
   "source": [
    "#### 리스트 요소들의 순서를 뒤집는 함수의 빈칸 채우기"
   ]
  },
  {
   "cell_type": "code",
   "execution_count": 9,
   "metadata": {},
   "outputs": [
    {
     "name": "stdout",
     "output_type": "stream",
     "text": [
      "[1, 2, 3, 4]\n",
      "[4, 3, 2, 1]\n"
     ]
    }
   ],
   "source": [
    "# 리스트의 reverse()\n",
    "\n",
    "nlist = [1,2,3,4]\n",
    "print(nlist)\n",
    "nlist.reverse()\n",
    "print(nlist)"
   ]
  },
  {
   "cell_type": "markdown",
   "metadata": {},
   "source": [
    "* 리스트는 변화 없이 저장된 순서의 반대로 출력만 하는 문제 $\\rightarrow$ 요소번호를 반대로 표현하는 것으로 코드를 작성"
   ]
  },
  {
   "cell_type": "code",
   "execution_count": 10,
   "metadata": {},
   "outputs": [
    {
     "name": "stdout",
     "output_type": "stream",
     "text": [
      "4321\n",
      " [1, 2, 3, 4]\n"
     ]
    }
   ],
   "source": [
    "# 리스트 번호 요소 처리 방식 -> 3,2,1,0\n",
    "nlist = [1,2,3,4]\n",
    "last_index = len(nlist) - 1\n",
    "index = last_index\n",
    "while index >= 0:\n",
    "    print(nlist[index], end=\"\")\n",
    "    index -= 1\n",
    "print(\"\\n\",nlist)"
   ]
  },
  {
   "cell_type": "code",
   "execution_count": 11,
   "metadata": {},
   "outputs": [
    {
     "name": "stdout",
     "output_type": "stream",
     "text": [
      "4321\n",
      " [1, 2, 3, 4]\n"
     ]
    }
   ],
   "source": [
    "# 이런식으로도 표현할 수 있음 (리스트 번호 요소를 음의 정수로 처리 -> -1,-2,-3,-4)\n",
    "nlist = [1,2,3,4]\n",
    "last_index = (-1)*len(nlist)\n",
    "index = -1\n",
    "while index >= last_index:\n",
    "    print(nlist[index], end=\"\")\n",
    "    index -= 1\n",
    "print(\"\\n\",nlist)"
   ]
  },
  {
   "cell_type": "markdown",
   "metadata": {},
   "source": [
    "* reverse()를 사용하지 않고 요소에 저장된 값의 위치를 바꾸는 방법 $\\rightarrow$ 교환(swap)"
   ]
  },
  {
   "cell_type": "code",
   "execution_count": 12,
   "metadata": {},
   "outputs": [
    {
     "name": "stdout",
     "output_type": "stream",
     "text": [
      "10 20\n",
      "20 10\n"
     ]
    }
   ],
   "source": [
    "# 교환\n",
    "# 대입연산으로 쉽게 처리가능\n",
    "a = 10\n",
    "b = 20\n",
    "print(a,b)\n",
    "a,b = b,a\n",
    "print(a,b)"
   ]
  },
  {
   "cell_type": "markdown",
   "metadata": {},
   "source": [
    "* 리스트 요소들의 값을 뒤집는 거은 서로 반대편이 되는 요소들의 값을 교환하면서 가운데로 모이는 모습이 됨\n",
    "* 서로 만나거나 교차하는 지점에서 처리를 종료"
   ]
  },
  {
   "cell_type": "code",
   "execution_count": 13,
   "metadata": {},
   "outputs": [
    {
     "data": {
      "text/plain": [
       "'\\nleft, right = 0, 리스트의 길이-1 # 첫 요소[0] 리스트의 마지막 요소 번호\\nwhile left < right:\\n    # 왼쪽 요소와 오른쪽 요소의 값 교환\\n    left += 1 # 0번부터 1씩 증가, 오른쪽으로 감\\n    right -+ 1 # 마지막 번호부터 1씩 감소, 왼쪽으로 감\\n'"
      ]
     },
     "execution_count": 13,
     "metadata": {},
     "output_type": "execute_result"
    }
   ],
   "source": [
    "'''\n",
    "left, right = 0, 리스트의 길이-1 # 첫 요소[0] 리스트의 마지막 요소 번호\n",
    "while left < right:\n",
    "    # 왼쪽 요소와 오른쪽 요소의 값 교환\n",
    "    left += 1 # 0번부터 1씩 증가, 오른쪽으로 감\n",
    "    right -+ 1 # 마지막 번호부터 1씩 감소, 왼쪽으로 감\n",
    "'''"
   ]
  },
  {
   "cell_type": "code",
   "execution_count": 14,
   "metadata": {},
   "outputs": [],
   "source": [
    "# 코드 작성\n",
    "def solution(arr):\n",
    "    left,right = 0, len(arr)-1 # 요소번호 초기화\n",
    "    while left < right:\n",
    "        arr[left],arr[right] = arr[right],arr[left]\n",
    "        left += 1\n",
    "        right -= 1\n",
    "    return arr"
   ]
  },
  {
   "cell_type": "markdown",
   "metadata": {},
   "source": [
    "#### 정수에 3,6,9가 포함되어 있는지 확인하는 함수의 빈칸 채우기"
   ]
  },
  {
   "cell_type": "markdown",
   "metadata": {},
   "source": [
    "* 3,6,9게임을 할 때... (1~60까지만 진행)\n",
    "  - 박수를 한 번 쳐야 하는 경우: 23번\n",
    "  - 박수를 두 번 쳐야 하는 경우: 6번 (33,36,39 $\\rightarrow$ 2*3)\n",
    "* 문제의 핵심: 정수를 한 자리씩 쪼개어 특정 값이 있는지를 판단하는 조건식을 작성하는 것"
   ]
  },
  {
   "cell_type": "code",
   "execution_count": 17,
   "metadata": {},
   "outputs": [
    {
     "name": "stdout",
     "output_type": "stream",
     "text": [
      "number의 백의 자리값: \n",
      " 2\n",
      "number의 십의 자리값: \n",
      " 3\n",
      "number의 일의 자리값: \n",
      " 4\n"
     ]
    }
   ],
   "source": [
    "# 연산자 활용하여 한 자리씩 어떤 수가 있는지를 판단하는 방법\n",
    "number = 234\n",
    "print(\"number의 백의 자리값: \\n\", number//100)\n",
    "print(\"number의 십의 자리값: \\n\", (number//10)%10)\n",
    "print(\"number의 일의 자리값: \\n\", number%10)"
   ]
  },
  {
   "cell_type": "markdown",
   "metadata": {},
   "source": [
    "* 문제의 조건을 판단하는 절차\n",
    "  - 일의 자리값을 얻는다\n",
    "  - 3,6,9가 있으면 개수를 센다 (박수)\n",
    "  - 자릿수를 줄인다 (일의 자리를 버린다)\n",
    "  - 모든 자리를 확인할 때까지 다시 반복한다"
   ]
  },
  {
   "cell_type": "code",
   "execution_count": 23,
   "metadata": {},
   "outputs": [
    {
     "name": "stdout",
     "output_type": "stream",
     "text": [
      "1\n"
     ]
    }
   ],
   "source": [
    "number = 37\n",
    "temp = number \n",
    "count = 0\n",
    "while temp > 0: # 0보다 크면 계속 실행\n",
    "    x = temp % 10 # 일의 자리값을 x에 저장\n",
    "    if x==3 or x==6 or x==9: # 변수 x의 값이 3이거나 6이거나 9면\n",
    "        count += 1 # 박수 친 횟수 세기 (증가)\n",
    "    temp = temp // 10 # 한 자리 줄임\n",
    "print(count)"
   ]
  },
  {
   "cell_type": "code",
   "execution_count": 33,
   "metadata": {},
   "outputs": [],
   "source": [
    "# 코드 작성\n",
    "def solution(number):\n",
    "    count = 0\n",
    "    for i in range(1,number+1):\n",
    "        current = i\n",
    "        temp = count\n",
    "        while current != 0:\n",
    "            if current % 10 == 3 or current % 10 == 6 or current % 10 == 9:\n",
    "                count += 1\n",
    "                print('짝',end=\"\") # 박수소리\n",
    "            current = current // 10\n",
    "        if temp == count:\n",
    "            print(i,end=\"\") # 3,6,9가 포함되지 않은 정수값은 그대로 출력하기 위한 코드\n",
    "        print(\" \",end=\"\")\n",
    "    print(\"\") # 행을 한 줄 내림\n",
    "    return count"
   ]
  },
  {
   "cell_type": "code",
   "execution_count": 34,
   "metadata": {},
   "outputs": [
    {
     "name": "stdout",
     "output_type": "stream",
     "text": [
      "1 2 짝 4 5 짝 7 8 짝 10 11 12 짝 14 15 짝 17 18 짝 20 21 22 짝 24 25 짝 27 28 짝 짝 \n"
     ]
    },
    {
     "data": {
      "text/plain": [
       "10"
      ]
     },
     "execution_count": 34,
     "metadata": {},
     "output_type": "execute_result"
    }
   ],
   "source": [
    "solution(30)"
   ]
  },
  {
   "cell_type": "markdown",
   "metadata": {},
   "source": [
    "#### 수강 대상자 수를 구하는 함수 고치기"
   ]
  },
  {
   "cell_type": "markdown",
   "metadata": {},
   "source": [
    "* 작성되어 있는 코드의 실행을 예상해서 잘못 작성된 부분을 고치는 것 $\\rightarrow$ 디버깅(debugging)"
   ]
  },
  {
   "cell_type": "markdown",
   "metadata": {},
   "source": [
    "* 관계연산자 중 \"~이상\"은 >=나 <=을 사용할 수 있는데 보통 왼쪽을 기준으로 해석하는 경우가 多\n",
    "* 코드를 해석할 때는 가능하면 변수를 기준으로 말을 하고 해석하는 습관을 갖는 것이 좋음"
   ]
  },
  {
   "cell_type": "code",
   "execution_count": 35,
   "metadata": {},
   "outputs": [],
   "source": [
    "# 코드 작성\n",
    "def solution(scores):\n",
    "    count = 0\n",
    "    for s in scores:\n",
    "        if 650 <= s and s < 800: # 650 <= s < 800\n",
    "            count += 1\n",
    "    return count"
   ]
  },
  {
   "cell_type": "code",
   "execution_count": 36,
   "metadata": {},
   "outputs": [
    {
     "data": {
      "text/plain": [
       "4"
      ]
     },
     "execution_count": 36,
     "metadata": {},
     "output_type": "execute_result"
    }
   ],
   "source": [
    "scores = [600,900,780,660,800,600,500,720,860,700]\n",
    "solution(scores)"
   ]
  },
  {
   "cell_type": "markdown",
   "metadata": {},
   "source": [
    "#### 거꾸로 읽어도 같은 팰린드롬을 확인하는 함수 수정하기"
   ]
  },
  {
   "cell_type": "markdown",
   "metadata": {},
   "source": [
    "* 팰린드롬 문자열: 문자열의 가운데를 기준 삼아 왼쪽과 오른쪽의 문자들이 같은 것\n",
    "  - 문자열의 길이가 홀수인 경우 (7) $\\rightarrow$ 7 // 2 = 3; [3]번 요소가 가운데 값이 됨 [0],[1],[2]번 요소 / [6],[5],[4]\n",
    "  - 문자열의 길이가 짝수인 경우 (4) $\\rightarrow$ 모든 문자를 비교하여 같은지 확인 (짝이 맞기 때문 [0],[1],[2],[3]번에서 [0]=[3], [1]=[2])"
   ]
  },
  {
   "cell_type": "markdown",
   "metadata": {},
   "source": [
    "* 공백과 마침표를 제거해야함\n",
    "  - 전달되는 문자열에서 공백과 마침표를 제외한 문자들을 따로 리스트에 복사하여 저장\n",
    "  - 복사한 리스트의 문자들을 비교하여 팰린드롬이면 true 그렇지 않으면 false를 반환"
   ]
  },
  {
   "cell_type": "code",
   "execution_count": 39,
   "metadata": {},
   "outputs": [],
   "source": [
    "# 코드 작성\n",
    "def solution(sentence):\n",
    "    str_=''\n",
    "    for c in sentence:\n",
    "        if c != '.' and c != ' ':\n",
    "            str_ += c\n",
    "    size = len(str_)\n",
    "    for i in range(size//2):\n",
    "        if str_[i] != str_[size-1-i]:\n",
    "            return False\n",
    "    return True"
   ]
  },
  {
   "cell_type": "code",
   "execution_count": 42,
   "metadata": {},
   "outputs": [
    {
     "data": {
      "text/plain": [
       "False"
      ]
     },
     "execution_count": 42,
     "metadata": {},
     "output_type": "execute_result"
    }
   ],
   "source": [
    "solution('seoul')"
   ]
  },
  {
   "cell_type": "code",
   "execution_count": 43,
   "metadata": {},
   "outputs": [
    {
     "data": {
      "text/plain": [
       "True"
      ]
     },
     "execution_count": 43,
     "metadata": {},
     "output_type": "execute_result"
    }
   ],
   "source": [
    "solution('racecar')"
   ]
  },
  {
   "cell_type": "markdown",
   "metadata": {},
   "source": [
    "#### 중복되는 문자를 제거하는 함수 수정하기"
   ]
  },
  {
   "cell_type": "code",
   "execution_count": null,
   "metadata": {},
   "outputs": [],
   "source": []
  }
 ],
 "metadata": {
  "kernelspec": {
   "display_name": "Python 3",
   "language": "python",
   "name": "python3"
  },
  "language_info": {
   "codemirror_mode": {
    "name": "ipython",
    "version": 3
   },
   "file_extension": ".py",
   "mimetype": "text/x-python",
   "name": "python",
   "nbconvert_exporter": "python",
   "pygments_lexer": "ipython3",
   "version": "3.8.5"
  }
 },
 "nbformat": 4,
 "nbformat_minor": 4
}
