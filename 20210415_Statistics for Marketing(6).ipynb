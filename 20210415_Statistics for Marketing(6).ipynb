{
 "cells": [
  {
   "cell_type": "markdown",
   "id": "realistic-employer",
   "metadata": {},
   "source": [
    "#### 범주형 데이터 분석 (카이제곱 검정)\n",
    "* 카이제곱 검정: 카이제곱 분포에 기초한 통계적 분석 방법으로 관측된 도수(빈도)가 기대되는 도수(빈도)와 통계적으로 유의미하게 다른지 검정하는 방법 (= 비율검정)\n",
    "* 카이제곱 검정의 종류\n",
    "  |카이제곱 검정 종류|분석목적|\n",
    "  |:---:|---|\n",
    "  |적합도 검정|관측결과가 특정한 분포로부터 생성된 관측 값인지를 검정|\n",
    "  |독립성 검정|두 범주형 변수 사이의 연관성이 있는지를 검정|\n",
    "  |동질성 검정|다른 두 모집단으로부터 생성된 두 표본의 분포가 동일한지 검정|\n",
    "* 적합도 검정\n",
    "  - 적합도 검정의 이론적인 수행 과정\n",
    "    + 빈도교차표 작성\n",
    "    + 기대도수 산출\n",
    "    + 카이제곱 통계량 산출 (카이제곱 통계량의 자유도 = 범주의 수 - 1)\n",
    "* 독립성 검정"
   ]
  },
  {
   "cell_type": "code",
   "execution_count": 1,
   "id": "champion-amateur",
   "metadata": {},
   "outputs": [],
   "source": [
    "import pandas as pd\n",
    "import numpy as np\n",
    "from scipy import stats\n",
    "import matplotlib.pyplot as plt"
   ]
  },
  {
   "cell_type": "code",
   "execution_count": 2,
   "id": "center-chamber",
   "metadata": {},
   "outputs": [
    {
     "data": {
      "text/html": [
       "<div>\n",
       "<style scoped>\n",
       "    .dataframe tbody tr th:only-of-type {\n",
       "        vertical-align: middle;\n",
       "    }\n",
       "\n",
       "    .dataframe tbody tr th {\n",
       "        vertical-align: top;\n",
       "    }\n",
       "\n",
       "    .dataframe thead th {\n",
       "        text-align: right;\n",
       "    }\n",
       "</style>\n",
       "<table border=\"1\" class=\"dataframe\">\n",
       "  <thead>\n",
       "    <tr style=\"text-align: right;\">\n",
       "      <th>구매유형</th>\n",
       "      <th>1</th>\n",
       "      <th>2</th>\n",
       "      <th>3</th>\n",
       "      <th>4</th>\n",
       "      <th>All</th>\n",
       "    </tr>\n",
       "    <tr>\n",
       "      <th>클레임접수여부</th>\n",
       "      <th></th>\n",
       "      <th></th>\n",
       "      <th></th>\n",
       "      <th></th>\n",
       "      <th></th>\n",
       "    </tr>\n",
       "  </thead>\n",
       "  <tbody>\n",
       "    <tr>\n",
       "      <th>0</th>\n",
       "      <td>24</td>\n",
       "      <td>197</td>\n",
       "      <td>57</td>\n",
       "      <td>263</td>\n",
       "      <td>541</td>\n",
       "    </tr>\n",
       "    <tr>\n",
       "      <th>1</th>\n",
       "      <td>19</td>\n",
       "      <td>120</td>\n",
       "      <td>87</td>\n",
       "      <td>233</td>\n",
       "      <td>459</td>\n",
       "    </tr>\n",
       "    <tr>\n",
       "      <th>All</th>\n",
       "      <td>43</td>\n",
       "      <td>317</td>\n",
       "      <td>144</td>\n",
       "      <td>496</td>\n",
       "      <td>1000</td>\n",
       "    </tr>\n",
       "  </tbody>\n",
       "</table>\n",
       "</div>"
      ],
      "text/plain": [
       "구매유형      1    2    3    4   All\n",
       "클레임접수여부                         \n",
       "0        24  197   57  263   541\n",
       "1        19  120   87  233   459\n",
       "All      43  317  144  496  1000"
      ]
     },
     "execution_count": 2,
     "metadata": {},
     "output_type": "execute_result"
    }
   ],
   "source": [
    "# 적합도 검정\n",
    "# 귀무가설: 클레임 접수 고객의 구매유형별 비율은 1회성 구매형 10%, 실용적 구매 30%, 명품 구매형 20%, 집중 구매형 40%이다.\n",
    "# 연구가설: 클레임 접수 고객의 구매유형별 비율은 1회성 구매형 10%, 실용적 구매 30%, 명품 구매형 20%, 집중 구매형 40%가 아니다.\n",
    "\n",
    "df = pd.read_csv('Ashopping.csv', sep=',', encoding='CP949')\n",
    "\n",
    "# 빈도교차표 생성\n",
    "X = pd.crosstab(df.클레임접수여부, df.구매유형, margins=True) # margins -> 행합계와 열합계를 추가할 것인지\n",
    "X"
   ]
  },
  {
   "cell_type": "code",
   "execution_count": 4,
   "id": "assured-latino",
   "metadata": {},
   "outputs": [
    {
     "data": {
      "text/plain": [
       "Power_divergenceResult(statistic=31.582788671023955, pvalue=6.407672361002909e-07)"
      ]
     },
     "execution_count": 4,
     "metadata": {},
     "output_type": "execute_result"
    }
   ],
   "source": [
    "# 관측도수, 기대도수 도출\n",
    "Ob = X.values[1,:4]\n",
    "Pr = np.array([0.1,0.3,0.2,0.4])\n",
    "n = X.values[1,4]\n",
    "E = n*Pr\n",
    "stats.chisquare(Ob,E)"
   ]
  },
  {
   "cell_type": "code",
   "execution_count": null,
   "id": "touched-sellers",
   "metadata": {},
   "outputs": [],
   "source": []
  }
 ],
 "metadata": {
  "kernelspec": {
   "display_name": "Python 3",
   "language": "python",
   "name": "python3"
  },
  "language_info": {
   "codemirror_mode": {
    "name": "ipython",
    "version": 3
   },
   "file_extension": ".py",
   "mimetype": "text/x-python",
   "name": "python",
   "nbconvert_exporter": "python",
   "pygments_lexer": "ipython3",
   "version": "3.8.8"
  }
 },
 "nbformat": 4,
 "nbformat_minor": 5
}
