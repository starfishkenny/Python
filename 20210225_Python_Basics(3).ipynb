{
 "cells": [
  {
   "cell_type": "markdown",
   "metadata": {},
   "source": [
    "#### 3.1 함수의 정의와 호출 (생략)"
   ]
  },
  {
   "cell_type": "markdown",
   "metadata": {},
   "source": [
    "#### 3.2 전역과 지역변수의 구분"
   ]
  },
  {
   "cell_type": "markdown",
   "metadata": {},
   "source": [
    "##### 기억해야할 것!\n",
    "* 변수는 대입 연산 시마다 새로 생성됨\n",
    "* 함수 정의 밖에서 선언되는 변수를 전역 또는 외부 변수라고 함\n",
    "* 지역변수는 함수 내에서 선언된 변수이며 함수 종료 후에 사용할 수 있음\n",
    "* 함수 호출 지점보다 위쪽에 선언된 변수는 해당 함수에서 읽기할 수 있음\n",
    "* 어떤 함수 내에서 전역변수를 변경하고자 하는 경우 global 변수명을 명시"
   ]
  },
  {
   "cell_type": "markdown",
   "metadata": {},
   "source": [
    "#### 3.3 함수 매개전달과 반환\n",
    "* 함수는 독립적인 일을 처리하는 단위로 함수와 함수 사이에는 데이터의 교환이 필요한 경우가 많음\n",
    "* 중요한 것은 함수가 필요로 하는 것이 어떤 데이터(구조)인지 또는 전달받게 되는지를 파악하는 것"
   ]
  },
  {
   "cell_type": "code",
   "execution_count": 1,
   "metadata": {},
   "outputs": [
    {
     "data": {
      "text/plain": [
       "'\\ndef 함수명():\\n    pass # 아무런 동작도 하지 않음 (실행할 내용 없음)\\n'"
      ]
     },
     "execution_count": 1,
     "metadata": {},
     "output_type": "execute_result"
    }
   ],
   "source": [
    "'''\n",
    "def 함수명():\n",
    "    pass # 아무런 동작도 하지 않음 (실행할 내용 없음)\n",
    "'''"
   ]
  },
  {
   "cell_type": "code",
   "execution_count": 2,
   "metadata": {},
   "outputs": [
    {
     "name": "stdout",
     "output_type": "stream",
     "text": [
      "--------------------19\n"
     ]
    }
   ],
   "source": [
    "# 매개변수의 선언\n",
    "def line(length):\n",
    "    for i in range(length):\n",
    "        print(\"-\",end='')\n",
    "    print(i)\n",
    "\n",
    "line(20)"
   ]
  },
  {
   "cell_type": "code",
   "execution_count": 3,
   "metadata": {},
   "outputs": [
    {
     "name": "stdout",
     "output_type": "stream",
     "text": [
      "----------9\n"
     ]
    }
   ],
   "source": [
    "def line():\n",
    "    for i in range(10):\n",
    "        print('-',end='')\n",
    "    print(i)\n",
    "    \n",
    "line()"
   ]
  },
  {
   "cell_type": "markdown",
   "metadata": {},
   "source": [
    "* 호출 시 출력할 길이를 전달받으면 다양한 상황에서 사용하기 수월할 것"
   ]
  },
  {
   "cell_type": "code",
   "execution_count": 4,
   "metadata": {},
   "outputs": [
    {
     "name": "stdout",
     "output_type": "stream",
     "text": [
      "@@@@@@@@@@@@@@@@@@@@\n"
     ]
    }
   ],
   "source": [
    "def line(length,mark): # 매개변수가 여러 개인 경우 쉼표로 구분하여 전달\n",
    "    for _ in range(length): # _: 특별히 변수를 사용하지는 않는 경우 생략하는 표현으로 사용할 수 있음을 보여줌\n",
    "        print(mark,end='')\n",
    "    print()\n",
    "\n",
    "line(20,'@')"
   ]
  },
  {
   "cell_type": "code",
   "execution_count": 5,
   "metadata": {},
   "outputs": [
    {
     "name": "stdout",
     "output_type": "stream",
     "text": [
      "2의 배수이다\n"
     ]
    }
   ],
   "source": [
    "# 매개변수로 전달받아 처리한 결과를 return으로 반환\n",
    "def isTimesOfTwo(number):\n",
    "    return True if number % 2 == 0 else False # conditional expression (참값 if 조건식 else 거짓값)\n",
    "\n",
    "result = isTimesOfTwo(10)\n",
    "\n",
    "if result == True:\n",
    "    print('2의 배수이다')\n",
    "else:\n",
    "    print('2의 배수가 아니다')"
   ]
  },
  {
   "cell_type": "code",
   "execution_count": 6,
   "metadata": {},
   "outputs": [
    {
     "name": "stdout",
     "output_type": "stream",
     "text": [
      "10 20 from solution()\n"
     ]
    }
   ],
   "source": [
    "# 함수는 여러 개를 반환할 수도 있음\n",
    "def solution():\n",
    "    return 10,20,'from solution()'\n",
    "\n",
    "first, second, message = solution()\n",
    "print(first, second, message)"
   ]
  },
  {
   "cell_type": "markdown",
   "metadata": {},
   "source": [
    "#### 기억해야하는 것\n",
    "* 이름이 같은 변수라도 선언 위치(지역성)와 대입연산에 따라 다른 변수로 처리됨\n",
    "* 함수 외부의 변수를 사용(변경)하려면 global 변수명을 명시해야 함"
   ]
  },
  {
   "cell_type": "code",
   "execution_count": 8,
   "metadata": {},
   "outputs": [
    {
     "name": "stdout",
     "output_type": "stream",
     "text": [
      "outer a 10\n",
      "outer a 10\n"
     ]
    }
   ],
   "source": [
    "# 변수 지역성: 어떤 변수를 선언했을 때 이를 사용할 수 있는 범위가 있다는 개념\n",
    "def swap():\n",
    "    a = 20\n",
    "\n",
    "a = 10\n",
    "print('outer a',a)\n",
    "swap()\n",
    "print('outer a',a)"
   ]
  },
  {
   "cell_type": "code",
   "execution_count": 10,
   "metadata": {},
   "outputs": [
    {
     "name": "stdout",
     "output_type": "stream",
     "text": [
      "outer a 10\n",
      "inner a 20\n",
      "outer a 10\n"
     ]
    }
   ],
   "source": [
    "def swap():\n",
    "    a = 20\n",
    "    print('inner a',a)\n",
    "\n",
    "a = 10\n",
    "print('outer a',a)\n",
    "swap()\n",
    "print('outer a',a) # swap 함수 내의 a 변수와 함수 밖의 a 변수는 각자 다른 값을 가진 상태임을 알 수 있음"
   ]
  },
  {
   "cell_type": "code",
   "execution_count": 12,
   "metadata": {},
   "outputs": [
    {
     "name": "stdout",
     "output_type": "stream",
     "text": [
      "outer a 10\n",
      "inner a 20\n",
      "outer a 20\n"
     ]
    }
   ],
   "source": [
    "# 함수 내에서 함수 밖에 선언된 변수를 변경하려는 경우 global 예약어를 사용할 수 있음\n",
    "def swap():\n",
    "    global a\n",
    "    a = 20\n",
    "    print('inner a',a)\n",
    "\n",
    "a = 10\n",
    "print('outer a',a)\n",
    "swap()\n",
    "print('outer a',a) # 값이 변경됨"
   ]
  },
  {
   "cell_type": "markdown",
   "metadata": {},
   "source": [
    "* 이렇게 함수 밖에 선언된 변수를 처리하는 경우를 외부변수 또는 전역변수를 사용한다고 함 (대입 연산을 실행하면 새로 생성된다고 이해하면 편함)"
   ]
  },
  {
   "cell_type": "code",
   "execution_count": null,
   "metadata": {},
   "outputs": [],
   "source": []
  }
 ],
 "metadata": {
  "kernelspec": {
   "display_name": "Python 3",
   "language": "python",
   "name": "python3"
  },
  "language_info": {
   "codemirror_mode": {
    "name": "ipython",
    "version": 3
   },
   "file_extension": ".py",
   "mimetype": "text/x-python",
   "name": "python",
   "nbconvert_exporter": "python",
   "pygments_lexer": "ipython3",
   "version": "3.8.5"
  }
 },
 "nbformat": 4,
 "nbformat_minor": 4
}
