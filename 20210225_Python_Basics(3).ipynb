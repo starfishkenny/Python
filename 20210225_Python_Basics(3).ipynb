{
 "cells": [
  {
   "cell_type": "markdown",
   "metadata": {},
   "source": [
    "#### 3.1 함수의 정의와 호출 (생략)"
   ]
  },
  {
   "cell_type": "markdown",
   "metadata": {},
   "source": [
    "#### 3.2 전역과 지역변수의 구분"
   ]
  },
  {
   "cell_type": "markdown",
   "metadata": {},
   "source": [
    "##### 기억해야할 것!\n",
    "* 변수는 대입 연산 시마다 새로 생성됨\n",
    "* 함수 정의 밖에서 선언되는 변수를 전역 또는 외부 변수라고 함\n",
    "* 지역변수는 함수 내에서 선언된 변수이며 함수 종료 후에 사용할 수 있음\n",
    "* 함수 호출 지점보다 위쪽에 선언된 변수는 해당 함수에서 읽기할 수 있음\n",
    "* 어떤 함수 내에서 전역변수를 변경하고자 하는 경우 global 변수명을 명시"
   ]
  },
  {
   "cell_type": "markdown",
   "metadata": {},
   "source": [
    "#### 3.3 함수 매개전달과 반환\n",
    "* 함수는 독립적인 일을 처리하는 단위로 함수와 함수 사이에는 데이터의 교환이 필요한 경우가 많음\n",
    "* 중요한 것은 함수가 필요로 하는 것이 어떤 데이터(구조)인지 또는 전달받게 되는지를 파악하는 것"
   ]
  },
  {
   "cell_type": "code",
   "execution_count": 1,
   "metadata": {},
   "outputs": [
    {
     "data": {
      "text/plain": [
       "'\\ndef 함수명():\\n    pass # 아무런 동작도 하지 않음 (실행할 내용 없음)\\n'"
      ]
     },
     "execution_count": 1,
     "metadata": {},
     "output_type": "execute_result"
    }
   ],
   "source": [
    "'''\n",
    "def 함수명():\n",
    "    pass # 아무런 동작도 하지 않음 (실행할 내용 없음)\n",
    "'''"
   ]
  },
  {
   "cell_type": "code",
   "execution_count": 2,
   "metadata": {},
   "outputs": [
    {
     "name": "stdout",
     "output_type": "stream",
     "text": [
      "--------------------19\n"
     ]
    }
   ],
   "source": [
    "# 매개변수의 선언\n",
    "def line(length):\n",
    "    for i in range(length):\n",
    "        print(\"-\",end='')\n",
    "    print(i)\n",
    "\n",
    "line(20)"
   ]
  },
  {
   "cell_type": "code",
   "execution_count": 3,
   "metadata": {},
   "outputs": [
    {
     "name": "stdout",
     "output_type": "stream",
     "text": [
      "----------9\n"
     ]
    }
   ],
   "source": [
    "def line():\n",
    "    for i in range(10):\n",
    "        print('-',end='')\n",
    "    print(i)\n",
    "    \n",
    "line()"
   ]
  },
  {
   "cell_type": "markdown",
   "metadata": {},
   "source": [
    "* 호출 시 출력할 길이를 전달받으면 다양한 상황에서 사용하기 수월할 것"
   ]
  },
  {
   "cell_type": "code",
   "execution_count": 4,
   "metadata": {},
   "outputs": [
    {
     "name": "stdout",
     "output_type": "stream",
     "text": [
      "@@@@@@@@@@@@@@@@@@@@\n"
     ]
    }
   ],
   "source": [
    "def line(length,mark): # 매개변수가 여러 개인 경우 쉼표로 구분하여 전달\n",
    "    for _ in range(length): # _: 특별히 변수를 사용하지는 않는 경우 생략하는 표현으로 사용할 수 있음을 보여줌\n",
    "        print(mark,end='')\n",
    "    print()\n",
    "\n",
    "line(20,'@')"
   ]
  },
  {
   "cell_type": "code",
   "execution_count": 5,
   "metadata": {},
   "outputs": [
    {
     "name": "stdout",
     "output_type": "stream",
     "text": [
      "2의 배수이다\n"
     ]
    }
   ],
   "source": [
    "# 매개변수로 전달받아 처리한 결과를 return으로 반환\n",
    "def isTimesOfTwo(number):\n",
    "    return True if number % 2 == 0 else False # conditional expression (참값 if 조건식 else 거짓값)\n",
    "\n",
    "result = isTimesOfTwo(10)\n",
    "\n",
    "if result == True:\n",
    "    print('2의 배수이다')\n",
    "else:\n",
    "    print('2의 배수가 아니다')"
   ]
  },
  {
   "cell_type": "code",
   "execution_count": 6,
   "metadata": {},
   "outputs": [
    {
     "name": "stdout",
     "output_type": "stream",
     "text": [
      "10 20 from solution()\n"
     ]
    }
   ],
   "source": [
    "# 함수는 여러 개를 반환할 수도 있음\n",
    "def solution():\n",
    "    return 10,20,'from solution()'\n",
    "\n",
    "first, second, message = solution()\n",
    "print(first, second, message)"
   ]
  },
  {
   "cell_type": "markdown",
   "metadata": {},
   "source": [
    "#### 기억해야하는 것\n",
    "* 이름이 같은 변수라도 선언 위치(지역성)와 대입연산에 따라 다른 변수로 처리됨\n",
    "* 함수 외부의 변수를 사용(변경)하려면 global 변수명을 명시해야 함"
   ]
  },
  {
   "cell_type": "code",
   "execution_count": 7,
   "metadata": {},
   "outputs": [
    {
     "name": "stdout",
     "output_type": "stream",
     "text": [
      "outer a 10\n",
      "outer a 10\n"
     ]
    }
   ],
   "source": [
    "# 변수 지역성: 어떤 변수를 선언했을 때 이를 사용할 수 있는 범위가 있다는 개념\n",
    "def swap():\n",
    "    a = 20\n",
    "\n",
    "a = 10\n",
    "print('outer a',a)\n",
    "swap()\n",
    "print('outer a',a)"
   ]
  },
  {
   "cell_type": "code",
   "execution_count": 8,
   "metadata": {},
   "outputs": [
    {
     "name": "stdout",
     "output_type": "stream",
     "text": [
      "outer a 10\n",
      "inner a 20\n",
      "outer a 10\n"
     ]
    }
   ],
   "source": [
    "def swap():\n",
    "    a = 20\n",
    "    print('inner a',a)\n",
    "\n",
    "a = 10\n",
    "print('outer a',a)\n",
    "swap()\n",
    "print('outer a',a) # swap 함수 내의 a 변수와 함수 밖의 a 변수는 각자 다른 값을 가진 상태임을 알 수 있음"
   ]
  },
  {
   "cell_type": "code",
   "execution_count": 9,
   "metadata": {},
   "outputs": [
    {
     "name": "stdout",
     "output_type": "stream",
     "text": [
      "outer a 10\n",
      "inner a 20\n",
      "outer a 20\n"
     ]
    }
   ],
   "source": [
    "# 함수 내에서 함수 밖에 선언된 변수를 변경하려는 경우 global 예약어를 사용할 수 있음\n",
    "def swap():\n",
    "    global a\n",
    "    a = 20\n",
    "    print('inner a',a)\n",
    "\n",
    "a = 10\n",
    "print('outer a',a)\n",
    "swap()\n",
    "print('outer a',a) # 값이 변경됨"
   ]
  },
  {
   "cell_type": "markdown",
   "metadata": {},
   "source": [
    "* 이렇게 함수 밖에 선언된 변수를 처리하는 경우를 외부변수 또는 전역변수를 사용한다고 함 (대입 연산을 실행하면 새로 생성된다고 이해하면 편함)"
   ]
  },
  {
   "cell_type": "code",
   "execution_count": 10,
   "metadata": {},
   "outputs": [
    {
     "ename": "NameError",
     "evalue": "name 'ga' is not defined",
     "output_type": "error",
     "traceback": [
      "\u001b[1;31m---------------------------------------------------------------------------\u001b[0m",
      "\u001b[1;31mNameError\u001b[0m                                 Traceback (most recent call last)",
      "\u001b[1;32m<ipython-input-10-37a791e72cec>\u001b[0m in \u001b[0;36m<module>\u001b[1;34m\u001b[0m\n\u001b[0;32m      5\u001b[0m \u001b[1;33m\u001b[0m\u001b[0m\n\u001b[0;32m      6\u001b[0m \u001b[1;31m# swap() 함수를 실행해야 ga가 선언됨\u001b[0m\u001b[1;33m\u001b[0m\u001b[1;33m\u001b[0m\u001b[1;33m\u001b[0m\u001b[0m\n\u001b[1;32m----> 7\u001b[1;33m \u001b[0mprint\u001b[0m\u001b[1;33m(\u001b[0m\u001b[1;34m'outer ga'\u001b[0m\u001b[1;33m,\u001b[0m\u001b[0mga\u001b[0m\u001b[1;33m)\u001b[0m\u001b[1;33m\u001b[0m\u001b[1;33m\u001b[0m\u001b[0m\n\u001b[0m",
      "\u001b[1;31mNameError\u001b[0m: name 'ga' is not defined"
     ]
    }
   ],
   "source": [
    "def swap():\n",
    "    global ga\n",
    "    ga = 20\n",
    "    print('inner ga',ga)\n",
    "\n",
    "# swap() 함수를 실행해야 ga가 선언됨\n",
    "print('outer ga',ga)"
   ]
  },
  {
   "cell_type": "code",
   "execution_count": 11,
   "metadata": {},
   "outputs": [
    {
     "name": "stdout",
     "output_type": "stream",
     "text": [
      "20\n"
     ]
    }
   ],
   "source": [
    "def swap():\n",
    "    ga = 20\n",
    "    return ga\n",
    "\n",
    "result = swap()\n",
    "print(result)"
   ]
  },
  {
   "cell_type": "code",
   "execution_count": 12,
   "metadata": {},
   "outputs": [
    {
     "ename": "NameError",
     "evalue": "name 'ga' is not defined",
     "output_type": "error",
     "traceback": [
      "\u001b[1;31m---------------------------------------------------------------------------\u001b[0m",
      "\u001b[1;31mNameError\u001b[0m                                 Traceback (most recent call last)",
      "\u001b[1;32m<ipython-input-12-a33d35daf6f0>\u001b[0m in \u001b[0;36m<module>\u001b[1;34m\u001b[0m\n\u001b[0;32m      4\u001b[0m \u001b[1;33m\u001b[0m\u001b[0m\n\u001b[0;32m      5\u001b[0m \u001b[0mswap\u001b[0m\u001b[1;33m(\u001b[0m\u001b[1;33m)\u001b[0m\u001b[1;33m\u001b[0m\u001b[1;33m\u001b[0m\u001b[0m\n\u001b[1;32m----> 6\u001b[1;33m \u001b[0mprint\u001b[0m\u001b[1;33m(\u001b[0m\u001b[0mga\u001b[0m\u001b[1;33m)\u001b[0m\u001b[1;33m\u001b[0m\u001b[1;33m\u001b[0m\u001b[0m\n\u001b[0m",
      "\u001b[1;31mNameError\u001b[0m: name 'ga' is not defined"
     ]
    }
   ],
   "source": [
    "def swap():\n",
    "    gloabl = 20\n",
    "    ga = 20\n",
    "    \n",
    "swap()\n",
    "print(ga)"
   ]
  },
  {
   "cell_type": "markdown",
   "metadata": {},
   "source": [
    "* global 예약어로 함수 밖에 선언된 외부 변수를 전달 없이 바로 사용할 수 있도록 하거나 함수 내에서 선언되는 지역변수를 외부에서도 사용할 수 있도록 만들 수 있다!"
   ]
  },
  {
   "cell_type": "code",
   "execution_count": 13,
   "metadata": {},
   "outputs": [
    {
     "name": "stdout",
     "output_type": "stream",
     "text": [
      "10 20\n",
      "20 10\n"
     ]
    }
   ],
   "source": [
    "# 두 변수의 값을 교환하는 처리를 함수를 이용\n",
    "## 두 변수의 값을 서로 바꾸는 작업은 추가로 변수를 하나 더 만들어 단계적으로 값을 넘겨가는 것이 일반적인 절차\n",
    "a = 10\n",
    "b = 20\n",
    "print(a,b)\n",
    "t = a # a와 b 변수의 값을 바꾸기 위해 변수 t를 활용하여 하나씩 넘기는 처리\n",
    "a = b\n",
    "b = t\n",
    "print(a,b)"
   ]
  },
  {
   "cell_type": "code",
   "execution_count": 14,
   "metadata": {},
   "outputs": [
    {
     "name": "stdout",
     "output_type": "stream",
     "text": [
      "20 10\n"
     ]
    },
    {
     "ename": "UnboundLocalError",
     "evalue": "local variable 'a' referenced before assignment",
     "output_type": "error",
     "traceback": [
      "\u001b[1;31m---------------------------------------------------------------------------\u001b[0m",
      "\u001b[1;31mUnboundLocalError\u001b[0m                         Traceback (most recent call last)",
      "\u001b[1;32m<ipython-input-14-0248f0936e6d>\u001b[0m in \u001b[0;36m<module>\u001b[1;34m\u001b[0m\n\u001b[0;32m      6\u001b[0m \u001b[1;33m\u001b[0m\u001b[0m\n\u001b[0;32m      7\u001b[0m \u001b[0mprint\u001b[0m\u001b[1;33m(\u001b[0m\u001b[0ma\u001b[0m\u001b[1;33m,\u001b[0m\u001b[0mb\u001b[0m\u001b[1;33m)\u001b[0m\u001b[1;33m\u001b[0m\u001b[1;33m\u001b[0m\u001b[0m\n\u001b[1;32m----> 8\u001b[1;33m \u001b[0mswap\u001b[0m\u001b[1;33m(\u001b[0m\u001b[1;33m)\u001b[0m\u001b[1;33m\u001b[0m\u001b[1;33m\u001b[0m\u001b[0m\n\u001b[0m\u001b[0;32m      9\u001b[0m \u001b[0mprint\u001b[0m\u001b[1;33m(\u001b[0m\u001b[0ma\u001b[0m\u001b[1;33m,\u001b[0m\u001b[0mb\u001b[0m\u001b[1;33m)\u001b[0m\u001b[1;33m\u001b[0m\u001b[1;33m\u001b[0m\u001b[0m\n",
      "\u001b[1;32m<ipython-input-14-0248f0936e6d>\u001b[0m in \u001b[0;36mswap\u001b[1;34m()\u001b[0m\n\u001b[0;32m      1\u001b[0m \u001b[1;31m# 이제 함수를 활용해보자\u001b[0m\u001b[1;33m\u001b[0m\u001b[1;33m\u001b[0m\u001b[1;33m\u001b[0m\u001b[0m\n\u001b[0;32m      2\u001b[0m \u001b[1;32mdef\u001b[0m \u001b[0mswap\u001b[0m\u001b[1;33m(\u001b[0m\u001b[1;33m)\u001b[0m\u001b[1;33m:\u001b[0m\u001b[1;33m\u001b[0m\u001b[1;33m\u001b[0m\u001b[0m\n\u001b[1;32m----> 3\u001b[1;33m     \u001b[0mt\u001b[0m \u001b[1;33m=\u001b[0m \u001b[0ma\u001b[0m \u001b[1;31m# a 변수가 없음 (t = a 가 실행되려면 a 변수가 먼저 선언되어 값이 있어야 하다는 것)\u001b[0m\u001b[1;33m\u001b[0m\u001b[1;33m\u001b[0m\u001b[0m\n\u001b[0m\u001b[0;32m      4\u001b[0m     \u001b[0ma\u001b[0m \u001b[1;33m=\u001b[0m \u001b[0mb\u001b[0m\u001b[1;33m\u001b[0m\u001b[1;33m\u001b[0m\u001b[0m\n\u001b[0;32m      5\u001b[0m     \u001b[0mb\u001b[0m \u001b[1;33m=\u001b[0m \u001b[0mt\u001b[0m\u001b[1;33m\u001b[0m\u001b[1;33m\u001b[0m\u001b[0m\n",
      "\u001b[1;31mUnboundLocalError\u001b[0m: local variable 'a' referenced before assignment"
     ]
    }
   ],
   "source": [
    "# 이제 함수를 활용해보자\n",
    "def swap():\n",
    "    t = a # a 변수가 없음 (t = a 가 실행되려면 a 변수가 먼저 선언되어 값이 있어야 하다는 것)\n",
    "    a = b\n",
    "    b = t\n",
    "\n",
    "print(a,b)\n",
    "swap()\n",
    "print(a,b)"
   ]
  },
  {
   "cell_type": "code",
   "execution_count": 15,
   "metadata": {},
   "outputs": [
    {
     "name": "stdout",
     "output_type": "stream",
     "text": [
      "10 20\n"
     ]
    },
    {
     "ename": "UnboundLocalError",
     "evalue": "local variable 'a' referenced before assignment",
     "output_type": "error",
     "traceback": [
      "\u001b[1;31m---------------------------------------------------------------------------\u001b[0m",
      "\u001b[1;31mUnboundLocalError\u001b[0m                         Traceback (most recent call last)",
      "\u001b[1;32m<ipython-input-15-1e5620df1b58>\u001b[0m in \u001b[0;36m<module>\u001b[1;34m\u001b[0m\n\u001b[0;32m      8\u001b[0m \u001b[1;33m\u001b[0m\u001b[0m\n\u001b[0;32m      9\u001b[0m \u001b[0mprint\u001b[0m\u001b[1;33m(\u001b[0m\u001b[0ma\u001b[0m\u001b[1;33m,\u001b[0m\u001b[0mb\u001b[0m\u001b[1;33m)\u001b[0m\u001b[1;33m\u001b[0m\u001b[1;33m\u001b[0m\u001b[0m\n\u001b[1;32m---> 10\u001b[1;33m \u001b[0mswap\u001b[0m\u001b[1;33m(\u001b[0m\u001b[1;33m)\u001b[0m\u001b[1;33m\u001b[0m\u001b[1;33m\u001b[0m\u001b[0m\n\u001b[0m\u001b[0;32m     11\u001b[0m \u001b[0mprint\u001b[0m\u001b[1;33m(\u001b[0m\u001b[0ma\u001b[0m\u001b[1;33m,\u001b[0m\u001b[0mb\u001b[0m\u001b[1;33m)\u001b[0m \u001b[1;31m# 지역변수인 a의 값을 저장하지 않고 사용하였다는 에러 발생\u001b[0m\u001b[1;33m\u001b[0m\u001b[1;33m\u001b[0m\u001b[0m\n",
      "\u001b[1;32m<ipython-input-15-1e5620df1b58>\u001b[0m in \u001b[0;36mswap\u001b[1;34m()\u001b[0m\n\u001b[0;32m      3\u001b[0m \u001b[1;33m\u001b[0m\u001b[0m\n\u001b[0;32m      4\u001b[0m \u001b[1;32mdef\u001b[0m \u001b[0mswap\u001b[0m\u001b[1;33m(\u001b[0m\u001b[1;33m)\u001b[0m\u001b[1;33m:\u001b[0m\u001b[1;33m\u001b[0m\u001b[1;33m\u001b[0m\u001b[0m\n\u001b[1;32m----> 5\u001b[1;33m     \u001b[0mt\u001b[0m \u001b[1;33m=\u001b[0m \u001b[0ma\u001b[0m\u001b[1;33m\u001b[0m\u001b[1;33m\u001b[0m\u001b[0m\n\u001b[0m\u001b[0;32m      6\u001b[0m     \u001b[0ma\u001b[0m \u001b[1;33m=\u001b[0m \u001b[0mb\u001b[0m\u001b[1;33m\u001b[0m\u001b[1;33m\u001b[0m\u001b[0m\n\u001b[0;32m      7\u001b[0m     \u001b[0mb\u001b[0m \u001b[1;33m=\u001b[0m \u001b[0mt\u001b[0m\u001b[1;33m\u001b[0m\u001b[1;33m\u001b[0m\u001b[0m\n",
      "\u001b[1;31mUnboundLocalError\u001b[0m: local variable 'a' referenced before assignment"
     ]
    }
   ],
   "source": [
    "a = 10\n",
    "b = 20\n",
    "\n",
    "def swap():\n",
    "    t = a \n",
    "    a = b\n",
    "    b = t\n",
    "\n",
    "print(a,b)\n",
    "swap()\n",
    "print(a,b) # 지역변수인 a의 값을 저장하지 않고 사용하였다는 에러 발생"
   ]
  },
  {
   "cell_type": "code",
   "execution_count": 16,
   "metadata": {},
   "outputs": [
    {
     "name": "stdout",
     "output_type": "stream",
     "text": [
      "10 20\n",
      "10 20\n"
     ]
    }
   ],
   "source": [
    "ta = 10\n",
    "tb = 20\n",
    "\n",
    "def swap(a,b): # 매개변수 활용\n",
    "    t = a\n",
    "    a = b\n",
    "    b = t\n",
    "    \n",
    "print(ta,tb)\n",
    "swap(ta,tb)\n",
    "print(ta,tb) # 에러가 발생하지는 않지만 값이 교환되지는 않았음"
   ]
  },
  {
   "cell_type": "code",
   "execution_count": 17,
   "metadata": {},
   "outputs": [
    {
     "name": "stdout",
     "output_type": "stream",
     "text": [
      "10 20\n",
      "20 10\n"
     ]
    }
   ],
   "source": [
    "# 문제해결(1)\n",
    "ta = 10\n",
    "tb = 20\n",
    "\n",
    "def swap(a,b):\n",
    "    return b,a # 순서 바꿔서 반환\n",
    "\n",
    "print(ta,tb)\n",
    "ta,tb = swap(ta,tb)\n",
    "print(ta,tb)"
   ]
  },
  {
   "cell_type": "code",
   "execution_count": 18,
   "metadata": {},
   "outputs": [
    {
     "name": "stdout",
     "output_type": "stream",
     "text": [
      "10 20\n",
      "20 10\n"
     ]
    }
   ],
   "source": [
    "# 문제해결(2)\n",
    "ta = 10\n",
    "tb = 20\n",
    "print(ta,tb)\n",
    "ta,tb = tb,ta\n",
    "print(ta,tb)"
   ]
  },
  {
   "cell_type": "markdown",
   "metadata": {},
   "source": [
    "* 결국은 두 변수의 교환은 함수로 만들 필요가 없었음..."
   ]
  }
 ],
 "metadata": {
  "kernelspec": {
   "display_name": "Python 3",
   "language": "python",
   "name": "python3"
  },
  "language_info": {
   "codemirror_mode": {
    "name": "ipython",
    "version": 3
   },
   "file_extension": ".py",
   "mimetype": "text/x-python",
   "name": "python",
   "nbconvert_exporter": "python",
   "pygments_lexer": "ipython3",
   "version": "3.8.5"
  }
 },
 "nbformat": 4,
 "nbformat_minor": 4
}
