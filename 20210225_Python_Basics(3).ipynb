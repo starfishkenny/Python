{
 "cells": [
  {
   "cell_type": "markdown",
   "metadata": {},
   "source": [
    "#### 3.1 함수의 정의와 호출"
   ]
  },
  {
   "cell_type": "markdown",
   "metadata": {},
   "source": [
    "##### 기억해야할 것!\n",
    "* 변수는 대입 연산 시마다 새로 생성됨\n",
    "* 함수 정의 밖에서 선언되는 변수를 전역 또는 외부 변수라고 함\n",
    "* 지역변수는 함수 내에서 선언된 변수이며 함수 종료 후에 사용할 수 있음\n",
    "* 함수 호출 지점보다 위쪽에 선언된 변수는 해당 함수에서 읽기할 수 있음\n",
    "* 어떤 함수 내에서 전역변수를 변경하고자 하는 경우 global 변수명을 명시"
   ]
  },
  {
   "cell_type": "code",
   "execution_count": null,
   "metadata": {},
   "outputs": [],
   "source": []
  }
 ],
 "metadata": {
  "kernelspec": {
   "display_name": "Python 3",
   "language": "python",
   "name": "python3"
  },
  "language_info": {
   "codemirror_mode": {
    "name": "ipython",
    "version": 3
   },
   "file_extension": ".py",
   "mimetype": "text/x-python",
   "name": "python",
   "nbconvert_exporter": "python",
   "pygments_lexer": "ipython3",
   "version": "3.8.5"
  }
 },
 "nbformat": 4,
 "nbformat_minor": 4
}
