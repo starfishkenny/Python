{
 "cells": [
  {
   "cell_type": "markdown",
   "id": "executive-arbor",
   "metadata": {},
   "source": [
    "* Ref: <Step by Step 파이썬 비즈니스 통계분석>, 김형수"
   ]
  },
  {
   "cell_type": "markdown",
   "id": "healthy-cancer",
   "metadata": {},
   "source": [
    "### 마케팅과학을 위한 통계분석"
   ]
  },
  {
   "cell_type": "markdown",
   "id": "phantom-terror",
   "metadata": {},
   "source": [
    "#### 마케팅과 통계\n",
    "* 통계분석기법이 마케팅 영역에서 제공할 수 있는 기능\n",
    "  - 문제점과 기회영역의 도출\n",
    "  - 마케팅 가설의 검정\n",
    "  - 타겟 마케팅을 위한 대상자의 추출\n",
    "  - 데이터의 요약 및 그룹화\n",
    "  - 분류를 위한 의사결정\n",
    "  - 마케팅 목표치의 설정\n",
    "  - 마케팅 과정의 모니터링\n",
    "  - 정확한 마케팅 성과평가\n",
    "  - 성공과 실패의 원인 규명"
   ]
  },
  {
   "cell_type": "markdown",
   "id": "settled-insider",
   "metadata": {},
   "source": [
    "#### 마케팅을 위한 통계분석 기법\n",
    "  * 기초 통계분석 기법\n",
    "    - 기술통계량\n",
    "    - T-검정\n",
    "    - 상관관계분석\n",
    "    - 범주형 데이터 분석\n",
    "    - 신뢰성 분석\n",
    "  * 인과관계 분석기법\n",
    "    - 분산분석\n",
    "    - 회귀분석\n",
    "    - 요인분석\n",
    "    - 판별분석\n",
    " * 기타 다변량 통계분석 기법\n",
    "   - 군집분석\n",
    "   - 포지셔닝 분석\n",
    "   - 컨조인트 분석\n",
    "   - 비모수 통계분석"
   ]
  },
  {
   "cell_type": "markdown",
   "id": "acting-puppy",
   "metadata": {},
   "source": [
    "#### 통계분석을 활용한 문제해결 과정\n",
    "* 문제파악 및 가설 수립\n",
    "* 유의수준 및 임계치 설정\n",
    "* 분석 및 검정 통계량 산출\n",
    "* 결과 해석 및 가설 검증"
   ]
  }
 ],
 "metadata": {
  "kernelspec": {
   "display_name": "Python 3",
   "language": "python",
   "name": "python3"
  },
  "language_info": {
   "codemirror_mode": {
    "name": "ipython",
    "version": 3
   },
   "file_extension": ".py",
   "mimetype": "text/x-python",
   "name": "python",
   "nbconvert_exporter": "python",
   "pygments_lexer": "ipython3",
   "version": "3.8.8"
  }
 },
 "nbformat": 4,
 "nbformat_minor": 5
}
