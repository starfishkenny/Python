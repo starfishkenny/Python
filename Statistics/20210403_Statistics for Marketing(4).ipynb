{
 "cells": [
  {
   "cell_type": "markdown",
   "id": "patient-prospect",
   "metadata": {},
   "source": [
    "#### t-검정\n",
    "* t-검정: 두 개 이하의 집단에서 수치형 변수의 평균의 일치성을 판단\n",
    "* 평균 비교 분석 유형\n",
    "  ||t-검정|z-검정|분산분석|\n",
    "  |---|:---:|:---:|:---:|\n",
    "  |집단의 수|2개 이하|2개 이하|3개 이상|\n",
    "  |모집단의 분산|모름|알고 있음|모름|\n",
    "  |표본의 수|상관없음|30개 이상|상관없음|\n",
    "  |등분산성|고려함|고려하지 않음|고려함|\n",
    "* t-검정의 종류: 검정 목적에 따라 일표본 t-검정(one-sample t-test), 독립표본 t-검정(two sample t-test), 쌍체표본 t-검정(paired sample t-test)\n",
    "  |t-검정의 종류|분석목적|\n",
    "  |:---:|---|\n",
    "  |일표본 t-검정|특정 수치로 알려진 모집단의 평균과 주어진 표본의 평균을 비교|\n",
    "  |독립표본 t-검정|독립된 두 표본 집단의 평균을 비교|\n",
    "  |쌍체표본 t-검정|실험 전 집단과 실험 후 집단과 같이 쌍체로 이루어진 두 표본 집단의 평균을 비교|\n",
    "* 일표본 t-검정\n",
    "  - 일표본 t-검정 값: 이론적 평균(모집단 평균)과 실제 평균(표본 평균)의 차이가 허용가능한 오차 수준(표준오차)에 비해 몇 배 더 큰지를 나타내는 값\n",
    "    + t-검정 값이 클수록 모집단의 평균과 표본평균의 차이가 크다는 의미 $\\rightarrow$ 기존에 받아들여졌던 특정 수치가 실제로는 다르다는 것을 뜻함\n",
    "    + 모분산을 아는 경우(z-검정): 모집단의 표준편차를 사용하여 검정통계량 산출\n",
    "    + 모분산을 모르는 경우(t-검정): 표본의 표준편차를 사용하여 검정통계량 산출\n",
    "* 독립표본 t-검정\n",
    "  - 독립표본 t-검정 값: 두 표본의 평균 차이 값과 두 모집단의 평균 차이 값 간의 편차가 허용 가능한 오차 수준(표준오차)에 비해 몇 배 더 큰지를 나타내는 값\n",
    "    + t값이 커질수록 두 집단의 평균의 차이가 크다는 의미\n",
    "* 쌍체표본 t-검정\n",
    "  - 쌍체표본 t-검정 값: 실험 전과 후 혹은 특정시점과 그 이후 시점과 같이 쌍체로 이루어진 두 표본의 평균 차이 값과 이 두 쌍체 모집단의 평균 차이 값 간의 편차가 허용 가능한 오차수준(표준오차)에 비해 몇 배 더 큰지를 나타내는 값\n",
    "  - 쌍체표본 t-검정의 특징\n",
    "    + 독립표본 t-검정과 달리, 쌍체표본 t-검정은 분석 대상의 표본이 반드시 대응되어야 함\n",
    "    + 쌍체 표본 데이터는 시간상 전후의 개념이 있기 때문에 집단간의 독립성 가정은 필요X, 두 모분산이 같다고 가정할 필요도 X\n",
    "    + 만약 데이터가 완전한 쌍체를 이루지 않는다면 결측값이 존재하는 것이므로 결측값 처리가 필요\n",
    "      |결측값 처리 구분|결측값 처리 방법|\n",
    "      |:---:|---|\n",
    "      |삭제법|쌍체 데이터 중 결측 값이 있는 경우 해당 표본을 삭제하고 분석하는 방법으로 기본 결측값 처리 방법|\n",
    "      |표본 평균법|결측값에 대해 해당 표본의 산술평균 값을 할당하는 방법(데이터가 무작위로 분포되어 있는 경우)|\n",
    "      |단순 대치법|회귀분석 등 결측값을 추정할 수 있는 방법을 사용하여 결측값을 예측하는 방법|\n",
    "      |다중 대치법|결측값에 대해 대체 가능한 여러 후보 값을 추정한 후 무작위로 대체 값 중의 하나를 추출하여 할당|\n",
    "      |Hot-deck 대체법|해당 변수의 실체 관측된 값 중에서 하나를 추출하여 결측 값에 대체하는 방법, 결측값이 발생하면 결측값과 동일한 지역이나 성별 등 동일한 특성을 가지고 있는 값들 중에서 하나를 무작위로 추출해서 할당|"
   ]
  },
  {
   "cell_type": "code",
   "execution_count": 1,
   "id": "blocked-generator",
   "metadata": {},
   "outputs": [],
   "source": [
    "import pandas as pd\n",
    "import numpy as np\n",
    "from scipy import stats"
   ]
  },
  {
   "cell_type": "code",
   "execution_count": 2,
   "id": "collective-estate",
   "metadata": {},
   "outputs": [],
   "source": [
    "df = pd.read_csv('Ashopping.csv',sep=',',encoding='CP949')"
   ]
  },
  {
   "cell_type": "code",
   "execution_count": 3,
   "id": "valid-bahrain",
   "metadata": {},
   "outputs": [
    {
     "name": "stdout",
     "output_type": "stream",
     "text": [
      "총매출액 평균: 7068689.76\n",
      "Ttest_1sampResult(statistic=-2.8657430145836007, pvalue=0.00424758614832654)\n"
     ]
    }
   ],
   "source": [
    "# 총매출액 평균 및 일표본 t-검정\n",
    "print('총매출액 평균:',df.총_매출액.mean())\n",
    "print(stats.ttest_1samp(df['총_매출액'], 7700000))"
   ]
  },
  {
   "cell_type": "code",
   "execution_count": 4,
   "id": "ultimate-providence",
   "metadata": {},
   "outputs": [
    {
     "data": {
      "text/plain": [
       "BartlettResult(statistic=13.626177910965525, pvalue=0.00022305349806448475)"
      ]
     },
     "execution_count": 4,
     "metadata": {},
     "output_type": "execute_result"
    }
   ],
   "source": [
    "# 독립표본 t-검정\n",
    "\n",
    "# 등분산검정\n",
    "no_claim = df[df.클레임접수여부==0]\n",
    "df2 = np.array(no_claim.방문빈도) # 배열로 저장하는 이유 -> 등분산 검정을 위한 stats.bartlett()가 배열로 데이터를 입력받기 때문\n",
    "claim = df[df.클레임접수여부==1]\n",
    "df3 = np.array(claim.방문빈도)\n",
    "stats.bartlett(df2,df3) # stats -> bartlett(데이터가 정규분포), flinger(비모수 검정으로써 정규성을 논하기 어려울 경우), levene(데이터가 정규분포를 따르지 않을 경우) 등 다양한 등분산 검정 방법 제공"
   ]
  },
  {
   "cell_type": "code",
   "execution_count": 5,
   "id": "double-segment",
   "metadata": {},
   "outputs": [
    {
     "name": "stdout",
     "output_type": "stream",
     "text": [
      "Ttest_indResult(statistic=2.595726838875684, pvalue=0.009577734932789503)\n",
      "클레임 접수여부(0) 고객 평균방문빈도: 28.184842883548985\n",
      "클레임 접수여부(1) 고객 평균방문빈도: 24.736383442265794\n"
     ]
    }
   ],
   "source": [
    "# 독립표본 t-검정 및 방문빈도 평균\n",
    "print(stats.ttest_ind(df2,df3,equal_var=False)) # equal_var =True(등분산), False(등분산X)\n",
    "print('클레임 접수여부(0) 고객 평균방문빈도:',no_claim.방문빈도.mean())\n",
    "print('클레임 접수여부(1) 고객 평균방문빈도:',claim.방문빈도.mean())"
   ]
  },
  {
   "cell_type": "code",
   "execution_count": 6,
   "id": "interim-screw",
   "metadata": {},
   "outputs": [
    {
     "data": {
      "text/plain": [
       "Ttest_relResult(statistic=29.560410783358122, pvalue=1.7319140513197275e-138)"
      ]
     },
     "execution_count": 6,
     "metadata": {},
     "output_type": "execute_result"
    }
   ],
   "source": [
    "# 쌍체표본 t-검정\n",
    "stats.ttest_rel(df['멤버쉽_프로그램_가입후_만족도'],df['멤버쉽_프로그램_가입전_만족도'])"
   ]
  }
 ],
 "metadata": {
  "kernelspec": {
   "display_name": "Python 3",
   "language": "python",
   "name": "python3"
  },
  "language_info": {
   "codemirror_mode": {
    "name": "ipython",
    "version": 3
   },
   "file_extension": ".py",
   "mimetype": "text/x-python",
   "name": "python",
   "nbconvert_exporter": "python",
   "pygments_lexer": "ipython3",
   "version": "3.8.8"
  }
 },
 "nbformat": 4,
 "nbformat_minor": 5
}
