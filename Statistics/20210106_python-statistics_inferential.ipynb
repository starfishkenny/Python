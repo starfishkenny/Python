{
 "cells": [
  {
   "cell_type": "markdown",
   "metadata": {},
   "source": [
    "## 4. 추측통계의 기본\n",
    "### - 모집단과 표본\n",
    "### - 확률 모형\n",
    "### - 추측통계의 확률"
   ]
  },
  {
   "cell_type": "markdown",
   "metadata": {},
   "source": [
    "+ 2,3에서 다룬 통계는 기술통계(descriptive statistics)\n",
    "+ 일부 데이터로부터 전체의 통계적 성질을 추측하는 방식 = 추측통계"
   ]
  },
  {
   "cell_type": "code",
   "execution_count": 1,
   "metadata": {},
   "outputs": [],
   "source": [
    "import numpy as np\n",
    "import pandas as pd\n",
    "import matplotlib.pyplot as plt\n",
    "\n",
    "%precision 3\n",
    "%matplotlib inline"
   ]
  },
  {
   "cell_type": "code",
   "execution_count": 2,
   "metadata": {},
   "outputs": [
    {
     "data": {
      "text/plain": [
       "array([76, 55, 80, 80, 74, 61, 81, 76, 23, 80], dtype=int64)"
      ]
     },
     "execution_count": 2,
     "metadata": {},
     "output_type": "execute_result"
    }
   ],
   "source": [
    "df = pd.read_csv('ch4_scores400.csv')\n",
    "scores = np.array(df['score'])\n",
    "scores[:10]"
   ]
  },
  {
   "cell_type": "markdown",
   "metadata": {},
   "source": [
    "#### 1. 모집단과 표본\n",
    "* 모집단(population): 추측하고 싶은 관측 대상 전체\n",
    "* 표본(sample): 추측에 사용하는 관측 대상의 일부분\n",
    "* 표본추출(sampling): 모집단에서 표본을 골라내는 일\n",
    "* 표본 크기(sample size): 골라낸 표본의 수\n",
    "* 표본통계량: 표본을 바탕으로 계사난 평균이나 분산, 상관계수 등\n",
    "* 모수: 모집단의 평균이나 분산, 상관계수 등\n",
    "* 표본평균으로 모평균을 추측할 때, 표본평균은 모평균의 추정량(estimator)이라 함\n",
    "* 실제로 표본의 데이터를 이용하여 계산한 결과를 추정갑(estimate)이라 함\n",
    "* 표본추출 방법\n",
    "  - 무작위추출(random sampling): 임의로 표본 추출\n",
    "    + 편향을 없애는 방법이긴 하지만, 그 결과로 편향이 있는 데이터를 얻을 수도 있음\n",
    "    + 복원추출(sampling with replacement): 여러 차례 동일한 표본을 선택하는 추출\n",
    "    + 비복원추출(sampling without replacement): 동일한 표본은 한 번만 선택하는 방법\n",
    "    + 난수 시드(seed): 발생하는 난수의 근원이 되는 숫자\n",
    "      * 시드를 설정하면 매번 동일한 난수를 얻게 되어 코드의 재현성을 유지할 수 있음"
   ]
  },
  {
   "cell_type": "code",
   "execution_count": 3,
   "metadata": {},
   "outputs": [
    {
     "data": {
      "text/plain": [
       "array([3, 2, 3])"
      ]
     },
     "execution_count": 3,
     "metadata": {},
     "output_type": "execute_result"
    }
   ],
   "source": [
    "# 무작위추출 \n",
    "np.random.choice([1,2,3],3) # 기본설정: 복원추출 -> 새로고침할 때마다 다른 결과값"
   ]
  },
  {
   "cell_type": "code",
   "execution_count": 4,
   "metadata": {},
   "outputs": [
    {
     "data": {
      "text/plain": [
       "array([1, 2, 3])"
      ]
     },
     "execution_count": 4,
     "metadata": {},
     "output_type": "execute_result"
    }
   ],
   "source": [
    "# 비복원추출 -> 새로고침해도 같은 결과값\n",
    "np.random.choice([1,2,3],3,replace=False) "
   ]
  },
  {
   "cell_type": "code",
   "execution_count": 5,
   "metadata": {},
   "outputs": [
    {
     "data": {
      "text/plain": [
       "array([1, 2, 1])"
      ]
     },
     "execution_count": 5,
     "metadata": {},
     "output_type": "execute_result"
    }
   ],
   "source": [
    "# 난수 시드\n",
    "np.random.seed(0)\n",
    "np.random.choice([1,2,3],3)"
   ]
  },
  {
   "cell_type": "code",
   "execution_count": 6,
   "metadata": {},
   "outputs": [
    {
     "data": {
      "text/plain": [
       "70.4"
      ]
     },
     "execution_count": 6,
     "metadata": {},
     "output_type": "execute_result"
    }
   ],
   "source": [
    "# 표본평균\n",
    "np.random.seed(0)\n",
    "sample = np.random.choice(scores,20)\n",
    "sample.mean()"
   ]
  },
  {
   "cell_type": "code",
   "execution_count": 7,
   "metadata": {},
   "outputs": [
    {
     "data": {
      "text/plain": [
       "69.53"
      ]
     },
     "execution_count": 7,
     "metadata": {},
     "output_type": "execute_result"
    }
   ],
   "source": [
    "# 모평균\n",
    "scores.mean()"
   ]
  },
  {
   "cell_type": "code",
   "execution_count": 8,
   "metadata": {},
   "outputs": [
    {
     "name": "stdout",
     "output_type": "stream",
     "text": [
      "1번째 무작위추출로 얻은 표본평균 72.45\n",
      "2번째 무작위추출로 얻은 표본평균 63.7\n",
      "3번째 무작위추출로 얻은 표본평균 66.05\n",
      "4번째 무작위추출로 얻은 표본평균 71.7\n",
      "5번째 무작위추출로 얻은 표본평균 74.15\n"
     ]
    }
   ],
   "source": [
    "# 표본평균 게산을 몇 번 실행해봄\n",
    "for i in range(5):\n",
    "    sample = np.random.choice(scores,20)\n",
    "    print(f'{i+1}번째 무작위추출로 얻은 표본평균',sample.mean())"
   ]
  },
  {
   "cell_type": "markdown",
   "metadata": {},
   "source": [
    "#### 2. 확률 모형\n",
    "* 불확정성을 수반한 현상을 해석하기 위해 확률을 사용함\n",
    "* 확률 모형: 확률을 사용한 무작위추출 혹은 주사위를 모델링한 것\n",
    "  - 모델링: 현상을 모형처럼 취급하여 특징을 잘 파악하도록 단순화하는 것\n",
    "* 확률의 기본\n",
    "  - 확률변수(random variable): 취하는 값과 그 값이 나올 확률이 결정되어 있는 것\n",
    "  - 시행(trial): 확률변수의 결과를 관측하는 것\n",
    "  - 실현값(realization): 시행에 의해 관측되는 값\n",
    "  - 사건(event): 시행 결과로 나타날 수 있는 일\n",
    "    + 근원사건(elementary event): 더 세부적으로 분해할 수 없는 사건 (ex. 눈이 1)\n",
    "    + 사건이 서로 배반이라면, 그중에 적어도 하나 일어나는 사건은 각 사건의 확률의 합과 같음\n",
    "    + 상호배반(mutually exclusive): 각 사건이 동시에는 일어날 수 없다는 것 (ex. \"눈이 1 또는 눈이 2 또는 눈이 3\"과 \"눈이 6\")\n",
    "* 확률분포(probability distribution): 확률변수가 어떻게 움직이는지를 나타낸 것\n",
    "  - 전체 확률이 1인 확률변수가 취할 수 있는 값이 어떻게 분포하고 있는지 나타낸다고 할 수 있음"
   ]
  },
  {
   "cell_type": "code",
   "execution_count": 9,
   "metadata": {},
   "outputs": [],
   "source": [
    "# 불공정한 주사위의 확률분포를 구하기 위한 실험\n",
    "# 불공정한 주사위의 확률분포를 다음과 같이 정의\n",
    "dice = [1,2,3,4,5,6]\n",
    "prob = [1/21,2/21,3/21,4/21,5/21,6/21]"
   ]
  },
  {
   "cell_type": "code",
   "execution_count": 10,
   "metadata": {},
   "outputs": [
    {
     "data": {
      "text/plain": [
       "1"
      ]
     },
     "execution_count": 10,
     "metadata": {},
     "output_type": "execute_result"
    }
   ],
   "source": [
    "np.random.choice(dice, p=prob)"
   ]
  },
  {
   "cell_type": "code",
   "execution_count": 11,
   "metadata": {},
   "outputs": [
    {
     "data": {
      "text/plain": [
       "array([4, 6, 4, 5, 5, 6, 6, 3, 5, 6, 5, 6, 6, 2, 3, 1, 6, 5, 6, 3, 4, 5,\n",
       "       3, 4, 3, 5, 5, 4, 4, 6, 4, 6, 5, 6, 5, 4, 6, 2, 6, 4, 5, 3, 4, 6,\n",
       "       5, 5, 5, 3, 4, 5, 4, 4, 6, 4, 4, 6, 6, 2, 2, 4, 5, 1, 6, 4, 3, 2,\n",
       "       2, 6, 3, 5, 4, 2, 4, 4, 6, 6, 1, 5, 3, 6, 6, 4, 2, 1, 6, 4, 4, 2,\n",
       "       4, 1, 3, 6, 6, 6, 4, 5, 4, 3, 3, 4])"
      ]
     },
     "execution_count": 11,
     "metadata": {},
     "output_type": "execute_result"
    }
   ],
   "source": [
    "# 100번 실행\n",
    "num_trial = 100\n",
    "sample = np.random.choice(dice,num_trial,p=prob)\n",
    "sample"
   ]
  },
  {
   "cell_type": "code",
   "execution_count": 12,
   "metadata": {},
   "outputs": [
    {
     "data": {
      "text/html": [
       "<div>\n",
       "<style scoped>\n",
       "    .dataframe tbody tr th:only-of-type {\n",
       "        vertical-align: middle;\n",
       "    }\n",
       "\n",
       "    .dataframe tbody tr th {\n",
       "        vertical-align: top;\n",
       "    }\n",
       "\n",
       "    .dataframe thead th {\n",
       "        text-align: right;\n",
       "    }\n",
       "</style>\n",
       "<table border=\"1\" class=\"dataframe\">\n",
       "  <thead>\n",
       "    <tr style=\"text-align: right;\">\n",
       "      <th></th>\n",
       "      <th>frequency</th>\n",
       "      <th>relative frequency</th>\n",
       "    </tr>\n",
       "    <tr>\n",
       "      <th>dice</th>\n",
       "      <th></th>\n",
       "      <th></th>\n",
       "    </tr>\n",
       "  </thead>\n",
       "  <tbody>\n",
       "    <tr>\n",
       "      <th>1</th>\n",
       "      <td>5</td>\n",
       "      <td>0.05</td>\n",
       "    </tr>\n",
       "    <tr>\n",
       "      <th>2</th>\n",
       "      <td>9</td>\n",
       "      <td>0.09</td>\n",
       "    </tr>\n",
       "    <tr>\n",
       "      <th>3</th>\n",
       "      <td>13</td>\n",
       "      <td>0.13</td>\n",
       "    </tr>\n",
       "    <tr>\n",
       "      <th>4</th>\n",
       "      <td>27</td>\n",
       "      <td>0.27</td>\n",
       "    </tr>\n",
       "    <tr>\n",
       "      <th>5</th>\n",
       "      <td>19</td>\n",
       "      <td>0.19</td>\n",
       "    </tr>\n",
       "    <tr>\n",
       "      <th>6</th>\n",
       "      <td>27</td>\n",
       "      <td>0.27</td>\n",
       "    </tr>\n",
       "  </tbody>\n",
       "</table>\n",
       "</div>"
      ],
      "text/plain": [
       "      frequency  relative frequency\n",
       "dice                               \n",
       "1             5                0.05\n",
       "2             9                0.09\n",
       "3            13                0.13\n",
       "4            27                0.27\n",
       "5            19                0.19\n",
       "6            27                0.27"
      ]
     },
     "execution_count": 12,
     "metadata": {},
     "output_type": "execute_result"
    }
   ],
   "source": [
    "freq, _ = np.histogram(sample,bins=6,range=(1,7))\n",
    "pd.DataFrame({'frequency':freq,\n",
    "              'relative frequency':freq/num_trial},\n",
    "            index=pd.Index(np.arange(1,7),name='dice'))"
   ]
  },
  {
   "cell_type": "code",
   "execution_count": 13,
   "metadata": {},
   "outputs": [
    {
     "data": {
      "image/png": "[encoded data removed]",
      "text/plain": [
       "<Figure size 720x432 with 1 Axes>"
      ]
     },
     "metadata": {
      "needs_background": "light"
     },
     "output_type": "display_data"
    }
   ],
   "source": [
    "fig = plt.figure(figsize=(10,6))\n",
    "ax = fig.add_subplot(111)\n",
    "ax.hist(sample, bins=6, range=(1,7), density=True, rwidth=0.8)\n",
    "# 실제의 확률 분포를 가로선으로 표시\n",
    "ax.hlines(prob, np.arange(1,7), np.arange(2,8), colors='gray')\n",
    "# 막대그래프의 [1.5,2.5,...,6.5]에 눈금을 표시\n",
    "ax.set_xticks(np.linspace(1.5,6.5,6))\n",
    "ax.set_xticklabels(np.arange(1,7))\n",
    "ax.set_xlabel('dice')\n",
    "ax.set_ylabel('relative frequency')\n",
    "plt.show()"
   ]
  },
  {
   "cell_type": "code",
   "execution_count": 14,
   "metadata": {},
   "outputs": [
    {
     "data": {
      "image/png": "[encoded data removed]",
      "text/plain": [
       "<Figure size 720x432 with 1 Axes>"
      ]
     },
     "metadata": {
      "needs_background": "light"
     },
     "output_type": "display_data"
    }
   ],
   "source": [
    "# 10,000번을 시행\n",
    "num_trial = 10000\n",
    "sample = np.random.choice(dice,size=num_trial,p=prob)\n",
    "\n",
    "fig = plt.figure(figsize=(10,6))\n",
    "ax = fig.add_subplot(111)\n",
    "ax.hist(sample, bins=6, range=(1,7), density=True, rwidth=0.8)\n",
    "# 실제의 확률 분포를 가로선으로 표시\n",
    "ax.hlines(prob, np.arange(1,7), np.arange(2,8), colors='gray')\n",
    "# 막대그래프의 [1.5,2.5,...,6.5]에 눈금을 표시\n",
    "ax.set_xticks(np.linspace(1.5,6.5,6))\n",
    "ax.set_xticklabels(np.arange(1,7))\n",
    "ax.set_xlabel('dice')\n",
    "ax.set_ylabel('relative frequency')\n",
    "plt.show() # 시행 횟수를 점점 늘리면 상대도수는 확률분포로 수렴되어 감"
   ]
  },
  {
   "cell_type": "markdown",
   "metadata": {},
   "source": [
    "#### 3. 추측통계의 확률\n",
    "'''추측통계에서도 무작위추출을 확률모형으로 기술할 수 있고, \n",
    "무작위추출로 얻은 표본은 모집단의 확률분포를 따르느느 확률변수로 간주할 수 있다.\n",
    "따라서 추측통계에서 다루는 데이터는 그와 같은 확률변수의 실현값이라고 생각할 수 있다.\n",
    "'''\n",
    "* 주사위의 상대도수가 시행 횟수를 늘리면 실제의 확률분포에 가까워졌음\n",
    "* 마찬가지로 무작위추출에서도 표본의 크기가 커지면, 표본 데이터의 상대도수는 실제의 확률분포에 가까워짐\n",
    "* 표본 하나하나가 확률변수이므로, 표본들의 평균으로 계산되는 표본평균도 역시 확률변수임"
   ]
  },
  {
   "cell_type": "code",
   "execution_count": 15,
   "metadata": {},
   "outputs": [
    {
     "data": {
      "image/png": "[encoded data removed]",
      "text/plain": [
       "<Figure size 720x432 with 1 Axes>"
      ]
     },
     "metadata": {
      "needs_background": "light"
     },
     "output_type": "display_data"
    }
   ],
   "source": [
    "# score의 계급폭을 1점으로 하여 히스토그램 그리기\n",
    "fig = plt.figure(figsize=(10,6))\n",
    "ax = fig.add_subplot(111)\n",
    "ax.hist(scores, bins=100, range=(0,100), density=True)\n",
    "ax.set_xlim(20,100)\n",
    "ax.set_ylim(0,0.042)\n",
    "ax.set_xlabel('score')\n",
    "ax.set_ylabel('relative frequency')\n",
    "plt.show()"
   ]
  },
  {
   "cell_type": "markdown",
   "metadata": {},
   "source": [
    "* 69점을 얻은 학생은 전교생의 0.04를 차지하고 있음을 알 수 있음\n",
    "* 즉 무작위추출을 수행하면 4%의 확률로 69점이라는 표본 데이터를 얻게 됨\n",
    "* 표본 데이터: 표본의 실현값"
   ]
  },
  {
   "cell_type": "code",
   "execution_count": 16,
   "metadata": {},
   "outputs": [
    {
     "data": {
      "image/png": "[encoded data removed]",
      "text/plain": [
       "<Figure size 720x432 with 1 Axes>"
      ]
     },
     "metadata": {
      "needs_background": "light"
     },
     "output_type": "display_data"
    }
   ],
   "source": [
    "# 무작위추출로 샘플 사이즈가 10000인 표본 추출\n",
    "sample = np.random.choice(scores,10000)\n",
    "\n",
    "fig = plt.figure(figsize=(10,6))\n",
    "ax = fig.add_subplot(111)\n",
    "ax.hist(sample, bins=100, range=(0,100), density=True)\n",
    "ax.set_xlim(20,100)\n",
    "ax.set_ylim(0,0.042)\n",
    "ax.set_xlabel('score')\n",
    "ax.set_ylabel('relative frequency')\n",
    "plt.show()"
   ]
  },
  {
   "cell_type": "markdown",
   "metadata": {},
   "source": [
    "* 히스토그램이 실제의 점수 분포에 매우 가까운 형태임을 알 수 있음\n",
    "* 표본의 크기가 커지면, 실제의 분포에 수렴"
   ]
  },
  {
   "cell_type": "code",
   "execution_count": 17,
   "metadata": {},
   "outputs": [
    {
     "data": {
      "image/png": "[encoded data removed]",
      "text/plain": [
       "<Figure size 720x432 with 1 Axes>"
      ]
     },
     "metadata": {
      "needs_background": "light"
     },
     "output_type": "display_data"
    }
   ],
   "source": [
    "# 무작위추출로 표본 크기가 20인 표본을 추추라여 표본평균을 계산하는 작업을 10000번 수행\n",
    "sample_means = [np.random.choice(scores,20).mean() for _ in range(10000)]\n",
    "\n",
    "fig = plt.figure(figsize=(10,6))\n",
    "ax = fig.add_subplot(111)\n",
    "ax.hist(sample_means, bins=100, range=(0,100), density=True)\n",
    "# 모평균을 세로선으로 표시\n",
    "ax.vlines(np.mean(scores),0,1,'gray')\n",
    "ax.set_xlim(50,90)\n",
    "ax.set_ylim(0,0.13)\n",
    "ax.set_xlabel('score')\n",
    "ax.set_ylabel('relative frequency')\n",
    "plt.show()"
   ]
  },
  {
   "cell_type": "markdown",
   "metadata": {},
   "source": [
    "* 표본평균은 산포도 그 자체이므로, 모평균을 중심으로 분포하는 것을 알 숭 있음\n",
    "* 무작위추출에 의한 표본평균으로 모평균을 추측할 수 있는 근거"
   ]
  }
 ],
 "metadata": {
  "kernelspec": {
   "display_name": "Python 3",
   "language": "python",
   "name": "python3"
  },
  "language_info": {
   "codemirror_mode": {
    "name": "ipython",
    "version": 3
   },
   "file_extension": ".py",
   "mimetype": "text/x-python",
   "name": "python",
   "nbconvert_exporter": "python",
   "pygments_lexer": "ipython3",
   "version": "3.8.5"
  }
 },
 "nbformat": 4,
 "nbformat_minor": 4
}
