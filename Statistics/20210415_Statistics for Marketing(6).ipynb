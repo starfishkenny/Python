{
 "cells": [
  {
   "cell_type": "markdown",
   "id": "realistic-employer",
   "metadata": {},
   "source": [
    "#### 범주형 데이터 분석 (카이제곱 검정)\n",
    "* 카이제곱 검정: 카이제곱 분포에 기초한 통계적 분석 방법으로 관측된 도수(빈도)가 기대되는 도수(빈도)와 통계적으로 유의미하게 다른지 검정하는 방법 (= 비율검정)\n",
    "* 카이제곱 검정의 종류\n",
    "  |카이제곱 검정 종류|분석목적|\n",
    "  |:---:|---|\n",
    "  |적합도 검정|관측결과가 특정한 분포로부터 생성된 관측 값인지를 검정|\n",
    "  |독립성 검정|두 범주형 변수 사이의 연관성이 있는지를 검정|\n",
    "  |동질성 검정|다른 두 모집단으로부터 생성된 두 표본의 분포가 동일한지 검정|\n",
    "* 적합도 검정\n",
    "  - 적합도 검정의 이론적인 수행 과정\n",
    "    + 빈도교차표 작성\n",
    "    + 기대도수 산출\n",
    "    + 카이제곱 통계량 산출 (카이제곱 통계량의 자유도 = 범주의 수 - 1)\n",
    "* 독립성 검정\n",
    "  - 독립성 검정의 이론적인 수행 과정\n",
    "    + 두 가지 명목변수 빈도교차표 작성\n",
    "    + 기대도수 빈도교차표 작성\n",
    "    + 카이제곱 통계량 산출 (카이제곱 통계량의 자유도는 (행의 수 -1) X (열의 수 - 1))\n",
    "* 동질성 검정\n",
    "  - 동질성 검정과 독립성 검정은 분석의 기술적 방법은 완전히 동일\n",
    "  - 그러나 사용목적에 따라 자료의 추출방법이나 문제의 접근방식과 해석이 달라지는 것이라고 이해하는 것이 바람직함\n",
    "  - 독립성 검정: 하나의 표본에서 두 범주형 변수 A와 B의 독립성 검정\n",
    "  - 동질성 검정: 서로 다른 독립적인 표본에서 공통된 하나의 범주형 변수의 비율이 동질적인지를 검정"
   ]
  },
  {
   "cell_type": "code",
   "execution_count": 1,
   "id": "champion-amateur",
   "metadata": {},
   "outputs": [],
   "source": [
    "import pandas as pd\n",
    "import numpy as np\n",
    "from scipy import stats\n",
    "import matplotlib.pyplot as plt"
   ]
  },
  {
   "cell_type": "code",
   "execution_count": 2,
   "id": "center-chamber",
   "metadata": {},
   "outputs": [
    {
     "data": {
      "text/html": [
       "<div>\n",
       "<style scoped>\n",
       "    .dataframe tbody tr th:only-of-type {\n",
       "        vertical-align: middle;\n",
       "    }\n",
       "\n",
       "    .dataframe tbody tr th {\n",
       "        vertical-align: top;\n",
       "    }\n",
       "\n",
       "    .dataframe thead th {\n",
       "        text-align: right;\n",
       "    }\n",
       "</style>\n",
       "<table border=\"1\" class=\"dataframe\">\n",
       "  <thead>\n",
       "    <tr style=\"text-align: right;\">\n",
       "      <th>구매유형</th>\n",
       "      <th>1</th>\n",
       "      <th>2</th>\n",
       "      <th>3</th>\n",
       "      <th>4</th>\n",
       "      <th>All</th>\n",
       "    </tr>\n",
       "    <tr>\n",
       "      <th>클레임접수여부</th>\n",
       "      <th></th>\n",
       "      <th></th>\n",
       "      <th></th>\n",
       "      <th></th>\n",
       "      <th></th>\n",
       "    </tr>\n",
       "  </thead>\n",
       "  <tbody>\n",
       "    <tr>\n",
       "      <th>0</th>\n",
       "      <td>24</td>\n",
       "      <td>197</td>\n",
       "      <td>57</td>\n",
       "      <td>263</td>\n",
       "      <td>541</td>\n",
       "    </tr>\n",
       "    <tr>\n",
       "      <th>1</th>\n",
       "      <td>19</td>\n",
       "      <td>120</td>\n",
       "      <td>87</td>\n",
       "      <td>233</td>\n",
       "      <td>459</td>\n",
       "    </tr>\n",
       "    <tr>\n",
       "      <th>All</th>\n",
       "      <td>43</td>\n",
       "      <td>317</td>\n",
       "      <td>144</td>\n",
       "      <td>496</td>\n",
       "      <td>1000</td>\n",
       "    </tr>\n",
       "  </tbody>\n",
       "</table>\n",
       "</div>"
      ],
      "text/plain": [
       "구매유형      1    2    3    4   All\n",
       "클레임접수여부                         \n",
       "0        24  197   57  263   541\n",
       "1        19  120   87  233   459\n",
       "All      43  317  144  496  1000"
      ]
     },
     "execution_count": 2,
     "metadata": {},
     "output_type": "execute_result"
    }
   ],
   "source": [
    "# 적합도 검정\n",
    "\n",
    "# 귀무가설: 클레임 접수 고객의 구매유형별 비율은 1회성 구매형 10%, 실용적 구매 30%, 명품 구매형 20%, 집중 구매형 40%이다.\n",
    "# 연구가설: 클레임 접수 고객의 구매유형별 비율은 1회성 구매형 10%, 실용적 구매 30%, 명품 구매형 20%, 집중 구매형 40%가 아니다.\n",
    "\n",
    "df = pd.read_csv('Ashopping.csv', sep=',', encoding='CP949')\n",
    "\n",
    "# 빈도교차표 생성\n",
    "X = pd.crosstab(df.클레임접수여부, df.구매유형, margins=True) # margins -> 행합계와 열합계를 추가할 것인지\n",
    "X"
   ]
  },
  {
   "cell_type": "code",
   "execution_count": 3,
   "id": "assured-latino",
   "metadata": {},
   "outputs": [
    {
     "data": {
      "text/plain": [
       "Power_divergenceResult(statistic=31.582788671023955, pvalue=6.407672361002909e-07)"
      ]
     },
     "execution_count": 3,
     "metadata": {},
     "output_type": "execute_result"
    }
   ],
   "source": [
    "# 관측도수, 기대도수 도출\n",
    "Ob = X.values[1,:4]\n",
    "Pr = np.array([0.1,0.3,0.2,0.4])\n",
    "n = X.values[1,4]\n",
    "E = n*Pr\n",
    "stats.chisquare(Ob,E)"
   ]
  },
  {
   "cell_type": "code",
   "execution_count": 4,
   "id": "touched-sellers",
   "metadata": {},
   "outputs": [
    {
     "data": {
      "text/plain": [
       "(106.43790651350751,\n",
       " 5.911607287197053e-25,\n",
       " 1,\n",
       " array([[ 80.609,  68.391],\n",
       "        [460.391, 390.609]]))"
      ]
     },
     "execution_count": 4,
     "metadata": {},
     "output_type": "execute_result"
    }
   ],
   "source": [
    "# 독립성 검정\n",
    "\n",
    "# 귀무가설: 클레임 접수 여부와 성별은 연관성이 없다.\n",
    "# 연구가설: 클레임 접수 여부와 성별은 연관성이 있다.\n",
    "\n",
    "X = pd.crosstab(df.성별, df.클레임접수여부, margins=False)\n",
    "stats.chi2_contingency(X)"
   ]
  },
  {
   "cell_type": "code",
   "execution_count": 5,
   "id": "south-attempt",
   "metadata": {},
   "outputs": [
    {
     "name": "stderr",
     "output_type": "stream",
     "text": [
      "<ipython-input-5-3d027aa4f7e5>:8: SettingWithCopyWarning: \n",
      "A value is trying to be set on a copy of a slice from a DataFrame\n",
      "\n",
      "See the caveats in the documentation: https://pandas.pydata.org/pandas-docs/stable/user_guide/indexing.html#returning-a-view-versus-a-copy\n",
      "  df.고객연령대[df.고객_나이대 == 1] = \"1\"\n",
      "<ipython-input-5-3d027aa4f7e5>:9: SettingWithCopyWarning: \n",
      "A value is trying to be set on a copy of a slice from a DataFrame\n",
      "\n",
      "See the caveats in the documentation: https://pandas.pydata.org/pandas-docs/stable/user_guide/indexing.html#returning-a-view-versus-a-copy\n",
      "  df.고객연령대[df.고객_나이대 == 2] = \"1\"\n",
      "<ipython-input-5-3d027aa4f7e5>:10: SettingWithCopyWarning: \n",
      "A value is trying to be set on a copy of a slice from a DataFrame\n",
      "\n",
      "See the caveats in the documentation: https://pandas.pydata.org/pandas-docs/stable/user_guide/indexing.html#returning-a-view-versus-a-copy\n",
      "  df.고객연령대[df.고객_나이대 == 3] = \"1\"\n",
      "<ipython-input-5-3d027aa4f7e5>:11: SettingWithCopyWarning: \n",
      "A value is trying to be set on a copy of a slice from a DataFrame\n",
      "\n",
      "See the caveats in the documentation: https://pandas.pydata.org/pandas-docs/stable/user_guide/indexing.html#returning-a-view-versus-a-copy\n",
      "  df.고객연령대[df.고객_나이대 == 4] = \"1\"\n",
      "<ipython-input-5-3d027aa4f7e5>:12: SettingWithCopyWarning: \n",
      "A value is trying to be set on a copy of a slice from a DataFrame\n",
      "\n",
      "See the caveats in the documentation: https://pandas.pydata.org/pandas-docs/stable/user_guide/indexing.html#returning-a-view-versus-a-copy\n",
      "  df.고객연령대[df.고객_나이대 == 5] = \"1\"\n",
      "<ipython-input-5-3d027aa4f7e5>:13: SettingWithCopyWarning: \n",
      "A value is trying to be set on a copy of a slice from a DataFrame\n",
      "\n",
      "See the caveats in the documentation: https://pandas.pydata.org/pandas-docs/stable/user_guide/indexing.html#returning-a-view-versus-a-copy\n",
      "  df.고객연령대[df.고객_나이대 == 6] = \"2\"\n",
      "<ipython-input-5-3d027aa4f7e5>:14: SettingWithCopyWarning: \n",
      "A value is trying to be set on a copy of a slice from a DataFrame\n",
      "\n",
      "See the caveats in the documentation: https://pandas.pydata.org/pandas-docs/stable/user_guide/indexing.html#returning-a-view-versus-a-copy\n",
      "  df.고객연령대[df.고객_나이대 == 7] = \"2\"\n",
      "<ipython-input-5-3d027aa4f7e5>:15: SettingWithCopyWarning: \n",
      "A value is trying to be set on a copy of a slice from a DataFrame\n",
      "\n",
      "See the caveats in the documentation: https://pandas.pydata.org/pandas-docs/stable/user_guide/indexing.html#returning-a-view-versus-a-copy\n",
      "  df.고객연령대[df.고객_나이대 == 8] = \"2\"\n",
      "<ipython-input-5-3d027aa4f7e5>:16: SettingWithCopyWarning: \n",
      "A value is trying to be set on a copy of a slice from a DataFrame\n",
      "\n",
      "See the caveats in the documentation: https://pandas.pydata.org/pandas-docs/stable/user_guide/indexing.html#returning-a-view-versus-a-copy\n",
      "  df.고객연령대[df.고객_나이대 == 9] = \"2\"\n"
     ]
    },
    {
     "data": {
      "text/plain": [
       "(8.714970024248375,\n",
       " 0.033330661685866646,\n",
       " 3,\n",
       " array([[ 9., 66., 28., 97.],\n",
       "        [ 9., 66., 28., 97.]]))"
      ]
     },
     "execution_count": 5,
     "metadata": {},
     "output_type": "execute_result"
    }
   ],
   "source": [
    "# 동질성 검정\n",
    "\n",
    "# 귀무가설: 청년층과 중장년층의 구매 유형 비율은 동일하다.\n",
    "# 연구가설: 청년층과 중장년층의 구매 유형 비율은 동일하지 않다.\n",
    "\n",
    "# 청년층, 중장년층 전처리\n",
    "df['고객연령대'] = \"\"\n",
    "df.고객연령대[df.고객_나이대 == 1] = \"1\"\n",
    "df.고객연령대[df.고객_나이대 == 2] = \"1\"\n",
    "df.고객연령대[df.고객_나이대 == 3] = \"1\"\n",
    "df.고객연령대[df.고객_나이대 == 4] = \"1\"\n",
    "df.고객연령대[df.고객_나이대 == 5] = \"1\"\n",
    "df.고객연령대[df.고객_나이대 == 6] = \"2\"\n",
    "df.고객연령대[df.고객_나이대 == 7] = \"2\"\n",
    "df.고객연령대[df.고객_나이대 == 8] = \"2\"\n",
    "df.고객연령대[df.고객_나이대 == 9] = \"2\"\n",
    "\n",
    "# 두 모집단 랜덤표본추출\n",
    "df1 = df.loc[df.고객연령대=='1']\n",
    "df2 = df.loc[df.고객연령대=='2']\n",
    "df1_sample = df1.sample(200, random_state = 29)\n",
    "df2_sample = df2.sample(200, random_state = 29)\n",
    "df3 = df1_sample.append(df2_sample)\n",
    "\n",
    "X = pd.crosstab(df3.고객연령대, df.구매유형, margins=False)\n",
    "stats.chi2_contingency(X)"
   ]
  },
  {
   "cell_type": "code",
   "execution_count": 6,
   "id": "latter-internship",
   "metadata": {},
   "outputs": [
    {
     "data": {
      "text/html": [
       "<div>\n",
       "<style scoped>\n",
       "    .dataframe tbody tr th:only-of-type {\n",
       "        vertical-align: middle;\n",
       "    }\n",
       "\n",
       "    .dataframe tbody tr th {\n",
       "        vertical-align: top;\n",
       "    }\n",
       "\n",
       "    .dataframe thead th {\n",
       "        text-align: right;\n",
       "    }\n",
       "</style>\n",
       "<table border=\"1\" class=\"dataframe\">\n",
       "  <thead>\n",
       "    <tr style=\"text-align: right;\">\n",
       "      <th>구매유형</th>\n",
       "      <th>1</th>\n",
       "      <th>2</th>\n",
       "      <th>3</th>\n",
       "      <th>4</th>\n",
       "    </tr>\n",
       "    <tr>\n",
       "      <th>고객연령대</th>\n",
       "      <th></th>\n",
       "      <th></th>\n",
       "      <th></th>\n",
       "      <th></th>\n",
       "    </tr>\n",
       "  </thead>\n",
       "  <tbody>\n",
       "    <tr>\n",
       "      <th>1</th>\n",
       "      <td>10</td>\n",
       "      <td>67</td>\n",
       "      <td>18</td>\n",
       "      <td>105</td>\n",
       "    </tr>\n",
       "    <tr>\n",
       "      <th>2</th>\n",
       "      <td>8</td>\n",
       "      <td>65</td>\n",
       "      <td>38</td>\n",
       "      <td>89</td>\n",
       "    </tr>\n",
       "  </tbody>\n",
       "</table>\n",
       "</div>"
      ],
      "text/plain": [
       "구매유형    1   2   3    4\n",
       "고객연령대                 \n",
       "1      10  67  18  105\n",
       "2       8  65  38   89"
      ]
     },
     "execution_count": 6,
     "metadata": {},
     "output_type": "execute_result"
    }
   ],
   "source": [
    "X"
   ]
  },
  {
   "cell_type": "code",
   "execution_count": null,
   "id": "genuine-geneva",
   "metadata": {},
   "outputs": [],
   "source": []
  }
 ],
 "metadata": {
  "kernelspec": {
   "display_name": "Python 3",
   "language": "python",
   "name": "python3"
  },
  "language_info": {
   "codemirror_mode": {
    "name": "ipython",
    "version": 3
   },
   "file_extension": ".py",
   "mimetype": "text/x-python",
   "name": "python",
   "nbconvert_exporter": "python",
   "pygments_lexer": "ipython3",
   "version": "3.8.8"
  }
 },
 "nbformat": 4,
 "nbformat_minor": 5
}
