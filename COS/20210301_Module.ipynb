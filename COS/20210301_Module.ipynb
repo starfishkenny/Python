{
 "cells": [
  {
   "cell_type": "markdown",
   "metadata": {},
   "source": [
    "#### 3.1 모듈 (Import Module)\n",
    "* 모듈: 다른 파일을 불러오기 하여 그 안에 있는 함수나 변수들 또는 클래스들을 사용하는 개념 ('라이브러리'라고도 함)\n",
    "* 빌드: 여러 개의 파일로 나누어 각각 필요한 기능들을 구현해놓고 이 파일들을 합쳐서 하나의 프로그램이 완성되는 과정\n",
    "* 모듈 $\\rightarrow$ 여러 개의 py 파일을 만들어 합치는 과정이라고 생각하면 쉬움\n",
    "* import <모듈명>: 불러오기\n",
    "* <모듈명>.(): 해당 모듈 안에 작성된 변수나 함수 등을 사용"
   ]
  },
  {
   "cell_type": "markdown",
   "metadata": {},
   "source": [
    "* module에 함수를 추가한 후 이를 선택해서 사용하는 방법\n",
    "  - import * 로 모든 함수들을 불러오기\n",
    "  - import 뒤에 , 로 사용할 함수명을 나열하기"
   ]
  },
  {
   "cell_type": "code",
   "execution_count": null,
   "metadata": {},
   "outputs": [],
   "source": []
  }
 ],
 "metadata": {
  "kernelspec": {
   "display_name": "Python 3",
   "language": "python",
   "name": "python3"
  },
  "language_info": {
   "codemirror_mode": {
    "name": "ipython",
    "version": 3
   },
   "file_extension": ".py",
   "mimetype": "text/x-python",
   "name": "python",
   "nbconvert_exporter": "python",
   "pygments_lexer": "ipython3",
   "version": "3.8.5"
  }
 },
 "nbformat": 4,
 "nbformat_minor": 4
}
