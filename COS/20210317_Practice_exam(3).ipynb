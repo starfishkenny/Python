{
 "cells": [
  {
   "cell_type": "markdown",
   "id": "general-inventory",
   "metadata": {},
   "source": [
    "### 모의고사 3회"
   ]
  },
  {
   "cell_type": "markdown",
   "id": "related-present",
   "metadata": {},
   "source": [
    "#### 거리 차이를 구하는 함수 빈칸 채우기"
   ]
  },
  {
   "cell_type": "code",
   "execution_count": 1,
   "id": "boring-browse",
   "metadata": {},
   "outputs": [],
   "source": [
    "def solution(a,b):\n",
    "    answer = 0\n",
    "    diff = (b-a) if a < b else a-b\n",
    "    answer = 10 / diff\n",
    "    return answer*60 "
   ]
  },
  {
   "cell_type": "markdown",
   "id": "prerequisite-talent",
   "metadata": {},
   "source": [
    "#### 예산을 배분하기 위한 금액을 구하는 함수 빈칸 채우기"
   ]
  },
  {
   "cell_type": "code",
   "execution_count": 2,
   "id": "after-customs",
   "metadata": {},
   "outputs": [],
   "source": [
    "def func_a(arr):\n",
    "    total = 0\n",
    "    for i in arr:\n",
    "        total += i\n",
    "    return total\n",
    "\n",
    "def solution(total,arr):\n",
    "    result = []\n",
    "    req_total = func_a(arr)\n",
    "    for i in arr:\n",
    "        if req_total > total:\n",
    "            result.append(total//len(arr))\n",
    "        else:\n",
    "            result.append(i)\n",
    "    return result"
   ]
  },
  {
   "cell_type": "markdown",
   "id": "aggregate-factory",
   "metadata": {},
   "source": [
    "#### 가장 많이 같은 반을 보낸 학생 찾는 함수 작성하기"
   ]
  },
  {
   "cell_type": "code",
   "execution_count": 3,
   "id": "liquid-right",
   "metadata": {},
   "outputs": [],
   "source": [
    "def solution(table):\n",
    "    answer = 0\n",
    "    max_ = 0\n",
    "    for i in range(1,len(table)):\n",
    "        sum_ = 0\n",
    "        for k in range(5):\n",
    "            if table[0][k] == table[i][k]:\n",
    "                sum_ += 1\n",
    "        if max_ < sum_:\n",
    "            max_ = sum_\n",
    "            answer = i\n",
    "    return answer"
   ]
  },
  {
   "cell_type": "markdown",
   "id": "fossil-region",
   "metadata": {},
   "source": [
    "#### 페인트칠하는 데 걸리는 시간을 구하는 함수 빈칸 채우기"
   ]
  },
  {
   "cell_type": "code",
   "execution_count": 4,
   "id": "dated-butter",
   "metadata": {},
   "outputs": [],
   "source": [
    "def solution(walls):\n",
    "    answer = 0\n",
    "    painted_walls = 0\n",
    "    hour = 1\n",
    "    while painted_walls < walls:\n",
    "        painted_walls = (hour) + (hour//2) + (hour//4)\n",
    "        hour += 1\n",
    "    answer = hour - 1\n",
    "    return answer"
   ]
  },
  {
   "cell_type": "markdown",
   "id": "protected-shanghai",
   "metadata": {},
   "source": [
    "#### 카드 게임 승자 알아내는 함수 작성하기"
   ]
  },
  {
   "cell_type": "code",
   "execution_count": 5,
   "id": "unlikely-judge",
   "metadata": {},
   "outputs": [],
   "source": [
    "def solution(mho_cards,mhe_cards):\n",
    "    result = -1\n",
    "    mho_cards = 0\n",
    "    mhe_cards = 0\n",
    "    for i in range(len(mho_cards)):\n",
    "        if mho_cards[i] > mhe_cards[i]:\n",
    "            minho += 1\n",
    "        elif mho_cards[i] < mhe_cards[i]:\n",
    "            minhee += 1\n",
    "    if minho > minhee:\n",
    "        result += 1\n",
    "    elif minho < minhee:\n",
    "        result = 0\n",
    "    return result"
   ]
  },
  {
   "cell_type": "markdown",
   "id": "occupied-glossary",
   "metadata": {},
   "source": [
    "#### 문자열 내 정수들의 총합 구하는 함수 빈칸 채우기"
   ]
  },
  {
   "cell_type": "code",
   "execution_count": 6,
   "id": "informational-luxembourg",
   "metadata": {},
   "outputs": [],
   "source": [
    "def solution(string):\n",
    "    answer = 0\n",
    "    number = 0\n",
    "    s = string+' ' # 공백 문자를 추가하여 마지막 문자가 숫자인 경우에도 총합을 구할 수 있도록 처리\n",
    "    for c in s:\n",
    "        if '0' <= c  and c <= '9':\n",
    "            number = number*10 + int(c) # 한 자리씩 올리면서 정수 변환\n",
    "        else:\n",
    "            answer += number\n",
    "            number = 0\n",
    "    return answer"
   ]
  },
  {
   "cell_type": "markdown",
   "id": "gentle-spain",
   "metadata": {},
   "source": [
    "#### 야구게임의 볼 판정 함수 수정하기"
   ]
  },
  {
   "cell_type": "code",
   "execution_count": 7,
   "id": "variable-realtor",
   "metadata": {},
   "outputs": [],
   "source": [
    "def solution(a,b):\n",
    "    resullt = [0,0]\n",
    "    for i in range(3):\n",
    "        temp = b\n",
    "        for k in range(3):\n",
    "            if a%10 == temp%10:\n",
    "                if i==k:\n",
    "                    result[0] += 1\n",
    "                else:\n",
    "                    result[1] += 1\n",
    "            temp //= 10\n",
    "        a //= 10 # a를 한자리씩 줄여나가기\n",
    "    return result"
   ]
  },
  {
   "cell_type": "markdown",
   "id": "opened-latter",
   "metadata": {},
   "source": [
    "#### 문자열 내에 지정하는 문자들이 있는지 확인하는 함수 수정하기"
   ]
  },
  {
   "cell_type": "code",
   "execution_count": 8,
   "id": "sorted-occurrence",
   "metadata": {},
   "outputs": [],
   "source": [
    "def solution(password, key):\n",
    "    answer = 0\n",
    "    match_cnt = 0\n",
    "    for k in key:\n",
    "        for p in password:\n",
    "            if k == p:\n",
    "                match_cnt += 1\n",
    "                break # 나머지 문자들을 비교하지 않음\n",
    "    if match_cnt >= len(key):\n",
    "        answer = 1\n",
    "    return answer"
   ]
  },
  {
   "cell_type": "markdown",
   "id": "stunning-experience",
   "metadata": {},
   "source": [
    "#### 각 팀의 총 승점을 구하는 함수 수정하기"
   ]
  },
  {
   "cell_type": "code",
   "execution_count": 9,
   "id": "instructional-welding",
   "metadata": {},
   "outputs": [],
   "source": [
    "def solution(scores):\n",
    "    result = [0,0,0,0]\n",
    "    for i in range(4):\n",
    "        for k in range(4):\n",
    "            if i != k:\n",
    "                result[i] += scores[i][k] * 2 # 승점은 2점\n",
    "    return result"
   ]
  },
  {
   "cell_type": "markdown",
   "id": "adequate-blanket",
   "metadata": {},
   "source": [
    "#### 문자열들을 처리하는 시간 구하는 함수 수정하기"
   ]
  },
  {
   "cell_type": "code",
   "execution_count": 10,
   "id": "another-humidity",
   "metadata": {},
   "outputs": [],
   "source": [
    "def solution(strings):\n",
    "    result = 0\n",
    "    for s in strings:\n",
    "        length = len(s)\n",
    "        result += (length/4)\n",
    "        if length%4 != 0:\n",
    "            result += 1\n",
    "    return result"
   ]
  }
 ],
 "metadata": {
  "kernelspec": {
   "display_name": "Python 3",
   "language": "python",
   "name": "python3"
  },
  "language_info": {
   "codemirror_mode": {
    "name": "ipython",
    "version": 3
   },
   "file_extension": ".py",
   "mimetype": "text/x-python",
   "name": "python",
   "nbconvert_exporter": "python",
   "pygments_lexer": "ipython3",
   "version": "3.8.8"
  }
 },
 "nbformat": 4,
 "nbformat_minor": 5
}
