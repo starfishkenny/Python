{
 "cells": [
  {
   "cell_type": "code",
   "execution_count": 1,
   "id": "6da49cd4",
   "metadata": {},
   "outputs": [],
   "source": [
    "# jupyter notebook (python 3.7) 사용"
   ]
  },
  {
   "cell_type": "markdown",
   "id": "e02931a8",
   "metadata": {},
   "source": [
    "### 지리공간 데이터베이스 구축\n",
    "* (PostgreSQL 및 PostGIS 설치 완료)\n",
    "#### 파이썬으로 PostgreSQL, PostGIS 작업"
   ]
  },
  {
   "cell_type": "code",
   "execution_count": null,
   "id": "649fb45e",
   "metadata": {},
   "outputs": [],
   "source": []
  }
 ],
 "metadata": {
  "kernelspec": {
   "display_name": "Python 3",
   "language": "python",
   "name": "python3"
  },
  "language_info": {
   "codemirror_mode": {
    "name": "ipython",
    "version": 3
   },
   "file_extension": ".py",
   "mimetype": "text/x-python",
   "name": "python",
   "nbconvert_exporter": "python",
   "pygments_lexer": "ipython3",
   "version": "3.6.13"
  }
 },
 "nbformat": 4,
 "nbformat_minor": 5
}
