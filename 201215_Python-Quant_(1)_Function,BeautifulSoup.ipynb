{
 "cells": [
  {
   "cell_type": "code",
   "execution_count": 2,
   "metadata": {},
   "outputs": [],
   "source": [
    "# 함수 정의하기\n",
    "# 함수 < 클래스 < 모듈 < 라이브러리\n",
    "\n",
    "def f(x):\n",
    "    y =x+1\n",
    "    return y"
   ]
  },
  {
   "cell_type": "code",
   "execution_count": 3,
   "metadata": {},
   "outputs": [
    {
     "data": {
      "text/plain": [
       "2"
      ]
     },
     "execution_count": 3,
     "metadata": {},
     "output_type": "execute_result"
    }
   ],
   "source": [
    "f(1)"
   ]
  },
  {
   "cell_type": "code",
   "execution_count": 4,
   "metadata": {},
   "outputs": [
    {
     "data": {
      "text/plain": [
       "3"
      ]
     },
     "execution_count": 4,
     "metadata": {},
     "output_type": "execute_result"
    }
   ],
   "source": [
    "f(f(1))"
   ]
  },
  {
   "cell_type": "code",
   "execution_count": 6,
   "metadata": {},
   "outputs": [],
   "source": [
    "# 구글 홈페이지 페이지소스를 html_doc라는 변수에 저장\n",
    "html_doc = \"\"\"\n",
    "<!doctype html>\n",
    "<html dir=\"ltr\" lang=\"ko\">\n",
    "  <head>\n",
    "    <meta charset=\"utf-8\">\n",
    "    <title>새 탭</title>\n",
    "    <style>\n",
    "      body {\n",
    "        background: #FFFFFF;\n",
    "        margin: 0;\n",
    "      }\n",
    "\n",
    "      #oneGoogleBar {\n",
    "        height: 56px;\n",
    "      }\n",
    "\n",
    "      #backgroundImage {\n",
    "        border: none;\n",
    "        height: 100%;\n",
    "        pointer-events: none;\n",
    "        position: fixed;\n",
    "        top: 0;\n",
    "        visibility: hidden;\n",
    "        width: 100%;\n",
    "      }\n",
    "\n",
    "      [show-background-image] #backgroundImage {\n",
    "        visibility: visible;\n",
    "      }\n",
    "    </style>\n",
    "  </head>\n",
    "  <body>\n",
    "    <div id=\"oneGoogleBar\"></div>\n",
    "    <iframe id=\"backgroundImage\"\n",
    "        src=\"chrome-untrusted://new-tab-page/custom_background_image?url=https%3A%2F%2Flh4.googleusercontent.com%2Fproxy%2FUOhQwfclsAK8TnXZqoTkh9szHvYOJ3auDH07hZBZeVaaRWvzGaXpaYl60MfCRuW_S57gvzBw859pj5Xl2pW_GpfG8k2GhE9LUFNKwA%3Dw3840-h2160-p-k-no-nd-mv\">\n",
    "    </iframe>\n",
    "    <ntp-app></ntp-app>\n",
    "    <script type=\"module\" src=\"new_tab_page.js\"></script>\n",
    "    <link rel=\"stylesheet\" href=\"chrome://resources/css/text_defaults_md.css\">\n",
    "    <link rel=\"stylesheet\" href=\"shared_vars.css\">\n",
    "    <div id=\"oneGoogleBarEndOfBody\"></div>\n",
    "  </body>\n",
    "</html>\n",
    "\"\"\""
   ]
  },
  {
   "cell_type": "code",
   "execution_count": 5,
   "metadata": {},
   "outputs": [],
   "source": [
    "# BeautifulSoup\n",
    "from bs4 import BeautifulSoup"
   ]
  },
  {
   "cell_type": "code",
   "execution_count": 7,
   "metadata": {},
   "outputs": [],
   "source": [
    "soup = BeautifulSoup(html_doc, 'html.parser') # 뷰티풀수프 함수를 이용해 html_doc를 해석해서 soup에 저장"
   ]
  },
  {
   "cell_type": "code",
   "execution_count": 9,
   "metadata": {},
   "outputs": [
    {
     "name": "stdout",
     "output_type": "stream",
     "text": [
      "<!DOCTYPE html>\n",
      "<html dir=\"ltr\" lang=\"ko\">\n",
      " <head>\n",
      "  <meta charset=\"utf-8\"/>\n",
      "  <title>\n",
      "   새 탭\n",
      "  </title>\n",
      "  <style>\n",
      "   body {\n",
      "        background: #FFFFFF;\n",
      "        margin: 0;\n",
      "      }\n",
      "\n",
      "      #oneGoogleBar {\n",
      "        height: 56px;\n",
      "      }\n",
      "\n",
      "      #backgroundImage {\n",
      "        border: none;\n",
      "        height: 100%;\n",
      "        pointer-events: none;\n",
      "        position: fixed;\n",
      "        top: 0;\n",
      "        visibility: hidden;\n",
      "        width: 100%;\n",
      "      }\n",
      "\n",
      "      [show-background-image] #backgroundImage {\n",
      "        visibility: visible;\n",
      "      }\n",
      "  </style>\n",
      " </head>\n",
      " <body>\n",
      "  <div id=\"oneGoogleBar\">\n",
      "  </div>\n",
      "  <iframe id=\"backgroundImage\" src=\"chrome-untrusted://new-tab-page/custom_background_image?url=https%3A%2F%2Flh4.googleusercontent.com%2Fproxy%2FUOhQwfclsAK8TnXZqoTkh9szHvYOJ3auDH07hZBZeVaaRWvzGaXpaYl60MfCRuW_S57gvzBw859pj5Xl2pW_GpfG8k2GhE9LUFNKwA%3Dw3840-h2160-p-k-no-nd-mv\">\n",
      "  </iframe>\n",
      "  <ntp-app>\n",
      "  </ntp-app>\n",
      "  <script src=\"new_tab_page.js\" type=\"module\">\n",
      "  </script>\n",
      "  <link href=\"chrome://resources/css/text_defaults_md.css\" rel=\"stylesheet\"/>\n",
      "  <link href=\"shared_vars.css\" rel=\"stylesheet\"/>\n",
      "  <div id=\"oneGoogleBarEndOfBody\">\n",
      "  </div>\n",
      " </body>\n",
      "</html>\n",
      "\n"
     ]
    }
   ],
   "source": [
    "print(soup.prettify()) # prettify --> html코드를 태그 단위별로 줄바꿈하여 태그가 눈에 잘 보이도록 해줌"
   ]
  },
  {
   "cell_type": "code",
   "execution_count": 10,
   "metadata": {},
   "outputs": [
    {
     "data": {
      "text/plain": [
       "<title>새 탭</title>"
      ]
     },
     "execution_count": 10,
     "metadata": {},
     "output_type": "execute_result"
    }
   ],
   "source": [
    "# title 태그를 통째로 가져오기\n",
    "soup.title"
   ]
  },
  {
   "cell_type": "code",
   "execution_count": 11,
   "metadata": {},
   "outputs": [
    {
     "data": {
      "text/plain": [
       "'새 탭'"
      ]
     },
     "execution_count": 11,
     "metadata": {},
     "output_type": "execute_result"
    }
   ],
   "source": [
    "# title 태그 내용을 추출\n",
    "soup.title.text"
   ]
  },
  {
   "cell_type": "code",
   "execution_count": 13,
   "metadata": {},
   "outputs": [
    {
     "data": {
      "text/plain": [
       "<div id=\"oneGoogleBar\"></div>"
      ]
     },
     "execution_count": 13,
     "metadata": {},
     "output_type": "execute_result"
    }
   ],
   "source": [
    "soup.div"
   ]
  },
  {
   "cell_type": "code",
   "execution_count": 14,
   "metadata": {},
   "outputs": [
    {
     "data": {
      "text/plain": [
       "[<div id=\"oneGoogleBar\"></div>, <div id=\"oneGoogleBarEndOfBody\"></div>]"
      ]
     },
     "execution_count": 14,
     "metadata": {},
     "output_type": "execute_result"
    }
   ],
   "source": [
    "# find_all('태그')\n",
    "soup.find_all('div') # 리스트 형태"
   ]
  },
  {
   "cell_type": "code",
   "execution_count": 15,
   "metadata": {},
   "outputs": [
    {
     "data": {
      "text/plain": [
       "<div id=\"oneGoogleBar\"></div>"
      ]
     },
     "execution_count": 15,
     "metadata": {},
     "output_type": "execute_result"
    }
   ],
   "source": [
    "# 리스트 형태이므로 n번째 항목을 추출하려고자 하면 리스트로 접근\n",
    "soup.find_all('div')[0]"
   ]
  }
 ],
 "metadata": {
  "kernelspec": {
   "display_name": "Python 3",
   "language": "python",
   "name": "python3"
  },
  "language_info": {
   "codemirror_mode": {
    "name": "ipython",
    "version": 3
   },
   "file_extension": ".py",
   "mimetype": "text/x-python",
   "name": "python",
   "nbconvert_exporter": "python",
   "pygments_lexer": "ipython3",
   "version": "3.8.3"
  }
 },
 "nbformat": 4,
 "nbformat_minor": 4
}
